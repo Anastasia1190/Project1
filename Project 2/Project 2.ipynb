{
 "cells": [
  {
   "cell_type": "markdown",
   "metadata": {},
   "source": [
    "# Изучение поведения пользователей в старт-апе \"AAA\""
   ]
  },
  {
   "cell_type": "markdown",
   "metadata": {},
   "source": [
    "# Описание проекта "
   ]
  },
  {
   "cell_type": "markdown",
   "metadata": {},
   "source": [
    "Мы работаем в стартапе, который продаёт продукты питания. Нужно разобраться, как ведут себя пользователи вашего мобильного приложения. "
   ]
  },
  {
   "cell_type": "markdown",
   "metadata": {},
   "source": [
    "План работы:\n",
    "\n",
    "1. Выгрузка и анализ данных.\n",
    "2. Преобработка данных (работа с дубликатами, пропусками и т д.)\n",
    "- Приведение названия колонок к нужному формату\n",
    "- Проверка на наличие пропусков и дубликатов\n",
    "- Добавление нужных столбцов и преобразование типа данных со временем и датой\n",
    "3. Изучение и проверка данных \n",
    "- Изучение количества событий и пользователей в логе\n",
    "- Построение Гистограмм по дате и времени\n",
    "4. Воронка событий \n",
    "- Определение доли пользователей, совершивших хотя бы 1 покупку\n",
    "- Определение последовательности событий воронки \n",
    "- Нахождение общей конверии и конверсии шага\n",
    "5. Результаты эксперимента\n",
    "- Построение функции для проверки гипотезы\n",
    "- Проверяем находят ли статистические критерии разницу между выборками 246 и 247\n",
    "- Проверяем находят ли статистические критерии разницу между выборками 246 и 248\n",
    "- Проверяем находят ли статистические критерии разницу между выборками 247 и 248\n",
    "- Проверяем находят ли статистические критерии разницу между выборками 240 и 248\n",
    "- Выводы"
   ]
  },
  {
   "cell_type": "markdown",
   "metadata": {},
   "source": [
    "## Выгрузка данных"
   ]
  },
  {
   "cell_type": "code",
   "execution_count": 62,
   "metadata": {},
   "outputs": [],
   "source": [
    "import pandas as pd\n",
    "import datetime as dt\n",
    "import seaborn \n",
    "import numpy as np\n",
    "import matplotlib.pyplot as plt\n",
    "import scipy.stats as st\n",
    "from pandas.plotting import register_matplotlib_converters\n",
    "import warnings"
   ]
  },
  {
   "cell_type": "code",
   "execution_count": 63,
   "metadata": {},
   "outputs": [],
   "source": [
    "register_matplotlib_converters()"
   ]
  },
  {
   "cell_type": "code",
   "execution_count": 64,
   "metadata": {},
   "outputs": [
    {
     "data": {
      "text/html": [
       "<div>\n",
       "<style scoped>\n",
       "    .dataframe tbody tr th:only-of-type {\n",
       "        vertical-align: middle;\n",
       "    }\n",
       "\n",
       "    .dataframe tbody tr th {\n",
       "        vertical-align: top;\n",
       "    }\n",
       "\n",
       "    .dataframe thead th {\n",
       "        text-align: right;\n",
       "    }\n",
       "</style>\n",
       "<table border=\"1\" class=\"dataframe\">\n",
       "  <thead>\n",
       "    <tr style=\"text-align: right;\">\n",
       "      <th></th>\n",
       "      <th>EventName</th>\n",
       "      <th>DeviceIDHash</th>\n",
       "      <th>EventTimestamp</th>\n",
       "      <th>ExpId</th>\n",
       "    </tr>\n",
       "  </thead>\n",
       "  <tbody>\n",
       "    <tr>\n",
       "      <th>0</th>\n",
       "      <td>MainScreenAppear</td>\n",
       "      <td>4575588528974610257</td>\n",
       "      <td>1564029816</td>\n",
       "      <td>246</td>\n",
       "    </tr>\n",
       "    <tr>\n",
       "      <th>1</th>\n",
       "      <td>MainScreenAppear</td>\n",
       "      <td>7416695313311560658</td>\n",
       "      <td>1564053102</td>\n",
       "      <td>246</td>\n",
       "    </tr>\n",
       "    <tr>\n",
       "      <th>2</th>\n",
       "      <td>PaymentScreenSuccessful</td>\n",
       "      <td>3518123091307005509</td>\n",
       "      <td>1564054127</td>\n",
       "      <td>248</td>\n",
       "    </tr>\n",
       "    <tr>\n",
       "      <th>3</th>\n",
       "      <td>CartScreenAppear</td>\n",
       "      <td>3518123091307005509</td>\n",
       "      <td>1564054127</td>\n",
       "      <td>248</td>\n",
       "    </tr>\n",
       "    <tr>\n",
       "      <th>4</th>\n",
       "      <td>PaymentScreenSuccessful</td>\n",
       "      <td>6217807653094995999</td>\n",
       "      <td>1564055322</td>\n",
       "      <td>248</td>\n",
       "    </tr>\n",
       "  </tbody>\n",
       "</table>\n",
       "</div>"
      ],
      "text/plain": [
       "                 EventName         DeviceIDHash  EventTimestamp  ExpId\n",
       "0         MainScreenAppear  4575588528974610257      1564029816    246\n",
       "1         MainScreenAppear  7416695313311560658      1564053102    246\n",
       "2  PaymentScreenSuccessful  3518123091307005509      1564054127    248\n",
       "3         CartScreenAppear  3518123091307005509      1564054127    248\n",
       "4  PaymentScreenSuccessful  6217807653094995999      1564055322    248"
      ]
     },
     "execution_count": 64,
     "metadata": {},
     "output_type": "execute_result"
    }
   ],
   "source": [
    "#Импорт данных \n",
    "data = pd.read_csv('/datasets/logs_exp.csv', sep='\\t')\n",
    "data.head(5)"
   ]
  },
  {
   "cell_type": "code",
   "execution_count": 65,
   "metadata": {},
   "outputs": [
    {
     "name": "stdout",
     "output_type": "stream",
     "text": [
      "<class 'pandas.core.frame.DataFrame'>\n",
      "RangeIndex: 244126 entries, 0 to 244125\n",
      "Data columns (total 4 columns):\n",
      " #   Column          Non-Null Count   Dtype \n",
      "---  ------          --------------   ----- \n",
      " 0   EventName       244126 non-null  object\n",
      " 1   DeviceIDHash    244126 non-null  int64 \n",
      " 2   EventTimestamp  244126 non-null  int64 \n",
      " 3   ExpId           244126 non-null  int64 \n",
      "dtypes: int64(3), object(1)\n",
      "memory usage: 7.5+ MB\n"
     ]
    }
   ],
   "source": [
    "data.info()"
   ]
  },
  {
   "cell_type": "markdown",
   "metadata": {},
   "source": [
    "По предварительному взгляду на даннные, мы видим, что в таблице нет пропусков.\n",
    "Необходимо преобразовать названия столбцов и проверить данные на дубликаты, а также преобразовать тип данных столбца EventTimestamp."
   ]
  },
  {
   "cell_type": "markdown",
   "metadata": {},
   "source": [
    "## Предобработка данных "
   ]
  },
  {
   "cell_type": "markdown",
   "metadata": {},
   "source": [
    "### Приведение названия колонок к нужному формату"
   ]
  },
  {
   "cell_type": "code",
   "execution_count": 66,
   "metadata": {},
   "outputs": [
    {
     "data": {
      "text/html": [
       "<div>\n",
       "<style scoped>\n",
       "    .dataframe tbody tr th:only-of-type {\n",
       "        vertical-align: middle;\n",
       "    }\n",
       "\n",
       "    .dataframe tbody tr th {\n",
       "        vertical-align: top;\n",
       "    }\n",
       "\n",
       "    .dataframe thead th {\n",
       "        text-align: right;\n",
       "    }\n",
       "</style>\n",
       "<table border=\"1\" class=\"dataframe\">\n",
       "  <thead>\n",
       "    <tr style=\"text-align: right;\">\n",
       "      <th></th>\n",
       "      <th>event_name</th>\n",
       "      <th>user_id</th>\n",
       "      <th>event_time</th>\n",
       "      <th>group</th>\n",
       "    </tr>\n",
       "  </thead>\n",
       "  <tbody>\n",
       "    <tr>\n",
       "      <th>0</th>\n",
       "      <td>MainScreenAppear</td>\n",
       "      <td>4575588528974610257</td>\n",
       "      <td>1564029816</td>\n",
       "      <td>246</td>\n",
       "    </tr>\n",
       "    <tr>\n",
       "      <th>1</th>\n",
       "      <td>MainScreenAppear</td>\n",
       "      <td>7416695313311560658</td>\n",
       "      <td>1564053102</td>\n",
       "      <td>246</td>\n",
       "    </tr>\n",
       "    <tr>\n",
       "      <th>2</th>\n",
       "      <td>PaymentScreenSuccessful</td>\n",
       "      <td>3518123091307005509</td>\n",
       "      <td>1564054127</td>\n",
       "      <td>248</td>\n",
       "    </tr>\n",
       "    <tr>\n",
       "      <th>3</th>\n",
       "      <td>CartScreenAppear</td>\n",
       "      <td>3518123091307005509</td>\n",
       "      <td>1564054127</td>\n",
       "      <td>248</td>\n",
       "    </tr>\n",
       "    <tr>\n",
       "      <th>4</th>\n",
       "      <td>PaymentScreenSuccessful</td>\n",
       "      <td>6217807653094995999</td>\n",
       "      <td>1564055322</td>\n",
       "      <td>248</td>\n",
       "    </tr>\n",
       "  </tbody>\n",
       "</table>\n",
       "</div>"
      ],
      "text/plain": [
       "                event_name              user_id  event_time  group\n",
       "0         MainScreenAppear  4575588528974610257  1564029816    246\n",
       "1         MainScreenAppear  7416695313311560658  1564053102    246\n",
       "2  PaymentScreenSuccessful  3518123091307005509  1564054127    248\n",
       "3         CartScreenAppear  3518123091307005509  1564054127    248\n",
       "4  PaymentScreenSuccessful  6217807653094995999  1564055322    248"
      ]
     },
     "execution_count": 66,
     "metadata": {},
     "output_type": "execute_result"
    }
   ],
   "source": [
    "#Приведение названия колонок к нижнему регистру и корректному написанию\n",
    "data.rename(columns = {'EventName':'event_name', 'DeviceIDHash':'user_id', 'EventTimestamp':'event_time','ExpId':'group'}, inplace = True )\n",
    "data.head(5)"
   ]
  },
  {
   "cell_type": "markdown",
   "metadata": {},
   "source": [
    "### Проверка на наличие пропусков и дубликатов. "
   ]
  },
  {
   "cell_type": "code",
   "execution_count": 67,
   "metadata": {},
   "outputs": [
    {
     "data": {
      "text/plain": [
       "413"
      ]
     },
     "execution_count": 67,
     "metadata": {},
     "output_type": "execute_result"
    }
   ],
   "source": [
    "# Поиск и удаление дубликатов \n",
    "data.duplicated().sum()"
   ]
  },
  {
   "cell_type": "code",
   "execution_count": 68,
   "metadata": {},
   "outputs": [],
   "source": [
    "data_d = data.drop_duplicates(keep = False)"
   ]
  },
  {
   "cell_type": "code",
   "execution_count": 69,
   "metadata": {},
   "outputs": [
    {
     "name": "stdout",
     "output_type": "stream",
     "text": [
      "<class 'pandas.core.frame.DataFrame'>\n",
      "Int64Index: 243358 entries, 0 to 244125\n",
      "Data columns (total 4 columns):\n",
      " #   Column      Non-Null Count   Dtype \n",
      "---  ------      --------------   ----- \n",
      " 0   event_name  243358 non-null  object\n",
      " 1   user_id     243358 non-null  int64 \n",
      " 2   event_time  243358 non-null  int64 \n",
      " 3   group       243358 non-null  int64 \n",
      "dtypes: int64(3), object(1)\n",
      "memory usage: 9.3+ MB\n"
     ]
    }
   ],
   "source": [
    "data_d.info()"
   ]
  },
  {
   "cell_type": "code",
   "execution_count": 70,
   "metadata": {
    "scrolled": true
   },
   "outputs": [
    {
     "data": {
      "text/plain": [
       "event_name    0\n",
       "user_id       0\n",
       "event_time    0\n",
       "group         0\n",
       "dtype: int64"
      ]
     },
     "execution_count": 70,
     "metadata": {},
     "output_type": "execute_result"
    }
   ],
   "source": [
    "# проверка на наличие пропусков\n",
    "data_d.isna().sum()"
   ]
  },
  {
   "cell_type": "markdown",
   "metadata": {},
   "source": [
    "### Добавление нужных столбцов и преобразование типа данных со временем и датой"
   ]
  },
  {
   "cell_type": "code",
   "execution_count": 71,
   "metadata": {},
   "outputs": [
    {
     "name": "stderr",
     "output_type": "stream",
     "text": [
      "/tmp/ipykernel_30/859165467.py:2: SettingWithCopyWarning: \n",
      "A value is trying to be set on a copy of a slice from a DataFrame.\n",
      "Try using .loc[row_indexer,col_indexer] = value instead\n",
      "\n",
      "See the caveats in the documentation: https://pandas.pydata.org/pandas-docs/stable/user_guide/indexing.html#returning-a-view-versus-a-copy\n",
      "  data_d['date_time'] = pd.to_datetime(data_d['event_time'], unit = 's')\n",
      "/tmp/ipykernel_30/859165467.py:3: SettingWithCopyWarning: \n",
      "A value is trying to be set on a copy of a slice from a DataFrame.\n",
      "Try using .loc[row_indexer,col_indexer] = value instead\n",
      "\n",
      "See the caveats in the documentation: https://pandas.pydata.org/pandas-docs/stable/user_guide/indexing.html#returning-a-view-versus-a-copy\n",
      "  data_d['date'] = data_d['date_time'].astype('datetime64[D]')\n"
     ]
    },
    {
     "data": {
      "text/html": [
       "<div>\n",
       "<style scoped>\n",
       "    .dataframe tbody tr th:only-of-type {\n",
       "        vertical-align: middle;\n",
       "    }\n",
       "\n",
       "    .dataframe tbody tr th {\n",
       "        vertical-align: top;\n",
       "    }\n",
       "\n",
       "    .dataframe thead th {\n",
       "        text-align: right;\n",
       "    }\n",
       "</style>\n",
       "<table border=\"1\" class=\"dataframe\">\n",
       "  <thead>\n",
       "    <tr style=\"text-align: right;\">\n",
       "      <th></th>\n",
       "      <th>event_name</th>\n",
       "      <th>user_id</th>\n",
       "      <th>event_time</th>\n",
       "      <th>group</th>\n",
       "      <th>date_time</th>\n",
       "      <th>date</th>\n",
       "    </tr>\n",
       "  </thead>\n",
       "  <tbody>\n",
       "    <tr>\n",
       "      <th>0</th>\n",
       "      <td>MainScreenAppear</td>\n",
       "      <td>4575588528974610257</td>\n",
       "      <td>1564029816</td>\n",
       "      <td>246</td>\n",
       "      <td>2019-07-25 04:43:36</td>\n",
       "      <td>2019-07-25</td>\n",
       "    </tr>\n",
       "    <tr>\n",
       "      <th>1</th>\n",
       "      <td>MainScreenAppear</td>\n",
       "      <td>7416695313311560658</td>\n",
       "      <td>1564053102</td>\n",
       "      <td>246</td>\n",
       "      <td>2019-07-25 11:11:42</td>\n",
       "      <td>2019-07-25</td>\n",
       "    </tr>\n",
       "    <tr>\n",
       "      <th>2</th>\n",
       "      <td>PaymentScreenSuccessful</td>\n",
       "      <td>3518123091307005509</td>\n",
       "      <td>1564054127</td>\n",
       "      <td>248</td>\n",
       "      <td>2019-07-25 11:28:47</td>\n",
       "      <td>2019-07-25</td>\n",
       "    </tr>\n",
       "    <tr>\n",
       "      <th>3</th>\n",
       "      <td>CartScreenAppear</td>\n",
       "      <td>3518123091307005509</td>\n",
       "      <td>1564054127</td>\n",
       "      <td>248</td>\n",
       "      <td>2019-07-25 11:28:47</td>\n",
       "      <td>2019-07-25</td>\n",
       "    </tr>\n",
       "    <tr>\n",
       "      <th>4</th>\n",
       "      <td>PaymentScreenSuccessful</td>\n",
       "      <td>6217807653094995999</td>\n",
       "      <td>1564055322</td>\n",
       "      <td>248</td>\n",
       "      <td>2019-07-25 11:48:42</td>\n",
       "      <td>2019-07-25</td>\n",
       "    </tr>\n",
       "  </tbody>\n",
       "</table>\n",
       "</div>"
      ],
      "text/plain": [
       "                event_name              user_id  event_time  group  \\\n",
       "0         MainScreenAppear  4575588528974610257  1564029816    246   \n",
       "1         MainScreenAppear  7416695313311560658  1564053102    246   \n",
       "2  PaymentScreenSuccessful  3518123091307005509  1564054127    248   \n",
       "3         CartScreenAppear  3518123091307005509  1564054127    248   \n",
       "4  PaymentScreenSuccessful  6217807653094995999  1564055322    248   \n",
       "\n",
       "            date_time       date  \n",
       "0 2019-07-25 04:43:36 2019-07-25  \n",
       "1 2019-07-25 11:11:42 2019-07-25  \n",
       "2 2019-07-25 11:28:47 2019-07-25  \n",
       "3 2019-07-25 11:28:47 2019-07-25  \n",
       "4 2019-07-25 11:48:42 2019-07-25  "
      ]
     },
     "execution_count": 71,
     "metadata": {},
     "output_type": "execute_result"
    }
   ],
   "source": [
    "# Добавляю столбцы с датой и временем и только с датой\n",
    "data_d['date_time'] = pd.to_datetime(data_d['event_time'], unit = 's')\n",
    "data_d['date'] = data_d['date_time'].astype('datetime64[D]')\n",
    "data_d.head(5)"
   ]
  },
  {
   "cell_type": "code",
   "execution_count": 72,
   "metadata": {
    "scrolled": true
   },
   "outputs": [
    {
     "name": "stdout",
     "output_type": "stream",
     "text": [
      "<class 'pandas.core.frame.DataFrame'>\n",
      "Int64Index: 243358 entries, 0 to 244125\n",
      "Data columns (total 6 columns):\n",
      " #   Column      Non-Null Count   Dtype         \n",
      "---  ------      --------------   -----         \n",
      " 0   event_name  243358 non-null  object        \n",
      " 1   user_id     243358 non-null  int64         \n",
      " 2   event_time  243358 non-null  int64         \n",
      " 3   group       243358 non-null  int64         \n",
      " 4   date_time   243358 non-null  datetime64[ns]\n",
      " 5   date        243358 non-null  datetime64[ns]\n",
      "dtypes: datetime64[ns](2), int64(3), object(1)\n",
      "memory usage: 13.0+ MB\n"
     ]
    }
   ],
   "source": [
    "data_d.info() # провекра типа данных в таблице "
   ]
  },
  {
   "cell_type": "markdown",
   "metadata": {},
   "source": [
    "## Изучение и проверка данных"
   ]
  },
  {
   "cell_type": "markdown",
   "metadata": {},
   "source": [
    "### Изучение количества пользователей и событий в логе"
   ]
  },
  {
   "cell_type": "code",
   "execution_count": 73,
   "metadata": {},
   "outputs": [
    {
     "data": {
      "text/plain": [
       "243358"
      ]
     },
     "execution_count": 73,
     "metadata": {},
     "output_type": "execute_result"
    }
   ],
   "source": [
    "# количество событий в логе\n",
    "data_event_old = data_d['event_name'].count()\n",
    "data_event_old"
   ]
  },
  {
   "cell_type": "code",
   "execution_count": 74,
   "metadata": {},
   "outputs": [
    {
     "data": {
      "text/plain": [
       "event_name         5\n",
       "user_id         7550\n",
       "event_time    176459\n",
       "group              3\n",
       "date_time     176459\n",
       "date              14\n",
       "dtype: int64"
      ]
     },
     "execution_count": 74,
     "metadata": {},
     "output_type": "execute_result"
    }
   ],
   "source": [
    "#количество уникальных значений в каждом столбце \n",
    "data_d.nunique() "
   ]
  },
  {
   "cell_type": "code",
   "execution_count": 75,
   "metadata": {},
   "outputs": [
    {
     "data": {
      "text/plain": [
       "7550"
      ]
     },
     "execution_count": 75,
     "metadata": {},
     "output_type": "execute_result"
    }
   ],
   "source": [
    "# количество пользоваталей в логе\n",
    "data_user_old = data_d['user_id'].nunique()\n",
    "data_user_old"
   ]
  },
  {
   "cell_type": "code",
   "execution_count": 76,
   "metadata": {},
   "outputs": [
    {
     "data": {
      "text/plain": [
       "32.23284768211921"
      ]
     },
     "execution_count": 76,
     "metadata": {},
     "output_type": "execute_result"
    }
   ],
   "source": [
    "# количество событий на пользователя\n",
    "data_d['event_name'].count() / data_d['user_id'].nunique()"
   ]
  },
  {
   "cell_type": "code",
   "execution_count": 77,
   "metadata": {},
   "outputs": [
    {
     "data": {
      "text/plain": [
       "Timestamp('2019-08-07 00:00:00')"
      ]
     },
     "execution_count": 77,
     "metadata": {},
     "output_type": "execute_result"
    }
   ],
   "source": [
    "# максимальная дата в логе \n",
    "data_d['date'].max()"
   ]
  },
  {
   "cell_type": "code",
   "execution_count": 78,
   "metadata": {},
   "outputs": [
    {
     "data": {
      "text/plain": [
       "Timestamp('2019-07-25 00:00:00')"
      ]
     },
     "execution_count": 78,
     "metadata": {},
     "output_type": "execute_result"
    }
   ],
   "source": [
    "# минимальная дата в логе \n",
    "data_d['date'].min()"
   ]
  },
  {
   "cell_type": "markdown",
   "metadata": {},
   "source": [
    "### Построение Гистограмм по дате и времени"
   ]
  },
  {
   "cell_type": "code",
   "execution_count": 79,
   "metadata": {},
   "outputs": [
    {
     "name": "stdout",
     "output_type": "stream",
     "text": [
      "Гистограмма по дате и времени\n"
     ]
    },
    {
     "data": {
      "image/png": "[encoded data removed]",
      "text/plain": [
       "<Figure size 720x360 with 1 Axes>"
      ]
     },
     "metadata": {
      "needs_background": "light"
     },
     "output_type": "display_data"
    }
   ],
   "source": [
    "# Построение исходной гистограмы по дате и времени \n",
    "period_old = data_d['date_time'].hist(figsize=(10,5))\n",
    "print('Гистограмма по дате и времени')\n",
    "period_old;"
   ]
  },
  {
   "cell_type": "code",
   "execution_count": 80,
   "metadata": {},
   "outputs": [],
   "source": [
    "data_new = data_d[(data_d['date_time'] > '2019-08-01')]"
   ]
  },
  {
   "cell_type": "code",
   "execution_count": 81,
   "metadata": {},
   "outputs": [
    {
     "name": "stdout",
     "output_type": "stream",
     "text": [
      "Гистограмма по дате и времени\n"
     ]
    },
    {
     "data": {
      "image/png": "[encoded data removed]",
      "text/plain": [
       "<Figure size 720x360 with 1 Axes>"
      ]
     },
     "metadata": {
      "needs_background": "light"
     },
     "output_type": "display_data"
    }
   ],
   "source": [
    "# Построение гистограммы по дате и времени после отсечения данных\n",
    "period_new= data_new['date_time'].hist(figsize=(10,5))\n",
    "print('Гистограмма по дате и времени')\n",
    "period_new;"
   ]
  },
  {
   "cell_type": "markdown",
   "metadata": {},
   "source": [
    "Мы \"отрезали\" данные до 1 августа 2019 года, так как их было незначительное количество, которое не влияло на проведение исследования"
   ]
  },
  {
   "cell_type": "code",
   "execution_count": 82,
   "metadata": {},
   "outputs": [
    {
     "data": {
      "text/plain": [
       "240534"
      ]
     },
     "execution_count": 82,
     "metadata": {},
     "output_type": "execute_result"
    }
   ],
   "source": [
    "# количество событий в логе\n",
    "data_event_new = data_new['event_name'].count()\n",
    "data_event_new"
   ]
  },
  {
   "cell_type": "code",
   "execution_count": 83,
   "metadata": {},
   "outputs": [
    {
     "data": {
      "text/plain": [
       "7533"
      ]
     },
     "execution_count": 83,
     "metadata": {},
     "output_type": "execute_result"
    }
   ],
   "source": [
    "# количество уникальных пользователей в логе\n",
    "data_user_new = data_new['user_id'].nunique()\n",
    "data_user_new"
   ]
  },
  {
   "cell_type": "code",
   "execution_count": 84,
   "metadata": {},
   "outputs": [
    {
     "data": {
      "text/plain": [
       "2824"
      ]
     },
     "execution_count": 84,
     "metadata": {},
     "output_type": "execute_result"
    }
   ],
   "source": [
    "# изменение в количестве событий после отрезаниия данных по дате\n",
    "event_change = data_event_old - data_event_new\n",
    "event_change"
   ]
  },
  {
   "cell_type": "code",
   "execution_count": 85,
   "metadata": {},
   "outputs": [
    {
     "data": {
      "text/plain": [
       "1.16"
      ]
     },
     "execution_count": 85,
     "metadata": {},
     "output_type": "execute_result"
    }
   ],
   "source": [
    "event_change_pr = (event_change / data_event_old *100).round(2)\n",
    "event_change_pr"
   ]
  },
  {
   "cell_type": "code",
   "execution_count": 86,
   "metadata": {},
   "outputs": [
    {
     "data": {
      "text/plain": [
       "17"
      ]
     },
     "execution_count": 86,
     "metadata": {},
     "output_type": "execute_result"
    }
   ],
   "source": [
    "# изменение в количестве пользователей после отрезаниия данных по дате\n",
    "users_change = data_user_old - data_user_new\n",
    "users_change"
   ]
  },
  {
   "cell_type": "code",
   "execution_count": 87,
   "metadata": {},
   "outputs": [
    {
     "data": {
      "text/plain": [
       "0.2251655629139073"
      ]
     },
     "execution_count": 87,
     "metadata": {},
     "output_type": "execute_result"
    }
   ],
   "source": [
    "users_change_pr = (users_change / data_user_old *100)\n",
    "users_change_pr"
   ]
  },
  {
   "cell_type": "code",
   "execution_count": 88,
   "metadata": {
    "scrolled": true
   },
   "outputs": [
    {
     "data": {
      "text/plain": [
       "array([246, 248, 247])"
      ]
     },
     "execution_count": 88,
     "metadata": {},
     "output_type": "execute_result"
    }
   ],
   "source": [
    "# Проверяем, что у вас есть пользователи из всех трёх экспериментальных групп.\n",
    "data_d['group'].unique()"
   ]
  },
  {
   "cell_type": "code",
   "execution_count": 89,
   "metadata": {
    "scrolled": false
   },
   "outputs": [
    {
     "data": {
      "text/html": [
       "<div>\n",
       "<style scoped>\n",
       "    .dataframe tbody tr th:only-of-type {\n",
       "        vertical-align: middle;\n",
       "    }\n",
       "\n",
       "    .dataframe tbody tr th {\n",
       "        vertical-align: top;\n",
       "    }\n",
       "\n",
       "    .dataframe thead th {\n",
       "        text-align: right;\n",
       "    }\n",
       "</style>\n",
       "<table border=\"1\" class=\"dataframe\">\n",
       "  <thead>\n",
       "    <tr style=\"text-align: right;\">\n",
       "      <th></th>\n",
       "      <th>user_id</th>\n",
       "    </tr>\n",
       "    <tr>\n",
       "      <th>group</th>\n",
       "      <th></th>\n",
       "    </tr>\n",
       "  </thead>\n",
       "  <tbody>\n",
       "    <tr>\n",
       "      <th>246</th>\n",
       "      <td>3.641560e+23</td>\n",
       "    </tr>\n",
       "    <tr>\n",
       "      <th>247</th>\n",
       "      <td>3.646191e+23</td>\n",
       "    </tr>\n",
       "    <tr>\n",
       "      <th>248</th>\n",
       "      <td>3.975487e+23</td>\n",
       "    </tr>\n",
       "  </tbody>\n",
       "</table>\n",
       "</div>"
      ],
      "text/plain": [
       "            user_id\n",
       "group              \n",
       "246    3.641560e+23\n",
       "247    3.646191e+23\n",
       "248    3.975487e+23"
      ]
     },
     "execution_count": 89,
     "metadata": {},
     "output_type": "execute_result"
    }
   ],
   "source": [
    "users = data_d.groupby(['group']).agg({'user_id':'sum'})\n",
    "users"
   ]
  },
  {
   "cell_type": "markdown",
   "metadata": {},
   "source": [
    "Мы изучили данные, узнали о количестве событий и пользователей в логе.\n",
    "Также убрали устаревшие  и неактуальные данные для исследования.\n",
    "В результате чего в логе стало на 0% пользователей меньше и на 1052 (0,43%) событий меньше, что не повлияет критически на наше исследование."
   ]
  },
  {
   "cell_type": "markdown",
   "metadata": {},
   "source": [
    "## Воронка событий"
   ]
  },
  {
   "cell_type": "markdown",
   "metadata": {},
   "source": [
    "### Определение доли пользователей, совершивших хоть 1 покупку "
   ]
  },
  {
   "cell_type": "code",
   "execution_count": 90,
   "metadata": {
    "scrolled": true
   },
   "outputs": [
    {
     "data": {
      "text/plain": [
       "MainScreenAppear           117226\n",
       "OffersScreenAppear          46317\n",
       "CartScreenAppear            42241\n",
       "PaymentScreenSuccessful     33765\n",
       "Tutorial                      985\n",
       "Name: event_name, dtype: int64"
      ]
     },
     "execution_count": 90,
     "metadata": {},
     "output_type": "execute_result"
    }
   ],
   "source": [
    "# события в логе и как часто они встречаются\n",
    "data_new['event_name'].value_counts()"
   ]
  },
  {
   "cell_type": "code",
   "execution_count": 91,
   "metadata": {
    "scrolled": true
   },
   "outputs": [
    {
     "data": {
      "text/html": [
       "<div>\n",
       "<style scoped>\n",
       "    .dataframe tbody tr th:only-of-type {\n",
       "        vertical-align: middle;\n",
       "    }\n",
       "\n",
       "    .dataframe tbody tr th {\n",
       "        vertical-align: top;\n",
       "    }\n",
       "\n",
       "    .dataframe thead th {\n",
       "        text-align: right;\n",
       "    }\n",
       "</style>\n",
       "<table border=\"1\" class=\"dataframe\">\n",
       "  <thead>\n",
       "    <tr style=\"text-align: right;\">\n",
       "      <th></th>\n",
       "      <th>event_name</th>\n",
       "      <th>user_id</th>\n",
       "      <th>perc</th>\n",
       "    </tr>\n",
       "  </thead>\n",
       "  <tbody>\n",
       "    <tr>\n",
       "      <th>1</th>\n",
       "      <td>MainScreenAppear</td>\n",
       "      <td>7438</td>\n",
       "      <td>98.52</td>\n",
       "    </tr>\n",
       "    <tr>\n",
       "      <th>2</th>\n",
       "      <td>OffersScreenAppear</td>\n",
       "      <td>4613</td>\n",
       "      <td>61.10</td>\n",
       "    </tr>\n",
       "    <tr>\n",
       "      <th>0</th>\n",
       "      <td>CartScreenAppear</td>\n",
       "      <td>3749</td>\n",
       "      <td>49.66</td>\n",
       "    </tr>\n",
       "    <tr>\n",
       "      <th>3</th>\n",
       "      <td>PaymentScreenSuccessful</td>\n",
       "      <td>3544</td>\n",
       "      <td>46.94</td>\n",
       "    </tr>\n",
       "    <tr>\n",
       "      <th>4</th>\n",
       "      <td>Tutorial</td>\n",
       "      <td>847</td>\n",
       "      <td>11.22</td>\n",
       "    </tr>\n",
       "  </tbody>\n",
       "</table>\n",
       "</div>"
      ],
      "text/plain": [
       "                event_name  user_id   perc\n",
       "1         MainScreenAppear     7438  98.52\n",
       "2       OffersScreenAppear     4613  61.10\n",
       "0         CartScreenAppear     3749  49.66\n",
       "3  PaymentScreenSuccessful     3544  46.94\n",
       "4                 Tutorial      847  11.22"
      ]
     },
     "execution_count": 91,
     "metadata": {},
     "output_type": "execute_result"
    }
   ],
   "source": [
    "# Доля пользователей, совершивших хоть 1 покупку\n",
    "table_a = data_d.groupby('event_name')['user_id'].nunique().reset_index()\n",
    "table_a['perc'] = table_a['user_id'] / (data_d['user_id'].nunique())\n",
    "table_a['perc'] = (table_a['perc'] *100).round(2)# деление на общее число пользователей\n",
    "table_a = table_a.sort_values(by='user_id', ascending=False)\n",
    "table_a"
   ]
  },
  {
   "cell_type": "markdown",
   "metadata": {},
   "source": [
    "### Определение последовательности событий воронки"
   ]
  },
  {
   "cell_type": "markdown",
   "metadata": {},
   "source": [
    "Cобытийной аналитике воронка — это несколько заранее обозначенных последовательных действий на сайте, в игре или приложении, которые пользователи должны выполнить для достижения результата. \n",
    "\n",
    "Сформулируем воронку покупки продуктов питания:\n",
    "\n",
    "Главный экран приложения =>\n",
    "Экран с предложениями =>\n",
    "Экран с корзиной =>\n",
    "Экран с оплатой.\n",
    "\n",
    "А вот шаг tutorial - руководство - лишний. Его надо удалить."
   ]
  },
  {
   "cell_type": "code",
   "execution_count": 92,
   "metadata": {},
   "outputs": [
    {
     "data": {
      "text/plain": [
       "array(['MainScreenAppear', 'OffersScreenAppear', 'CartScreenAppear',\n",
       "       'PaymentScreenSuccessful'], dtype=object)"
      ]
     },
     "execution_count": 92,
     "metadata": {},
     "output_type": "execute_result"
    }
   ],
   "source": [
    "# Убираем лишний степ, не входящий в воронку по продажам\n",
    "data_filtered = data_new[(data_new['event_name'] != 'Tutorial')]\n",
    "data_filtered['event_name'].unique()"
   ]
  },
  {
   "cell_type": "markdown",
   "metadata": {},
   "source": [
    "### Нахождение общей конверии и конверсии шага"
   ]
  },
  {
   "cell_type": "code",
   "execution_count": 93,
   "metadata": {},
   "outputs": [],
   "source": [
    "# Рассчитаем воронку\n",
    "# Уникальные пользователи \n"
   ]
  },
  {
   "cell_type": "code",
   "execution_count": 94,
   "metadata": {},
   "outputs": [
    {
     "data": {
      "text/html": [
       "<div>\n",
       "<style scoped>\n",
       "    .dataframe tbody tr th:only-of-type {\n",
       "        vertical-align: middle;\n",
       "    }\n",
       "\n",
       "    .dataframe tbody tr th {\n",
       "        vertical-align: top;\n",
       "    }\n",
       "\n",
       "    .dataframe thead th {\n",
       "        text-align: right;\n",
       "    }\n",
       "</style>\n",
       "<table border=\"1\" class=\"dataframe\">\n",
       "  <thead>\n",
       "    <tr style=\"text-align: right;\">\n",
       "      <th></th>\n",
       "      <th>event_name</th>\n",
       "      <th>users</th>\n",
       "    </tr>\n",
       "  </thead>\n",
       "  <tbody>\n",
       "    <tr>\n",
       "      <th>0</th>\n",
       "      <td>MainScreenAppear</td>\n",
       "      <td>7418</td>\n",
       "    </tr>\n",
       "    <tr>\n",
       "      <th>1</th>\n",
       "      <td>OffersScreenAppear</td>\n",
       "      <td>4593</td>\n",
       "    </tr>\n",
       "    <tr>\n",
       "      <th>2</th>\n",
       "      <td>CartScreenAppear</td>\n",
       "      <td>3734</td>\n",
       "    </tr>\n",
       "    <tr>\n",
       "      <th>3</th>\n",
       "      <td>PaymentScreenSuccessful</td>\n",
       "      <td>3536</td>\n",
       "    </tr>\n",
       "  </tbody>\n",
       "</table>\n",
       "</div>"
      ],
      "text/plain": [
       "                event_name  users\n",
       "0         MainScreenAppear   7418\n",
       "1       OffersScreenAppear   4593\n",
       "2         CartScreenAppear   3734\n",
       "3  PaymentScreenSuccessful   3536"
      ]
     },
     "execution_count": 94,
     "metadata": {},
     "output_type": "execute_result"
    }
   ],
   "source": [
    "funnel = (data_filtered.groupby('event_name')\n",
    "                    .agg(users=('user_id','nunique'))\n",
    "                    .sort_values(by='users', ascending = False)\n",
    "                    .reset_index()\n",
    "         )\n",
    "funnel"
   ]
  },
  {
   "cell_type": "code",
   "execution_count": 95,
   "metadata": {},
   "outputs": [
    {
     "data": {
      "text/html": [
       "<div>\n",
       "<style scoped>\n",
       "    .dataframe tbody tr th:only-of-type {\n",
       "        vertical-align: middle;\n",
       "    }\n",
       "\n",
       "    .dataframe tbody tr th {\n",
       "        vertical-align: top;\n",
       "    }\n",
       "\n",
       "    .dataframe thead th {\n",
       "        text-align: right;\n",
       "    }\n",
       "</style>\n",
       "<table border=\"1\" class=\"dataframe\">\n",
       "  <thead>\n",
       "    <tr style=\"text-align: right;\">\n",
       "      <th></th>\n",
       "      <th>event_name</th>\n",
       "      <th>users</th>\n",
       "      <th>conversion</th>\n",
       "    </tr>\n",
       "  </thead>\n",
       "  <tbody>\n",
       "    <tr>\n",
       "      <th>0</th>\n",
       "      <td>MainScreenAppear</td>\n",
       "      <td>7418</td>\n",
       "      <td>100.00</td>\n",
       "    </tr>\n",
       "    <tr>\n",
       "      <th>1</th>\n",
       "      <td>OffersScreenAppear</td>\n",
       "      <td>4593</td>\n",
       "      <td>61.92</td>\n",
       "    </tr>\n",
       "    <tr>\n",
       "      <th>2</th>\n",
       "      <td>CartScreenAppear</td>\n",
       "      <td>3734</td>\n",
       "      <td>50.34</td>\n",
       "    </tr>\n",
       "    <tr>\n",
       "      <th>3</th>\n",
       "      <td>PaymentScreenSuccessful</td>\n",
       "      <td>3536</td>\n",
       "      <td>47.67</td>\n",
       "    </tr>\n",
       "  </tbody>\n",
       "</table>\n",
       "</div>"
      ],
      "text/plain": [
       "                event_name  users  conversion\n",
       "0         MainScreenAppear   7418      100.00\n",
       "1       OffersScreenAppear   4593       61.92\n",
       "2         CartScreenAppear   3734       50.34\n",
       "3  PaymentScreenSuccessful   3536       47.67"
      ]
     },
     "execution_count": 95,
     "metadata": {},
     "output_type": "execute_result"
    }
   ],
   "source": [
    "# Конверсия \n",
    "funnel['conversion'] = (funnel['users'] / funnel['users'].max()*100).round(2)\n",
    "funnel"
   ]
  },
  {
   "cell_type": "code",
   "execution_count": 96,
   "metadata": {},
   "outputs": [
    {
     "data": {
      "text/html": [
       "<div>\n",
       "<style scoped>\n",
       "    .dataframe tbody tr th:only-of-type {\n",
       "        vertical-align: middle;\n",
       "    }\n",
       "\n",
       "    .dataframe tbody tr th {\n",
       "        vertical-align: top;\n",
       "    }\n",
       "\n",
       "    .dataframe thead th {\n",
       "        text-align: right;\n",
       "    }\n",
       "</style>\n",
       "<table border=\"1\" class=\"dataframe\">\n",
       "  <thead>\n",
       "    <tr style=\"text-align: right;\">\n",
       "      <th></th>\n",
       "      <th>event_name</th>\n",
       "      <th>users</th>\n",
       "      <th>conversion</th>\n",
       "      <th>conversion_step</th>\n",
       "    </tr>\n",
       "  </thead>\n",
       "  <tbody>\n",
       "    <tr>\n",
       "      <th>0</th>\n",
       "      <td>MainScreenAppear</td>\n",
       "      <td>7418</td>\n",
       "      <td>100.00</td>\n",
       "      <td>100.00</td>\n",
       "    </tr>\n",
       "    <tr>\n",
       "      <th>1</th>\n",
       "      <td>OffersScreenAppear</td>\n",
       "      <td>4593</td>\n",
       "      <td>61.92</td>\n",
       "      <td>61.92</td>\n",
       "    </tr>\n",
       "    <tr>\n",
       "      <th>2</th>\n",
       "      <td>CartScreenAppear</td>\n",
       "      <td>3734</td>\n",
       "      <td>50.34</td>\n",
       "      <td>81.30</td>\n",
       "    </tr>\n",
       "    <tr>\n",
       "      <th>3</th>\n",
       "      <td>PaymentScreenSuccessful</td>\n",
       "      <td>3536</td>\n",
       "      <td>47.67</td>\n",
       "      <td>94.70</td>\n",
       "    </tr>\n",
       "  </tbody>\n",
       "</table>\n",
       "</div>"
      ],
      "text/plain": [
       "                event_name  users  conversion  conversion_step\n",
       "0         MainScreenAppear   7418      100.00           100.00\n",
       "1       OffersScreenAppear   4593       61.92            61.92\n",
       "2         CartScreenAppear   3734       50.34            81.30\n",
       "3  PaymentScreenSuccessful   3536       47.67            94.70"
      ]
     },
     "execution_count": 96,
     "metadata": {},
     "output_type": "execute_result"
    }
   ],
   "source": [
    "# Конверсия шага\n",
    "funnel['conversion_step'] = (funnel['conversion'] / funnel['conversion'].shift(1, fill_value=100) *100).round(2)\n",
    "funnel"
   ]
  },
  {
   "cell_type": "markdown",
   "metadata": {},
   "source": [
    "Мы рассчитали общую конверсию, поделив количество пользователей по событиям на общее количество уникальных пользователей (прошедших шаг 1).\n",
    "Мы рассчитали конверсию шага и можем увидеть, что больше всего пользователей отваливается на этапе OffersScreenAppear. Возможно после просмотра главной страницы что-то происходит не так в виду технической ошибки \\ недостаточной работы над дизайном сайта и т д\n",
    "47.7% пользователей доходит от первого шага до оплаты товаров. Думаю, этот показатель можно улучшить. "
   ]
  },
  {
   "cell_type": "markdown",
   "metadata": {},
   "source": [
    "## Результаты эксперимента"
   ]
  },
  {
   "cell_type": "code",
   "execution_count": 97,
   "metadata": {},
   "outputs": [
    {
     "data": {
      "text/html": [
       "<div>\n",
       "<style scoped>\n",
       "    .dataframe tbody tr th:only-of-type {\n",
       "        vertical-align: middle;\n",
       "    }\n",
       "\n",
       "    .dataframe tbody tr th {\n",
       "        vertical-align: top;\n",
       "    }\n",
       "\n",
       "    .dataframe thead th {\n",
       "        text-align: right;\n",
       "    }\n",
       "</style>\n",
       "<table border=\"1\" class=\"dataframe\">\n",
       "  <thead>\n",
       "    <tr style=\"text-align: right;\">\n",
       "      <th></th>\n",
       "      <th>user_id</th>\n",
       "    </tr>\n",
       "    <tr>\n",
       "      <th>group</th>\n",
       "      <th></th>\n",
       "    </tr>\n",
       "  </thead>\n",
       "  <tbody>\n",
       "    <tr>\n",
       "      <th>246</th>\n",
       "      <td>2482</td>\n",
       "    </tr>\n",
       "    <tr>\n",
       "      <th>247</th>\n",
       "      <td>2512</td>\n",
       "    </tr>\n",
       "    <tr>\n",
       "      <th>248</th>\n",
       "      <td>2535</td>\n",
       "    </tr>\n",
       "  </tbody>\n",
       "</table>\n",
       "</div>"
      ],
      "text/plain": [
       "       user_id\n",
       "group         \n",
       "246       2482\n",
       "247       2512\n",
       "248       2535"
      ]
     },
     "execution_count": 97,
     "metadata": {},
     "output_type": "execute_result"
    }
   ],
   "source": [
    "# Колтичество пользоватлей в каждой экспериментальной группе \n",
    "group_users = data_filtered.groupby(['group']).agg({'user_id':'nunique'})\n",
    "group_users"
   ]
  },
  {
   "cell_type": "code",
   "execution_count": 98,
   "metadata": {
    "scrolled": true
   },
   "outputs": [
    {
     "data": {
      "text/html": [
       "<div>\n",
       "<style scoped>\n",
       "    .dataframe tbody tr th:only-of-type {\n",
       "        vertical-align: middle;\n",
       "    }\n",
       "\n",
       "    .dataframe tbody tr th {\n",
       "        vertical-align: top;\n",
       "    }\n",
       "\n",
       "    .dataframe thead th {\n",
       "        text-align: right;\n",
       "    }\n",
       "</style>\n",
       "<table border=\"1\" class=\"dataframe\">\n",
       "  <thead>\n",
       "    <tr style=\"text-align: right;\">\n",
       "      <th>group</th>\n",
       "      <th>246</th>\n",
       "      <th>247</th>\n",
       "      <th>248</th>\n",
       "      <th>240</th>\n",
       "    </tr>\n",
       "    <tr>\n",
       "      <th>event_name</th>\n",
       "      <th></th>\n",
       "      <th></th>\n",
       "      <th></th>\n",
       "      <th></th>\n",
       "    </tr>\n",
       "  </thead>\n",
       "  <tbody>\n",
       "    <tr>\n",
       "      <th>MainScreenAppear</th>\n",
       "      <td>2449</td>\n",
       "      <td>2476</td>\n",
       "      <td>2493</td>\n",
       "      <td>4925</td>\n",
       "    </tr>\n",
       "    <tr>\n",
       "      <th>OffersScreenAppear</th>\n",
       "      <td>1542</td>\n",
       "      <td>1520</td>\n",
       "      <td>1531</td>\n",
       "      <td>3062</td>\n",
       "    </tr>\n",
       "    <tr>\n",
       "      <th>CartScreenAppear</th>\n",
       "      <td>1266</td>\n",
       "      <td>1238</td>\n",
       "      <td>1230</td>\n",
       "      <td>2504</td>\n",
       "    </tr>\n",
       "    <tr>\n",
       "      <th>PaymentScreenSuccessful</th>\n",
       "      <td>1199</td>\n",
       "      <td>1156</td>\n",
       "      <td>1181</td>\n",
       "      <td>2355</td>\n",
       "    </tr>\n",
       "  </tbody>\n",
       "</table>\n",
       "</div>"
      ],
      "text/plain": [
       "group                     246   247   248   240\n",
       "event_name                                     \n",
       "MainScreenAppear         2449  2476  2493  4925\n",
       "OffersScreenAppear       1542  1520  1531  3062\n",
       "CartScreenAppear         1266  1238  1230  2504\n",
       "PaymentScreenSuccessful  1199  1156  1181  2355"
      ]
     },
     "execution_count": 98,
     "metadata": {},
     "output_type": "execute_result"
    }
   ],
   "source": [
    "pt = data_filtered.pivot_table(index='event_name', columns = 'group', values = 'user_id', aggfunc = 'nunique').sort_values(246, ascending=False)\n",
    "pt[240] = pt[246] + pt[247]\n",
    "pt"
   ]
  },
  {
   "cell_type": "code",
   "execution_count": 99,
   "metadata": {},
   "outputs": [
    {
     "data": {
      "text/html": [
       "<div>\n",
       "<style scoped>\n",
       "    .dataframe tbody tr th:only-of-type {\n",
       "        vertical-align: middle;\n",
       "    }\n",
       "\n",
       "    .dataframe tbody tr th {\n",
       "        vertical-align: top;\n",
       "    }\n",
       "\n",
       "    .dataframe thead th {\n",
       "        text-align: right;\n",
       "    }\n",
       "</style>\n",
       "<table border=\"1\" class=\"dataframe\">\n",
       "  <thead>\n",
       "    <tr style=\"text-align: right;\">\n",
       "      <th></th>\n",
       "      <th>group</th>\n",
       "    </tr>\n",
       "    <tr>\n",
       "      <th>user_id</th>\n",
       "      <th></th>\n",
       "    </tr>\n",
       "  </thead>\n",
       "  <tbody>\n",
       "  </tbody>\n",
       "</table>\n",
       "</div>"
      ],
      "text/plain": [
       "Empty DataFrame\n",
       "Columns: [group]\n",
       "Index: []"
      ]
     },
     "execution_count": 99,
     "metadata": {},
     "output_type": "execute_result"
    }
   ],
   "source": [
    "# проверка есть ли одни и те же пользователи в разных группах\n",
    "x = data_filtered.groupby(['user_id']).agg({'group':'nunique'}).query('group >1')\n",
    "x"
   ]
  },
  {
   "cell_type": "code",
   "execution_count": 100,
   "metadata": {
    "scrolled": false
   },
   "outputs": [],
   "source": [
    "#data_filtered.pivot_table(index='user_id', values='event_name', aggfunc={'count'}).describe()"
   ]
  },
  {
   "cell_type": "code",
   "execution_count": 101,
   "metadata": {
    "scrolled": true
   },
   "outputs": [],
   "source": [
    "#seaborn.boxplot(data=data, x=\"user_id\", y=\"event_name\");"
   ]
  },
  {
   "cell_type": "code",
   "execution_count": 102,
   "metadata": {
    "scrolled": true
   },
   "outputs": [],
   "source": [
    "#data_filtered.pivot_table(index='user_id', values='event_name', aggfunc={'count'}).median()"
   ]
  },
  {
   "cell_type": "markdown",
   "metadata": {},
   "source": [
    "### Построение функции для проверки гипотез "
   ]
  },
  {
   "cell_type": "markdown",
   "metadata": {},
   "source": [
    "Нулевая гипотеза: различий между группами нет.  Альтернативная гипотеза: различия между группами есть."
   ]
  },
  {
   "cell_type": "markdown",
   "metadata": {},
   "source": [
    "Уровень значимости для дальнейших тестирований = 0.05"
   ]
  },
  {
   "cell_type": "markdown",
   "metadata": {},
   "source": [
    "Создадим функцию для выполнения z-test."
   ]
  },
  {
   "cell_type": "markdown",
   "metadata": {},
   "source": [
    "####  Проверяем находят ли статистические критерии разницу между выборками 246 и 247."
   ]
  },
  {
   "cell_type": "code",
   "execution_count": 103,
   "metadata": {},
   "outputs": [],
   "source": [
    "alpha = .05 # критический уровень статистической значимости"
   ]
  },
  {
   "cell_type": "code",
   "execution_count": 104,
   "metadata": {
    "scrolled": true
   },
   "outputs": [],
   "source": [
    "\n",
    "def ztest(data_a, data_b, event, alpha):\n",
    "    alpha = alpha\n",
    "    \n",
    "    # число пользователей в группе 1 и группе 2:\n",
    "    trials = np.array([data_a['user_id'].nunique(), data_b['user_id'].nunique()])\n",
    "    \n",
    "    # число пользователей, совершивших событие в группе 1 и группе 2\n",
    "    success = np.array([data_a[data_a['event_name'] == event]['user_id'].nunique(),\n",
    "                        data_b[data_b['event_name'] == event]['user_id'].nunique()])\n",
    "    \n",
    "    # пропорция успехов в первой группе:\n",
    "    p1 = success[0]/trials[0]\n",
    "\n",
    "    # пропорция успехов во второй группе:\n",
    "    p2 = success[1]/trials[1]\n",
    "\n",
    "    # пропорция в комбинированном датасете:\n",
    "    p_combined = (success[0] + success[1]) / (trials[0] + trials[1])\n",
    "\n",
    "    # разница пропорций в датасетах\n",
    "    difference = p1 - p2 \n",
    "\n",
    "    # считаем статистику в ст.отклонениях стандартного нормального распределения\n",
    "    z_value = difference / np.sqrt(p_combined * (1 - p_combined) * (1/trials[0] + 1/trials[1]))\n",
    "\n",
    "    # задаем стандартное нормальное распределение (среднее 0, ст.отклонение 1)\n",
    "    distr = st.norm(0, 1)  \n",
    "\n",
    "    p_value = (1 - distr.cdf(abs(z_value))) * 2\n",
    "\n",
    "    print('Действие:', event)\n",
    "    print('Уровень значимости:', alpha)\n",
    "    print('p-значение:', p_value.round(3))\n",
    "\n",
    "    if (p_value < alpha):\n",
    "        print('Отвергаем нулевую гипотезу: между группами  есть значимая разница')\n",
    "        print()\n",
    "    else:\n",
    "        print('Не получилось отвергнуть нулевую гипотезу, нет оснований считать группы разными')\n",
    "        print()"
   ]
  },
  {
   "cell_type": "code",
   "execution_count": 105,
   "metadata": {},
   "outputs": [],
   "source": [
    "#Список уникальных событий для цикла:\n",
    "events_list = data_filtered['event_name'].unique()"
   ]
  },
  {
   "cell_type": "code",
   "execution_count": 106,
   "metadata": {},
   "outputs": [
    {
     "name": "stdout",
     "output_type": "stream",
     "text": [
      "Действие: MainScreenAppear\n",
      "Уровень значимости: 0.05\n",
      "p-значение: 0.754\n",
      "Не получилось отвергнуть нулевую гипотезу, нет оснований считать группы разными\n",
      "\n",
      "Действие: OffersScreenAppear\n",
      "Уровень значимости: 0.05\n",
      "p-значение: 0.241\n",
      "Не получилось отвергнуть нулевую гипотезу, нет оснований считать группы разными\n",
      "\n",
      "Действие: CartScreenAppear\n",
      "Уровень значимости: 0.05\n",
      "p-значение: 0.223\n",
      "Не получилось отвергнуть нулевую гипотезу, нет оснований считать группы разными\n",
      "\n",
      "Действие: PaymentScreenSuccessful\n",
      "Уровень значимости: 0.05\n",
      "p-значение: 0.105\n",
      "Не получилось отвергнуть нулевую гипотезу, нет оснований считать группы разными\n",
      "\n",
      "\n"
     ]
    }
   ],
   "source": [
    "for event in events_list:\n",
    "    ztest(data_filtered[data_filtered['group'] == 246], data_filtered[data_filtered['group'] == 247], event, alpha)\n",
    "print()"
   ]
  },
  {
   "cell_type": "markdown",
   "metadata": {},
   "source": [
    "У нас подтвердилась 0-гипотезу по всем 4 событиям между группами 246 и 247 - значимых различий в группах нет."
   ]
  },
  {
   "cell_type": "markdown",
   "metadata": {},
   "source": [
    "####  Проверяем находят ли статистические критерии разницу между выборками 246 и 248."
   ]
  },
  {
   "cell_type": "markdown",
   "metadata": {},
   "source": [
    "Нулевая гипотеза: различий между группами нет.  Альтернативная гипотеза: различия между группами есть."
   ]
  },
  {
   "cell_type": "code",
   "execution_count": 107,
   "metadata": {},
   "outputs": [
    {
     "name": "stdout",
     "output_type": "stream",
     "text": [
      "Действие: MainScreenAppear\n",
      "Уровень значимости: 0.05\n",
      "p-значение: 0.34\n",
      "Не получилось отвергнуть нулевую гипотезу, нет оснований считать группы разными\n",
      "\n",
      "Действие: OffersScreenAppear\n",
      "Уровень значимости: 0.05\n",
      "p-значение: 0.208\n",
      "Не получилось отвергнуть нулевую гипотезу, нет оснований считать группы разными\n",
      "\n",
      "Действие: CartScreenAppear\n",
      "Уровень значимости: 0.05\n",
      "p-значение: 0.078\n",
      "Не получилось отвергнуть нулевую гипотезу, нет оснований считать группы разными\n",
      "\n",
      "Действие: PaymentScreenSuccessful\n",
      "Уровень значимости: 0.05\n",
      "p-значение: 0.223\n",
      "Не получилось отвергнуть нулевую гипотезу, нет оснований считать группы разными\n",
      "\n",
      "\n"
     ]
    }
   ],
   "source": [
    "for event in events_list:\n",
    "    ztest(data_filtered[data_filtered['group'] == 246], data_filtered[data_filtered['group'] == 248], event, alpha)\n",
    "print()"
   ]
  },
  {
   "cell_type": "markdown",
   "metadata": {},
   "source": [
    "У нас подтвердилась 0-гипотеза, значимых статистических различий между группами нет."
   ]
  },
  {
   "cell_type": "markdown",
   "metadata": {},
   "source": [
    "#### Проверяем находят ли статистические критерии разницу между выборками 247 и 248."
   ]
  },
  {
   "cell_type": "markdown",
   "metadata": {},
   "source": [
    "Нулевая гипотеза: различий между группами нет.  Альтернативная гипотеза: различия между группами есть."
   ]
  },
  {
   "cell_type": "code",
   "execution_count": 108,
   "metadata": {},
   "outputs": [
    {
     "name": "stdout",
     "output_type": "stream",
     "text": [
      "Действие: MainScreenAppear\n",
      "Уровень значимости: 0.05\n",
      "p-значение: 0.519\n",
      "Не получилось отвергнуть нулевую гипотезу, нет оснований считать группы разными\n",
      "\n",
      "Действие: OffersScreenAppear\n",
      "Уровень значимости: 0.05\n",
      "p-значение: 0.933\n",
      "Не получилось отвергнуть нулевую гипотезу, нет оснований считать группы разными\n",
      "\n",
      "Действие: CartScreenAppear\n",
      "Уровень значимости: 0.05\n",
      "p-значение: 0.588\n",
      "Не получилось отвергнуть нулевую гипотезу, нет оснований считать группы разными\n",
      "\n",
      "Действие: PaymentScreenSuccessful\n",
      "Уровень значимости: 0.05\n",
      "p-значение: 0.685\n",
      "Не получилось отвергнуть нулевую гипотезу, нет оснований считать группы разными\n",
      "\n",
      "\n"
     ]
    }
   ],
   "source": [
    "for event in events_list:\n",
    "    ztest(data_filtered[data_filtered['group'] == 247], data_filtered[data_filtered['group'] == 248], event, alpha)\n",
    "print()"
   ]
  },
  {
   "cell_type": "markdown",
   "metadata": {},
   "source": [
    "У нас подтвердилась 0-гипотеза, значимых статистических различий между группами нет."
   ]
  },
  {
   "cell_type": "markdown",
   "metadata": {},
   "source": [
    "#### Проверяем находят ли статистические критерии разницу между выборками 240 и 248."
   ]
  },
  {
   "cell_type": "markdown",
   "metadata": {},
   "source": [
    "Нулевая гипотеза: различий между группами нет.  Альтернативная гипотеза: различия между группами есть."
   ]
  },
  {
   "cell_type": "code",
   "execution_count": 109,
   "metadata": {
    "scrolled": true
   },
   "outputs": [],
   "source": [
    "combined_group_a = pd.concat([data_filtered[data_filtered['group'] == 246], data_filtered[data_filtered['group'] == 247]])"
   ]
  },
  {
   "cell_type": "code",
   "execution_count": 110,
   "metadata": {
    "scrolled": true
   },
   "outputs": [
    {
     "name": "stdout",
     "output_type": "stream",
     "text": [
      "Действие: MainScreenAppear\n",
      "Уровень значимости: 0.05\n",
      "p-значение: 0.349\n",
      "Не получилось отвергнуть нулевую гипотезу, нет оснований считать группы разными\n",
      "\n",
      "Действие: OffersScreenAppear\n",
      "Уровень значимости: 0.05\n",
      "p-значение: 0.44\n",
      "Не получилось отвергнуть нулевую гипотезу, нет оснований считать группы разными\n",
      "\n",
      "Действие: CartScreenAppear\n",
      "Уровень значимости: 0.05\n",
      "p-значение: 0.184\n",
      "Не получилось отвергнуть нулевую гипотезу, нет оснований считать группы разными\n",
      "\n",
      "Действие: PaymentScreenSuccessful\n",
      "Уровень значимости: 0.05\n",
      "p-значение: 0.64\n",
      "Не получилось отвергнуть нулевую гипотезу, нет оснований считать группы разными\n",
      "\n",
      "\n"
     ]
    }
   ],
   "source": [
    "for event in events_list:\n",
    "    ztest(combined_group_a, data_filtered[data_filtered['group'] == 248], event, alpha)\n",
    "print()"
   ]
  },
  {
   "cell_type": "markdown",
   "metadata": {},
   "source": [
    "У нас подтвердилась 0-гипотеза, значимых статистических различий между группами нет."
   ]
  },
  {
   "cell_type": "markdown",
   "metadata": {},
   "source": [
    "### Выводы"
   ]
  },
  {
   "cell_type": "markdown",
   "metadata": {},
   "source": [
    "Мы изучили данные мобильного приложения по продаже продуктов питания. \n",
    "Произвели анализ, проверку и предобработку данных для последующего анализа ( удалили дубликаты, преобразовали тип данных, проверили на наличие пропусков).\n",
    "Далее мы построили воронку событий и нашли лишнее событие. \n",
    "Мы рассчитали общую конверсию, поделив количество пользователей по событиям на общее количество уникальных пользователей (прошедших шаг 1). Мы рассчитали конверсию шага и можем увидеть, что больше всего пользователей отваливается на этапе OffersScreenAppear. Возможно после просмотра главной страницы что-то происходит не так в виду технической ошибки \\ недостаточной работы над дизайном сайта и т д 47.7% пользователей доходит от первого шага до оплаты товаров. Думаю, этот показатель можно улучшить.\n",
    "Пользователей разбили на 3 группы: 2 контрольные со старыми шрифтами и одну экспериментальную — с новыми. \n",
    "Мы произвели тест гипотез для выяснения того, какой шрифт лучше.\n",
    "При выбранном уровне значимости в 0.05 мы получили результаты, подтверждающие 0-гипотезу о том, что статистически значимых различий между группами нет, с большим отрывом от уровня значимости. \n",
    "Мы провели 20 тест проверки гпотез и все они подтвердили что различий между группами нет, а значит измененный шрифт никак не влияет на поведение пользователей.\n",
    "В связи с этим, счиатем нецелесообразным перепроводить тест по гипотезам с новым уровнем значимости (уточненным:0.05 \\ 20 = 0.0025),  так как результат мы получим тот же. \n",
    "Мы не рекоммендуем изменять шрифт приложения.\n"
   ]
  }
 ],
 "metadata": {
  "ExecuteTimeLog": [
   {
    "duration": 1097,
    "start_time": "2023-05-28T21:49:01.912Z"
   },
   {
    "duration": 9,
    "start_time": "2023-05-28T21:49:09.985Z"
   },
   {
    "duration": 707,
    "start_time": "2023-05-28T21:50:13.063Z"
   },
   {
    "duration": 243,
    "start_time": "2023-05-28T21:51:13.499Z"
   },
   {
    "duration": 41,
    "start_time": "2023-05-28T21:51:23.167Z"
   },
   {
    "duration": 263,
    "start_time": "2023-05-28T21:52:40.696Z"
   },
   {
    "duration": 258,
    "start_time": "2023-05-28T21:53:43.185Z"
   },
   {
    "duration": 48,
    "start_time": "2023-05-28T21:53:48.772Z"
   },
   {
    "duration": 40,
    "start_time": "2023-05-28T21:53:56.598Z"
   },
   {
    "duration": 265,
    "start_time": "2023-05-28T21:54:41.288Z"
   },
   {
    "duration": 54,
    "start_time": "2023-05-29T12:01:15.991Z"
   },
   {
    "duration": 1241,
    "start_time": "2023-05-29T12:01:26.618Z"
   },
   {
    "duration": 14,
    "start_time": "2023-05-29T12:01:27.861Z"
   },
   {
    "duration": 681,
    "start_time": "2023-05-29T12:01:27.876Z"
   },
   {
    "duration": 26,
    "start_time": "2023-05-29T12:01:45.532Z"
   },
   {
    "duration": 144,
    "start_time": "2023-05-29T12:03:56.624Z"
   },
   {
    "duration": 15,
    "start_time": "2023-05-29T12:04:09.610Z"
   },
   {
    "duration": 55,
    "start_time": "2023-05-29T12:15:11.120Z"
   },
   {
    "duration": 12,
    "start_time": "2023-05-29T12:15:23.104Z"
   },
   {
    "duration": 61,
    "start_time": "2023-05-29T12:16:38.697Z"
   },
   {
    "duration": 9,
    "start_time": "2023-05-29T12:23:51.667Z"
   },
   {
    "duration": 3,
    "start_time": "2023-05-29T12:24:01.989Z"
   },
   {
    "duration": 20,
    "start_time": "2023-05-29T12:24:10.433Z"
   },
   {
    "duration": 8,
    "start_time": "2023-05-29T12:24:17.343Z"
   },
   {
    "duration": 3,
    "start_time": "2023-05-29T12:29:00.314Z"
   },
   {
    "duration": 26,
    "start_time": "2023-05-29T12:31:26.304Z"
   },
   {
    "duration": 17,
    "start_time": "2023-05-29T12:31:34.237Z"
   },
   {
    "duration": 7,
    "start_time": "2023-05-29T12:49:33.070Z"
   },
   {
    "duration": 10,
    "start_time": "2023-05-29T13:10:43.031Z"
   },
   {
    "duration": 4,
    "start_time": "2023-05-29T13:11:03.792Z"
   },
   {
    "duration": 9,
    "start_time": "2023-05-29T13:11:23.809Z"
   },
   {
    "duration": 5,
    "start_time": "2023-05-29T13:11:27.696Z"
   },
   {
    "duration": 9,
    "start_time": "2023-05-29T13:11:40.600Z"
   },
   {
    "duration": 5,
    "start_time": "2023-05-29T13:13:14.250Z"
   },
   {
    "duration": 62,
    "start_time": "2023-05-29T13:18:35.923Z"
   },
   {
    "duration": 8,
    "start_time": "2023-05-29T13:29:48.389Z"
   },
   {
    "duration": 13,
    "start_time": "2023-05-29T13:30:44.439Z"
   },
   {
    "duration": 44032,
    "start_time": "2023-05-29T13:31:12.106Z"
   },
   {
    "duration": 14,
    "start_time": "2023-05-29T13:31:56.143Z"
   },
   {
    "duration": 5,
    "start_time": "2023-05-29T13:34:53.893Z"
   },
   {
    "duration": 4,
    "start_time": "2023-05-29T13:35:04.489Z"
   },
   {
    "duration": 9,
    "start_time": "2023-05-29T13:41:36.107Z"
   },
   {
    "duration": 4,
    "start_time": "2023-05-29T13:41:42.618Z"
   },
   {
    "duration": 4,
    "start_time": "2023-05-29T13:48:14.290Z"
   },
   {
    "duration": 215,
    "start_time": "2023-05-29T13:48:48.447Z"
   },
   {
    "duration": 171,
    "start_time": "2023-05-29T13:48:52.270Z"
   },
   {
    "duration": 163,
    "start_time": "2023-05-29T13:49:22.245Z"
   },
   {
    "duration": 160,
    "start_time": "2023-05-29T13:49:31.521Z"
   },
   {
    "duration": 12,
    "start_time": "2023-05-29T13:53:09.427Z"
   },
   {
    "duration": 11,
    "start_time": "2023-05-29T13:53:13.240Z"
   },
   {
    "duration": 140,
    "start_time": "2023-05-29T13:55:43.357Z"
   },
   {
    "duration": 141,
    "start_time": "2023-05-29T13:56:38.619Z"
   },
   {
    "duration": 141,
    "start_time": "2023-05-29T13:56:49.459Z"
   },
   {
    "duration": 253,
    "start_time": "2023-05-29T13:58:05.300Z"
   },
   {
    "duration": 236,
    "start_time": "2023-05-29T13:58:23.982Z"
   },
   {
    "duration": 145,
    "start_time": "2023-05-29T13:58:39.693Z"
   },
   {
    "duration": 144,
    "start_time": "2023-05-29T13:58:49.240Z"
   },
   {
    "duration": 148,
    "start_time": "2023-05-29T13:59:19.541Z"
   },
   {
    "duration": 239,
    "start_time": "2023-05-29T14:03:29.428Z"
   },
   {
    "duration": 182,
    "start_time": "2023-05-29T14:03:35.904Z"
   },
   {
    "duration": 172,
    "start_time": "2023-05-29T14:03:57.392Z"
   },
   {
    "duration": 171,
    "start_time": "2023-05-29T14:04:06.733Z"
   },
   {
    "duration": 168,
    "start_time": "2023-05-29T14:06:31.285Z"
   },
   {
    "duration": 103,
    "start_time": "2023-05-29T14:10:03.610Z"
   },
   {
    "duration": 2,
    "start_time": "2023-05-29T14:10:03.715Z"
   },
   {
    "duration": 170,
    "start_time": "2023-05-29T14:10:03.719Z"
   },
   {
    "duration": 16,
    "start_time": "2023-05-29T14:10:03.891Z"
   },
   {
    "duration": 27,
    "start_time": "2023-05-29T14:10:03.909Z"
   },
   {
    "duration": 46,
    "start_time": "2023-05-29T14:10:03.937Z"
   },
   {
    "duration": 35,
    "start_time": "2023-05-29T14:10:03.984Z"
   },
   {
    "duration": 16,
    "start_time": "2023-05-29T14:10:04.021Z"
   },
   {
    "duration": 22,
    "start_time": "2023-05-29T14:10:04.038Z"
   },
   {
    "duration": 61,
    "start_time": "2023-05-29T14:10:04.062Z"
   },
   {
    "duration": 6,
    "start_time": "2023-05-29T14:10:04.124Z"
   },
   {
    "duration": 44,
    "start_time": "2023-05-29T14:10:04.131Z"
   },
   {
    "duration": 19,
    "start_time": "2023-05-29T14:10:04.177Z"
   },
   {
    "duration": 18,
    "start_time": "2023-05-29T14:10:04.197Z"
   },
   {
    "duration": 31,
    "start_time": "2023-05-29T14:10:04.217Z"
   },
   {
    "duration": 180,
    "start_time": "2023-05-29T14:10:04.249Z"
   },
   {
    "duration": 4,
    "start_time": "2023-05-29T14:10:04.431Z"
   },
   {
    "duration": 46,
    "start_time": "2023-05-29T14:10:04.436Z"
   },
   {
    "duration": 262,
    "start_time": "2023-05-29T14:10:04.484Z"
   },
   {
    "duration": 458,
    "start_time": "2023-05-29T14:10:35.906Z"
   },
   {
    "duration": 9,
    "start_time": "2023-05-29T14:11:29.883Z"
   },
   {
    "duration": 3,
    "start_time": "2023-05-29T14:11:41.989Z"
   },
   {
    "duration": 8,
    "start_time": "2023-05-29T14:11:52.885Z"
   },
   {
    "duration": 56,
    "start_time": "2023-05-29T17:07:56.540Z"
   },
   {
    "duration": 58,
    "start_time": "2023-05-29T17:09:56.287Z"
   },
   {
    "duration": 17,
    "start_time": "2023-05-29T17:10:10.969Z"
   },
   {
    "duration": 173,
    "start_time": "2023-05-29T17:10:31.347Z"
   },
   {
    "duration": 12,
    "start_time": "2023-05-29T17:10:43.864Z"
   },
   {
    "duration": 235,
    "start_time": "2023-05-29T17:10:47.086Z"
   },
   {
    "duration": 6,
    "start_time": "2023-05-29T17:12:15.208Z"
   },
   {
    "duration": 12,
    "start_time": "2023-05-29T17:12:18.614Z"
   },
   {
    "duration": 9,
    "start_time": "2023-05-29T17:12:24.633Z"
   },
   {
    "duration": 7,
    "start_time": "2023-05-29T17:12:28.199Z"
   },
   {
    "duration": 46,
    "start_time": "2023-05-30T20:49:04.053Z"
   },
   {
    "duration": 1258,
    "start_time": "2023-05-30T20:49:16.825Z"
   },
   {
    "duration": 9,
    "start_time": "2023-05-30T20:49:18.085Z"
   },
   {
    "duration": 510,
    "start_time": "2023-05-30T20:49:18.096Z"
   },
   {
    "duration": 18,
    "start_time": "2023-05-30T20:49:18.608Z"
   },
   {
    "duration": 7,
    "start_time": "2023-05-30T20:49:18.628Z"
   },
   {
    "duration": 16,
    "start_time": "2023-05-30T20:49:18.637Z"
   },
   {
    "duration": 30,
    "start_time": "2023-05-30T20:49:18.654Z"
   },
   {
    "duration": 20,
    "start_time": "2023-05-30T20:49:18.686Z"
   },
   {
    "duration": 10,
    "start_time": "2023-05-30T20:49:18.708Z"
   },
   {
    "duration": 13,
    "start_time": "2023-05-30T20:49:29.156Z"
   },
   {
    "duration": 11,
    "start_time": "2023-05-30T20:49:40.253Z"
   },
   {
    "duration": 14,
    "start_time": "2023-05-30T20:50:07.070Z"
   },
   {
    "duration": 9,
    "start_time": "2023-05-30T20:51:28.823Z"
   },
   {
    "duration": 60,
    "start_time": "2023-05-30T20:51:42.653Z"
   },
   {
    "duration": 8,
    "start_time": "2023-05-30T20:51:53.679Z"
   },
   {
    "duration": 8,
    "start_time": "2023-05-30T20:52:16.894Z"
   },
   {
    "duration": 8,
    "start_time": "2023-05-30T20:52:23.374Z"
   },
   {
    "duration": 8,
    "start_time": "2023-05-30T20:52:30.954Z"
   },
   {
    "duration": 3,
    "start_time": "2023-05-30T20:52:39.928Z"
   },
   {
    "duration": 14,
    "start_time": "2023-05-30T20:52:39.933Z"
   },
   {
    "duration": 164,
    "start_time": "2023-05-30T20:52:39.948Z"
   },
   {
    "duration": 17,
    "start_time": "2023-05-30T20:52:40.114Z"
   },
   {
    "duration": 7,
    "start_time": "2023-05-30T20:52:40.133Z"
   },
   {
    "duration": 15,
    "start_time": "2023-05-30T20:52:40.142Z"
   },
   {
    "duration": 41,
    "start_time": "2023-05-30T20:52:40.158Z"
   },
   {
    "duration": 19,
    "start_time": "2023-05-30T20:52:40.200Z"
   },
   {
    "duration": 12,
    "start_time": "2023-05-30T20:52:40.221Z"
   },
   {
    "duration": 88,
    "start_time": "2023-05-30T20:52:40.234Z"
   },
   {
    "duration": 7,
    "start_time": "2023-05-30T20:52:40.324Z"
   },
   {
    "duration": 21,
    "start_time": "2023-05-30T20:52:40.333Z"
   },
   {
    "duration": 4,
    "start_time": "2023-05-30T20:52:40.355Z"
   },
   {
    "duration": 18,
    "start_time": "2023-05-30T20:52:40.361Z"
   },
   {
    "duration": 6,
    "start_time": "2023-05-30T20:52:40.380Z"
   },
   {
    "duration": 267,
    "start_time": "2023-05-30T20:52:40.387Z"
   },
   {
    "duration": 32,
    "start_time": "2023-05-30T20:52:40.656Z"
   },
   {
    "duration": 189,
    "start_time": "2023-05-30T20:52:40.690Z"
   },
   {
    "duration": 6,
    "start_time": "2023-05-30T20:52:40.881Z"
   },
   {
    "duration": 16,
    "start_time": "2023-05-30T20:52:40.889Z"
   },
   {
    "duration": 13,
    "start_time": "2023-05-30T20:52:40.907Z"
   },
   {
    "duration": 17,
    "start_time": "2023-05-30T20:52:40.922Z"
   },
   {
    "duration": 4,
    "start_time": "2023-05-30T20:52:40.940Z"
   },
   {
    "duration": 9,
    "start_time": "2023-05-30T20:52:40.976Z"
   },
   {
    "duration": 4,
    "start_time": "2023-05-30T20:53:06.613Z"
   },
   {
    "duration": 23,
    "start_time": "2023-05-30T21:38:45.439Z"
   },
   {
    "duration": 54,
    "start_time": "2023-05-30T21:52:02.419Z"
   },
   {
    "duration": 56,
    "start_time": "2023-05-30T22:02:34.727Z"
   },
   {
    "duration": 68,
    "start_time": "2023-05-30T22:05:31.769Z"
   },
   {
    "duration": 60,
    "start_time": "2023-05-30T22:06:18.678Z"
   },
   {
    "duration": 59,
    "start_time": "2023-05-30T22:06:33.073Z"
   },
   {
    "duration": 58,
    "start_time": "2023-05-30T22:07:53.487Z"
   },
   {
    "duration": 60,
    "start_time": "2023-05-30T22:08:25.954Z"
   },
   {
    "duration": 62,
    "start_time": "2023-05-30T22:11:58.507Z"
   },
   {
    "duration": 62,
    "start_time": "2023-05-30T22:14:15.353Z"
   },
   {
    "duration": 57,
    "start_time": "2023-05-30T22:14:34.087Z"
   },
   {
    "duration": 58,
    "start_time": "2023-05-30T22:14:45.225Z"
   },
   {
    "duration": 13,
    "start_time": "2023-05-30T22:15:50.640Z"
   },
   {
    "duration": 57,
    "start_time": "2023-05-30T22:17:13.404Z"
   },
   {
    "duration": 65,
    "start_time": "2023-05-30T22:18:22.638Z"
   },
   {
    "duration": 66,
    "start_time": "2023-05-30T22:19:09.206Z"
   },
   {
    "duration": 69,
    "start_time": "2023-05-30T22:19:32.003Z"
   },
   {
    "duration": 65,
    "start_time": "2023-05-30T22:19:57.577Z"
   },
   {
    "duration": 106,
    "start_time": "2023-05-30T23:05:33.788Z"
   },
   {
    "duration": 66,
    "start_time": "2023-05-30T23:05:44.462Z"
   },
   {
    "duration": 66,
    "start_time": "2023-05-30T23:05:49.439Z"
   },
   {
    "duration": 73,
    "start_time": "2023-05-31T11:19:16.237Z"
   },
   {
    "duration": 1383,
    "start_time": "2023-05-31T11:19:21.124Z"
   },
   {
    "duration": 10,
    "start_time": "2023-05-31T11:19:22.510Z"
   },
   {
    "duration": 783,
    "start_time": "2023-05-31T11:19:22.521Z"
   },
   {
    "duration": 22,
    "start_time": "2023-05-31T11:19:23.306Z"
   },
   {
    "duration": 13,
    "start_time": "2023-05-31T11:19:23.330Z"
   },
   {
    "duration": 43,
    "start_time": "2023-05-31T11:19:46.357Z"
   },
   {
    "duration": 24,
    "start_time": "2023-05-31T11:19:50.328Z"
   },
   {
    "duration": 20,
    "start_time": "2023-05-31T11:20:40.294Z"
   },
   {
    "duration": 91,
    "start_time": "2023-05-31T11:21:00.329Z"
   },
   {
    "duration": 4,
    "start_time": "2023-05-31T11:21:16.240Z"
   },
   {
    "duration": 4,
    "start_time": "2023-05-31T11:21:16.247Z"
   },
   {
    "duration": 178,
    "start_time": "2023-05-31T11:21:16.253Z"
   },
   {
    "duration": 42,
    "start_time": "2023-05-31T11:21:16.434Z"
   },
   {
    "duration": 12,
    "start_time": "2023-05-31T11:21:16.479Z"
   },
   {
    "duration": 19,
    "start_time": "2023-05-31T11:21:16.492Z"
   },
   {
    "duration": 26,
    "start_time": "2023-05-31T11:21:16.513Z"
   },
   {
    "duration": 60,
    "start_time": "2023-05-31T11:21:16.541Z"
   },
   {
    "duration": 19,
    "start_time": "2023-05-31T11:21:16.603Z"
   },
   {
    "duration": 132,
    "start_time": "2023-05-31T11:21:16.624Z"
   },
   {
    "duration": 18,
    "start_time": "2023-05-31T11:21:16.759Z"
   },
   {
    "duration": 29,
    "start_time": "2023-05-31T11:21:16.779Z"
   },
   {
    "duration": 6,
    "start_time": "2023-05-31T11:21:16.810Z"
   },
   {
    "duration": 6,
    "start_time": "2023-05-31T11:21:16.818Z"
   },
   {
    "duration": 6,
    "start_time": "2023-05-31T11:21:16.826Z"
   },
   {
    "duration": 309,
    "start_time": "2023-05-31T11:21:16.834Z"
   },
   {
    "duration": 40,
    "start_time": "2023-05-31T11:21:17.146Z"
   },
   {
    "duration": 274,
    "start_time": "2023-05-31T11:21:17.189Z"
   },
   {
    "duration": 13,
    "start_time": "2023-05-31T11:21:17.474Z"
   },
   {
    "duration": 12,
    "start_time": "2023-05-31T11:21:17.489Z"
   },
   {
    "duration": 6,
    "start_time": "2023-05-31T11:21:17.503Z"
   },
   {
    "duration": 6,
    "start_time": "2023-05-31T11:21:17.511Z"
   },
   {
    "duration": 11,
    "start_time": "2023-05-31T11:21:17.519Z"
   },
   {
    "duration": 61,
    "start_time": "2023-05-31T11:21:17.532Z"
   },
   {
    "duration": 24,
    "start_time": "2023-05-31T11:21:17.595Z"
   },
   {
    "duration": 85,
    "start_time": "2023-05-31T11:21:17.621Z"
   },
   {
    "duration": 38,
    "start_time": "2023-05-31T11:42:27.573Z"
   },
   {
    "duration": 39,
    "start_time": "2023-05-31T11:42:38.504Z"
   },
   {
    "duration": 76,
    "start_time": "2023-05-31T11:46:33.263Z"
   },
   {
    "duration": 85,
    "start_time": "2023-05-31T11:46:46.648Z"
   },
   {
    "duration": 72,
    "start_time": "2023-05-31T11:46:54.406Z"
   },
   {
    "duration": 58,
    "start_time": "2023-05-31T11:46:58.846Z"
   },
   {
    "duration": 4,
    "start_time": "2023-05-31T11:48:01.449Z"
   },
   {
    "duration": 9,
    "start_time": "2023-05-31T11:48:10.475Z"
   },
   {
    "duration": 73,
    "start_time": "2023-05-31T11:48:19.189Z"
   },
   {
    "duration": 11,
    "start_time": "2023-05-31T11:48:27.601Z"
   },
   {
    "duration": 9,
    "start_time": "2023-05-31T11:50:05.292Z"
   },
   {
    "duration": 13,
    "start_time": "2023-05-31T11:50:14.216Z"
   },
   {
    "duration": 17,
    "start_time": "2023-05-31T12:01:58.392Z"
   },
   {
    "duration": 44,
    "start_time": "2023-05-31T12:06:33.868Z"
   },
   {
    "duration": 38,
    "start_time": "2023-05-31T12:23:15.657Z"
   },
   {
    "duration": 9,
    "start_time": "2023-05-31T12:25:25.927Z"
   },
   {
    "duration": 236,
    "start_time": "2023-05-31T12:25:33.161Z"
   },
   {
    "duration": 319,
    "start_time": "2023-05-31T12:25:36.377Z"
   },
   {
    "duration": 81,
    "start_time": "2023-05-31T12:45:37.258Z"
   },
   {
    "duration": 30,
    "start_time": "2023-05-31T12:46:46.745Z"
   },
   {
    "duration": 49,
    "start_time": "2023-05-31T21:09:41.703Z"
   },
   {
    "duration": 8,
    "start_time": "2023-05-31T21:14:34.091Z"
   },
   {
    "duration": 1285,
    "start_time": "2023-05-31T21:14:44.417Z"
   },
   {
    "duration": 9,
    "start_time": "2023-05-31T21:14:45.705Z"
   },
   {
    "duration": 713,
    "start_time": "2023-05-31T21:14:45.716Z"
   },
   {
    "duration": 21,
    "start_time": "2023-05-31T21:14:46.432Z"
   },
   {
    "duration": 8,
    "start_time": "2023-05-31T21:14:46.455Z"
   },
   {
    "duration": 26,
    "start_time": "2023-05-31T21:14:46.465Z"
   },
   {
    "duration": 43,
    "start_time": "2023-05-31T21:14:46.493Z"
   },
   {
    "duration": 42,
    "start_time": "2023-05-31T21:14:46.538Z"
   },
   {
    "duration": 24,
    "start_time": "2023-05-31T21:14:46.583Z"
   },
   {
    "duration": 77,
    "start_time": "2023-05-31T21:14:46.610Z"
   },
   {
    "duration": 8,
    "start_time": "2023-05-31T21:14:46.688Z"
   },
   {
    "duration": 15,
    "start_time": "2023-05-31T21:14:46.698Z"
   },
   {
    "duration": 6,
    "start_time": "2023-05-31T21:14:46.715Z"
   },
   {
    "duration": 35,
    "start_time": "2023-05-31T21:14:46.722Z"
   },
   {
    "duration": 5,
    "start_time": "2023-05-31T21:14:46.759Z"
   },
   {
    "duration": 259,
    "start_time": "2023-05-31T21:14:46.766Z"
   },
   {
    "duration": 34,
    "start_time": "2023-05-31T21:14:47.027Z"
   },
   {
    "duration": 186,
    "start_time": "2023-05-31T21:14:47.063Z"
   },
   {
    "duration": 13,
    "start_time": "2023-05-31T21:14:47.251Z"
   },
   {
    "duration": 12,
    "start_time": "2023-05-31T21:14:47.265Z"
   },
   {
    "duration": 3,
    "start_time": "2023-05-31T21:14:47.279Z"
   },
   {
    "duration": 4,
    "start_time": "2023-05-31T21:14:47.284Z"
   },
   {
    "duration": 10,
    "start_time": "2023-05-31T21:14:47.290Z"
   },
   {
    "duration": 23,
    "start_time": "2023-05-31T21:14:47.301Z"
   },
   {
    "duration": 46,
    "start_time": "2023-05-31T21:14:47.326Z"
   },
   {
    "duration": 64,
    "start_time": "2023-05-31T21:14:47.374Z"
   },
   {
    "duration": 56,
    "start_time": "2023-05-31T21:14:47.440Z"
   },
   {
    "duration": 2,
    "start_time": "2023-05-31T21:14:47.499Z"
   },
   {
    "duration": 88,
    "start_time": "2023-05-31T21:14:47.503Z"
   },
   {
    "duration": 9,
    "start_time": "2023-05-31T21:14:47.593Z"
   },
   {
    "duration": 16,
    "start_time": "2023-05-31T21:14:47.603Z"
   },
   {
    "duration": 56,
    "start_time": "2023-05-31T21:14:47.620Z"
   },
   {
    "duration": 40,
    "start_time": "2023-05-31T21:14:47.678Z"
   },
   {
    "duration": 91,
    "start_time": "2023-05-31T21:14:47.720Z"
   },
   {
    "duration": 68,
    "start_time": "2023-05-31T21:15:37.927Z"
   },
   {
    "duration": 57,
    "start_time": "2023-05-31T21:15:59.567Z"
   },
   {
    "duration": 64,
    "start_time": "2023-05-31T21:20:04.914Z"
   },
   {
    "duration": 43,
    "start_time": "2023-05-31T21:20:14.503Z"
   },
   {
    "duration": 39,
    "start_time": "2023-05-31T21:20:23.405Z"
   },
   {
    "duration": 12,
    "start_time": "2023-05-31T21:22:21.739Z"
   },
   {
    "duration": 75,
    "start_time": "2023-05-31T21:23:30.991Z"
   },
   {
    "duration": 104,
    "start_time": "2023-05-31T21:24:53.665Z"
   },
   {
    "duration": 21,
    "start_time": "2023-05-31T21:25:01.942Z"
   },
   {
    "duration": 3,
    "start_time": "2023-05-31T21:25:58.157Z"
   },
   {
    "duration": 5,
    "start_time": "2023-05-31T21:25:58.161Z"
   },
   {
    "duration": 168,
    "start_time": "2023-05-31T21:25:58.167Z"
   },
   {
    "duration": 26,
    "start_time": "2023-05-31T21:25:58.336Z"
   },
   {
    "duration": 8,
    "start_time": "2023-05-31T21:25:58.364Z"
   },
   {
    "duration": 59,
    "start_time": "2023-05-31T21:25:58.374Z"
   },
   {
    "duration": 80,
    "start_time": "2023-05-31T21:25:58.435Z"
   },
   {
    "duration": 18,
    "start_time": "2023-05-31T21:25:58.516Z"
   },
   {
    "duration": 31,
    "start_time": "2023-05-31T21:25:58.536Z"
   },
   {
    "duration": 25,
    "start_time": "2023-05-31T21:25:58.568Z"
   },
   {
    "duration": 19,
    "start_time": "2023-05-31T21:25:58.595Z"
   },
   {
    "duration": 11,
    "start_time": "2023-05-31T21:25:58.615Z"
   },
   {
    "duration": 77,
    "start_time": "2023-05-31T21:25:58.628Z"
   },
   {
    "duration": 8,
    "start_time": "2023-05-31T21:25:58.706Z"
   },
   {
    "duration": 16,
    "start_time": "2023-05-31T21:25:58.716Z"
   },
   {
    "duration": 25,
    "start_time": "2023-05-31T21:25:58.734Z"
   },
   {
    "duration": 4,
    "start_time": "2023-05-31T21:25:58.761Z"
   },
   {
    "duration": 8,
    "start_time": "2023-05-31T21:25:58.767Z"
   },
   {
    "duration": 188,
    "start_time": "2023-05-31T21:25:58.777Z"
   },
   {
    "duration": 14,
    "start_time": "2023-05-31T21:25:58.967Z"
   },
   {
    "duration": 190,
    "start_time": "2023-05-31T21:25:58.983Z"
   },
   {
    "duration": 11,
    "start_time": "2023-05-31T21:25:59.175Z"
   },
   {
    "duration": 13,
    "start_time": "2023-05-31T21:25:59.188Z"
   },
   {
    "duration": 5,
    "start_time": "2023-05-31T21:25:59.202Z"
   },
   {
    "duration": 6,
    "start_time": "2023-05-31T21:25:59.209Z"
   },
   {
    "duration": 7,
    "start_time": "2023-05-31T21:25:59.217Z"
   },
   {
    "duration": 47,
    "start_time": "2023-05-31T21:25:59.225Z"
   },
   {
    "duration": 24,
    "start_time": "2023-05-31T21:25:59.274Z"
   },
   {
    "duration": 72,
    "start_time": "2023-05-31T21:25:59.302Z"
   },
   {
    "duration": 35,
    "start_time": "2023-05-31T21:25:59.376Z"
   },
   {
    "duration": 2,
    "start_time": "2023-05-31T21:25:59.413Z"
   },
   {
    "duration": 93,
    "start_time": "2023-05-31T21:25:59.417Z"
   },
   {
    "duration": 9,
    "start_time": "2023-05-31T21:25:59.512Z"
   },
   {
    "duration": 17,
    "start_time": "2023-05-31T21:25:59.522Z"
   },
   {
    "duration": 43,
    "start_time": "2023-05-31T21:25:59.540Z"
   },
   {
    "duration": 34,
    "start_time": "2023-05-31T21:25:59.584Z"
   },
   {
    "duration": 58,
    "start_time": "2023-05-31T21:25:59.620Z"
   },
   {
    "duration": 230,
    "start_time": "2023-05-31T21:25:59.679Z"
   },
   {
    "duration": 30,
    "start_time": "2023-05-31T21:25:59.911Z"
   },
   {
    "duration": 1253,
    "start_time": "2023-05-31T21:25:59.958Z"
   },
   {
    "duration": 1236,
    "start_time": "2023-05-31T21:27:30.224Z"
   },
   {
    "duration": 41,
    "start_time": "2023-05-31T21:31:21.855Z"
   },
   {
    "duration": 9,
    "start_time": "2023-05-31T21:46:34.620Z"
   },
   {
    "duration": 60,
    "start_time": "2023-05-31T21:59:25.923Z"
   },
   {
    "duration": 64,
    "start_time": "2023-05-31T21:59:39.051Z"
   },
   {
    "duration": 6,
    "start_time": "2023-05-31T22:01:36.627Z"
   },
   {
    "duration": 8,
    "start_time": "2023-05-31T22:01:50.703Z"
   },
   {
    "duration": 43,
    "start_time": "2023-05-31T22:03:35.766Z"
   },
   {
    "duration": 913,
    "start_time": "2023-05-31T22:25:38.031Z"
   },
   {
    "duration": 76,
    "start_time": "2023-05-31T22:26:22.215Z"
   },
   {
    "duration": 87,
    "start_time": "2023-05-31T22:26:36.007Z"
   },
   {
    "duration": 11,
    "start_time": "2023-05-31T22:30:31.438Z"
   },
   {
    "duration": 82,
    "start_time": "2023-05-31T22:31:34.199Z"
   },
   {
    "duration": 965,
    "start_time": "2023-05-31T22:31:58.430Z"
   },
   {
    "duration": 79,
    "start_time": "2023-05-31T22:32:13.337Z"
   },
   {
    "duration": 85,
    "start_time": "2023-05-31T22:35:12.656Z"
   },
   {
    "duration": 85,
    "start_time": "2023-05-31T22:35:26.256Z"
   },
   {
    "duration": 83,
    "start_time": "2023-05-31T22:36:58.147Z"
   },
   {
    "duration": 78,
    "start_time": "2023-05-31T22:37:15.579Z"
   },
   {
    "duration": 56,
    "start_time": "2023-05-31T22:42:26.710Z"
   },
   {
    "duration": 898,
    "start_time": "2023-05-31T22:46:07.815Z"
   },
   {
    "duration": 5,
    "start_time": "2023-06-01T08:48:09.284Z"
   },
   {
    "duration": 15,
    "start_time": "2023-06-01T08:48:09.292Z"
   },
   {
    "duration": 289,
    "start_time": "2023-06-01T08:48:09.309Z"
   },
   {
    "duration": 19,
    "start_time": "2023-06-01T08:48:09.600Z"
   },
   {
    "duration": 11,
    "start_time": "2023-06-01T08:48:09.621Z"
   },
   {
    "duration": 95,
    "start_time": "2023-06-01T08:48:09.634Z"
   },
   {
    "duration": 109,
    "start_time": "2023-06-01T08:48:09.732Z"
   },
   {
    "duration": 31,
    "start_time": "2023-06-01T08:48:09.844Z"
   },
   {
    "duration": 22,
    "start_time": "2023-06-01T08:48:09.878Z"
   },
   {
    "duration": 40,
    "start_time": "2023-06-01T08:48:09.902Z"
   },
   {
    "duration": 52,
    "start_time": "2023-06-01T08:48:09.943Z"
   },
   {
    "duration": 18,
    "start_time": "2023-06-01T08:48:09.997Z"
   },
   {
    "duration": 120,
    "start_time": "2023-06-01T08:48:10.017Z"
   },
   {
    "duration": 10,
    "start_time": "2023-06-01T08:48:10.141Z"
   },
   {
    "duration": 43,
    "start_time": "2023-06-01T08:48:10.158Z"
   },
   {
    "duration": 6,
    "start_time": "2023-06-01T08:48:10.203Z"
   },
   {
    "duration": 13,
    "start_time": "2023-06-01T08:48:10.212Z"
   },
   {
    "duration": 26,
    "start_time": "2023-06-01T08:48:10.227Z"
   },
   {
    "duration": 234,
    "start_time": "2023-06-01T08:48:10.255Z"
   },
   {
    "duration": 18,
    "start_time": "2023-06-01T08:48:10.491Z"
   },
   {
    "duration": 242,
    "start_time": "2023-06-01T08:48:10.511Z"
   },
   {
    "duration": 23,
    "start_time": "2023-06-01T08:48:10.757Z"
   },
   {
    "duration": 25,
    "start_time": "2023-06-01T08:48:10.782Z"
   },
   {
    "duration": 7,
    "start_time": "2023-06-01T08:48:10.809Z"
   },
   {
    "duration": 11,
    "start_time": "2023-06-01T08:48:10.818Z"
   },
   {
    "duration": 13,
    "start_time": "2023-06-01T08:48:10.831Z"
   },
   {
    "duration": 27,
    "start_time": "2023-06-01T08:48:10.862Z"
   },
   {
    "duration": 22,
    "start_time": "2023-06-01T08:48:10.891Z"
   },
   {
    "duration": 90,
    "start_time": "2023-06-01T08:48:10.915Z"
   },
   {
    "duration": 41,
    "start_time": "2023-06-01T08:48:11.007Z"
   },
   {
    "duration": 14,
    "start_time": "2023-06-01T08:48:11.050Z"
   },
   {
    "duration": 110,
    "start_time": "2023-06-01T08:48:11.070Z"
   },
   {
    "duration": 15,
    "start_time": "2023-06-01T08:48:11.182Z"
   },
   {
    "duration": 18,
    "start_time": "2023-06-01T08:48:11.200Z"
   },
   {
    "duration": 65,
    "start_time": "2023-06-01T08:48:11.219Z"
   },
   {
    "duration": 128,
    "start_time": "2023-06-01T08:48:11.286Z"
   },
   {
    "duration": 62,
    "start_time": "2023-06-01T08:48:11.416Z"
   },
   {
    "duration": 46,
    "start_time": "2023-06-01T08:48:11.479Z"
   },
   {
    "duration": 280,
    "start_time": "2023-06-01T08:48:11.527Z"
   },
   {
    "duration": 34,
    "start_time": "2023-06-01T08:48:11.808Z"
   },
   {
    "duration": 1522,
    "start_time": "2023-06-01T08:48:11.858Z"
   },
   {
    "duration": 0,
    "start_time": "2023-06-01T08:48:13.383Z"
   },
   {
    "duration": 0,
    "start_time": "2023-06-01T08:53:18.381Z"
   },
   {
    "duration": 0,
    "start_time": "2023-06-01T08:53:18.382Z"
   },
   {
    "duration": 0,
    "start_time": "2023-06-01T08:53:18.383Z"
   },
   {
    "duration": 0,
    "start_time": "2023-06-01T08:53:18.384Z"
   },
   {
    "duration": 0,
    "start_time": "2023-06-01T08:53:18.386Z"
   },
   {
    "duration": 0,
    "start_time": "2023-06-01T08:53:18.387Z"
   },
   {
    "duration": 0,
    "start_time": "2023-06-01T08:53:18.389Z"
   },
   {
    "duration": 0,
    "start_time": "2023-06-01T08:53:18.390Z"
   },
   {
    "duration": 0,
    "start_time": "2023-06-01T08:53:18.391Z"
   },
   {
    "duration": 0,
    "start_time": "2023-06-01T08:53:18.393Z"
   },
   {
    "duration": 0,
    "start_time": "2023-06-01T08:53:18.394Z"
   },
   {
    "duration": 0,
    "start_time": "2023-06-01T08:53:18.396Z"
   },
   {
    "duration": 0,
    "start_time": "2023-06-01T08:53:18.397Z"
   },
   {
    "duration": 0,
    "start_time": "2023-06-01T08:53:18.398Z"
   },
   {
    "duration": 0,
    "start_time": "2023-06-01T08:53:18.399Z"
   },
   {
    "duration": 0,
    "start_time": "2023-06-01T08:53:18.401Z"
   },
   {
    "duration": 0,
    "start_time": "2023-06-01T08:53:18.402Z"
   },
   {
    "duration": 0,
    "start_time": "2023-06-01T08:53:18.403Z"
   },
   {
    "duration": 0,
    "start_time": "2023-06-01T08:53:18.405Z"
   },
   {
    "duration": 0,
    "start_time": "2023-06-01T08:53:18.406Z"
   },
   {
    "duration": 0,
    "start_time": "2023-06-01T08:53:18.407Z"
   },
   {
    "duration": 0,
    "start_time": "2023-06-01T08:53:18.409Z"
   },
   {
    "duration": 0,
    "start_time": "2023-06-01T08:53:18.410Z"
   },
   {
    "duration": 0,
    "start_time": "2023-06-01T08:53:18.412Z"
   },
   {
    "duration": 0,
    "start_time": "2023-06-01T08:53:18.413Z"
   },
   {
    "duration": 0,
    "start_time": "2023-06-01T08:53:18.415Z"
   },
   {
    "duration": 0,
    "start_time": "2023-06-01T08:53:18.416Z"
   },
   {
    "duration": 0,
    "start_time": "2023-06-01T08:53:18.418Z"
   },
   {
    "duration": 0,
    "start_time": "2023-06-01T08:53:18.419Z"
   },
   {
    "duration": 0,
    "start_time": "2023-06-01T08:53:18.420Z"
   },
   {
    "duration": 0,
    "start_time": "2023-06-01T08:53:18.422Z"
   },
   {
    "duration": 0,
    "start_time": "2023-06-01T08:53:18.458Z"
   },
   {
    "duration": 0,
    "start_time": "2023-06-01T08:53:18.459Z"
   },
   {
    "duration": 0,
    "start_time": "2023-06-01T08:53:18.464Z"
   },
   {
    "duration": 0,
    "start_time": "2023-06-01T08:53:18.465Z"
   },
   {
    "duration": 0,
    "start_time": "2023-06-01T08:53:18.466Z"
   },
   {
    "duration": 0,
    "start_time": "2023-06-01T08:53:18.467Z"
   },
   {
    "duration": 0,
    "start_time": "2023-06-01T08:53:18.467Z"
   },
   {
    "duration": 0,
    "start_time": "2023-06-01T08:53:18.471Z"
   },
   {
    "duration": 0,
    "start_time": "2023-06-01T08:53:18.471Z"
   },
   {
    "duration": 0,
    "start_time": "2023-06-01T08:53:18.472Z"
   },
   {
    "duration": 0,
    "start_time": "2023-06-01T08:53:18.473Z"
   },
   {
    "duration": 4,
    "start_time": "2023-06-01T08:54:09.116Z"
   },
   {
    "duration": 10,
    "start_time": "2023-06-01T08:54:09.122Z"
   },
   {
    "duration": 219,
    "start_time": "2023-06-01T08:54:10.278Z"
   },
   {
    "duration": 21,
    "start_time": "2023-06-01T08:54:10.500Z"
   },
   {
    "duration": 11,
    "start_time": "2023-06-01T08:54:10.523Z"
   },
   {
    "duration": 66,
    "start_time": "2023-06-01T08:54:10.558Z"
   },
   {
    "duration": 93,
    "start_time": "2023-06-01T08:54:10.627Z"
   },
   {
    "duration": 36,
    "start_time": "2023-06-01T08:54:10.722Z"
   },
   {
    "duration": 23,
    "start_time": "2023-06-01T08:54:10.766Z"
   },
   {
    "duration": 29,
    "start_time": "2023-06-01T08:54:10.791Z"
   },
   {
    "duration": 51,
    "start_time": "2023-06-01T08:54:10.822Z"
   },
   {
    "duration": 20,
    "start_time": "2023-06-01T08:54:10.877Z"
   },
   {
    "duration": 94,
    "start_time": "2023-06-01T08:54:10.899Z"
   },
   {
    "duration": 13,
    "start_time": "2023-06-01T08:54:10.996Z"
   },
   {
    "duration": 24,
    "start_time": "2023-06-01T08:54:11.012Z"
   },
   {
    "duration": 12,
    "start_time": "2023-06-01T08:54:11.060Z"
   },
   {
    "duration": 7,
    "start_time": "2023-06-01T08:54:11.074Z"
   },
   {
    "duration": 7,
    "start_time": "2023-06-01T08:54:11.084Z"
   },
   {
    "duration": 287,
    "start_time": "2023-06-01T08:54:11.093Z"
   },
   {
    "duration": 22,
    "start_time": "2023-06-01T08:54:11.382Z"
   },
   {
    "duration": 222,
    "start_time": "2023-06-01T08:54:11.407Z"
   },
   {
    "duration": 28,
    "start_time": "2023-06-01T08:54:11.631Z"
   },
   {
    "duration": 14,
    "start_time": "2023-06-01T08:54:11.669Z"
   },
   {
    "duration": 23,
    "start_time": "2023-06-01T08:54:11.684Z"
   },
   {
    "duration": 66,
    "start_time": "2023-06-01T08:54:11.709Z"
   },
   {
    "duration": 7,
    "start_time": "2023-06-01T08:54:12.192Z"
   },
   {
    "duration": 22,
    "start_time": "2023-06-01T08:54:12.201Z"
   },
   {
    "duration": 29,
    "start_time": "2023-06-01T08:54:12.225Z"
   },
   {
    "duration": 70,
    "start_time": "2023-06-01T08:54:12.256Z"
   },
   {
    "duration": 71,
    "start_time": "2023-06-01T08:54:12.330Z"
   },
   {
    "duration": 3,
    "start_time": "2023-06-01T08:54:12.403Z"
   },
   {
    "duration": 103,
    "start_time": "2023-06-01T08:54:12.408Z"
   },
   {
    "duration": 12,
    "start_time": "2023-06-01T08:54:12.513Z"
   },
   {
    "duration": 38,
    "start_time": "2023-06-01T08:54:12.527Z"
   },
   {
    "duration": 44,
    "start_time": "2023-06-01T08:54:12.567Z"
   },
   {
    "duration": 97,
    "start_time": "2023-06-01T08:54:12.613Z"
   },
   {
    "duration": 58,
    "start_time": "2023-06-01T08:54:12.712Z"
   },
   {
    "duration": 40,
    "start_time": "2023-06-01T08:54:12.775Z"
   },
   {
    "duration": 245,
    "start_time": "2023-06-01T08:54:12.817Z"
   },
   {
    "duration": 44,
    "start_time": "2023-06-01T08:54:13.064Z"
   },
   {
    "duration": 1681,
    "start_time": "2023-06-01T08:54:13.110Z"
   },
   {
    "duration": 0,
    "start_time": "2023-06-01T08:54:14.793Z"
   },
   {
    "duration": 33,
    "start_time": "2023-06-01T08:56:33.983Z"
   },
   {
    "duration": 23,
    "start_time": "2023-06-01T08:57:57.110Z"
   },
   {
    "duration": 73,
    "start_time": "2023-06-01T09:03:10.467Z"
   },
   {
    "duration": 5,
    "start_time": "2023-06-01T09:09:51.112Z"
   },
   {
    "duration": 5,
    "start_time": "2023-06-01T09:10:00.669Z"
   },
   {
    "duration": 12,
    "start_time": "2023-06-01T09:10:33.210Z"
   },
   {
    "duration": 16,
    "start_time": "2023-06-01T09:10:41.055Z"
   },
   {
    "duration": 4,
    "start_time": "2023-06-01T09:11:05.515Z"
   },
   {
    "duration": 92,
    "start_time": "2023-06-01T09:12:34.297Z"
   },
   {
    "duration": 100,
    "start_time": "2023-06-01T09:13:20.103Z"
   },
   {
    "duration": 63,
    "start_time": "2023-06-01T09:13:33.719Z"
   },
   {
    "duration": 93,
    "start_time": "2023-06-01T09:13:47.756Z"
   },
   {
    "duration": 3616,
    "start_time": "2023-06-01T09:20:27.308Z"
   },
   {
    "duration": 75,
    "start_time": "2023-06-01T09:20:45.031Z"
   },
   {
    "duration": 67,
    "start_time": "2023-06-01T09:21:14.610Z"
   },
   {
    "duration": 83,
    "start_time": "2023-06-01T09:29:25.384Z"
   },
   {
    "duration": 71,
    "start_time": "2023-06-01T09:39:59.703Z"
   },
   {
    "duration": 91,
    "start_time": "2023-06-01T10:10:01.387Z"
   },
   {
    "duration": 87,
    "start_time": "2023-06-01T10:10:18.591Z"
   },
   {
    "duration": 4,
    "start_time": "2023-06-01T10:23:52.528Z"
   },
   {
    "duration": 21,
    "start_time": "2023-06-01T10:23:52.535Z"
   },
   {
    "duration": 185,
    "start_time": "2023-06-01T10:23:52.561Z"
   },
   {
    "duration": 38,
    "start_time": "2023-06-01T10:23:52.748Z"
   },
   {
    "duration": 10,
    "start_time": "2023-06-01T10:23:52.788Z"
   },
   {
    "duration": 95,
    "start_time": "2023-06-01T10:23:52.801Z"
   },
   {
    "duration": 85,
    "start_time": "2023-06-01T10:23:52.898Z"
   },
   {
    "duration": 23,
    "start_time": "2023-06-01T10:23:52.985Z"
   },
   {
    "duration": 20,
    "start_time": "2023-06-01T10:23:53.010Z"
   },
   {
    "duration": 60,
    "start_time": "2023-06-01T10:23:53.032Z"
   },
   {
    "duration": 30,
    "start_time": "2023-06-01T10:23:53.095Z"
   },
   {
    "duration": 34,
    "start_time": "2023-06-01T10:23:53.127Z"
   },
   {
    "duration": 90,
    "start_time": "2023-06-01T10:23:53.163Z"
   },
   {
    "duration": 17,
    "start_time": "2023-06-01T10:23:53.258Z"
   },
   {
    "duration": 28,
    "start_time": "2023-06-01T10:23:53.278Z"
   },
   {
    "duration": 14,
    "start_time": "2023-06-01T10:23:53.308Z"
   },
   {
    "duration": 11,
    "start_time": "2023-06-01T10:23:53.323Z"
   },
   {
    "duration": 229,
    "start_time": "2023-06-01T10:23:53.336Z"
   },
   {
    "duration": 15,
    "start_time": "2023-06-01T10:23:53.566Z"
   },
   {
    "duration": 214,
    "start_time": "2023-06-01T10:23:53.594Z"
   },
   {
    "duration": 19,
    "start_time": "2023-06-01T10:23:53.810Z"
   },
   {
    "duration": 33,
    "start_time": "2023-06-01T10:23:53.831Z"
   },
   {
    "duration": 5,
    "start_time": "2023-06-01T10:23:53.871Z"
   },
   {
    "duration": 11,
    "start_time": "2023-06-01T10:23:53.879Z"
   },
   {
    "duration": 8,
    "start_time": "2023-06-01T10:23:53.893Z"
   },
   {
    "duration": 15,
    "start_time": "2023-06-01T10:23:53.903Z"
   },
   {
    "duration": 40,
    "start_time": "2023-06-01T10:23:53.920Z"
   },
   {
    "duration": 20,
    "start_time": "2023-06-01T10:23:53.962Z"
   },
   {
    "duration": 39,
    "start_time": "2023-06-01T10:23:53.986Z"
   },
   {
    "duration": 117,
    "start_time": "2023-06-01T10:23:54.028Z"
   },
   {
    "duration": 61,
    "start_time": "2023-06-01T10:23:54.148Z"
   },
   {
    "duration": 4,
    "start_time": "2023-06-01T10:23:54.211Z"
   },
   {
    "duration": 101,
    "start_time": "2023-06-01T10:23:54.217Z"
   },
   {
    "duration": 14,
    "start_time": "2023-06-01T10:23:54.321Z"
   },
   {
    "duration": 46,
    "start_time": "2023-06-01T10:23:54.337Z"
   },
   {
    "duration": 52,
    "start_time": "2023-06-01T10:23:54.389Z"
   },
   {
    "duration": 100,
    "start_time": "2023-06-01T10:23:54.443Z"
   },
   {
    "duration": 59,
    "start_time": "2023-06-01T10:23:54.556Z"
   },
   {
    "duration": 61,
    "start_time": "2023-06-01T10:23:54.617Z"
   },
   {
    "duration": 236,
    "start_time": "2023-06-01T10:23:54.682Z"
   },
   {
    "duration": 51,
    "start_time": "2023-06-01T10:23:54.920Z"
   },
   {
    "duration": 24,
    "start_time": "2023-06-01T10:23:54.973Z"
   },
   {
    "duration": 5,
    "start_time": "2023-06-01T10:23:55.000Z"
   },
   {
    "duration": 93,
    "start_time": "2023-06-01T10:23:55.008Z"
   },
   {
    "duration": 0,
    "start_time": "2023-06-01T10:23:55.103Z"
   },
   {
    "duration": 13,
    "start_time": "2023-06-01T10:24:25.421Z"
   },
   {
    "duration": 23,
    "start_time": "2023-06-01T10:25:26.648Z"
   },
   {
    "duration": 37,
    "start_time": "2023-06-01T10:25:33.651Z"
   },
   {
    "duration": 6,
    "start_time": "2023-06-01T10:25:52.218Z"
   },
   {
    "duration": 28,
    "start_time": "2023-06-01T10:25:59.792Z"
   },
   {
    "duration": 10,
    "start_time": "2023-06-01T10:32:59.557Z"
   },
   {
    "duration": 16,
    "start_time": "2023-06-01T10:32:59.569Z"
   },
   {
    "duration": 225,
    "start_time": "2023-06-01T10:32:59.587Z"
   },
   {
    "duration": 27,
    "start_time": "2023-06-01T10:32:59.815Z"
   },
   {
    "duration": 29,
    "start_time": "2023-06-01T10:32:59.857Z"
   },
   {
    "duration": 78,
    "start_time": "2023-06-01T10:32:59.888Z"
   },
   {
    "duration": 100,
    "start_time": "2023-06-01T10:32:59.968Z"
   },
   {
    "duration": 24,
    "start_time": "2023-06-01T10:33:00.069Z"
   },
   {
    "duration": 24,
    "start_time": "2023-06-01T10:33:00.095Z"
   },
   {
    "duration": 69,
    "start_time": "2023-06-01T10:33:00.121Z"
   },
   {
    "duration": 35,
    "start_time": "2023-06-01T10:33:00.192Z"
   },
   {
    "duration": 54,
    "start_time": "2023-06-01T10:33:00.229Z"
   },
   {
    "duration": 112,
    "start_time": "2023-06-01T10:33:00.285Z"
   },
   {
    "duration": 13,
    "start_time": "2023-06-01T10:33:00.401Z"
   },
   {
    "duration": 71,
    "start_time": "2023-06-01T10:33:00.416Z"
   },
   {
    "duration": 40,
    "start_time": "2023-06-01T10:33:00.490Z"
   },
   {
    "duration": 47,
    "start_time": "2023-06-01T10:33:00.532Z"
   },
   {
    "duration": 227,
    "start_time": "2023-06-01T10:33:00.581Z"
   },
   {
    "duration": 18,
    "start_time": "2023-06-01T10:33:00.810Z"
   },
   {
    "duration": 241,
    "start_time": "2023-06-01T10:33:00.830Z"
   },
   {
    "duration": 18,
    "start_time": "2023-06-01T10:33:01.073Z"
   },
   {
    "duration": 99,
    "start_time": "2023-06-01T10:33:01.093Z"
   },
   {
    "duration": 37,
    "start_time": "2023-06-01T10:33:01.194Z"
   },
   {
    "duration": 53,
    "start_time": "2023-06-01T10:33:01.233Z"
   },
   {
    "duration": 52,
    "start_time": "2023-06-01T10:33:01.288Z"
   },
   {
    "duration": 68,
    "start_time": "2023-06-01T10:33:01.342Z"
   },
   {
    "duration": 68,
    "start_time": "2023-06-01T10:33:01.412Z"
   },
   {
    "duration": 56,
    "start_time": "2023-06-01T10:33:01.482Z"
   },
   {
    "duration": 63,
    "start_time": "2023-06-01T10:33:01.540Z"
   },
   {
    "duration": 120,
    "start_time": "2023-06-01T10:33:01.606Z"
   },
   {
    "duration": 58,
    "start_time": "2023-06-01T10:33:01.728Z"
   },
   {
    "duration": 20,
    "start_time": "2023-06-01T10:33:01.789Z"
   },
   {
    "duration": 309,
    "start_time": "2023-06-01T10:33:01.812Z"
   },
   {
    "duration": 13,
    "start_time": "2023-06-01T10:33:02.123Z"
   },
   {
    "duration": 46,
    "start_time": "2023-06-01T10:33:02.138Z"
   },
   {
    "duration": 102,
    "start_time": "2023-06-01T10:33:02.186Z"
   },
   {
    "duration": 117,
    "start_time": "2023-06-01T10:33:02.291Z"
   },
   {
    "duration": 61,
    "start_time": "2023-06-01T10:33:02.410Z"
   },
   {
    "duration": 59,
    "start_time": "2023-06-01T10:33:02.473Z"
   },
   {
    "duration": 295,
    "start_time": "2023-06-01T10:33:02.535Z"
   },
   {
    "duration": 48,
    "start_time": "2023-06-01T10:33:02.834Z"
   },
   {
    "duration": 3,
    "start_time": "2023-06-01T10:33:02.883Z"
   },
   {
    "duration": 53,
    "start_time": "2023-06-01T10:33:02.888Z"
   },
   {
    "duration": 0,
    "start_time": "2023-06-01T10:33:02.944Z"
   },
   {
    "duration": 5,
    "start_time": "2023-06-01T11:25:25.062Z"
   },
   {
    "duration": 15,
    "start_time": "2023-06-01T11:25:25.070Z"
   },
   {
    "duration": 226,
    "start_time": "2023-06-01T11:25:25.087Z"
   },
   {
    "duration": 27,
    "start_time": "2023-06-01T11:25:25.315Z"
   },
   {
    "duration": 14,
    "start_time": "2023-06-01T11:25:25.357Z"
   },
   {
    "duration": 104,
    "start_time": "2023-06-01T11:25:25.373Z"
   },
   {
    "duration": 95,
    "start_time": "2023-06-01T11:25:25.479Z"
   },
   {
    "duration": 30,
    "start_time": "2023-06-01T11:25:25.576Z"
   },
   {
    "duration": 21,
    "start_time": "2023-06-01T11:25:25.609Z"
   },
   {
    "duration": 63,
    "start_time": "2023-06-01T11:25:25.633Z"
   },
   {
    "duration": 37,
    "start_time": "2023-06-01T11:25:25.698Z"
   },
   {
    "duration": 21,
    "start_time": "2023-06-01T11:25:25.758Z"
   },
   {
    "duration": 106,
    "start_time": "2023-06-01T11:25:25.781Z"
   },
   {
    "duration": 13,
    "start_time": "2023-06-01T11:25:25.897Z"
   },
   {
    "duration": 44,
    "start_time": "2023-06-01T11:25:25.913Z"
   },
   {
    "duration": 8,
    "start_time": "2023-06-01T11:25:25.960Z"
   },
   {
    "duration": 7,
    "start_time": "2023-06-01T11:25:25.971Z"
   },
   {
    "duration": 282,
    "start_time": "2023-06-01T11:25:25.980Z"
   },
   {
    "duration": 22,
    "start_time": "2023-06-01T11:25:26.265Z"
   },
   {
    "duration": 351,
    "start_time": "2023-06-01T11:25:26.290Z"
   },
   {
    "duration": 28,
    "start_time": "2023-06-01T11:25:26.644Z"
   },
   {
    "duration": 31,
    "start_time": "2023-06-01T11:25:26.675Z"
   },
   {
    "duration": 5,
    "start_time": "2023-06-01T11:25:26.709Z"
   },
   {
    "duration": 11,
    "start_time": "2023-06-01T11:25:26.717Z"
   },
   {
    "duration": 5,
    "start_time": "2023-06-01T11:25:26.731Z"
   },
   {
    "duration": 32,
    "start_time": "2023-06-01T11:25:26.738Z"
   },
   {
    "duration": 26,
    "start_time": "2023-06-01T11:25:26.772Z"
   },
   {
    "duration": 21,
    "start_time": "2023-06-01T11:25:26.801Z"
   },
   {
    "duration": 50,
    "start_time": "2023-06-01T11:25:26.824Z"
   },
   {
    "duration": 92,
    "start_time": "2023-06-01T11:25:26.878Z"
   },
   {
    "duration": 61,
    "start_time": "2023-06-01T11:25:26.972Z"
   },
   {
    "duration": 2,
    "start_time": "2023-06-01T11:25:27.035Z"
   },
   {
    "duration": 130,
    "start_time": "2023-06-01T11:25:27.039Z"
   },
   {
    "duration": 14,
    "start_time": "2023-06-01T11:25:27.171Z"
   },
   {
    "duration": 31,
    "start_time": "2023-06-01T11:25:27.187Z"
   },
   {
    "duration": 67,
    "start_time": "2023-06-01T11:25:27.220Z"
   },
   {
    "duration": 128,
    "start_time": "2023-06-01T11:25:27.289Z"
   },
   {
    "duration": 58,
    "start_time": "2023-06-01T11:25:27.420Z"
   },
   {
    "duration": 47,
    "start_time": "2023-06-01T11:25:27.480Z"
   },
   {
    "duration": 356,
    "start_time": "2023-06-01T11:25:27.528Z"
   },
   {
    "duration": 52,
    "start_time": "2023-06-01T11:25:27.888Z"
   },
   {
    "duration": 17,
    "start_time": "2023-06-01T11:25:27.942Z"
   },
   {
    "duration": 32,
    "start_time": "2023-06-01T11:25:27.961Z"
   },
   {
    "duration": 0,
    "start_time": "2023-06-01T11:25:27.995Z"
   },
   {
    "duration": 0,
    "start_time": "2023-06-01T11:25:27.997Z"
   },
   {
    "duration": 103,
    "start_time": "2023-06-01T11:25:35.978Z"
   },
   {
    "duration": 10,
    "start_time": "2023-06-01T11:26:17.662Z"
   },
   {
    "duration": 24,
    "start_time": "2023-06-01T11:26:20.872Z"
   },
   {
    "duration": 59,
    "start_time": "2023-06-01T11:26:22.879Z"
   },
   {
    "duration": 4,
    "start_time": "2023-06-01T11:26:53.384Z"
   },
   {
    "duration": 5,
    "start_time": "2023-06-01T11:26:53.391Z"
   },
   {
    "duration": 188,
    "start_time": "2023-06-01T11:26:53.399Z"
   },
   {
    "duration": 19,
    "start_time": "2023-06-01T11:26:53.589Z"
   },
   {
    "duration": 10,
    "start_time": "2023-06-01T11:26:53.610Z"
   },
   {
    "duration": 83,
    "start_time": "2023-06-01T11:26:53.622Z"
   },
   {
    "duration": 97,
    "start_time": "2023-06-01T11:26:53.707Z"
   },
   {
    "duration": 22,
    "start_time": "2023-06-01T11:26:53.806Z"
   },
   {
    "duration": 36,
    "start_time": "2023-06-01T11:26:53.830Z"
   },
   {
    "duration": 45,
    "start_time": "2023-06-01T11:26:53.877Z"
   },
   {
    "duration": 37,
    "start_time": "2023-06-01T11:26:53.924Z"
   },
   {
    "duration": 18,
    "start_time": "2023-06-01T11:26:53.963Z"
   },
   {
    "duration": 102,
    "start_time": "2023-06-01T11:26:53.983Z"
   },
   {
    "duration": 14,
    "start_time": "2023-06-01T11:26:54.090Z"
   },
   {
    "duration": 27,
    "start_time": "2023-06-01T11:26:54.107Z"
   },
   {
    "duration": 23,
    "start_time": "2023-06-01T11:26:54.137Z"
   },
   {
    "duration": 8,
    "start_time": "2023-06-01T11:26:54.163Z"
   },
   {
    "duration": 262,
    "start_time": "2023-06-01T11:26:54.173Z"
   },
   {
    "duration": 21,
    "start_time": "2023-06-01T11:26:54.438Z"
   },
   {
    "duration": 240,
    "start_time": "2023-06-01T11:26:54.462Z"
   },
   {
    "duration": 12,
    "start_time": "2023-06-01T11:26:54.704Z"
   },
   {
    "duration": 16,
    "start_time": "2023-06-01T11:26:54.718Z"
   },
   {
    "duration": 21,
    "start_time": "2023-06-01T11:26:54.736Z"
   },
   {
    "duration": 9,
    "start_time": "2023-06-01T11:26:54.759Z"
   },
   {
    "duration": 5,
    "start_time": "2023-06-01T11:26:54.771Z"
   },
   {
    "duration": 7,
    "start_time": "2023-06-01T11:26:54.778Z"
   },
   {
    "duration": 9,
    "start_time": "2023-06-01T11:26:54.787Z"
   },
   {
    "duration": 20,
    "start_time": "2023-06-01T11:26:54.798Z"
   },
   {
    "duration": 66,
    "start_time": "2023-06-01T11:26:54.821Z"
   },
   {
    "duration": 110,
    "start_time": "2023-06-01T11:26:54.888Z"
   },
   {
    "duration": 60,
    "start_time": "2023-06-01T11:26:55.000Z"
   },
   {
    "duration": 3,
    "start_time": "2023-06-01T11:26:55.062Z"
   },
   {
    "duration": 84,
    "start_time": "2023-06-01T11:26:55.067Z"
   },
   {
    "duration": 18,
    "start_time": "2023-06-01T11:26:55.156Z"
   },
   {
    "duration": 16,
    "start_time": "2023-06-01T11:26:55.176Z"
   },
   {
    "duration": 69,
    "start_time": "2023-06-01T11:26:55.194Z"
   },
   {
    "duration": 97,
    "start_time": "2023-06-01T11:26:55.266Z"
   },
   {
    "duration": 56,
    "start_time": "2023-06-01T11:26:55.366Z"
   },
   {
    "duration": 62,
    "start_time": "2023-06-01T11:26:55.424Z"
   },
   {
    "duration": 281,
    "start_time": "2023-06-01T11:26:55.488Z"
   },
   {
    "duration": 38,
    "start_time": "2023-06-01T11:26:55.774Z"
   },
   {
    "duration": 3,
    "start_time": "2023-06-01T11:26:55.814Z"
   },
   {
    "duration": 10,
    "start_time": "2023-06-01T11:26:55.820Z"
   },
   {
    "duration": 49,
    "start_time": "2023-06-01T11:26:55.832Z"
   },
   {
    "duration": 43,
    "start_time": "2023-06-01T11:26:55.884Z"
   },
   {
    "duration": 9,
    "start_time": "2023-06-01T11:27:28.417Z"
   },
   {
    "duration": 29,
    "start_time": "2023-06-01T11:27:31.080Z"
   },
   {
    "duration": 41,
    "start_time": "2023-06-01T11:27:32.494Z"
   },
   {
    "duration": 5,
    "start_time": "2023-06-01T11:28:10.288Z"
   },
   {
    "duration": 35,
    "start_time": "2023-06-01T11:28:10.296Z"
   },
   {
    "duration": 199,
    "start_time": "2023-06-01T11:28:10.333Z"
   },
   {
    "duration": 38,
    "start_time": "2023-06-01T11:28:10.534Z"
   },
   {
    "duration": 25,
    "start_time": "2023-06-01T11:28:10.575Z"
   },
   {
    "duration": 72,
    "start_time": "2023-06-01T11:28:10.602Z"
   },
   {
    "duration": 86,
    "start_time": "2023-06-01T11:28:10.676Z"
   },
   {
    "duration": 28,
    "start_time": "2023-06-01T11:28:10.764Z"
   },
   {
    "duration": 34,
    "start_time": "2023-06-01T11:28:10.794Z"
   },
   {
    "duration": 68,
    "start_time": "2023-06-01T11:28:10.831Z"
   },
   {
    "duration": 32,
    "start_time": "2023-06-01T11:28:10.901Z"
   },
   {
    "duration": 34,
    "start_time": "2023-06-01T11:28:10.935Z"
   },
   {
    "duration": 95,
    "start_time": "2023-06-01T11:28:10.971Z"
   },
   {
    "duration": 10,
    "start_time": "2023-06-01T11:28:11.070Z"
   },
   {
    "duration": 22,
    "start_time": "2023-06-01T11:28:11.083Z"
   },
   {
    "duration": 7,
    "start_time": "2023-06-01T11:28:11.107Z"
   },
   {
    "duration": 11,
    "start_time": "2023-06-01T11:28:11.116Z"
   },
   {
    "duration": 270,
    "start_time": "2023-06-01T11:28:11.158Z"
   },
   {
    "duration": 18,
    "start_time": "2023-06-01T11:28:11.431Z"
   },
   {
    "duration": 248,
    "start_time": "2023-06-01T11:28:11.451Z"
   },
   {
    "duration": 16,
    "start_time": "2023-06-01T11:28:11.701Z"
   },
   {
    "duration": 12,
    "start_time": "2023-06-01T11:28:11.720Z"
   },
   {
    "duration": 8,
    "start_time": "2023-06-01T11:28:11.759Z"
   },
   {
    "duration": 32,
    "start_time": "2023-06-01T11:28:11.770Z"
   },
   {
    "duration": 10,
    "start_time": "2023-06-01T11:28:11.804Z"
   },
   {
    "duration": 6,
    "start_time": "2023-06-01T11:28:11.817Z"
   },
   {
    "duration": 14,
    "start_time": "2023-06-01T11:28:11.825Z"
   },
   {
    "duration": 32,
    "start_time": "2023-06-01T11:28:11.843Z"
   },
   {
    "duration": 33,
    "start_time": "2023-06-01T11:28:11.876Z"
   },
   {
    "duration": 123,
    "start_time": "2023-06-01T11:28:11.911Z"
   },
   {
    "duration": 67,
    "start_time": "2023-06-01T11:28:12.036Z"
   },
   {
    "duration": 3,
    "start_time": "2023-06-01T11:28:12.105Z"
   },
   {
    "duration": 112,
    "start_time": "2023-06-01T11:28:12.110Z"
   },
   {
    "duration": 14,
    "start_time": "2023-06-01T11:28:12.224Z"
   },
   {
    "duration": 40,
    "start_time": "2023-06-01T11:28:12.239Z"
   },
   {
    "duration": 58,
    "start_time": "2023-06-01T11:28:12.282Z"
   },
   {
    "duration": 98,
    "start_time": "2023-06-01T11:28:12.342Z"
   },
   {
    "duration": 54,
    "start_time": "2023-06-01T11:28:12.442Z"
   },
   {
    "duration": 61,
    "start_time": "2023-06-01T11:28:12.498Z"
   },
   {
    "duration": 262,
    "start_time": "2023-06-01T11:28:12.561Z"
   },
   {
    "duration": 53,
    "start_time": "2023-06-01T11:28:12.841Z"
   },
   {
    "duration": 3,
    "start_time": "2023-06-01T11:28:12.897Z"
   },
   {
    "duration": 23,
    "start_time": "2023-06-01T11:28:12.902Z"
   },
   {
    "duration": 24,
    "start_time": "2023-06-01T11:28:12.927Z"
   },
   {
    "duration": 130,
    "start_time": "2023-06-01T11:28:12.953Z"
   },
   {
    "duration": 3,
    "start_time": "2023-06-01T11:33:00.309Z"
   },
   {
    "duration": 129,
    "start_time": "2023-06-01T12:04:39.968Z"
   },
   {
    "duration": 93,
    "start_time": "2023-06-01T12:04:50.583Z"
   },
   {
    "duration": 162,
    "start_time": "2023-06-01T12:05:03.978Z"
   },
   {
    "duration": 101,
    "start_time": "2023-06-01T12:08:10.021Z"
   },
   {
    "duration": 200,
    "start_time": "2023-06-01T12:15:14.761Z"
   },
   {
    "duration": 313,
    "start_time": "2023-06-01T12:15:45.225Z"
   },
   {
    "duration": 31,
    "start_time": "2023-06-01T12:16:48.651Z"
   },
   {
    "duration": 10,
    "start_time": "2023-06-01T12:17:48.505Z"
   },
   {
    "duration": 8,
    "start_time": "2023-06-01T12:17:53.107Z"
   },
   {
    "duration": 11,
    "start_time": "2023-06-01T12:17:57.074Z"
   },
   {
    "duration": 200,
    "start_time": "2023-06-01T12:18:00.077Z"
   },
   {
    "duration": 199,
    "start_time": "2023-06-01T12:18:03.669Z"
   },
   {
    "duration": 4,
    "start_time": "2023-06-01T12:18:16.703Z"
   },
   {
    "duration": 12,
    "start_time": "2023-06-01T12:18:16.713Z"
   },
   {
    "duration": 198,
    "start_time": "2023-06-01T12:18:16.727Z"
   },
   {
    "duration": 32,
    "start_time": "2023-06-01T12:18:16.926Z"
   },
   {
    "duration": 16,
    "start_time": "2023-06-01T12:18:16.960Z"
   },
   {
    "duration": 57,
    "start_time": "2023-06-01T12:18:16.978Z"
   },
   {
    "duration": 79,
    "start_time": "2023-06-01T12:18:17.037Z"
   },
   {
    "duration": 23,
    "start_time": "2023-06-01T12:18:17.118Z"
   },
   {
    "duration": 33,
    "start_time": "2023-06-01T12:18:17.143Z"
   },
   {
    "duration": 27,
    "start_time": "2023-06-01T12:18:17.177Z"
   },
   {
    "duration": 30,
    "start_time": "2023-06-01T12:18:17.206Z"
   },
   {
    "duration": 21,
    "start_time": "2023-06-01T12:18:17.257Z"
   },
   {
    "duration": 63,
    "start_time": "2023-06-01T12:18:17.280Z"
   },
   {
    "duration": 26,
    "start_time": "2023-06-01T12:18:17.344Z"
   },
   {
    "duration": 37,
    "start_time": "2023-06-01T12:18:17.375Z"
   },
   {
    "duration": 9,
    "start_time": "2023-06-01T12:18:17.414Z"
   },
   {
    "duration": 6,
    "start_time": "2023-06-01T12:18:17.425Z"
   },
   {
    "duration": 188,
    "start_time": "2023-06-01T12:18:17.433Z"
   },
   {
    "duration": 15,
    "start_time": "2023-06-01T12:18:17.623Z"
   },
   {
    "duration": 208,
    "start_time": "2023-06-01T12:18:17.639Z"
   },
   {
    "duration": 35,
    "start_time": "2023-06-01T12:18:17.849Z"
   },
   {
    "duration": 10,
    "start_time": "2023-06-01T12:18:17.886Z"
   },
   {
    "duration": 5,
    "start_time": "2023-06-01T12:18:17.898Z"
   },
   {
    "duration": 10,
    "start_time": "2023-06-01T12:18:17.905Z"
   },
   {
    "duration": 15,
    "start_time": "2023-06-01T12:18:17.917Z"
   },
   {
    "duration": 9,
    "start_time": "2023-06-01T12:18:17.934Z"
   },
   {
    "duration": 27,
    "start_time": "2023-06-01T12:18:17.945Z"
   },
   {
    "duration": 20,
    "start_time": "2023-06-01T12:18:17.974Z"
   },
   {
    "duration": 21,
    "start_time": "2023-06-01T12:18:17.995Z"
   },
   {
    "duration": 82,
    "start_time": "2023-06-01T12:18:18.018Z"
   },
   {
    "duration": 37,
    "start_time": "2023-06-01T12:18:18.102Z"
   },
   {
    "duration": 3,
    "start_time": "2023-06-01T12:18:18.141Z"
   },
   {
    "duration": 79,
    "start_time": "2023-06-01T12:18:18.157Z"
   },
   {
    "duration": 33,
    "start_time": "2023-06-01T12:18:18.238Z"
   },
   {
    "duration": 11,
    "start_time": "2023-06-01T12:18:18.274Z"
   },
   {
    "duration": 71,
    "start_time": "2023-06-01T12:18:18.287Z"
   },
   {
    "duration": 92,
    "start_time": "2023-06-01T12:18:18.371Z"
   },
   {
    "duration": 55,
    "start_time": "2023-06-01T12:18:18.465Z"
   },
   {
    "duration": 54,
    "start_time": "2023-06-01T12:18:18.522Z"
   },
   {
    "duration": 2,
    "start_time": "2023-06-01T12:18:18.578Z"
   },
   {
    "duration": 35,
    "start_time": "2023-06-01T12:18:18.582Z"
   },
   {
    "duration": 3,
    "start_time": "2023-06-01T12:18:18.621Z"
   },
   {
    "duration": 15,
    "start_time": "2023-06-01T12:18:18.626Z"
   },
   {
    "duration": 24,
    "start_time": "2023-06-01T12:18:18.658Z"
   },
   {
    "duration": 145,
    "start_time": "2023-06-01T12:18:18.683Z"
   },
   {
    "duration": 145,
    "start_time": "2023-06-01T12:18:18.830Z"
   },
   {
    "duration": 128,
    "start_time": "2023-06-01T12:18:18.977Z"
   },
   {
    "duration": 100,
    "start_time": "2023-06-01T12:18:19.107Z"
   },
   {
    "duration": 20,
    "start_time": "2023-06-01T12:18:40.580Z"
   },
   {
    "duration": 11,
    "start_time": "2023-06-01T12:18:49.480Z"
   },
   {
    "duration": 4,
    "start_time": "2023-06-01T12:19:40.311Z"
   },
   {
    "duration": 5,
    "start_time": "2023-06-01T12:19:42.375Z"
   },
   {
    "duration": 9,
    "start_time": "2023-06-01T12:19:46.858Z"
   },
   {
    "duration": 4,
    "start_time": "2023-06-01T12:19:50.376Z"
   },
   {
    "duration": 13,
    "start_time": "2023-06-01T12:20:00.608Z"
   },
   {
    "duration": 9,
    "start_time": "2023-06-01T12:20:02.390Z"
   },
   {
    "duration": 11,
    "start_time": "2023-06-01T12:21:43.753Z"
   },
   {
    "duration": 5,
    "start_time": "2023-06-01T12:21:43.767Z"
   },
   {
    "duration": 205,
    "start_time": "2023-06-01T12:21:43.774Z"
   },
   {
    "duration": 28,
    "start_time": "2023-06-01T12:21:43.981Z"
   },
   {
    "duration": 13,
    "start_time": "2023-06-01T12:21:44.013Z"
   },
   {
    "duration": 98,
    "start_time": "2023-06-01T12:21:44.028Z"
   },
   {
    "duration": 73,
    "start_time": "2023-06-01T12:21:44.128Z"
   },
   {
    "duration": 18,
    "start_time": "2023-06-01T12:21:44.203Z"
   },
   {
    "duration": 39,
    "start_time": "2023-06-01T12:21:44.223Z"
   },
   {
    "duration": 28,
    "start_time": "2023-06-01T12:21:44.263Z"
   },
   {
    "duration": 26,
    "start_time": "2023-06-01T12:21:44.293Z"
   },
   {
    "duration": 38,
    "start_time": "2023-06-01T12:21:44.321Z"
   },
   {
    "duration": 59,
    "start_time": "2023-06-01T12:21:44.361Z"
   },
   {
    "duration": 8,
    "start_time": "2023-06-01T12:21:44.423Z"
   },
   {
    "duration": 41,
    "start_time": "2023-06-01T12:21:44.432Z"
   },
   {
    "duration": 5,
    "start_time": "2023-06-01T12:21:44.475Z"
   },
   {
    "duration": 9,
    "start_time": "2023-06-01T12:21:44.482Z"
   },
   {
    "duration": 202,
    "start_time": "2023-06-01T12:21:44.493Z"
   },
   {
    "duration": 15,
    "start_time": "2023-06-01T12:21:44.696Z"
   },
   {
    "duration": 216,
    "start_time": "2023-06-01T12:21:44.713Z"
   },
   {
    "duration": 12,
    "start_time": "2023-06-01T12:21:44.931Z"
   },
   {
    "duration": 14,
    "start_time": "2023-06-01T12:21:44.959Z"
   },
   {
    "duration": 4,
    "start_time": "2023-06-01T12:21:44.976Z"
   },
   {
    "duration": 5,
    "start_time": "2023-06-01T12:21:44.982Z"
   },
   {
    "duration": 5,
    "start_time": "2023-06-01T12:21:44.989Z"
   },
   {
    "duration": 6,
    "start_time": "2023-06-01T12:21:44.996Z"
   },
   {
    "duration": 44,
    "start_time": "2023-06-01T12:21:45.003Z"
   },
   {
    "duration": 27,
    "start_time": "2023-06-01T12:21:45.049Z"
   },
   {
    "duration": 34,
    "start_time": "2023-06-01T12:21:45.078Z"
   },
   {
    "duration": 111,
    "start_time": "2023-06-01T12:21:45.114Z"
   },
   {
    "duration": 49,
    "start_time": "2023-06-01T12:21:45.227Z"
   },
   {
    "duration": 2,
    "start_time": "2023-06-01T12:21:45.278Z"
   },
   {
    "duration": 90,
    "start_time": "2023-06-01T12:21:45.281Z"
   },
   {
    "duration": 10,
    "start_time": "2023-06-01T12:21:45.373Z"
   },
   {
    "duration": 51,
    "start_time": "2023-06-01T12:21:45.385Z"
   },
   {
    "duration": 18,
    "start_time": "2023-06-01T12:22:00.911Z"
   },
   {
    "duration": 24,
    "start_time": "2023-06-01T12:22:08.087Z"
   },
   {
    "duration": 21,
    "start_time": "2023-06-01T12:22:36.910Z"
   },
   {
    "duration": 21,
    "start_time": "2023-06-01T12:22:42.785Z"
   },
   {
    "duration": 97,
    "start_time": "2023-06-01T12:22:48.055Z"
   },
   {
    "duration": 28,
    "start_time": "2023-06-01T12:22:54.056Z"
   },
   {
    "duration": 24,
    "start_time": "2023-06-01T12:23:01.382Z"
   },
   {
    "duration": 76,
    "start_time": "2023-06-01T12:25:05.851Z"
   },
   {
    "duration": 3,
    "start_time": "2023-06-01T12:41:35.232Z"
   },
   {
    "duration": 7,
    "start_time": "2023-06-01T12:41:35.237Z"
   },
   {
    "duration": 177,
    "start_time": "2023-06-01T12:41:35.246Z"
   },
   {
    "duration": 19,
    "start_time": "2023-06-01T12:41:35.425Z"
   },
   {
    "duration": 8,
    "start_time": "2023-06-01T12:41:35.459Z"
   },
   {
    "duration": 74,
    "start_time": "2023-06-01T12:41:35.468Z"
   },
   {
    "duration": 63,
    "start_time": "2023-06-01T12:41:35.544Z"
   },
   {
    "duration": 47,
    "start_time": "2023-06-01T12:41:35.610Z"
   },
   {
    "duration": 16,
    "start_time": "2023-06-01T12:41:35.659Z"
   },
   {
    "duration": 34,
    "start_time": "2023-06-01T12:41:35.677Z"
   },
   {
    "duration": 22,
    "start_time": "2023-06-01T12:41:35.714Z"
   },
   {
    "duration": 37,
    "start_time": "2023-06-01T12:41:35.737Z"
   },
   {
    "duration": 81,
    "start_time": "2023-06-01T12:41:35.776Z"
   },
   {
    "duration": 11,
    "start_time": "2023-06-01T12:41:35.859Z"
   },
   {
    "duration": 16,
    "start_time": "2023-06-01T12:41:35.872Z"
   },
   {
    "duration": 22,
    "start_time": "2023-06-01T12:41:35.890Z"
   },
   {
    "duration": 28,
    "start_time": "2023-06-01T12:41:35.914Z"
   },
   {
    "duration": 213,
    "start_time": "2023-06-01T12:41:35.944Z"
   },
   {
    "duration": 20,
    "start_time": "2023-06-01T12:41:36.159Z"
   },
   {
    "duration": 211,
    "start_time": "2023-06-01T12:41:36.181Z"
   },
   {
    "duration": 12,
    "start_time": "2023-06-01T12:41:36.394Z"
   },
   {
    "duration": 21,
    "start_time": "2023-06-01T12:41:36.408Z"
   },
   {
    "duration": 4,
    "start_time": "2023-06-01T12:41:36.431Z"
   },
   {
    "duration": 21,
    "start_time": "2023-06-01T12:41:36.438Z"
   },
   {
    "duration": 6,
    "start_time": "2023-06-01T12:41:36.460Z"
   },
   {
    "duration": 6,
    "start_time": "2023-06-01T12:41:36.468Z"
   },
   {
    "duration": 9,
    "start_time": "2023-06-01T12:41:36.476Z"
   },
   {
    "duration": 19,
    "start_time": "2023-06-01T12:41:36.487Z"
   },
   {
    "duration": 61,
    "start_time": "2023-06-01T12:41:36.511Z"
   },
   {
    "duration": 60,
    "start_time": "2023-06-01T12:41:36.574Z"
   },
   {
    "duration": 50,
    "start_time": "2023-06-01T12:41:36.636Z"
   },
   {
    "duration": 3,
    "start_time": "2023-06-01T12:41:36.688Z"
   },
   {
    "duration": 83,
    "start_time": "2023-06-01T12:41:36.692Z"
   },
   {
    "duration": 10,
    "start_time": "2023-06-01T12:41:36.777Z"
   },
   {
    "duration": 25,
    "start_time": "2023-06-01T12:41:36.789Z"
   },
   {
    "duration": 53,
    "start_time": "2023-06-01T12:41:36.815Z"
   },
   {
    "duration": 76,
    "start_time": "2023-06-01T12:41:36.870Z"
   },
   {
    "duration": 58,
    "start_time": "2023-06-01T12:41:36.958Z"
   },
   {
    "duration": 54,
    "start_time": "2023-06-01T12:41:37.018Z"
   },
   {
    "duration": 3,
    "start_time": "2023-06-01T12:41:37.073Z"
   },
   {
    "duration": 33,
    "start_time": "2023-06-01T12:41:37.077Z"
   },
   {
    "duration": 3,
    "start_time": "2023-06-01T12:41:37.111Z"
   },
   {
    "duration": 8,
    "start_time": "2023-06-01T12:41:37.116Z"
   },
   {
    "duration": 57,
    "start_time": "2023-06-01T12:41:37.126Z"
   },
   {
    "duration": 129,
    "start_time": "2023-06-01T12:41:37.186Z"
   },
   {
    "duration": 10,
    "start_time": "2023-06-01T12:41:37.316Z"
   },
   {
    "duration": 0,
    "start_time": "2023-06-01T12:41:37.328Z"
   },
   {
    "duration": 0,
    "start_time": "2023-06-01T12:41:37.329Z"
   },
   {
    "duration": 0,
    "start_time": "2023-06-01T12:41:37.331Z"
   },
   {
    "duration": 109,
    "start_time": "2023-06-01T12:41:51.974Z"
   },
   {
    "duration": 103,
    "start_time": "2023-06-01T12:41:56.645Z"
   },
   {
    "duration": 1181,
    "start_time": "2023-06-01T12:42:03.176Z"
   },
   {
    "duration": 21,
    "start_time": "2023-06-01T12:42:20.663Z"
   },
   {
    "duration": 10,
    "start_time": "2023-06-01T12:42:24.684Z"
   },
   {
    "duration": 10,
    "start_time": "2023-06-01T12:42:30.580Z"
   },
   {
    "duration": 110,
    "start_time": "2023-06-01T12:45:49.021Z"
   },
   {
    "duration": 3,
    "start_time": "2023-06-01T12:59:42.282Z"
   },
   {
    "duration": 8,
    "start_time": "2023-06-01T12:59:42.287Z"
   },
   {
    "duration": 172,
    "start_time": "2023-06-01T12:59:42.297Z"
   },
   {
    "duration": 19,
    "start_time": "2023-06-01T12:59:42.471Z"
   },
   {
    "duration": 546,
    "start_time": "2023-06-01T12:59:42.492Z"
   },
   {
    "duration": 78,
    "start_time": "2023-06-01T12:59:43.040Z"
   },
   {
    "duration": 87,
    "start_time": "2023-06-01T12:59:43.120Z"
   },
   {
    "duration": 18,
    "start_time": "2023-06-01T12:59:43.208Z"
   },
   {
    "duration": 28,
    "start_time": "2023-06-01T12:59:43.229Z"
   },
   {
    "duration": 25,
    "start_time": "2023-06-01T12:59:43.259Z"
   },
   {
    "duration": 20,
    "start_time": "2023-06-01T12:59:43.287Z"
   },
   {
    "duration": 12,
    "start_time": "2023-06-01T12:59:43.309Z"
   },
   {
    "duration": 114,
    "start_time": "2023-06-01T12:59:43.323Z"
   },
   {
    "duration": 8,
    "start_time": "2023-06-01T12:59:43.439Z"
   },
   {
    "duration": 18,
    "start_time": "2023-06-01T12:59:43.458Z"
   },
   {
    "duration": 7,
    "start_time": "2023-06-01T12:59:43.478Z"
   },
   {
    "duration": 13,
    "start_time": "2023-06-01T12:59:43.487Z"
   },
   {
    "duration": 215,
    "start_time": "2023-06-01T12:59:43.501Z"
   },
   {
    "duration": 17,
    "start_time": "2023-06-01T12:59:43.718Z"
   },
   {
    "duration": 245,
    "start_time": "2023-06-01T12:59:43.737Z"
   },
   {
    "duration": 15,
    "start_time": "2023-06-01T12:59:43.986Z"
   },
   {
    "duration": 28,
    "start_time": "2023-06-01T12:59:44.005Z"
   },
   {
    "duration": 32,
    "start_time": "2023-06-01T12:59:44.035Z"
   },
   {
    "duration": 7,
    "start_time": "2023-06-01T12:59:44.069Z"
   },
   {
    "duration": 20,
    "start_time": "2023-06-01T12:59:44.078Z"
   },
   {
    "duration": 7,
    "start_time": "2023-06-01T12:59:44.100Z"
   },
   {
    "duration": 9,
    "start_time": "2023-06-01T12:59:44.109Z"
   },
   {
    "duration": 22,
    "start_time": "2023-06-01T12:59:44.120Z"
   },
   {
    "duration": 25,
    "start_time": "2023-06-01T12:59:44.160Z"
   },
   {
    "duration": 75,
    "start_time": "2023-06-01T12:59:44.187Z"
   },
   {
    "duration": 36,
    "start_time": "2023-06-01T12:59:44.263Z"
   },
   {
    "duration": 3,
    "start_time": "2023-06-01T12:59:44.301Z"
   },
   {
    "duration": 85,
    "start_time": "2023-06-01T12:59:44.305Z"
   },
   {
    "duration": 10,
    "start_time": "2023-06-01T12:59:44.391Z"
   },
   {
    "duration": 12,
    "start_time": "2023-06-01T12:59:44.403Z"
   },
   {
    "duration": 55,
    "start_time": "2023-06-01T12:59:44.417Z"
   },
   {
    "duration": 175,
    "start_time": "2023-06-01T12:59:44.474Z"
   },
   {
    "duration": 40,
    "start_time": "2023-06-01T12:59:44.657Z"
   },
   {
    "duration": 38,
    "start_time": "2023-06-01T12:59:44.699Z"
   },
   {
    "duration": 20,
    "start_time": "2023-06-01T12:59:44.738Z"
   },
   {
    "duration": 38,
    "start_time": "2023-06-01T12:59:44.760Z"
   },
   {
    "duration": 3,
    "start_time": "2023-06-01T12:59:44.799Z"
   },
   {
    "duration": 17,
    "start_time": "2023-06-01T12:59:44.803Z"
   },
   {
    "duration": 35,
    "start_time": "2023-06-01T12:59:44.822Z"
   },
   {
    "duration": 113,
    "start_time": "2023-06-01T12:59:44.859Z"
   },
   {
    "duration": 126,
    "start_time": "2023-06-01T12:59:44.974Z"
   },
   {
    "duration": 128,
    "start_time": "2023-06-01T12:59:45.102Z"
   },
   {
    "duration": 25,
    "start_time": "2023-06-01T12:59:45.232Z"
   },
   {
    "duration": 128,
    "start_time": "2023-06-01T12:59:45.259Z"
   },
   {
    "duration": 1146,
    "start_time": "2023-06-01T13:33:06.817Z"
   },
   {
    "duration": 9,
    "start_time": "2023-06-01T13:33:07.965Z"
   },
   {
    "duration": 170,
    "start_time": "2023-06-01T13:33:07.975Z"
   },
   {
    "duration": 22,
    "start_time": "2023-06-01T13:33:08.147Z"
   },
   {
    "duration": 11,
    "start_time": "2023-06-01T13:33:08.171Z"
   },
   {
    "duration": 84,
    "start_time": "2023-06-01T13:33:08.183Z"
   },
   {
    "duration": 90,
    "start_time": "2023-06-01T13:33:08.269Z"
   },
   {
    "duration": 27,
    "start_time": "2023-06-01T13:33:08.361Z"
   },
   {
    "duration": 27,
    "start_time": "2023-06-01T13:33:08.390Z"
   },
   {
    "duration": 27,
    "start_time": "2023-06-01T13:33:08.420Z"
   },
   {
    "duration": 18,
    "start_time": "2023-06-01T13:33:08.449Z"
   },
   {
    "duration": 12,
    "start_time": "2023-06-01T13:33:08.468Z"
   },
   {
    "duration": 99,
    "start_time": "2023-06-01T13:33:08.481Z"
   },
   {
    "duration": 10,
    "start_time": "2023-06-01T13:33:08.582Z"
   },
   {
    "duration": 26,
    "start_time": "2023-06-01T13:33:08.594Z"
   },
   {
    "duration": 4,
    "start_time": "2023-06-01T13:33:08.622Z"
   },
   {
    "duration": 6,
    "start_time": "2023-06-01T13:33:08.627Z"
   },
   {
    "duration": 273,
    "start_time": "2023-06-01T13:33:08.634Z"
   },
   {
    "duration": 19,
    "start_time": "2023-06-01T13:33:08.917Z"
   },
   {
    "duration": 179,
    "start_time": "2023-06-01T13:33:08.938Z"
   },
   {
    "duration": 13,
    "start_time": "2023-06-01T13:33:09.119Z"
   },
   {
    "duration": 16,
    "start_time": "2023-06-01T13:33:09.133Z"
   },
   {
    "duration": 6,
    "start_time": "2023-06-01T13:33:09.151Z"
   },
   {
    "duration": 6,
    "start_time": "2023-06-01T13:33:09.158Z"
   },
   {
    "duration": 11,
    "start_time": "2023-06-01T13:33:09.165Z"
   },
   {
    "duration": 6,
    "start_time": "2023-06-01T13:33:09.177Z"
   },
   {
    "duration": 35,
    "start_time": "2023-06-01T13:33:09.185Z"
   },
   {
    "duration": 14,
    "start_time": "2023-06-01T13:33:09.225Z"
   },
   {
    "duration": 22,
    "start_time": "2023-06-01T13:33:09.240Z"
   },
   {
    "duration": 91,
    "start_time": "2023-06-01T13:33:09.263Z"
   },
   {
    "duration": 39,
    "start_time": "2023-06-01T13:33:09.356Z"
   },
   {
    "duration": 3,
    "start_time": "2023-06-01T13:33:09.397Z"
   },
   {
    "duration": 77,
    "start_time": "2023-06-01T13:33:09.418Z"
   },
   {
    "duration": 26,
    "start_time": "2023-06-01T13:33:09.497Z"
   },
   {
    "duration": 21,
    "start_time": "2023-06-01T13:33:09.525Z"
   },
   {
    "duration": 35,
    "start_time": "2023-06-01T13:33:09.548Z"
   },
   {
    "duration": 94,
    "start_time": "2023-06-01T13:33:09.585Z"
   },
   {
    "duration": 57,
    "start_time": "2023-06-01T13:33:09.681Z"
   },
   {
    "duration": 36,
    "start_time": "2023-06-01T13:33:09.740Z"
   },
   {
    "duration": 2,
    "start_time": "2023-06-01T13:33:09.778Z"
   },
   {
    "duration": 52,
    "start_time": "2023-06-01T13:33:09.782Z"
   },
   {
    "duration": 2,
    "start_time": "2023-06-01T13:33:09.836Z"
   },
   {
    "duration": 18,
    "start_time": "2023-06-01T13:33:09.839Z"
   },
   {
    "duration": 28,
    "start_time": "2023-06-01T13:33:09.859Z"
   },
   {
    "duration": 111,
    "start_time": "2023-06-01T13:33:09.888Z"
   },
   {
    "duration": 104,
    "start_time": "2023-06-01T13:33:10.001Z"
   },
   {
    "duration": 130,
    "start_time": "2023-06-01T13:33:10.106Z"
   },
   {
    "duration": 16,
    "start_time": "2023-06-01T13:33:10.238Z"
   },
   {
    "duration": 122,
    "start_time": "2023-06-01T13:33:10.255Z"
   },
   {
    "duration": 1213,
    "start_time": "2023-06-01T13:33:31.205Z"
   },
   {
    "duration": 9,
    "start_time": "2023-06-01T13:33:32.419Z"
   },
   {
    "duration": 304,
    "start_time": "2023-06-01T13:33:32.429Z"
   },
   {
    "duration": 19,
    "start_time": "2023-06-01T13:33:32.735Z"
   },
   {
    "duration": 7,
    "start_time": "2023-06-01T13:33:32.756Z"
   },
   {
    "duration": 166,
    "start_time": "2023-06-01T13:33:32.764Z"
   },
   {
    "duration": 186,
    "start_time": "2023-06-01T13:33:32.932Z"
   },
   {
    "duration": 21,
    "start_time": "2023-06-01T13:33:33.120Z"
   },
   {
    "duration": 20,
    "start_time": "2023-06-01T13:33:33.142Z"
   },
   {
    "duration": 26,
    "start_time": "2023-06-01T13:33:33.217Z"
   },
   {
    "duration": 18,
    "start_time": "2023-06-01T13:33:33.245Z"
   },
   {
    "duration": 12,
    "start_time": "2023-06-01T13:33:33.317Z"
   },
   {
    "duration": 123,
    "start_time": "2023-06-01T13:33:33.330Z"
   },
   {
    "duration": 65,
    "start_time": "2023-06-01T13:33:33.454Z"
   },
   {
    "duration": 20,
    "start_time": "2023-06-01T13:33:33.520Z"
   },
   {
    "duration": 5,
    "start_time": "2023-06-01T13:33:33.541Z"
   },
   {
    "duration": 5,
    "start_time": "2023-06-01T13:33:33.548Z"
   },
   {
    "duration": 573,
    "start_time": "2023-06-01T13:33:33.554Z"
   },
   {
    "duration": 23,
    "start_time": "2023-06-01T13:33:34.129Z"
   },
   {
    "duration": 242,
    "start_time": "2023-06-01T13:33:34.153Z"
   },
   {
    "duration": 21,
    "start_time": "2023-06-01T13:33:34.396Z"
   },
   {
    "duration": 7,
    "start_time": "2023-06-01T13:33:34.419Z"
   },
   {
    "duration": 6,
    "start_time": "2023-06-01T13:33:34.427Z"
   },
   {
    "duration": 11,
    "start_time": "2023-06-01T13:33:34.435Z"
   },
   {
    "duration": 13,
    "start_time": "2023-06-01T13:33:34.447Z"
   },
   {
    "duration": 8,
    "start_time": "2023-06-01T13:33:34.462Z"
   },
   {
    "duration": 10,
    "start_time": "2023-06-01T13:33:34.471Z"
   },
   {
    "duration": 26,
    "start_time": "2023-06-01T13:33:34.484Z"
   },
   {
    "duration": 21,
    "start_time": "2023-06-01T13:33:34.512Z"
   },
   {
    "duration": 86,
    "start_time": "2023-06-01T13:33:34.534Z"
   },
   {
    "duration": 50,
    "start_time": "2023-06-01T13:33:34.622Z"
   },
   {
    "duration": 3,
    "start_time": "2023-06-01T13:33:34.674Z"
   },
   {
    "duration": 105,
    "start_time": "2023-06-01T13:33:34.679Z"
   },
   {
    "duration": 8,
    "start_time": "2023-06-01T13:33:34.785Z"
   },
   {
    "duration": 34,
    "start_time": "2023-06-01T13:33:34.795Z"
   },
   {
    "duration": 35,
    "start_time": "2023-06-01T13:33:34.831Z"
   },
   {
    "duration": 84,
    "start_time": "2023-06-01T13:33:34.867Z"
   },
   {
    "duration": 40,
    "start_time": "2023-06-01T13:33:34.952Z"
   },
   {
    "duration": 50,
    "start_time": "2023-06-01T13:33:34.994Z"
   },
   {
    "duration": 2,
    "start_time": "2023-06-01T13:33:35.046Z"
   },
   {
    "duration": 73,
    "start_time": "2023-06-01T13:33:35.050Z"
   },
   {
    "duration": 2,
    "start_time": "2023-06-01T13:33:35.124Z"
   },
   {
    "duration": 25,
    "start_time": "2023-06-01T13:33:35.128Z"
   },
   {
    "duration": 63,
    "start_time": "2023-06-01T13:33:35.154Z"
   },
   {
    "duration": 153,
    "start_time": "2023-06-01T13:33:35.219Z"
   },
   {
    "duration": 123,
    "start_time": "2023-06-01T13:33:35.374Z"
   },
   {
    "duration": 111,
    "start_time": "2023-06-01T13:33:35.499Z"
   },
   {
    "duration": 21,
    "start_time": "2023-06-01T13:33:35.612Z"
   },
   {
    "duration": 128,
    "start_time": "2023-06-01T13:33:35.634Z"
   },
   {
    "duration": 63,
    "start_time": "2023-06-02T06:07:37.600Z"
   },
   {
    "duration": 1304,
    "start_time": "2023-06-02T06:07:43.365Z"
   },
   {
    "duration": 7,
    "start_time": "2023-06-02T06:07:44.671Z"
   },
   {
    "duration": 654,
    "start_time": "2023-06-02T06:07:44.679Z"
   },
   {
    "duration": 29,
    "start_time": "2023-06-02T06:07:45.334Z"
   },
   {
    "duration": 8,
    "start_time": "2023-06-02T06:07:45.365Z"
   },
   {
    "duration": 83,
    "start_time": "2023-06-02T06:07:45.374Z"
   },
   {
    "duration": 100,
    "start_time": "2023-06-02T06:07:45.459Z"
   },
   {
    "duration": 27,
    "start_time": "2023-06-02T06:08:19.508Z"
   },
   {
    "duration": 4,
    "start_time": "2023-06-02T07:46:49.600Z"
   },
   {
    "duration": 9,
    "start_time": "2023-06-02T07:46:49.606Z"
   },
   {
    "duration": 199,
    "start_time": "2023-06-02T07:46:49.655Z"
   },
   {
    "duration": 19,
    "start_time": "2023-06-02T07:46:49.857Z"
   },
   {
    "duration": 21,
    "start_time": "2023-06-02T07:46:49.877Z"
   },
   {
    "duration": 61,
    "start_time": "2023-06-02T07:46:49.900Z"
   },
   {
    "duration": 53,
    "start_time": "2023-06-02T07:46:49.963Z"
   },
   {
    "duration": 34,
    "start_time": "2023-06-02T07:46:50.024Z"
   },
   {
    "duration": 20,
    "start_time": "2023-06-02T07:46:50.059Z"
   },
   {
    "duration": 34,
    "start_time": "2023-06-02T07:46:50.081Z"
   },
   {
    "duration": 36,
    "start_time": "2023-06-02T07:46:50.117Z"
   },
   {
    "duration": 27,
    "start_time": "2023-06-02T07:46:50.155Z"
   },
   {
    "duration": 78,
    "start_time": "2023-06-02T07:46:50.184Z"
   },
   {
    "duration": 10,
    "start_time": "2023-06-02T07:46:50.264Z"
   },
   {
    "duration": 29,
    "start_time": "2023-06-02T07:46:50.275Z"
   },
   {
    "duration": 47,
    "start_time": "2023-06-02T07:46:50.308Z"
   },
   {
    "duration": 12,
    "start_time": "2023-06-02T07:46:50.357Z"
   },
   {
    "duration": 298,
    "start_time": "2023-06-02T07:46:50.371Z"
   },
   {
    "duration": 20,
    "start_time": "2023-06-02T07:46:50.671Z"
   },
   {
    "duration": 208,
    "start_time": "2023-06-02T07:46:50.693Z"
   },
   {
    "duration": 36,
    "start_time": "2023-06-02T07:46:50.902Z"
   },
   {
    "duration": 25,
    "start_time": "2023-06-02T07:46:50.943Z"
   },
   {
    "duration": 11,
    "start_time": "2023-06-02T07:46:50.970Z"
   },
   {
    "duration": 15,
    "start_time": "2023-06-02T07:46:50.983Z"
   },
   {
    "duration": 53,
    "start_time": "2023-06-02T07:46:51.000Z"
   },
   {
    "duration": 43,
    "start_time": "2023-06-02T07:46:51.054Z"
   },
   {
    "duration": 58,
    "start_time": "2023-06-02T07:46:51.099Z"
   },
   {
    "duration": 13,
    "start_time": "2023-06-02T07:46:51.159Z"
   },
   {
    "duration": 26,
    "start_time": "2023-06-02T07:46:51.173Z"
   },
   {
    "duration": 91,
    "start_time": "2023-06-02T07:46:51.200Z"
   },
   {
    "duration": 57,
    "start_time": "2023-06-02T07:46:51.293Z"
   },
   {
    "duration": 9,
    "start_time": "2023-06-02T07:46:51.351Z"
   },
   {
    "duration": 85,
    "start_time": "2023-06-02T07:46:51.361Z"
   },
   {
    "duration": 11,
    "start_time": "2023-06-02T07:46:51.447Z"
   },
   {
    "duration": 24,
    "start_time": "2023-06-02T07:46:51.459Z"
   },
   {
    "duration": 70,
    "start_time": "2023-06-02T07:46:51.485Z"
   },
   {
    "duration": 83,
    "start_time": "2023-06-02T07:46:51.557Z"
   },
   {
    "duration": 38,
    "start_time": "2023-06-02T07:46:51.645Z"
   },
   {
    "duration": 2,
    "start_time": "2023-06-02T07:46:51.684Z"
   },
   {
    "duration": 6,
    "start_time": "2023-06-02T07:46:51.688Z"
   },
   {
    "duration": 8,
    "start_time": "2023-06-02T07:46:51.696Z"
   },
   {
    "duration": 5,
    "start_time": "2023-06-02T07:46:51.706Z"
   },
   {
    "duration": 5,
    "start_time": "2023-06-02T07:46:51.715Z"
   },
   {
    "duration": 52,
    "start_time": "2023-06-02T07:46:51.724Z"
   },
   {
    "duration": 112,
    "start_time": "2023-06-02T07:46:51.778Z"
   },
   {
    "duration": 105,
    "start_time": "2023-06-02T07:46:51.892Z"
   },
   {
    "duration": 112,
    "start_time": "2023-06-02T07:46:51.998Z"
   },
   {
    "duration": 25,
    "start_time": "2023-06-02T07:46:52.112Z"
   },
   {
    "duration": 141,
    "start_time": "2023-06-02T07:46:52.142Z"
   },
   {
    "duration": 30,
    "start_time": "2023-06-02T07:47:41.283Z"
   },
   {
    "duration": 16,
    "start_time": "2023-06-02T07:47:47.689Z"
   },
   {
    "duration": 20,
    "start_time": "2023-06-02T07:47:58.497Z"
   },
   {
    "duration": 3,
    "start_time": "2023-06-02T07:49:23.397Z"
   },
   {
    "duration": 17,
    "start_time": "2023-06-02T07:49:23.402Z"
   },
   {
    "duration": 232,
    "start_time": "2023-06-02T07:49:23.422Z"
   },
   {
    "duration": 24,
    "start_time": "2023-06-02T07:49:23.656Z"
   },
   {
    "duration": 8,
    "start_time": "2023-06-02T07:49:23.682Z"
   },
   {
    "duration": 79,
    "start_time": "2023-06-02T07:49:23.692Z"
   },
   {
    "duration": 77,
    "start_time": "2023-06-02T07:49:23.772Z"
   },
   {
    "duration": 29,
    "start_time": "2023-06-02T07:49:23.852Z"
   },
   {
    "duration": 16,
    "start_time": "2023-06-02T07:49:23.883Z"
   },
   {
    "duration": 47,
    "start_time": "2023-06-02T07:49:23.901Z"
   },
   {
    "duration": 29,
    "start_time": "2023-06-02T07:49:23.949Z"
   },
   {
    "duration": 34,
    "start_time": "2023-06-02T07:49:23.979Z"
   },
   {
    "duration": 84,
    "start_time": "2023-06-02T07:49:24.015Z"
   },
   {
    "duration": 8,
    "start_time": "2023-06-02T07:49:24.101Z"
   },
   {
    "duration": 43,
    "start_time": "2023-06-02T07:49:24.111Z"
   },
   {
    "duration": 11,
    "start_time": "2023-06-02T07:49:24.160Z"
   },
   {
    "duration": 10,
    "start_time": "2023-06-02T07:49:24.173Z"
   },
   {
    "duration": 212,
    "start_time": "2023-06-02T07:49:24.185Z"
   },
   {
    "duration": 17,
    "start_time": "2023-06-02T07:49:24.398Z"
   },
   {
    "duration": 188,
    "start_time": "2023-06-02T07:49:24.428Z"
   },
   {
    "duration": 27,
    "start_time": "2023-06-02T07:49:24.629Z"
   },
   {
    "duration": 22,
    "start_time": "2023-06-02T07:49:24.657Z"
   },
   {
    "duration": 13,
    "start_time": "2023-06-02T07:49:24.681Z"
   },
   {
    "duration": 19,
    "start_time": "2023-06-02T07:49:24.695Z"
   },
   {
    "duration": 54,
    "start_time": "2023-06-02T07:49:24.716Z"
   },
   {
    "duration": 23,
    "start_time": "2023-06-02T07:49:24.772Z"
   },
   {
    "duration": 18,
    "start_time": "2023-06-02T07:49:24.796Z"
   },
   {
    "duration": 55,
    "start_time": "2023-06-02T07:49:24.815Z"
   },
   {
    "duration": 41,
    "start_time": "2023-06-02T07:49:24.872Z"
   },
   {
    "duration": 108,
    "start_time": "2023-06-02T07:49:24.915Z"
   },
   {
    "duration": 57,
    "start_time": "2023-06-02T07:49:25.033Z"
   },
   {
    "duration": 2,
    "start_time": "2023-06-02T07:49:25.093Z"
   },
   {
    "duration": 104,
    "start_time": "2023-06-02T07:49:25.097Z"
   },
   {
    "duration": 19,
    "start_time": "2023-06-02T07:49:25.205Z"
   },
   {
    "duration": 57,
    "start_time": "2023-06-02T07:49:25.227Z"
   },
   {
    "duration": 92,
    "start_time": "2023-06-02T07:49:25.286Z"
   },
   {
    "duration": 105,
    "start_time": "2023-06-02T07:49:25.380Z"
   },
   {
    "duration": 53,
    "start_time": "2023-06-02T07:49:25.487Z"
   },
   {
    "duration": 9,
    "start_time": "2023-06-02T07:49:25.541Z"
   },
   {
    "duration": 49,
    "start_time": "2023-06-02T07:49:25.556Z"
   },
   {
    "duration": 16,
    "start_time": "2023-06-02T07:49:25.609Z"
   },
   {
    "duration": 45,
    "start_time": "2023-06-02T07:49:25.628Z"
   },
   {
    "duration": 11,
    "start_time": "2023-06-02T07:49:25.675Z"
   },
   {
    "duration": 60,
    "start_time": "2023-06-02T07:49:25.688Z"
   },
   {
    "duration": 136,
    "start_time": "2023-06-02T07:49:25.754Z"
   },
   {
    "duration": 115,
    "start_time": "2023-06-02T07:49:25.892Z"
   },
   {
    "duration": 141,
    "start_time": "2023-06-02T07:49:26.009Z"
   },
   {
    "duration": 19,
    "start_time": "2023-06-02T07:49:26.152Z"
   },
   {
    "duration": 149,
    "start_time": "2023-06-02T07:49:26.173Z"
   }
  ],
  "kernelspec": {
   "display_name": "Python 3 (ipykernel)",
   "language": "python",
   "name": "python3"
  },
  "language_info": {
   "codemirror_mode": {
    "name": "ipython",
    "version": 3
   },
   "file_extension": ".py",
   "mimetype": "text/x-python",
   "name": "python",
   "nbconvert_exporter": "python",
   "pygments_lexer": "ipython3",
   "version": "3.9.5"
  },
  "toc": {
   "base_numbering": 1,
   "nav_menu": {},
   "number_sections": false,
   "sideBar": true,
   "skip_h1_title": false,
   "title_cell": "Table of Contents",
   "title_sidebar": "Contents",
   "toc_cell": false,
   "toc_position": {
    "height": "calc(100% - 180px)",
    "left": "10px",
    "top": "150px",
    "width": "165px"
   },
   "toc_section_display": true,
   "toc_window_display": false
  }
 },
 "nbformat": 4,
 "nbformat_minor": 2
}
