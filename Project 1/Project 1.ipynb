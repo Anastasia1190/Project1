{
 "cells": [
  {
   "cell_type": "markdown",
   "metadata": {},
   "source": [
    "Интернет-магазин \"Стримчик\" занимается продажей по всему миру компьютерных игр. Из открытых источников доступны исторические данные о продажах игр, оценки пользователей и экспертов, жанры и платформы (например, Xbox или PlayStation). \n",
    "\n",
    "Цель исследования:\n",
    "- выявить определяющие успешность игры закономерности; \n",
    "- составление портрета пользователя игр по регионам.\n",
    "\n",
    "Это позволит сделать ставку на потенциально популярный продукт и спланировать рекламные кампании.\n",
    "\n",
    "Для исследования представлены данные до 2016 г.\n",
    "\n",
    "Ход исследования:\n",
    "- данные об играх я получу из файла /datasets/games.csv. О качестве данных ничего неизвестно, поэтому перед тем, как приступить к целям исследования, понадобится обзор данных.\n",
    "Я проверю данные на ошибки и оценю их влияние на исследование. Затем, на этапе предобработке данных, я исправлю все ошибки в данных, которые не приведут к искажению результата. Далее, создам необходимые столбцы, и приступлю к проведению исследовательского анализа.\n",
    "\n",
    "Таким образом, мое исследование пройдет в шесть этапов:\n",
    "1. Обзор данных\n",
    "2. Предобработка данных\n",
    "3. Проведение исследовательского анализа данных\n",
    "4. Составление портрета пользователя каждого региона\n",
    "5. Проверка гипотезы\n",
    "6. Написание общего вывода\n"
   ]
  },
  {
   "cell_type": "markdown",
   "metadata": {},
   "source": [
    "## Обзор данных"
   ]
  },
  {
   "cell_type": "markdown",
   "metadata": {},
   "source": [
    "### Чтение файла и изучение общей информации."
   ]
  },
  {
   "cell_type": "code",
   "execution_count": 1,
   "metadata": {},
   "outputs": [],
   "source": [
    "import pandas as pd"
   ]
  },
  {
   "cell_type": "code",
   "execution_count": 2,
   "metadata": {
    "scrolled": true
   },
   "outputs": [
    {
     "data": {
      "text/html": [
       "<div>\n",
       "<style scoped>\n",
       "    .dataframe tbody tr th:only-of-type {\n",
       "        vertical-align: middle;\n",
       "    }\n",
       "\n",
       "    .dataframe tbody tr th {\n",
       "        vertical-align: top;\n",
       "    }\n",
       "\n",
       "    .dataframe thead th {\n",
       "        text-align: right;\n",
       "    }\n",
       "</style>\n",
       "<table border=\"1\" class=\"dataframe\">\n",
       "  <thead>\n",
       "    <tr style=\"text-align: right;\">\n",
       "      <th></th>\n",
       "      <th>Name</th>\n",
       "      <th>Platform</th>\n",
       "      <th>Year_of_Release</th>\n",
       "      <th>Genre</th>\n",
       "      <th>NA_sales</th>\n",
       "      <th>EU_sales</th>\n",
       "      <th>JP_sales</th>\n",
       "      <th>Other_sales</th>\n",
       "      <th>Critic_Score</th>\n",
       "      <th>User_Score</th>\n",
       "      <th>Rating</th>\n",
       "    </tr>\n",
       "  </thead>\n",
       "  <tbody>\n",
       "    <tr>\n",
       "      <th>0</th>\n",
       "      <td>Wii Sports</td>\n",
       "      <td>Wii</td>\n",
       "      <td>2006.0</td>\n",
       "      <td>Sports</td>\n",
       "      <td>41.36</td>\n",
       "      <td>28.96</td>\n",
       "      <td>3.77</td>\n",
       "      <td>8.45</td>\n",
       "      <td>76.0</td>\n",
       "      <td>8</td>\n",
       "      <td>E</td>\n",
       "    </tr>\n",
       "    <tr>\n",
       "      <th>1</th>\n",
       "      <td>Super Mario Bros.</td>\n",
       "      <td>NES</td>\n",
       "      <td>1985.0</td>\n",
       "      <td>Platform</td>\n",
       "      <td>29.08</td>\n",
       "      <td>3.58</td>\n",
       "      <td>6.81</td>\n",
       "      <td>0.77</td>\n",
       "      <td>NaN</td>\n",
       "      <td>NaN</td>\n",
       "      <td>NaN</td>\n",
       "    </tr>\n",
       "    <tr>\n",
       "      <th>2</th>\n",
       "      <td>Mario Kart Wii</td>\n",
       "      <td>Wii</td>\n",
       "      <td>2008.0</td>\n",
       "      <td>Racing</td>\n",
       "      <td>15.68</td>\n",
       "      <td>12.76</td>\n",
       "      <td>3.79</td>\n",
       "      <td>3.29</td>\n",
       "      <td>82.0</td>\n",
       "      <td>8.3</td>\n",
       "      <td>E</td>\n",
       "    </tr>\n",
       "    <tr>\n",
       "      <th>3</th>\n",
       "      <td>Wii Sports Resort</td>\n",
       "      <td>Wii</td>\n",
       "      <td>2009.0</td>\n",
       "      <td>Sports</td>\n",
       "      <td>15.61</td>\n",
       "      <td>10.93</td>\n",
       "      <td>3.28</td>\n",
       "      <td>2.95</td>\n",
       "      <td>80.0</td>\n",
       "      <td>8</td>\n",
       "      <td>E</td>\n",
       "    </tr>\n",
       "    <tr>\n",
       "      <th>4</th>\n",
       "      <td>Pokemon Red/Pokemon Blue</td>\n",
       "      <td>GB</td>\n",
       "      <td>1996.0</td>\n",
       "      <td>Role-Playing</td>\n",
       "      <td>11.27</td>\n",
       "      <td>8.89</td>\n",
       "      <td>10.22</td>\n",
       "      <td>1.00</td>\n",
       "      <td>NaN</td>\n",
       "      <td>NaN</td>\n",
       "      <td>NaN</td>\n",
       "    </tr>\n",
       "    <tr>\n",
       "      <th>5</th>\n",
       "      <td>Tetris</td>\n",
       "      <td>GB</td>\n",
       "      <td>1989.0</td>\n",
       "      <td>Puzzle</td>\n",
       "      <td>23.20</td>\n",
       "      <td>2.26</td>\n",
       "      <td>4.22</td>\n",
       "      <td>0.58</td>\n",
       "      <td>NaN</td>\n",
       "      <td>NaN</td>\n",
       "      <td>NaN</td>\n",
       "    </tr>\n",
       "    <tr>\n",
       "      <th>6</th>\n",
       "      <td>New Super Mario Bros.</td>\n",
       "      <td>DS</td>\n",
       "      <td>2006.0</td>\n",
       "      <td>Platform</td>\n",
       "      <td>11.28</td>\n",
       "      <td>9.14</td>\n",
       "      <td>6.50</td>\n",
       "      <td>2.88</td>\n",
       "      <td>89.0</td>\n",
       "      <td>8.5</td>\n",
       "      <td>E</td>\n",
       "    </tr>\n",
       "    <tr>\n",
       "      <th>7</th>\n",
       "      <td>Wii Play</td>\n",
       "      <td>Wii</td>\n",
       "      <td>2006.0</td>\n",
       "      <td>Misc</td>\n",
       "      <td>13.96</td>\n",
       "      <td>9.18</td>\n",
       "      <td>2.93</td>\n",
       "      <td>2.84</td>\n",
       "      <td>58.0</td>\n",
       "      <td>6.6</td>\n",
       "      <td>E</td>\n",
       "    </tr>\n",
       "    <tr>\n",
       "      <th>8</th>\n",
       "      <td>New Super Mario Bros. Wii</td>\n",
       "      <td>Wii</td>\n",
       "      <td>2009.0</td>\n",
       "      <td>Platform</td>\n",
       "      <td>14.44</td>\n",
       "      <td>6.94</td>\n",
       "      <td>4.70</td>\n",
       "      <td>2.24</td>\n",
       "      <td>87.0</td>\n",
       "      <td>8.4</td>\n",
       "      <td>E</td>\n",
       "    </tr>\n",
       "    <tr>\n",
       "      <th>9</th>\n",
       "      <td>Duck Hunt</td>\n",
       "      <td>NES</td>\n",
       "      <td>1984.0</td>\n",
       "      <td>Shooter</td>\n",
       "      <td>26.93</td>\n",
       "      <td>0.63</td>\n",
       "      <td>0.28</td>\n",
       "      <td>0.47</td>\n",
       "      <td>NaN</td>\n",
       "      <td>NaN</td>\n",
       "      <td>NaN</td>\n",
       "    </tr>\n",
       "  </tbody>\n",
       "</table>\n",
       "</div>"
      ],
      "text/plain": [
       "                        Name Platform  Year_of_Release         Genre  \\\n",
       "0                 Wii Sports      Wii           2006.0        Sports   \n",
       "1          Super Mario Bros.      NES           1985.0      Platform   \n",
       "2             Mario Kart Wii      Wii           2008.0        Racing   \n",
       "3          Wii Sports Resort      Wii           2009.0        Sports   \n",
       "4   Pokemon Red/Pokemon Blue       GB           1996.0  Role-Playing   \n",
       "5                     Tetris       GB           1989.0        Puzzle   \n",
       "6      New Super Mario Bros.       DS           2006.0      Platform   \n",
       "7                   Wii Play      Wii           2006.0          Misc   \n",
       "8  New Super Mario Bros. Wii      Wii           2009.0      Platform   \n",
       "9                  Duck Hunt      NES           1984.0       Shooter   \n",
       "\n",
       "   NA_sales  EU_sales  JP_sales  Other_sales  Critic_Score User_Score Rating  \n",
       "0     41.36     28.96      3.77         8.45          76.0          8      E  \n",
       "1     29.08      3.58      6.81         0.77           NaN        NaN    NaN  \n",
       "2     15.68     12.76      3.79         3.29          82.0        8.3      E  \n",
       "3     15.61     10.93      3.28         2.95          80.0          8      E  \n",
       "4     11.27      8.89     10.22         1.00           NaN        NaN    NaN  \n",
       "5     23.20      2.26      4.22         0.58           NaN        NaN    NaN  \n",
       "6     11.28      9.14      6.50         2.88          89.0        8.5      E  \n",
       "7     13.96      9.18      2.93         2.84          58.0        6.6      E  \n",
       "8     14.44      6.94      4.70         2.24          87.0        8.4      E  \n",
       "9     26.93      0.63      0.28         0.47           NaN        NaN    NaN  "
      ]
     },
     "execution_count": 2,
     "metadata": {},
     "output_type": "execute_result"
    }
   ],
   "source": [
    "df = pd.read_csv('/datasets/games.csv')\n",
    "df.head(10)"
   ]
  },
  {
   "cell_type": "code",
   "execution_count": 3,
   "metadata": {},
   "outputs": [
    {
     "name": "stdout",
     "output_type": "stream",
     "text": [
      "<class 'pandas.core.frame.DataFrame'>\n",
      "RangeIndex: 16715 entries, 0 to 16714\n",
      "Data columns (total 11 columns):\n",
      " #   Column           Non-Null Count  Dtype  \n",
      "---  ------           --------------  -----  \n",
      " 0   Name             16713 non-null  object \n",
      " 1   Platform         16715 non-null  object \n",
      " 2   Year_of_Release  16446 non-null  float64\n",
      " 3   Genre            16713 non-null  object \n",
      " 4   NA_sales         16715 non-null  float64\n",
      " 5   EU_sales         16715 non-null  float64\n",
      " 6   JP_sales         16715 non-null  float64\n",
      " 7   Other_sales      16715 non-null  float64\n",
      " 8   Critic_Score     8137 non-null   float64\n",
      " 9   User_Score       10014 non-null  object \n",
      " 10  Rating           9949 non-null   object \n",
      "dtypes: float64(6), object(5)\n",
      "memory usage: 1.4+ MB\n"
     ]
    }
   ],
   "source": [
    "df.info() #получение общей информации о данных"
   ]
  },
  {
   "cell_type": "code",
   "execution_count": 4,
   "metadata": {
    "scrolled": true
   },
   "outputs": [
    {
     "data": {
      "image/png": "[encoded data removed]",
      "text/plain": [
       "<Figure size 720x1080 with 6 Axes>"
      ]
     },
     "metadata": {
      "needs_background": "light"
     },
     "output_type": "display_data"
    }
   ],
   "source": [
    "df.hist(figsize=(10,15)); #построение гистрограмм для числовых значений таблицы df"
   ]
  },
  {
   "cell_type": "code",
   "execution_count": 5,
   "metadata": {},
   "outputs": [
    {
     "data": {
      "text/plain": [
       "Index(['Name', 'Platform', 'Year_of_Release', 'Genre', 'NA_sales', 'EU_sales',\n",
       "       'JP_sales', 'Other_sales', 'Critic_Score', 'User_Score', 'Rating'],\n",
       "      dtype='object')"
      ]
     },
     "execution_count": 5,
     "metadata": {},
     "output_type": "execute_result"
    }
   ],
   "source": [
    "df.columns #выведение названия столбцов "
   ]
  },
  {
   "cell_type": "markdown",
   "metadata": {},
   "source": [
    "При первичном ознакомлении с данными, мы увидели, что в таблицы присутствуют пропуски во многих столбцах, необходимо изменить тип данных в некоторых столбцах. Названия столбцов в таблицы отображается не с применением нижнего регистра."
   ]
  },
  {
   "cell_type": "markdown",
   "metadata": {},
   "source": [
    "## Предобработка данных "
   ]
  },
  {
   "cell_type": "markdown",
   "metadata": {},
   "source": [
    "### Изменение названия столбцов"
   ]
  },
  {
   "cell_type": "code",
   "execution_count": 6,
   "metadata": {},
   "outputs": [],
   "source": [
    "#приводим названия столбцов к нижнему регистру\n",
    "df = df.rename(columns={'Name':'name', 'Platform':'platform', 'Year_of_Release':'year_of_release', 'Genre':'genre', 'NA_sales':'na_sales', 'EU_sales':'eu_sales', 'JP_sales':'jp_sales', 'Other_sales':'other_sales', 'Critic_Score':'critic_score', 'User_Score':'user_score', 'Rating':'rating'})"
   ]
  },
  {
   "cell_type": "code",
   "execution_count": 7,
   "metadata": {},
   "outputs": [
    {
     "data": {
      "text/plain": [
       "Index(['name', 'platform', 'year_of_release', 'genre', 'na_sales', 'eu_sales',\n",
       "       'jp_sales', 'other_sales', 'critic_score', 'user_score', 'rating'],\n",
       "      dtype='object')"
      ]
     },
     "execution_count": 7,
     "metadata": {},
     "output_type": "execute_result"
    }
   ],
   "source": [
    "df.columns #вывод названий всех столбцов - проверка"
   ]
  },
  {
   "cell_type": "markdown",
   "metadata": {},
   "source": [
    "### Работа с пропусками"
   ]
  },
  {
   "cell_type": "code",
   "execution_count": 8,
   "metadata": {},
   "outputs": [
    {
     "data": {
      "text/plain": [
       "name                  2\n",
       "platform              0\n",
       "year_of_release     269\n",
       "genre                 2\n",
       "na_sales              0\n",
       "eu_sales              0\n",
       "jp_sales              0\n",
       "other_sales           0\n",
       "critic_score       8578\n",
       "user_score         6701\n",
       "rating             6766\n",
       "dtype: int64"
      ]
     },
     "execution_count": 8,
     "metadata": {},
     "output_type": "execute_result"
    }
   ],
   "source": [
    "df.isna().sum() #количество пропущенных значений для каждого столбца"
   ]
  },
  {
   "cell_type": "code",
   "execution_count": 9,
   "metadata": {},
   "outputs": [
    {
     "data": {
      "text/html": [
       "<style  type=\"text/css\" >\n",
       "#T_03e76_row0_col0,#T_03e76_row1_col0,#T_03e76_row3_col0,#T_03e76_row4_col0,#T_03e76_row5_col0,#T_03e76_row6_col0,#T_03e76_row7_col0{\n",
       "            background-color:  #3b4cc0;\n",
       "            color:  #f1f1f1;\n",
       "        }#T_03e76_row2_col0{\n",
       "            background-color:  #465ecf;\n",
       "            color:  #f1f1f1;\n",
       "        }#T_03e76_row8_col0{\n",
       "            background-color:  #b40426;\n",
       "            color:  #f1f1f1;\n",
       "        }#T_03e76_row9_col0,#T_03e76_row10_col0{\n",
       "            background-color:  #f08b6e;\n",
       "            color:  #000000;\n",
       "        }</style><table id=\"T_03e76_\" ><thead>    <tr>        <th class=\"blank level0\" ></th>        <th class=\"col_heading level0 col0\" >0</th>    </tr></thead><tbody>\n",
       "                <tr>\n",
       "                        <th id=\"T_03e76_level0_row0\" class=\"row_heading level0 row0\" >name</th>\n",
       "                        <td id=\"T_03e76_row0_col0\" class=\"data row0 col0\" >0.000000</td>\n",
       "            </tr>\n",
       "            <tr>\n",
       "                        <th id=\"T_03e76_level0_row1\" class=\"row_heading level0 row1\" >platform</th>\n",
       "                        <td id=\"T_03e76_row1_col0\" class=\"data row1 col0\" >0.000000</td>\n",
       "            </tr>\n",
       "            <tr>\n",
       "                        <th id=\"T_03e76_level0_row2\" class=\"row_heading level0 row2\" >year_of_release</th>\n",
       "                        <td id=\"T_03e76_row2_col0\" class=\"data row2 col0\" >2.000000</td>\n",
       "            </tr>\n",
       "            <tr>\n",
       "                        <th id=\"T_03e76_level0_row3\" class=\"row_heading level0 row3\" >genre</th>\n",
       "                        <td id=\"T_03e76_row3_col0\" class=\"data row3 col0\" >0.000000</td>\n",
       "            </tr>\n",
       "            <tr>\n",
       "                        <th id=\"T_03e76_level0_row4\" class=\"row_heading level0 row4\" >na_sales</th>\n",
       "                        <td id=\"T_03e76_row4_col0\" class=\"data row4 col0\" >0.000000</td>\n",
       "            </tr>\n",
       "            <tr>\n",
       "                        <th id=\"T_03e76_level0_row5\" class=\"row_heading level0 row5\" >eu_sales</th>\n",
       "                        <td id=\"T_03e76_row5_col0\" class=\"data row5 col0\" >0.000000</td>\n",
       "            </tr>\n",
       "            <tr>\n",
       "                        <th id=\"T_03e76_level0_row6\" class=\"row_heading level0 row6\" >jp_sales</th>\n",
       "                        <td id=\"T_03e76_row6_col0\" class=\"data row6 col0\" >0.000000</td>\n",
       "            </tr>\n",
       "            <tr>\n",
       "                        <th id=\"T_03e76_level0_row7\" class=\"row_heading level0 row7\" >other_sales</th>\n",
       "                        <td id=\"T_03e76_row7_col0\" class=\"data row7 col0\" >0.000000</td>\n",
       "            </tr>\n",
       "            <tr>\n",
       "                        <th id=\"T_03e76_level0_row8\" class=\"row_heading level0 row8\" >critic_score</th>\n",
       "                        <td id=\"T_03e76_row8_col0\" class=\"data row8 col0\" >51.000000</td>\n",
       "            </tr>\n",
       "            <tr>\n",
       "                        <th id=\"T_03e76_level0_row9\" class=\"row_heading level0 row9\" >user_score</th>\n",
       "                        <td id=\"T_03e76_row9_col0\" class=\"data row9 col0\" >40.000000</td>\n",
       "            </tr>\n",
       "            <tr>\n",
       "                        <th id=\"T_03e76_level0_row10\" class=\"row_heading level0 row10\" >rating</th>\n",
       "                        <td id=\"T_03e76_row10_col0\" class=\"data row10 col0\" >40.000000</td>\n",
       "            </tr>\n",
       "    </tbody></table>"
      ],
      "text/plain": [
       "<pandas.io.formats.style.Styler at 0x7fbe09475c10>"
      ]
     },
     "execution_count": 9,
     "metadata": {},
     "output_type": "execute_result"
    }
   ],
   "source": [
    "pd.DataFrame(round(df.isna().mean()*100,)).style.background_gradient('coolwarm') #пропуски в процентном соотношении"
   ]
  },
  {
   "cell_type": "markdown",
   "metadata": {},
   "source": [
    "Мы обнаружили большое количество пропусок в таблице. Причины пропусков данных могут быть следующие:\n",
    "\n",
    "1) Человеческий фактор (ошибке, намеренное не предоставление данных и т.д.) 2) Технологический сбой (при копировании, перенесении таблицы и т.д.) 3) Пропуск должен быть, так как показывает отсутствие какого-либо фактора.\n",
    "Пропуски в колонках 'name', 'year_of_release' и 'genre' мы удалили, так как их обьем составляет менее 3% всей популяции."
   ]
  },
  {
   "cell_type": "code",
   "execution_count": 10,
   "metadata": {},
   "outputs": [],
   "source": [
    "#удаляем пропуски в столбцах name, year_of_release, genre\n",
    "df = df.dropna(subset = ['name'])\n",
    "df = df.dropna(subset = ['year_of_release'])\n",
    "df = df.dropna(subset = ['genre'])"
   ]
  },
  {
   "cell_type": "markdown",
   "metadata": {},
   "source": [
    "Пропуски в столбцах 'critic_score', 'user_score', 'rating' составляют более 40% от популяции и являются значимыми в проводимом исследования, поэтому удалять их нельзя, но и заменить их расчетной величиной мы не можем. \n",
    "Поэтому было принято решение, пропуски в столце 'rating' заменить на tbd (так как столбец с рейтингом имеет тип данных - object и эта замена на тип данных не повлияет), а пропуски в столбцах с оценками заменить на пустыне значения NaN."
   ]
  },
  {
   "cell_type": "code",
   "execution_count": 11,
   "metadata": {},
   "outputs": [],
   "source": [
    "#заменим пропуски в столбце на \"tbd\" - загулшка\n",
    "df['rating'] = df['rating'].fillna('tbd')"
   ]
  },
  {
   "cell_type": "code",
   "execution_count": 12,
   "metadata": {},
   "outputs": [
    {
     "data": {
      "text/plain": [
       "name                  0\n",
       "platform              0\n",
       "year_of_release       0\n",
       "genre                 0\n",
       "na_sales              0\n",
       "eu_sales              0\n",
       "jp_sales              0\n",
       "other_sales           0\n",
       "critic_score       8461\n",
       "user_score         6605\n",
       "rating                0\n",
       "dtype: int64"
      ]
     },
     "execution_count": 12,
     "metadata": {},
     "output_type": "execute_result"
    }
   ],
   "source": [
    "df.isna().sum() #проверка"
   ]
  },
  {
   "cell_type": "markdown",
   "metadata": {},
   "source": [
    "### Преобразование типа данных "
   ]
  },
  {
   "cell_type": "code",
   "execution_count": 13,
   "metadata": {},
   "outputs": [],
   "source": [
    "df['user_score'] = pd.to_numeric(df['user_score'], errors='coerce')\n",
    "#заменяем tbd в столбце на пустые значения NaN для корректного отображения типа данных столбца"
   ]
  },
  {
   "cell_type": "code",
   "execution_count": 14,
   "metadata": {
    "scrolled": true
   },
   "outputs": [
    {
     "name": "stdout",
     "output_type": "stream",
     "text": [
      "<class 'pandas.core.frame.DataFrame'>\n",
      "Int64Index: 16444 entries, 0 to 16714\n",
      "Data columns (total 11 columns):\n",
      " #   Column           Non-Null Count  Dtype  \n",
      "---  ------           --------------  -----  \n",
      " 0   name             16444 non-null  object \n",
      " 1   platform         16444 non-null  object \n",
      " 2   year_of_release  16444 non-null  int64  \n",
      " 3   genre            16444 non-null  object \n",
      " 4   na_sales         16444 non-null  float64\n",
      " 5   eu_sales         16444 non-null  float64\n",
      " 6   jp_sales         16444 non-null  float64\n",
      " 7   other_sales      16444 non-null  float64\n",
      " 8   critic_score     7983 non-null   float64\n",
      " 9   user_score       7463 non-null   float64\n",
      " 10  rating           16444 non-null  object \n",
      "dtypes: float64(6), int64(1), object(4)\n",
      "memory usage: 1.5+ MB\n"
     ]
    }
   ],
   "source": [
    "df['year_of_release'] = df['year_of_release'].astype(int) #изменяем тип данных на int\n",
    "df.info()"
   ]
  },
  {
   "cell_type": "markdown",
   "metadata": {},
   "source": [
    "Мы преобразовали тип данных там, где это требовалось и оставили пропуски в столбцах с оценками, так как это требовалось для совершения расчетов в будущих наших вычислениях. "
   ]
  },
  {
   "cell_type": "markdown",
   "metadata": {},
   "source": [
    "### Работа с дубликатами"
   ]
  },
  {
   "cell_type": "code",
   "execution_count": 15,
   "metadata": {},
   "outputs": [
    {
     "data": {
      "text/plain": [
       "0"
      ]
     },
     "execution_count": 15,
     "metadata": {},
     "output_type": "execute_result"
    }
   ],
   "source": [
    "df.duplicated().sum() #выявляем наличие дубликатов в таблице"
   ]
  },
  {
   "cell_type": "code",
   "execution_count": 16,
   "metadata": {},
   "outputs": [
    {
     "data": {
      "text/plain": [
       "array(['Sports', 'Platform', 'Racing', 'Role-Playing', 'Puzzle', 'Misc',\n",
       "       'Shooter', 'Simulation', 'Action', 'Fighting', 'Adventure',\n",
       "       'Strategy'], dtype=object)"
      ]
     },
     "execution_count": 16,
     "metadata": {},
     "output_type": "execute_result"
    }
   ],
   "source": [
    "df['genre'].unique() #провекра на неявные дубликаты в столбце 'genre'"
   ]
  },
  {
   "cell_type": "code",
   "execution_count": 17,
   "metadata": {},
   "outputs": [
    {
     "data": {
      "text/plain": [
       "array(['Wii', 'NES', 'GB', 'DS', 'X360', 'PS3', 'PS2', 'SNES', 'GBA',\n",
       "       'PS4', '3DS', 'N64', 'PS', 'XB', 'PC', '2600', 'PSP', 'XOne',\n",
       "       'WiiU', 'GC', 'GEN', 'DC', 'PSV', 'SAT', 'SCD', 'WS', 'NG', 'TG16',\n",
       "       '3DO', 'GG', 'PCFX'], dtype=object)"
      ]
     },
     "execution_count": 17,
     "metadata": {},
     "output_type": "execute_result"
    }
   ],
   "source": [
    "df['platform'].unique() #проверка на неявные дубликаты в столбце 'platform'"
   ]
  },
  {
   "cell_type": "markdown",
   "metadata": {},
   "source": [
    "По результатам работы по поиску дубликатов в предоставленных данных - выявленных явных\\неявных дубликатов - 0."
   ]
  },
  {
   "cell_type": "markdown",
   "metadata": {},
   "source": [
    "### Расчеты и добавление данных в таблицу "
   ]
  },
  {
   "cell_type": "code",
   "execution_count": 18,
   "metadata": {},
   "outputs": [],
   "source": [
    "#добавление колонки по суммарным продажам по регионам\n",
    "df['total_sales']=df[['na_sales','eu_sales','jp_sales','other_sales']].sum(axis='columns')"
   ]
  },
  {
   "cell_type": "markdown",
   "metadata": {},
   "source": [
    "## Проведение исследовательского анализа данных "
   ]
  },
  {
   "cell_type": "code",
   "execution_count": 20,
   "metadata": {},
   "outputs": [],
   "source": [
    "import seaborn as sns\n",
    "import matplotlib.pyplot as plt"
   ]
  },
  {
   "cell_type": "markdown",
   "metadata": {},
   "source": [
    "### Анализ количества выпускаемых игр "
   ]
  },
  {
   "cell_type": "code",
   "execution_count": 21,
   "metadata": {},
   "outputs": [
    {
     "data": {
      "image/png": "[encoded data removed]",
      "text/plain": [
       "<Figure size 1080x216 with 1 Axes>"
      ]
     },
     "metadata": {
      "needs_background": "light"
     },
     "output_type": "display_data"
    }
   ],
   "source": [
    "# количество выпускаемых игр по годам \n",
    "number_of_games=df.pivot_table(index='year_of_release', values='name',aggfunc='count')\n",
    "number_of_games.columns=['count']\n",
    "number_of_games.plot(title='Количество выпускаемых игр по годам', xlabel='год выпуска', ylabel='кол-во игр', y='count', figsize=(15,3), kind='bar')\n",
    "plt.show()"
   ]
  },
  {
   "cell_type": "markdown",
   "metadata": {},
   "source": [
    "По графику выше можно увидеть, что пик выпускаемых игр приходится на 2008-2009 года. До 2008 года наблюдался рост продаваемости игр, после 2009 года мы видим спад продаж. Данные до 1995 года предлагаем не рассматривать в виду незначительных показателей (возможно этап разработки и дизайна)."
   ]
  },
  {
   "cell_type": "code",
   "execution_count": 22,
   "metadata": {},
   "outputs": [
    {
     "data": {
      "image/png": "[encoded data removed]",
      "text/plain": [
       "<Figure size 1080x216 with 1 Axes>"
      ]
     },
     "metadata": {
      "needs_background": "light"
     },
     "output_type": "display_data"
    }
   ],
   "source": [
    "#строим сводную таблицу топ продаж по платформам\n",
    "platform_pivot = df.pivot_table(index='platform', values='total_sales', aggfunc='sum')\n",
    "platform_pivot= platform_pivot.sort_values(by='total_sales', ascending=False);\n",
    "platform_pivot.plot(title='Продажи по платформам', xlabel='Платформы', ylabel='Продажи', y='total_sales', figsize=(15,3), kind='bar')\n",
    "plt.show()"
   ]
  },
  {
   "cell_type": "markdown",
   "metadata": {},
   "source": [
    "### Определение топ-10 платформ"
   ]
  },
  {
   "cell_type": "code",
   "execution_count": 23,
   "metadata": {},
   "outputs": [],
   "source": [
    "#создаем новый датафрейм по топ-10 платформам\n",
    "df1=df.loc[(df['platform'].isin(['PS2','X360','PS3','Wii','DS','PS','PS4','GBA','PSP','3DS']))]"
   ]
  },
  {
   "cell_type": "code",
   "execution_count": 24,
   "metadata": {},
   "outputs": [
    {
     "data": {
      "text/plain": [
       "6722.04"
      ]
     },
     "execution_count": 24,
     "metadata": {},
     "output_type": "execute_result"
    }
   ],
   "source": [
    "df1['total_sales'].sum() #проверка полноты новой популяции "
   ]
  },
  {
   "cell_type": "code",
   "execution_count": 25,
   "metadata": {},
   "outputs": [
    {
     "data": {
      "text/html": [
       "<div>\n",
       "<style scoped>\n",
       "    .dataframe tbody tr th:only-of-type {\n",
       "        vertical-align: middle;\n",
       "    }\n",
       "\n",
       "    .dataframe tbody tr th {\n",
       "        vertical-align: top;\n",
       "    }\n",
       "\n",
       "    .dataframe thead th {\n",
       "        text-align: right;\n",
       "    }\n",
       "</style>\n",
       "<table border=\"1\" class=\"dataframe\">\n",
       "  <thead>\n",
       "    <tr style=\"text-align: right;\">\n",
       "      <th></th>\n",
       "      <th></th>\n",
       "      <th>total_sales</th>\n",
       "    </tr>\n",
       "    <tr>\n",
       "      <th>platform</th>\n",
       "      <th>year_of_release</th>\n",
       "      <th></th>\n",
       "    </tr>\n",
       "  </thead>\n",
       "  <tbody>\n",
       "    <tr>\n",
       "      <th rowspan=\"5\" valign=\"top\">3DS</th>\n",
       "      <th>2011</th>\n",
       "      <td>63.20</td>\n",
       "    </tr>\n",
       "    <tr>\n",
       "      <th>2012</th>\n",
       "      <td>51.36</td>\n",
       "    </tr>\n",
       "    <tr>\n",
       "      <th>2013</th>\n",
       "      <td>56.57</td>\n",
       "    </tr>\n",
       "    <tr>\n",
       "      <th>2014</th>\n",
       "      <td>43.76</td>\n",
       "    </tr>\n",
       "    <tr>\n",
       "      <th>2015</th>\n",
       "      <td>27.78</td>\n",
       "    </tr>\n",
       "    <tr>\n",
       "      <th>...</th>\n",
       "      <th>...</th>\n",
       "      <td>...</td>\n",
       "    </tr>\n",
       "    <tr>\n",
       "      <th rowspan=\"5\" valign=\"top\">X360</th>\n",
       "      <th>2012</th>\n",
       "      <td>99.74</td>\n",
       "    </tr>\n",
       "    <tr>\n",
       "      <th>2013</th>\n",
       "      <td>88.58</td>\n",
       "    </tr>\n",
       "    <tr>\n",
       "      <th>2014</th>\n",
       "      <td>34.74</td>\n",
       "    </tr>\n",
       "    <tr>\n",
       "      <th>2015</th>\n",
       "      <td>11.96</td>\n",
       "    </tr>\n",
       "    <tr>\n",
       "      <th>2016</th>\n",
       "      <td>1.52</td>\n",
       "    </tr>\n",
       "  </tbody>\n",
       "</table>\n",
       "<p>97 rows × 1 columns</p>\n",
       "</div>"
      ],
      "text/plain": [
       "                          total_sales\n",
       "platform year_of_release             \n",
       "3DS      2011                   63.20\n",
       "         2012                   51.36\n",
       "         2013                   56.57\n",
       "         2014                   43.76\n",
       "         2015                   27.78\n",
       "...                               ...\n",
       "X360     2012                   99.74\n",
       "         2013                   88.58\n",
       "         2014                   34.74\n",
       "         2015                   11.96\n",
       "         2016                    1.52\n",
       "\n",
       "[97 rows x 1 columns]"
      ]
     },
     "execution_count": 25,
     "metadata": {},
     "output_type": "execute_result"
    }
   ],
   "source": [
    "#группируем данные по продажам по годам по топ-10 платформ\n",
    "df2 = df1.groupby(['platform','year_of_release']).agg(total_sales=('total_sales','sum'))\n",
    "df2"
   ]
  },
  {
   "cell_type": "code",
   "execution_count": 26,
   "metadata": {
    "scrolled": true
   },
   "outputs": [
    {
     "data": {
      "image/png": "[encoded data removed]",
      "text/plain": [
       "<Figure size 720x360 with 1 Axes>"
      ]
     },
     "metadata": {
      "needs_background": "light"
     },
     "output_type": "display_data"
    }
   ],
   "source": [
    "#постороение графика \n",
    "plt.figure(figsize=(10,5))\n",
    "sns.lineplot(data=df2, x='year_of_release', y='total_sales', hue='platform');\n",
    "plt.title('Распределение продаж игр по годам в разрезе платформ');"
   ]
  },
  {
   "cell_type": "markdown",
   "metadata": {},
   "source": [
    "По линейному графику выше мы можем увидеть, что средний срок зрелости по жизненному циклу товара равен примерно 3-4 годам, поэтому мы в своих будущих исследовательских расчетах мы будем использовать период, начиная с 2012 года. Также за этот период ( с 2012 по 2015гг мы видим, как несколько платформ уже проходят стадию  спада жизненного цикла и одновременно с этим появляются новые платформы)."
   ]
  },
  {
   "cell_type": "code",
   "execution_count": 27,
   "metadata": {},
   "outputs": [],
   "source": [
    "#создаем новый датафрейм с актуальным периодом\n",
    "df_actual = df.loc[df['year_of_release'] > 2012]"
   ]
  },
  {
   "cell_type": "code",
   "execution_count": 28,
   "metadata": {},
   "outputs": [
    {
     "data": {
      "text/html": [
       "<div>\n",
       "<style scoped>\n",
       "    .dataframe tbody tr th:only-of-type {\n",
       "        vertical-align: middle;\n",
       "    }\n",
       "\n",
       "    .dataframe tbody tr th {\n",
       "        vertical-align: top;\n",
       "    }\n",
       "\n",
       "    .dataframe thead th {\n",
       "        text-align: right;\n",
       "    }\n",
       "</style>\n",
       "<table border=\"1\" class=\"dataframe\">\n",
       "  <thead>\n",
       "    <tr style=\"text-align: right;\">\n",
       "      <th></th>\n",
       "      <th></th>\n",
       "      <th>total_sales</th>\n",
       "    </tr>\n",
       "    <tr>\n",
       "      <th>platform</th>\n",
       "      <th>year_of_release</th>\n",
       "      <th></th>\n",
       "    </tr>\n",
       "  </thead>\n",
       "  <tbody>\n",
       "    <tr>\n",
       "      <th rowspan=\"4\" valign=\"top\">3DS</th>\n",
       "      <th>2013</th>\n",
       "      <td>56.57</td>\n",
       "    </tr>\n",
       "    <tr>\n",
       "      <th>2014</th>\n",
       "      <td>43.76</td>\n",
       "    </tr>\n",
       "    <tr>\n",
       "      <th>2015</th>\n",
       "      <td>27.78</td>\n",
       "    </tr>\n",
       "    <tr>\n",
       "      <th>2016</th>\n",
       "      <td>15.14</td>\n",
       "    </tr>\n",
       "    <tr>\n",
       "      <th>DS</th>\n",
       "      <th>2013</th>\n",
       "      <td>1.54</td>\n",
       "    </tr>\n",
       "    <tr>\n",
       "      <th rowspan=\"4\" valign=\"top\">PC</th>\n",
       "      <th>2013</th>\n",
       "      <td>12.38</td>\n",
       "    </tr>\n",
       "    <tr>\n",
       "      <th>2014</th>\n",
       "      <td>13.28</td>\n",
       "    </tr>\n",
       "    <tr>\n",
       "      <th>2015</th>\n",
       "      <td>8.52</td>\n",
       "    </tr>\n",
       "    <tr>\n",
       "      <th>2016</th>\n",
       "      <td>5.25</td>\n",
       "    </tr>\n",
       "    <tr>\n",
       "      <th rowspan=\"4\" valign=\"top\">PS3</th>\n",
       "      <th>2013</th>\n",
       "      <td>113.25</td>\n",
       "    </tr>\n",
       "    <tr>\n",
       "      <th>2014</th>\n",
       "      <td>47.76</td>\n",
       "    </tr>\n",
       "    <tr>\n",
       "      <th>2015</th>\n",
       "      <td>16.82</td>\n",
       "    </tr>\n",
       "    <tr>\n",
       "      <th>2016</th>\n",
       "      <td>3.60</td>\n",
       "    </tr>\n",
       "    <tr>\n",
       "      <th rowspan=\"4\" valign=\"top\">PS4</th>\n",
       "      <th>2013</th>\n",
       "      <td>25.99</td>\n",
       "    </tr>\n",
       "    <tr>\n",
       "      <th>2014</th>\n",
       "      <td>100.00</td>\n",
       "    </tr>\n",
       "    <tr>\n",
       "      <th>2015</th>\n",
       "      <td>118.90</td>\n",
       "    </tr>\n",
       "    <tr>\n",
       "      <th>2016</th>\n",
       "      <td>69.25</td>\n",
       "    </tr>\n",
       "    <tr>\n",
       "      <th rowspan=\"3\" valign=\"top\">PSP</th>\n",
       "      <th>2013</th>\n",
       "      <td>3.14</td>\n",
       "    </tr>\n",
       "    <tr>\n",
       "      <th>2014</th>\n",
       "      <td>0.24</td>\n",
       "    </tr>\n",
       "    <tr>\n",
       "      <th>2015</th>\n",
       "      <td>0.12</td>\n",
       "    </tr>\n",
       "    <tr>\n",
       "      <th rowspan=\"4\" valign=\"top\">PSV</th>\n",
       "      <th>2013</th>\n",
       "      <td>10.59</td>\n",
       "    </tr>\n",
       "    <tr>\n",
       "      <th>2014</th>\n",
       "      <td>11.90</td>\n",
       "    </tr>\n",
       "    <tr>\n",
       "      <th>2015</th>\n",
       "      <td>6.25</td>\n",
       "    </tr>\n",
       "    <tr>\n",
       "      <th>2016</th>\n",
       "      <td>4.25</td>\n",
       "    </tr>\n",
       "    <tr>\n",
       "      <th rowspan=\"4\" valign=\"top\">Wii</th>\n",
       "      <th>2013</th>\n",
       "      <td>8.59</td>\n",
       "    </tr>\n",
       "    <tr>\n",
       "      <th>2014</th>\n",
       "      <td>3.75</td>\n",
       "    </tr>\n",
       "    <tr>\n",
       "      <th>2015</th>\n",
       "      <td>1.14</td>\n",
       "    </tr>\n",
       "    <tr>\n",
       "      <th>2016</th>\n",
       "      <td>0.18</td>\n",
       "    </tr>\n",
       "    <tr>\n",
       "      <th rowspan=\"4\" valign=\"top\">WiiU</th>\n",
       "      <th>2013</th>\n",
       "      <td>21.65</td>\n",
       "    </tr>\n",
       "    <tr>\n",
       "      <th>2014</th>\n",
       "      <td>22.03</td>\n",
       "    </tr>\n",
       "    <tr>\n",
       "      <th>2015</th>\n",
       "      <td>16.35</td>\n",
       "    </tr>\n",
       "    <tr>\n",
       "      <th>2016</th>\n",
       "      <td>4.60</td>\n",
       "    </tr>\n",
       "    <tr>\n",
       "      <th rowspan=\"4\" valign=\"top\">X360</th>\n",
       "      <th>2013</th>\n",
       "      <td>88.58</td>\n",
       "    </tr>\n",
       "    <tr>\n",
       "      <th>2014</th>\n",
       "      <td>34.74</td>\n",
       "    </tr>\n",
       "    <tr>\n",
       "      <th>2015</th>\n",
       "      <td>11.96</td>\n",
       "    </tr>\n",
       "    <tr>\n",
       "      <th>2016</th>\n",
       "      <td>1.52</td>\n",
       "    </tr>\n",
       "    <tr>\n",
       "      <th rowspan=\"4\" valign=\"top\">XOne</th>\n",
       "      <th>2013</th>\n",
       "      <td>18.96</td>\n",
       "    </tr>\n",
       "    <tr>\n",
       "      <th>2014</th>\n",
       "      <td>54.07</td>\n",
       "    </tr>\n",
       "    <tr>\n",
       "      <th>2015</th>\n",
       "      <td>60.14</td>\n",
       "    </tr>\n",
       "    <tr>\n",
       "      <th>2016</th>\n",
       "      <td>26.15</td>\n",
       "    </tr>\n",
       "  </tbody>\n",
       "</table>\n",
       "</div>"
      ],
      "text/plain": [
       "                          total_sales\n",
       "platform year_of_release             \n",
       "3DS      2013                   56.57\n",
       "         2014                   43.76\n",
       "         2015                   27.78\n",
       "         2016                   15.14\n",
       "DS       2013                    1.54\n",
       "PC       2013                   12.38\n",
       "         2014                   13.28\n",
       "         2015                    8.52\n",
       "         2016                    5.25\n",
       "PS3      2013                  113.25\n",
       "         2014                   47.76\n",
       "         2015                   16.82\n",
       "         2016                    3.60\n",
       "PS4      2013                   25.99\n",
       "         2014                  100.00\n",
       "         2015                  118.90\n",
       "         2016                   69.25\n",
       "PSP      2013                    3.14\n",
       "         2014                    0.24\n",
       "         2015                    0.12\n",
       "PSV      2013                   10.59\n",
       "         2014                   11.90\n",
       "         2015                    6.25\n",
       "         2016                    4.25\n",
       "Wii      2013                    8.59\n",
       "         2014                    3.75\n",
       "         2015                    1.14\n",
       "         2016                    0.18\n",
       "WiiU     2013                   21.65\n",
       "         2014                   22.03\n",
       "         2015                   16.35\n",
       "         2016                    4.60\n",
       "X360     2013                   88.58\n",
       "         2014                   34.74\n",
       "         2015                   11.96\n",
       "         2016                    1.52\n",
       "XOne     2013                   18.96\n",
       "         2014                   54.07\n",
       "         2015                   60.14\n",
       "         2016                   26.15"
      ]
     },
     "execution_count": 28,
     "metadata": {},
     "output_type": "execute_result"
    }
   ],
   "source": [
    "#группируем данные по продажам по годам по топ-10 платформ\n",
    "df_act_period = df_actual.groupby(['platform','year_of_release']).agg(total_sales=('total_sales','sum'))\n",
    "df_act_period"
   ]
  },
  {
   "cell_type": "code",
   "execution_count": 29,
   "metadata": {},
   "outputs": [
    {
     "data": {
      "image/png": "[encoded data removed]",
      "text/plain": [
       "<Figure size 720x360 with 1 Axes>"
      ]
     },
     "metadata": {
      "needs_background": "light"
     },
     "output_type": "display_data"
    }
   ],
   "source": [
    "#постороение графика \n",
    "plt.figure(figsize=(10,5))\n",
    "sns.lineplot(data=df_act_period, x='year_of_release', y='total_sales', hue='platform');\n",
    "plt.title('Продажи платформ по годам (актуальный период)');"
   ]
  },
  {
   "cell_type": "code",
   "execution_count": 30,
   "metadata": {},
   "outputs": [],
   "source": [
    "#df_act_period = df_actual.pivot_table(index=['year_of_release'], columns='platform', values='total_sales', aggfunc=['sum'])\n",
    "#df_act_period"
   ]
  },
  {
   "cell_type": "code",
   "execution_count": 31,
   "metadata": {},
   "outputs": [],
   "source": [
    "df_platforms_act = df_actual.groupby('platform', as_index=False).agg(sales=('total_sales', 'sum')).sort_values(by='sales', ascending=False)"
   ]
  },
  {
   "cell_type": "code",
   "execution_count": 32,
   "metadata": {},
   "outputs": [
    {
     "data": {
      "image/png": "[encoded data removed]",
      "text/plain": [
       "<Figure size 576x288 with 1 Axes>"
      ]
     },
     "metadata": {
      "needs_background": "light"
     },
     "output_type": "display_data"
    }
   ],
   "source": [
    "df_platforms_act.plot(x='platform', y='sales', kind='bar', figsize=(8,4))\n",
    "plt.title('Продажи по платформам за актуальный период')\n",
    "plt.xlabel('Платформы')\n",
    "plt.ylabel('Общие продажи');"
   ]
  },
  {
   "cell_type": "markdown",
   "metadata": {},
   "source": [
    "По построенным графикам выше, можно увидеть, что за актуальный период лидирующую позицию занимает платформа - 'PS4'. Также, к потенциально прибыльным платформам мы бы отнесли платформу 'XOne'. Остальные платформы за актуальный период имеют нисходящий тренд, и, возможно находятся на стадии завершения жизненного цикла."
   ]
  },
  {
   "cell_type": "markdown",
   "metadata": {},
   "source": [
    "### Построение \"ящика с усами\" по платформам "
   ]
  },
  {
   "cell_type": "code",
   "execution_count": 33,
   "metadata": {},
   "outputs": [
    {
     "data": {
      "image/png": "[encoded data removed]",
      "text/plain": [
       "<Figure size 936x576 with 1 Axes>"
      ]
     },
     "metadata": {
      "needs_background": "light"
     },
     "output_type": "display_data"
    }
   ],
   "source": [
    "plt.figure(figsize=(13,8))\n",
    "sns.boxplot(data=df_actual,x='platform', y='total_sales');\n",
    "plt.title('Построение \"ящика с усами\" по всем платформам');"
   ]
  },
  {
   "cell_type": "code",
   "execution_count": 34,
   "metadata": {
    "scrolled": true
   },
   "outputs": [
    {
     "data": {
      "image/png": "[encoded data removed]",
      "text/plain": [
       "<Figure size 936x576 with 1 Axes>"
      ]
     },
     "metadata": {
      "needs_background": "light"
     },
     "output_type": "display_data"
    }
   ],
   "source": [
    "plt.figure(figsize=(13,8))\n",
    "sns.boxplot(data=df_actual,x='platform', y='total_sales');\n",
    "plt.title('Построение \"ящика с усами\" по всем платформам')\n",
    "plt.ylim(0,1);"
   ]
  },
  {
   "cell_type": "code",
   "execution_count": 35,
   "metadata": {},
   "outputs": [
    {
     "data": {
      "text/html": [
       "<div>\n",
       "<style scoped>\n",
       "    .dataframe tbody tr th:only-of-type {\n",
       "        vertical-align: middle;\n",
       "    }\n",
       "\n",
       "    .dataframe tbody tr th {\n",
       "        vertical-align: top;\n",
       "    }\n",
       "\n",
       "    .dataframe thead th {\n",
       "        text-align: right;\n",
       "    }\n",
       "</style>\n",
       "<table border=\"1\" class=\"dataframe\">\n",
       "  <thead>\n",
       "    <tr style=\"text-align: right;\">\n",
       "      <th></th>\n",
       "      <th>count</th>\n",
       "      <th>mean</th>\n",
       "      <th>std</th>\n",
       "      <th>min</th>\n",
       "      <th>25%</th>\n",
       "      <th>50%</th>\n",
       "      <th>75%</th>\n",
       "      <th>max</th>\n",
       "    </tr>\n",
       "    <tr>\n",
       "      <th>platform</th>\n",
       "      <th></th>\n",
       "      <th></th>\n",
       "      <th></th>\n",
       "      <th></th>\n",
       "      <th></th>\n",
       "      <th></th>\n",
       "      <th></th>\n",
       "      <th></th>\n",
       "    </tr>\n",
       "  </thead>\n",
       "  <tbody>\n",
       "    <tr>\n",
       "      <th>3DS</th>\n",
       "      <td>303.0</td>\n",
       "      <td>0.472772</td>\n",
       "      <td>1.381347</td>\n",
       "      <td>0.01</td>\n",
       "      <td>0.0400</td>\n",
       "      <td>0.090</td>\n",
       "      <td>0.2800</td>\n",
       "      <td>14.60</td>\n",
       "    </tr>\n",
       "    <tr>\n",
       "      <th>DS</th>\n",
       "      <td>8.0</td>\n",
       "      <td>0.192500</td>\n",
       "      <td>0.172026</td>\n",
       "      <td>0.03</td>\n",
       "      <td>0.0675</td>\n",
       "      <td>0.150</td>\n",
       "      <td>0.2525</td>\n",
       "      <td>0.51</td>\n",
       "    </tr>\n",
       "    <tr>\n",
       "      <th>PC</th>\n",
       "      <td>189.0</td>\n",
       "      <td>0.208624</td>\n",
       "      <td>0.352304</td>\n",
       "      <td>0.01</td>\n",
       "      <td>0.0300</td>\n",
       "      <td>0.080</td>\n",
       "      <td>0.2300</td>\n",
       "      <td>3.05</td>\n",
       "    </tr>\n",
       "    <tr>\n",
       "      <th>PS3</th>\n",
       "      <td>345.0</td>\n",
       "      <td>0.525884</td>\n",
       "      <td>1.451939</td>\n",
       "      <td>0.01</td>\n",
       "      <td>0.0400</td>\n",
       "      <td>0.150</td>\n",
       "      <td>0.5100</td>\n",
       "      <td>21.05</td>\n",
       "    </tr>\n",
       "    <tr>\n",
       "      <th>PS4</th>\n",
       "      <td>392.0</td>\n",
       "      <td>0.801378</td>\n",
       "      <td>1.609456</td>\n",
       "      <td>0.01</td>\n",
       "      <td>0.0600</td>\n",
       "      <td>0.200</td>\n",
       "      <td>0.7300</td>\n",
       "      <td>14.63</td>\n",
       "    </tr>\n",
       "    <tr>\n",
       "      <th>PSP</th>\n",
       "      <td>67.0</td>\n",
       "      <td>0.052239</td>\n",
       "      <td>0.059768</td>\n",
       "      <td>0.01</td>\n",
       "      <td>0.0150</td>\n",
       "      <td>0.020</td>\n",
       "      <td>0.0700</td>\n",
       "      <td>0.24</td>\n",
       "    </tr>\n",
       "    <tr>\n",
       "      <th>PSV</th>\n",
       "      <td>358.0</td>\n",
       "      <td>0.092151</td>\n",
       "      <td>0.153816</td>\n",
       "      <td>0.01</td>\n",
       "      <td>0.0200</td>\n",
       "      <td>0.040</td>\n",
       "      <td>0.1100</td>\n",
       "      <td>1.96</td>\n",
       "    </tr>\n",
       "    <tr>\n",
       "      <th>Wii</th>\n",
       "      <td>23.0</td>\n",
       "      <td>0.593913</td>\n",
       "      <td>0.915432</td>\n",
       "      <td>0.01</td>\n",
       "      <td>0.0450</td>\n",
       "      <td>0.180</td>\n",
       "      <td>0.7550</td>\n",
       "      <td>3.58</td>\n",
       "    </tr>\n",
       "    <tr>\n",
       "      <th>WiiU</th>\n",
       "      <td>115.0</td>\n",
       "      <td>0.562000</td>\n",
       "      <td>1.038778</td>\n",
       "      <td>0.01</td>\n",
       "      <td>0.0600</td>\n",
       "      <td>0.200</td>\n",
       "      <td>0.5950</td>\n",
       "      <td>7.09</td>\n",
       "    </tr>\n",
       "    <tr>\n",
       "      <th>X360</th>\n",
       "      <td>186.0</td>\n",
       "      <td>0.735484</td>\n",
       "      <td>1.663275</td>\n",
       "      <td>0.01</td>\n",
       "      <td>0.0800</td>\n",
       "      <td>0.265</td>\n",
       "      <td>0.7950</td>\n",
       "      <td>16.27</td>\n",
       "    </tr>\n",
       "    <tr>\n",
       "      <th>XOne</th>\n",
       "      <td>247.0</td>\n",
       "      <td>0.645020</td>\n",
       "      <td>1.036139</td>\n",
       "      <td>0.01</td>\n",
       "      <td>0.0600</td>\n",
       "      <td>0.220</td>\n",
       "      <td>0.6850</td>\n",
       "      <td>7.39</td>\n",
       "    </tr>\n",
       "  </tbody>\n",
       "</table>\n",
       "</div>"
      ],
      "text/plain": [
       "          count      mean       std   min     25%    50%     75%    max\n",
       "platform                                                               \n",
       "3DS       303.0  0.472772  1.381347  0.01  0.0400  0.090  0.2800  14.60\n",
       "DS          8.0  0.192500  0.172026  0.03  0.0675  0.150  0.2525   0.51\n",
       "PC        189.0  0.208624  0.352304  0.01  0.0300  0.080  0.2300   3.05\n",
       "PS3       345.0  0.525884  1.451939  0.01  0.0400  0.150  0.5100  21.05\n",
       "PS4       392.0  0.801378  1.609456  0.01  0.0600  0.200  0.7300  14.63\n",
       "PSP        67.0  0.052239  0.059768  0.01  0.0150  0.020  0.0700   0.24\n",
       "PSV       358.0  0.092151  0.153816  0.01  0.0200  0.040  0.1100   1.96\n",
       "Wii        23.0  0.593913  0.915432  0.01  0.0450  0.180  0.7550   3.58\n",
       "WiiU      115.0  0.562000  1.038778  0.01  0.0600  0.200  0.5950   7.09\n",
       "X360      186.0  0.735484  1.663275  0.01  0.0800  0.265  0.7950  16.27\n",
       "XOne      247.0  0.645020  1.036139  0.01  0.0600  0.220  0.6850   7.39"
      ]
     },
     "execution_count": 35,
     "metadata": {},
     "output_type": "execute_result"
    }
   ],
   "source": [
    "df_actual.groupby('platform')['total_sales'].describe()"
   ]
  },
  {
   "cell_type": "markdown",
   "metadata": {},
   "source": [
    "Самый максимальный уровень продаж мы видим у платформы PS3 - 21.05 млн.\n",
    "\n",
    "Мы выделили платформы в 2 группы - популярные с большим количество продаж, и менее популярные, с продажами ниже 5 млн.\n",
    "1 группа платформ: PC3, PC4, X360, XOne, WiiU, 3DS:\n",
    "    средний уровень продаж колеблется от 470 тыс до 800 тыс. \n",
    "    самый высокий уровень продаж колеблется от 7 млн  до 21 млн \n",
    "    75% продаж составляют диапазон от 280 тыс до 730 тыс.\n",
    "2 группа платформ: PC, PSV, DS, PSP, Wii:\n",
    "    средний уровень продаж колеблется от 52 тыс до 593 тыс\n",
    "    самый высокий уровень продаж колеблется от 200 тыс до 358 тыс\n",
    "    75% продаж составляет диапазон от 70 тыс до 755 тыс"
   ]
  },
  {
   "cell_type": "markdown",
   "metadata": {},
   "source": [
    "### Проанализируем как влияют на продажи отзывы критиков и пользователей на примере популярной платформы 'PS4'."
   ]
  },
  {
   "cell_type": "code",
   "execution_count": 36,
   "metadata": {},
   "outputs": [],
   "source": [
    "# создаем датафрейм с самой популярной платформой PS4 в актуальный период\n",
    "df_ps4 = df_actual.loc[df_actual['platform'] == 'PS4']"
   ]
  },
  {
   "cell_type": "code",
   "execution_count": 37,
   "metadata": {},
   "outputs": [
    {
     "data": {
      "text/plain": [
       "314.14"
      ]
     },
     "execution_count": 37,
     "metadata": {},
     "output_type": "execute_result"
    }
   ],
   "source": [
    "df_ps4['total_sales'].sum() # проверка"
   ]
  },
  {
   "cell_type": "code",
   "execution_count": 38,
   "metadata": {
    "scrolled": false
   },
   "outputs": [
    {
     "data": {
      "text/html": [
       "<div>\n",
       "<style scoped>\n",
       "    .dataframe tbody tr th:only-of-type {\n",
       "        vertical-align: middle;\n",
       "    }\n",
       "\n",
       "    .dataframe tbody tr th {\n",
       "        vertical-align: top;\n",
       "    }\n",
       "\n",
       "    .dataframe thead th {\n",
       "        text-align: right;\n",
       "    }\n",
       "</style>\n",
       "<table border=\"1\" class=\"dataframe\">\n",
       "  <thead>\n",
       "    <tr style=\"text-align: right;\">\n",
       "      <th></th>\n",
       "      <th>critic_score</th>\n",
       "      <th>user_score</th>\n",
       "      <th>total_sales</th>\n",
       "    </tr>\n",
       "  </thead>\n",
       "  <tbody>\n",
       "    <tr>\n",
       "      <th>critic_score</th>\n",
       "      <td>1.000000</td>\n",
       "      <td>0.557654</td>\n",
       "      <td>0.406568</td>\n",
       "    </tr>\n",
       "    <tr>\n",
       "      <th>user_score</th>\n",
       "      <td>0.557654</td>\n",
       "      <td>1.000000</td>\n",
       "      <td>-0.031957</td>\n",
       "    </tr>\n",
       "    <tr>\n",
       "      <th>total_sales</th>\n",
       "      <td>0.406568</td>\n",
       "      <td>-0.031957</td>\n",
       "      <td>1.000000</td>\n",
       "    </tr>\n",
       "  </tbody>\n",
       "</table>\n",
       "</div>"
      ],
      "text/plain": [
       "              critic_score  user_score  total_sales\n",
       "critic_score      1.000000    0.557654     0.406568\n",
       "user_score        0.557654    1.000000    -0.031957\n",
       "total_sales       0.406568   -0.031957     1.000000"
      ]
     },
     "execution_count": 38,
     "metadata": {},
     "output_type": "execute_result"
    }
   ],
   "source": [
    "# построение таблицы корреляции между оценками пользователей, критиков и продажами:\n",
    "df_ps4[['critic_score', 'user_score', 'total_sales']].corr()"
   ]
  },
  {
   "cell_type": "code",
   "execution_count": 39,
   "metadata": {},
   "outputs": [
    {
     "name": "stdout",
     "output_type": "stream",
     "text": [
      "Зависимость продаж от оценки критиков\n"
     ]
    },
    {
     "data": {
      "image/png": "[encoded data removed]",
      "text/plain": [
       "<Figure size 360x144 with 1 Axes>"
      ]
     },
     "metadata": {
      "needs_background": "light"
     },
     "output_type": "display_data"
    }
   ],
   "source": [
    "print('Зависимость продаж от оценки критиков')\n",
    "df_ps4.plot(x='critic_score', y='total_sales', style = 'o', grid=True, figsize=(5,2));"
   ]
  },
  {
   "cell_type": "code",
   "execution_count": 40,
   "metadata": {},
   "outputs": [
    {
     "name": "stdout",
     "output_type": "stream",
     "text": [
      "Зависимость продаж от оценки пользователей\n"
     ]
    },
    {
     "data": {
      "image/png": "[encoded data removed]",
      "text/plain": [
       "<Figure size 360x144 with 1 Axes>"
      ]
     },
     "metadata": {
      "needs_background": "light"
     },
     "output_type": "display_data"
    }
   ],
   "source": [
    "print('Зависимость продаж от оценки пользователей')\n",
    "df_ps4.plot(x='user_score', y='total_sales', style='o', grid=True, figsize=(5,2));"
   ]
  },
  {
   "cell_type": "markdown",
   "metadata": {},
   "source": [
    "По результатам построенной корреляции между оценками пользователей,  критиков и уровнем продаж, а также построенных диаграмм рассеивания, можно сделать следующие выводы:\n",
    "- положительная зависимость наблюдается с оценками критиков (чем выше оценка - тем выше продажи);\n",
    "- отрицательная зависимость наблюдается с оценками пользователей (чем выше оценка - тем ниже продажи). "
   ]
  },
  {
   "cell_type": "code",
   "execution_count": 41,
   "metadata": {},
   "outputs": [
    {
     "name": "stdout",
     "output_type": "stream",
     "text": [
      "Платформа: PS3\n",
      "              user_score  critic_score  total_sales\n",
      "user_score      1.000000      0.599920     0.002394\n",
      "critic_score    0.599920      1.000000     0.334285\n",
      "total_sales     0.002394      0.334285     1.000000\n",
      "Платформа: X360\n",
      "              user_score  critic_score  total_sales\n",
      "user_score      1.000000      0.520946    -0.011742\n",
      "critic_score    0.520946      1.000000     0.350345\n",
      "total_sales    -0.011742      0.350345     1.000000\n",
      "Платформа: 3DS\n",
      "              user_score  critic_score  total_sales\n",
      "user_score      1.000000      0.769536     0.241504\n",
      "critic_score    0.769536      1.000000     0.357057\n",
      "total_sales     0.241504      0.357057     1.000000\n"
     ]
    },
    {
     "data": {
      "image/png": "[encoded data removed]",
      "text/plain": [
       "<Figure size 360x144 with 1 Axes>"
      ]
     },
     "metadata": {
      "needs_background": "light"
     },
     "output_type": "display_data"
    },
    {
     "data": {
      "image/png": "[encoded data removed]",
      "text/plain": [
       "<Figure size 360x144 with 1 Axes>"
      ]
     },
     "metadata": {
      "needs_background": "light"
     },
     "output_type": "display_data"
    },
    {
     "data": {
      "image/png": "[encoded data removed]",
      "text/plain": [
       "<Figure size 360x144 with 1 Axes>"
      ]
     },
     "metadata": {
      "needs_background": "light"
     },
     "output_type": "display_data"
    },
    {
     "data": {
      "image/png": "[encoded data removed]",
      "text/plain": [
       "<Figure size 360x144 with 1 Axes>"
      ]
     },
     "metadata": {
      "needs_background": "light"
     },
     "output_type": "display_data"
    },
    {
     "data": {
      "image/png": "[encoded data removed]",
      "text/plain": [
       "<Figure size 360x144 with 1 Axes>"
      ]
     },
     "metadata": {
      "needs_background": "light"
     },
     "output_type": "display_data"
    },
    {
     "data": {
      "image/png": "[encoded data removed]",
      "text/plain": [
       "<Figure size 360x144 with 1 Axes>"
      ]
     },
     "metadata": {
      "needs_background": "light"
     },
     "output_type": "display_data"
    }
   ],
   "source": [
    "platforms = df_actual[df_actual['platform'] != 'PS4'].sort_values(by='total_sales', ascending=False).head(5) #выводим топ-5 платформ, после PC4\n",
    "top_5 = df_actual.query('platform in @platforms.platform') \n",
    "\n",
    "list = top_5['platform'].unique() #лист топ-5 платформ\n",
    "\n",
    "for pl in list:\n",
    "    top_5.query('platform == @pl').plot(\n",
    "    x='user_score', y='total_sales', kind='scatter', figsize=(5,2), title=pl)\n",
    "    top_5.query('platform == @pl').plot(\n",
    "    x='critic_score', y='total_sales', kind='scatter', figsize=(5,2), title=pl)\n",
    "    print('Платформа:', pl)\n",
    "    #print('Корреляция между продажами, оценкой пользователей и оценкой критиков', top_5[['user_score','critic_score','total_sales']].corr());\n",
    "    print(top_5.query('platform == @pl')[['user_score','critic_score','total_sales']].corr())"
   ]
  },
  {
   "cell_type": "code",
   "execution_count": 86,
   "metadata": {
    "scrolled": true
   },
   "outputs": [
    {
     "data": {
      "text/plain": [
       "(array(['PS3', 'X360', '3DS'], dtype=object),\n",
       " array(['PS3', 'X360', '3DS'], dtype=object))"
      ]
     },
     "execution_count": 86,
     "metadata": {},
     "output_type": "execute_result"
    }
   ],
   "source": [
    "df_actual.query('platform in @platforms.platform').platform.unique(), platforms.platform.unique()"
   ]
  },
  {
   "cell_type": "markdown",
   "metadata": {},
   "source": [
    "По результатам проведенного анализа зависимости между оценками пользователей,  критиков и уровнем продаж - можно сделать следующие выводы:\n",
    "PS3:\n",
    "- положительная зависимость наблюдается с оценками критиков (чем выше оценка - тем выше продажи);\n",
    "- практически нулевая (отсуствует) зависимость с оценкой пользователей. \n",
    "X360:\n",
    "- положительная, но слабая зависимость с оценками пользователей.\n",
    "- слабая отрицательная зависимость с оценками критиков (чем выше оценка - тем ниже продажи)\n",
    "3DS:\n",
    "- обе слабоположительные зависимости с оценками пользователей и оценками критиков.\n",
    "\n",
    "Стоит заметить, что у всех платформ наблюдается положительная корреляция с оценкой критиков, а вот с оценкой пользователей у всех своя история..  "
   ]
  },
  {
   "attachments": {
    "image.png": {
     "image/png": "[encoded data removed]"
    }
   },
   "cell_type": "markdown",
   "metadata": {},
   "source": [
    "![image.png](attachment:image.png)"
   ]
  },
  {
   "cell_type": "markdown",
   "metadata": {},
   "source": [
    "### Анализ жанров игр"
   ]
  },
  {
   "cell_type": "code",
   "execution_count": 42,
   "metadata": {
    "scrolled": false
   },
   "outputs": [
    {
     "data": {
      "text/html": [
       "<div>\n",
       "<style scoped>\n",
       "    .dataframe tbody tr th:only-of-type {\n",
       "        vertical-align: middle;\n",
       "    }\n",
       "\n",
       "    .dataframe tbody tr th {\n",
       "        vertical-align: top;\n",
       "    }\n",
       "\n",
       "    .dataframe thead th {\n",
       "        text-align: right;\n",
       "    }\n",
       "</style>\n",
       "<table border=\"1\" class=\"dataframe\">\n",
       "  <thead>\n",
       "    <tr style=\"text-align: right;\">\n",
       "      <th></th>\n",
       "      <th>total_sales</th>\n",
       "    </tr>\n",
       "    <tr>\n",
       "      <th>genre</th>\n",
       "      <th></th>\n",
       "    </tr>\n",
       "  </thead>\n",
       "  <tbody>\n",
       "    <tr>\n",
       "      <th>Action</th>\n",
       "      <td>0.110</td>\n",
       "    </tr>\n",
       "    <tr>\n",
       "      <th>Adventure</th>\n",
       "      <td>0.030</td>\n",
       "    </tr>\n",
       "    <tr>\n",
       "      <th>Fighting</th>\n",
       "      <td>0.125</td>\n",
       "    </tr>\n",
       "    <tr>\n",
       "      <th>Misc</th>\n",
       "      <td>0.100</td>\n",
       "    </tr>\n",
       "    <tr>\n",
       "      <th>Platform</th>\n",
       "      <td>0.225</td>\n",
       "    </tr>\n",
       "    <tr>\n",
       "      <th>Puzzle</th>\n",
       "      <td>0.060</td>\n",
       "    </tr>\n",
       "    <tr>\n",
       "      <th>Racing</th>\n",
       "      <td>0.120</td>\n",
       "    </tr>\n",
       "    <tr>\n",
       "      <th>Role-Playing</th>\n",
       "      <td>0.125</td>\n",
       "    </tr>\n",
       "    <tr>\n",
       "      <th>Shooter</th>\n",
       "      <td>0.450</td>\n",
       "    </tr>\n",
       "    <tr>\n",
       "      <th>Simulation</th>\n",
       "      <td>0.100</td>\n",
       "    </tr>\n",
       "    <tr>\n",
       "      <th>Sports</th>\n",
       "      <td>0.240</td>\n",
       "    </tr>\n",
       "    <tr>\n",
       "      <th>Strategy</th>\n",
       "      <td>0.080</td>\n",
       "    </tr>\n",
       "  </tbody>\n",
       "</table>\n",
       "</div>"
      ],
      "text/plain": [
       "              total_sales\n",
       "genre                    \n",
       "Action              0.110\n",
       "Adventure           0.030\n",
       "Fighting            0.125\n",
       "Misc                0.100\n",
       "Platform            0.225\n",
       "Puzzle              0.060\n",
       "Racing              0.120\n",
       "Role-Playing        0.125\n",
       "Shooter             0.450\n",
       "Simulation          0.100\n",
       "Sports              0.240\n",
       "Strategy            0.080"
      ]
     },
     "metadata": {},
     "output_type": "display_data"
    },
    {
     "name": "stdout",
     "output_type": "stream",
     "text": [
      "Зависимость уровня продаж от жанра игры\n"
     ]
    },
    {
     "data": {
      "image/png": "[encoded data removed]",
      "text/plain": [
       "<Figure size 1080x216 with 1 Axes>"
      ]
     },
     "metadata": {
      "needs_background": "light"
     },
     "output_type": "display_data"
    }
   ],
   "source": [
    "genre=df_actual.pivot_table(index='genre', values='total_sales', aggfunc='median')\n",
    "display(genre)\n",
    "plt.figure(figsize=(15,3))\n",
    "print('Зависимость уровня продаж от жанра игры')\n",
    "sns.barplot(x=genre.index, y=genre['total_sales']);"
   ]
  },
  {
   "cell_type": "code",
   "execution_count": 43,
   "metadata": {},
   "outputs": [
    {
     "data": {
      "text/plain": [
       "genre\n",
       "Action          766\n",
       "Adventure       245\n",
       "Fighting         80\n",
       "Misc            155\n",
       "Platform         74\n",
       "Puzzle           17\n",
       "Racing           85\n",
       "Role-Playing    292\n",
       "Shooter         187\n",
       "Simulation       62\n",
       "Sports          214\n",
       "Strategy         56\n",
       "Name: name, dtype: int64"
      ]
     },
     "execution_count": 43,
     "metadata": {},
     "output_type": "execute_result"
    }
   ],
   "source": [
    "df_actual.groupby('genre')['name'].count()"
   ]
  },
  {
   "cell_type": "markdown",
   "metadata": {},
   "source": [
    "Самым популярным и самым продаваемым жанром является жанр - 'Shooter'. Самым не востребованным жанром является - 'Adventure','Pazzle'. Мы сгруппировали данные по количеству игр, входящих в каждый жанр и увидели, что не смотря на то, что количество игр у жанра \"Adventure\" практически на 40% превышает количество игр в жанре \"Shooter\" - уровень продаж они имеют ровно противоположный. "
   ]
  },
  {
   "cell_type": "code",
   "execution_count": 44,
   "metadata": {
    "scrolled": true
   },
   "outputs": [
    {
     "data": {
      "image/png": "[encoded data removed]",
      "text/plain": [
       "<Figure size 1080x216 with 1 Axes>"
      ]
     },
     "metadata": {
      "needs_background": "light"
     },
     "output_type": "display_data"
    }
   ],
   "source": [
    "plt.figure(figsize=(15,3))\n",
    "sns.boxplot(data=df_actual, x='genre', y='total_sales')\n",
    "plt.title('Зависимость продаж от жанра');"
   ]
  },
  {
   "cell_type": "code",
   "execution_count": 45,
   "metadata": {
    "scrolled": false
   },
   "outputs": [
    {
     "data": {
      "image/png": "[encoded data removed]",
      "text/plain": [
       "<Figure size 1080x216 with 1 Axes>"
      ]
     },
     "metadata": {
      "needs_background": "light"
     },
     "output_type": "display_data"
    }
   ],
   "source": [
    "plt.figure(figsize=(15,3))\n",
    "sns.boxplot(data=df_actual, x='genre', y='total_sales')\n",
    "plt.title('Зависимость продаж от жанра')\n",
    "plt.ylim(0,1.2);"
   ]
  },
  {
   "cell_type": "code",
   "execution_count": 46,
   "metadata": {},
   "outputs": [
    {
     "data": {
      "text/html": [
       "<div>\n",
       "<style scoped>\n",
       "    .dataframe tbody tr th:only-of-type {\n",
       "        vertical-align: middle;\n",
       "    }\n",
       "\n",
       "    .dataframe tbody tr th {\n",
       "        vertical-align: top;\n",
       "    }\n",
       "\n",
       "    .dataframe thead th {\n",
       "        text-align: right;\n",
       "    }\n",
       "</style>\n",
       "<table border=\"1\" class=\"dataframe\">\n",
       "  <thead>\n",
       "    <tr style=\"text-align: right;\">\n",
       "      <th></th>\n",
       "      <th>count</th>\n",
       "      <th>mean</th>\n",
       "      <th>std</th>\n",
       "      <th>min</th>\n",
       "      <th>25%</th>\n",
       "      <th>50%</th>\n",
       "      <th>75%</th>\n",
       "      <th>max</th>\n",
       "    </tr>\n",
       "    <tr>\n",
       "      <th>genre</th>\n",
       "      <th></th>\n",
       "      <th></th>\n",
       "      <th></th>\n",
       "      <th></th>\n",
       "      <th></th>\n",
       "      <th></th>\n",
       "      <th></th>\n",
       "      <th></th>\n",
       "    </tr>\n",
       "  </thead>\n",
       "  <tbody>\n",
       "    <tr>\n",
       "      <th>Action</th>\n",
       "      <td>766.0</td>\n",
       "      <td>0.420196</td>\n",
       "      <td>1.253909</td>\n",
       "      <td>0.01</td>\n",
       "      <td>0.03</td>\n",
       "      <td>0.110</td>\n",
       "      <td>0.3375</td>\n",
       "      <td>21.05</td>\n",
       "    </tr>\n",
       "    <tr>\n",
       "      <th>Adventure</th>\n",
       "      <td>245.0</td>\n",
       "      <td>0.096490</td>\n",
       "      <td>0.216445</td>\n",
       "      <td>0.01</td>\n",
       "      <td>0.02</td>\n",
       "      <td>0.030</td>\n",
       "      <td>0.0700</td>\n",
       "      <td>1.66</td>\n",
       "    </tr>\n",
       "    <tr>\n",
       "      <th>Fighting</th>\n",
       "      <td>80.0</td>\n",
       "      <td>0.441375</td>\n",
       "      <td>1.048883</td>\n",
       "      <td>0.01</td>\n",
       "      <td>0.06</td>\n",
       "      <td>0.125</td>\n",
       "      <td>0.3225</td>\n",
       "      <td>7.55</td>\n",
       "    </tr>\n",
       "    <tr>\n",
       "      <th>Misc</th>\n",
       "      <td>155.0</td>\n",
       "      <td>0.405290</td>\n",
       "      <td>1.007985</td>\n",
       "      <td>0.01</td>\n",
       "      <td>0.03</td>\n",
       "      <td>0.100</td>\n",
       "      <td>0.3300</td>\n",
       "      <td>9.18</td>\n",
       "    </tr>\n",
       "    <tr>\n",
       "      <th>Platform</th>\n",
       "      <td>74.0</td>\n",
       "      <td>0.576081</td>\n",
       "      <td>0.806808</td>\n",
       "      <td>0.01</td>\n",
       "      <td>0.09</td>\n",
       "      <td>0.225</td>\n",
       "      <td>0.6275</td>\n",
       "      <td>4.32</td>\n",
       "    </tr>\n",
       "    <tr>\n",
       "      <th>Puzzle</th>\n",
       "      <td>17.0</td>\n",
       "      <td>0.186471</td>\n",
       "      <td>0.325172</td>\n",
       "      <td>0.01</td>\n",
       "      <td>0.02</td>\n",
       "      <td>0.060</td>\n",
       "      <td>0.1100</td>\n",
       "      <td>1.19</td>\n",
       "    </tr>\n",
       "    <tr>\n",
       "      <th>Racing</th>\n",
       "      <td>85.0</td>\n",
       "      <td>0.469294</td>\n",
       "      <td>0.964101</td>\n",
       "      <td>0.01</td>\n",
       "      <td>0.05</td>\n",
       "      <td>0.120</td>\n",
       "      <td>0.3800</td>\n",
       "      <td>7.09</td>\n",
       "    </tr>\n",
       "    <tr>\n",
       "      <th>Role-Playing</th>\n",
       "      <td>292.0</td>\n",
       "      <td>0.499623</td>\n",
       "      <td>1.353164</td>\n",
       "      <td>0.01</td>\n",
       "      <td>0.06</td>\n",
       "      <td>0.125</td>\n",
       "      <td>0.3825</td>\n",
       "      <td>14.60</td>\n",
       "    </tr>\n",
       "    <tr>\n",
       "      <th>Shooter</th>\n",
       "      <td>187.0</td>\n",
       "      <td>1.245882</td>\n",
       "      <td>2.014107</td>\n",
       "      <td>0.01</td>\n",
       "      <td>0.14</td>\n",
       "      <td>0.450</td>\n",
       "      <td>1.4250</td>\n",
       "      <td>14.63</td>\n",
       "    </tr>\n",
       "    <tr>\n",
       "      <th>Simulation</th>\n",
       "      <td>62.0</td>\n",
       "      <td>0.350968</td>\n",
       "      <td>0.849163</td>\n",
       "      <td>0.01</td>\n",
       "      <td>0.03</td>\n",
       "      <td>0.100</td>\n",
       "      <td>0.2950</td>\n",
       "      <td>5.22</td>\n",
       "    </tr>\n",
       "    <tr>\n",
       "      <th>Sports</th>\n",
       "      <td>214.0</td>\n",
       "      <td>0.703972</td>\n",
       "      <td>1.219237</td>\n",
       "      <td>0.01</td>\n",
       "      <td>0.07</td>\n",
       "      <td>0.240</td>\n",
       "      <td>0.7650</td>\n",
       "      <td>8.58</td>\n",
       "    </tr>\n",
       "    <tr>\n",
       "      <th>Strategy</th>\n",
       "      <td>56.0</td>\n",
       "      <td>0.180000</td>\n",
       "      <td>0.279441</td>\n",
       "      <td>0.01</td>\n",
       "      <td>0.04</td>\n",
       "      <td>0.080</td>\n",
       "      <td>0.2325</td>\n",
       "      <td>1.67</td>\n",
       "    </tr>\n",
       "  </tbody>\n",
       "</table>\n",
       "</div>"
      ],
      "text/plain": [
       "              count      mean       std   min   25%    50%     75%    max\n",
       "genre                                                                    \n",
       "Action        766.0  0.420196  1.253909  0.01  0.03  0.110  0.3375  21.05\n",
       "Adventure     245.0  0.096490  0.216445  0.01  0.02  0.030  0.0700   1.66\n",
       "Fighting       80.0  0.441375  1.048883  0.01  0.06  0.125  0.3225   7.55\n",
       "Misc          155.0  0.405290  1.007985  0.01  0.03  0.100  0.3300   9.18\n",
       "Platform       74.0  0.576081  0.806808  0.01  0.09  0.225  0.6275   4.32\n",
       "Puzzle         17.0  0.186471  0.325172  0.01  0.02  0.060  0.1100   1.19\n",
       "Racing         85.0  0.469294  0.964101  0.01  0.05  0.120  0.3800   7.09\n",
       "Role-Playing  292.0  0.499623  1.353164  0.01  0.06  0.125  0.3825  14.60\n",
       "Shooter       187.0  1.245882  2.014107  0.01  0.14  0.450  1.4250  14.63\n",
       "Simulation     62.0  0.350968  0.849163  0.01  0.03  0.100  0.2950   5.22\n",
       "Sports        214.0  0.703972  1.219237  0.01  0.07  0.240  0.7650   8.58\n",
       "Strategy       56.0  0.180000  0.279441  0.01  0.04  0.080  0.2325   1.67"
      ]
     },
     "execution_count": 46,
     "metadata": {},
     "output_type": "execute_result"
    }
   ],
   "source": [
    "df_actual.groupby('genre')['total_sales'].describe()"
   ]
  },
  {
   "cell_type": "markdown",
   "metadata": {},
   "source": [
    "Самый длинный ряд успешно продающихся игр имеют жанры: Shooter (с большим отрывом), Sports, Platform. Однако жанр Sports имеет большой разброс данных, что может говорить о нестабильности показателя медианы.\n",
    "Самый высокий показетль средних продаж - у жанра Shooter, 1 млн 246 тыс. \n",
    "Самвый высокий уровень медианы - у жанра Shooter (450 тыс), однако большой разброс данных может говорить о нестабильности медианы. "
   ]
  },
  {
   "cell_type": "markdown",
   "metadata": {},
   "source": [
    "## Составление портрета пользователя по регионам."
   ]
  },
  {
   "cell_type": "markdown",
   "metadata": {},
   "source": [
    "### Портрет пользователя по региона по платформам "
   ]
  },
  {
   "cell_type": "code",
   "execution_count": 47,
   "metadata": {
    "scrolled": true
   },
   "outputs": [
    {
     "data": {
      "text/html": [
       "<div>\n",
       "<style scoped>\n",
       "    .dataframe tbody tr th:only-of-type {\n",
       "        vertical-align: middle;\n",
       "    }\n",
       "\n",
       "    .dataframe tbody tr th {\n",
       "        vertical-align: top;\n",
       "    }\n",
       "\n",
       "    .dataframe thead th {\n",
       "        text-align: right;\n",
       "    }\n",
       "</style>\n",
       "<table border=\"1\" class=\"dataframe\">\n",
       "  <thead>\n",
       "    <tr style=\"text-align: right;\">\n",
       "      <th></th>\n",
       "      <th>eu_sales</th>\n",
       "      <th>jp_sales</th>\n",
       "      <th>na_sales</th>\n",
       "    </tr>\n",
       "    <tr>\n",
       "      <th>platform</th>\n",
       "      <th></th>\n",
       "      <th></th>\n",
       "      <th></th>\n",
       "    </tr>\n",
       "  </thead>\n",
       "  <tbody>\n",
       "    <tr>\n",
       "      <th>PS4</th>\n",
       "      <td>141.09</td>\n",
       "      <td>15.96</td>\n",
       "      <td>108.74</td>\n",
       "    </tr>\n",
       "    <tr>\n",
       "      <th>XOne</th>\n",
       "      <td>51.59</td>\n",
       "      <td>0.34</td>\n",
       "      <td>93.12</td>\n",
       "    </tr>\n",
       "    <tr>\n",
       "      <th>X360</th>\n",
       "      <td>42.52</td>\n",
       "      <td>0.51</td>\n",
       "      <td>81.66</td>\n",
       "    </tr>\n",
       "    <tr>\n",
       "      <th>PS3</th>\n",
       "      <td>67.81</td>\n",
       "      <td>23.35</td>\n",
       "      <td>63.50</td>\n",
       "    </tr>\n",
       "    <tr>\n",
       "      <th>3DS</th>\n",
       "      <td>30.96</td>\n",
       "      <td>67.81</td>\n",
       "      <td>38.20</td>\n",
       "    </tr>\n",
       "    <tr>\n",
       "      <th>WiiU</th>\n",
       "      <td>19.85</td>\n",
       "      <td>10.88</td>\n",
       "      <td>29.21</td>\n",
       "    </tr>\n",
       "    <tr>\n",
       "      <th>PC</th>\n",
       "      <td>25.36</td>\n",
       "      <td>0.00</td>\n",
       "      <td>11.11</td>\n",
       "    </tr>\n",
       "    <tr>\n",
       "      <th>Wii</th>\n",
       "      <td>5.93</td>\n",
       "      <td>0.05</td>\n",
       "      <td>6.56</td>\n",
       "    </tr>\n",
       "    <tr>\n",
       "      <th>PSV</th>\n",
       "      <td>6.10</td>\n",
       "      <td>18.59</td>\n",
       "      <td>5.04</td>\n",
       "    </tr>\n",
       "    <tr>\n",
       "      <th>DS</th>\n",
       "      <td>0.85</td>\n",
       "      <td>0.00</td>\n",
       "      <td>0.57</td>\n",
       "    </tr>\n",
       "    <tr>\n",
       "      <th>PSP</th>\n",
       "      <td>0.17</td>\n",
       "      <td>3.29</td>\n",
       "      <td>0.00</td>\n",
       "    </tr>\n",
       "  </tbody>\n",
       "</table>\n",
       "</div>"
      ],
      "text/plain": [
       "          eu_sales  jp_sales  na_sales\n",
       "platform                              \n",
       "PS4         141.09     15.96    108.74\n",
       "XOne         51.59      0.34     93.12\n",
       "X360         42.52      0.51     81.66\n",
       "PS3          67.81     23.35     63.50\n",
       "3DS          30.96     67.81     38.20\n",
       "WiiU         19.85     10.88     29.21\n",
       "PC           25.36      0.00     11.11\n",
       "Wii           5.93      0.05      6.56\n",
       "PSV           6.10     18.59      5.04\n",
       "DS            0.85      0.00      0.57\n",
       "PSP           0.17      3.29      0.00"
      ]
     },
     "execution_count": 47,
     "metadata": {},
     "output_type": "execute_result"
    }
   ],
   "source": [
    "#строим сводную таблицу топ продаж по платформам по регионам\n",
    "platform_region = df_actual.pivot_table(index='platform', values=['na_sales', 'eu_sales', 'jp_sales'], aggfunc='sum')\n",
    "platform_region= platform_region.sort_values(by='na_sales', ascending=False);\n",
    "platform_region"
   ]
  },
  {
   "cell_type": "code",
   "execution_count": 48,
   "metadata": {},
   "outputs": [
    {
     "data": {
      "text/html": [
       "<div>\n",
       "<style scoped>\n",
       "    .dataframe tbody tr th:only-of-type {\n",
       "        vertical-align: middle;\n",
       "    }\n",
       "\n",
       "    .dataframe tbody tr th {\n",
       "        vertical-align: top;\n",
       "    }\n",
       "\n",
       "    .dataframe thead th {\n",
       "        text-align: right;\n",
       "    }\n",
       "</style>\n",
       "<table border=\"1\" class=\"dataframe\">\n",
       "  <thead>\n",
       "    <tr style=\"text-align: right;\">\n",
       "      <th></th>\n",
       "      <th>eu_sales</th>\n",
       "      <th>jp_sales</th>\n",
       "      <th>na_sales</th>\n",
       "    </tr>\n",
       "    <tr>\n",
       "      <th>genre</th>\n",
       "      <th></th>\n",
       "      <th></th>\n",
       "      <th></th>\n",
       "    </tr>\n",
       "  </thead>\n",
       "  <tbody>\n",
       "    <tr>\n",
       "      <th>Action</th>\n",
       "      <td>118.13</td>\n",
       "      <td>40.49</td>\n",
       "      <td>126.05</td>\n",
       "    </tr>\n",
       "    <tr>\n",
       "      <th>Shooter</th>\n",
       "      <td>87.86</td>\n",
       "      <td>6.61</td>\n",
       "      <td>109.74</td>\n",
       "    </tr>\n",
       "    <tr>\n",
       "      <th>Sports</th>\n",
       "      <td>60.52</td>\n",
       "      <td>5.41</td>\n",
       "      <td>65.27</td>\n",
       "    </tr>\n",
       "    <tr>\n",
       "      <th>Role-Playing</th>\n",
       "      <td>36.97</td>\n",
       "      <td>51.04</td>\n",
       "      <td>46.40</td>\n",
       "    </tr>\n",
       "    <tr>\n",
       "      <th>Misc</th>\n",
       "      <td>20.04</td>\n",
       "      <td>9.20</td>\n",
       "      <td>27.49</td>\n",
       "    </tr>\n",
       "    <tr>\n",
       "      <th>Platform</th>\n",
       "      <td>15.58</td>\n",
       "      <td>4.79</td>\n",
       "      <td>18.14</td>\n",
       "    </tr>\n",
       "    <tr>\n",
       "      <th>Fighting</th>\n",
       "      <td>8.55</td>\n",
       "      <td>7.65</td>\n",
       "      <td>15.55</td>\n",
       "    </tr>\n",
       "    <tr>\n",
       "      <th>Racing</th>\n",
       "      <td>20.19</td>\n",
       "      <td>2.30</td>\n",
       "      <td>12.96</td>\n",
       "    </tr>\n",
       "    <tr>\n",
       "      <th>Adventure</th>\n",
       "      <td>8.25</td>\n",
       "      <td>5.82</td>\n",
       "      <td>7.14</td>\n",
       "    </tr>\n",
       "    <tr>\n",
       "      <th>Simulation</th>\n",
       "      <td>10.92</td>\n",
       "      <td>4.52</td>\n",
       "      <td>4.86</td>\n",
       "    </tr>\n",
       "    <tr>\n",
       "      <th>Strategy</th>\n",
       "      <td>4.22</td>\n",
       "      <td>1.77</td>\n",
       "      <td>3.28</td>\n",
       "    </tr>\n",
       "    <tr>\n",
       "      <th>Puzzle</th>\n",
       "      <td>1.00</td>\n",
       "      <td>1.18</td>\n",
       "      <td>0.83</td>\n",
       "    </tr>\n",
       "  </tbody>\n",
       "</table>\n",
       "</div>"
      ],
      "text/plain": [
       "              eu_sales  jp_sales  na_sales\n",
       "genre                                     \n",
       "Action          118.13     40.49    126.05\n",
       "Shooter          87.86      6.61    109.74\n",
       "Sports           60.52      5.41     65.27\n",
       "Role-Playing     36.97     51.04     46.40\n",
       "Misc             20.04      9.20     27.49\n",
       "Platform         15.58      4.79     18.14\n",
       "Fighting          8.55      7.65     15.55\n",
       "Racing           20.19      2.30     12.96\n",
       "Adventure         8.25      5.82      7.14\n",
       "Simulation       10.92      4.52      4.86\n",
       "Strategy          4.22      1.77      3.28\n",
       "Puzzle            1.00      1.18      0.83"
      ]
     },
     "execution_count": 48,
     "metadata": {},
     "output_type": "execute_result"
    }
   ],
   "source": [
    "#строим сводную таблицу топ жанров по платформам по регионам\n",
    "genre_region = df_actual.pivot_table(index='genre', values=['na_sales', 'eu_sales', 'jp_sales'], aggfunc='sum')\n",
    "genre_region= genre_region.sort_values(by='na_sales', ascending=False);\n",
    "genre_region"
   ]
  },
  {
   "cell_type": "code",
   "execution_count": 49,
   "metadata": {},
   "outputs": [],
   "source": [
    "# создаем сводную таблицу по рейтингу платформ с Северной Америке\n",
    "df_na = df_actual.pivot_table(\n",
    "    index = 'platform',\n",
    "    values = 'na_sales',\n",
    "    aggfunc = 'sum').sort_values('na_sales', ascending= False).head()"
   ]
  },
  {
   "cell_type": "code",
   "execution_count": 50,
   "metadata": {},
   "outputs": [],
   "source": [
    "df_na_all = df_actual.pivot_table(\n",
    "    index = 'platform',\n",
    "    values = 'na_sales',\n",
    "    aggfunc = 'sum').sort_values('na_sales', ascending= False)"
   ]
  },
  {
   "cell_type": "code",
   "execution_count": 51,
   "metadata": {},
   "outputs": [],
   "source": [
    "#создаем группу 'other' - по платформам, не вошедших в топ-5\n",
    "df_na.loc['other'] = df_na_all.iloc[5:].sum()[0]"
   ]
  },
  {
   "cell_type": "code",
   "execution_count": 52,
   "metadata": {},
   "outputs": [],
   "source": [
    "# строим круговую диаграмму топ-5 платформ в NA\n",
    "#df_na.plot(kind='pie', y='na_sales', legend=False, figsize=(12,5), autopct='%.0f%%')\n",
    "#plt.title('5 самых популярных платформ в Северной Америке');"
   ]
  },
  {
   "cell_type": "code",
   "execution_count": 53,
   "metadata": {},
   "outputs": [],
   "source": [
    "# создаем сводную таблицу по рейтингу платформ с Европе\n",
    "df_eu = df_actual.pivot_table(\n",
    "    index = 'platform',\n",
    "    values = 'eu_sales',\n",
    "    aggfunc = 'sum').sort_values('eu_sales', ascending= False).head()"
   ]
  },
  {
   "cell_type": "code",
   "execution_count": 54,
   "metadata": {},
   "outputs": [],
   "source": [
    "df_eu_all = df_actual.pivot_table(\n",
    "    index = 'platform',\n",
    "    values = 'eu_sales',\n",
    "    aggfunc = 'sum').sort_values('eu_sales', ascending= False)"
   ]
  },
  {
   "cell_type": "code",
   "execution_count": 55,
   "metadata": {},
   "outputs": [],
   "source": [
    "#создаем группу 'other' - по платформам, не вошедших в топ-5\n",
    "df_eu.loc['other'] = df_eu_all.iloc[5:].sum()[0]"
   ]
  },
  {
   "cell_type": "code",
   "execution_count": 56,
   "metadata": {},
   "outputs": [],
   "source": [
    "# строим круговую диаграмму топ-5 платформ в EU\n",
    "#df_eu.plot(kind='pie', y='eu_sales', legend=False, figsize=(12,5), autopct='%.0f%%')\n",
    "#plt.title('5 самых популярных платформ в Европе');"
   ]
  },
  {
   "cell_type": "code",
   "execution_count": 57,
   "metadata": {},
   "outputs": [],
   "source": [
    "# создаем сводную таблицу по рейтингу платформ с Японии\n",
    "df_jp = df_actual.pivot_table(\n",
    "    index = 'platform',\n",
    "    values = 'jp_sales',\n",
    "    aggfunc = 'sum').sort_values('jp_sales', ascending= False).head()"
   ]
  },
  {
   "cell_type": "code",
   "execution_count": 58,
   "metadata": {},
   "outputs": [],
   "source": [
    "df_jp_all = df_actual.pivot_table(\n",
    "    index = 'platform',\n",
    "    values = 'jp_sales',\n",
    "    aggfunc = 'sum').sort_values('jp_sales', ascending= False)"
   ]
  },
  {
   "cell_type": "code",
   "execution_count": 59,
   "metadata": {},
   "outputs": [],
   "source": [
    "#создаем группу 'other' - по платформам, не вошедших в топ-5\n",
    "df_jp.loc['other'] = df_jp_all.iloc[5:].sum()[0]"
   ]
  },
  {
   "cell_type": "code",
   "execution_count": 60,
   "metadata": {},
   "outputs": [],
   "source": [
    "# строим круговую диаграмму топ-5 платформ в JP\n",
    "#df_jp.plot(kind='pie', y='jp_sales', legend=False, figsize=(12,5), autopct='%.0f%%')\n",
    "#plt.title('5 самых популярных платформ в Японии');"
   ]
  },
  {
   "cell_type": "code",
   "execution_count": 61,
   "metadata": {},
   "outputs": [
    {
     "data": {
      "image/png": "[encoded data removed]",
      "text/plain": [
       "<Figure size 1080x360 with 3 Axes>"
      ]
     },
     "metadata": {},
     "output_type": "display_data"
    }
   ],
   "source": [
    "fig = plt.figure()\n",
    "ax1 = plt.subplot(131)\n",
    "ax2 = plt.subplot(132)\n",
    "ax3 = plt.subplot(133)\n",
    "\n",
    "ax1 = df_na.plot(kind='pie',y='na_sales',figsize=(15,5), legend=False, autopct='%.0f%%', ax =ax1)\n",
    "ax1.set_title('Северная Америка')\n",
    "\n",
    "ax2 = df_eu.plot(kind='pie',y='eu_sales',figsize=(15,5), legend=False, autopct='%.0f%%', ax=ax2)\n",
    "ax2.set_title('Европа')\n",
    "\n",
    "ax3 = df_jp.plot(kind='pie',y='jp_sales',figsize=(15,5), legend=False, autopct='%.0f%%', ax=ax3)\n",
    "ax3.set_title('Япония')\n",
    "\n",
    "fig.suptitle('Топ 5 платформ по регионам');"
   ]
  },
  {
   "cell_type": "markdown",
   "metadata": {},
   "source": [
    "По построенным графикам мы видим, что у Севернйо Америке и Европы топ-5 платформ совпадают, только отличаются своей позицией в топе. В то время как в Японии первое место занимает платформа 3DS, которая у Северной Америке и Европы стоит на 5 месте. А самая популярная платформа в Северной Америке и Европе - PS4, стоит у Японии на 4 месте, что говорит о противоположных предпочтениях в странах. Также бросается в глаза % прочих платформ, который очень низкий по сравнению  с аналогичными показателями в Северной Америке и Европе. "
   ]
  },
  {
   "cell_type": "markdown",
   "metadata": {},
   "source": [
    "### Портрет пользователя по регионам по жанрам "
   ]
  },
  {
   "cell_type": "code",
   "execution_count": 62,
   "metadata": {},
   "outputs": [],
   "source": [
    "# создаем сводную таблицу по рейтингу платформ с Северной Америке\n",
    "na_genre = df_actual.pivot_table(\n",
    "    index = 'genre',\n",
    "    values = 'na_sales',\n",
    "    aggfunc = 'sum').sort_values('na_sales', ascending= False).head()"
   ]
  },
  {
   "cell_type": "code",
   "execution_count": 63,
   "metadata": {},
   "outputs": [],
   "source": [
    "na_genre_all = df_actual.pivot_table(\n",
    "    index = 'genre',\n",
    "    values = 'na_sales',\n",
    "    aggfunc = 'sum').sort_values('na_sales', ascending= False)"
   ]
  },
  {
   "cell_type": "code",
   "execution_count": 64,
   "metadata": {},
   "outputs": [],
   "source": [
    "#создаем группу 'other' - по платформам, не вошедших в топ-5\n",
    "na_genre.loc['other'] = na_genre_all.iloc[5:].sum()[0]"
   ]
  },
  {
   "cell_type": "code",
   "execution_count": 65,
   "metadata": {
    "scrolled": true
   },
   "outputs": [],
   "source": [
    "# строим круговую диаграмму топ-5 платформ в NA\n",
    "#na_genre.plot(kind='pie', y='na_sales', legend=False, figsize=(12,5), autopct='%.0f%%')\n",
    "#plt.title('5 самых популярных жанров в Северной Америке');"
   ]
  },
  {
   "cell_type": "code",
   "execution_count": 66,
   "metadata": {},
   "outputs": [],
   "source": [
    "# создаем сводную таблицу по рейтингу платформ с Европе\n",
    "eu_genre = df_actual.pivot_table(\n",
    "    index = 'genre',\n",
    "    values = 'eu_sales',\n",
    "    aggfunc = 'sum').sort_values('eu_sales', ascending= False).head()"
   ]
  },
  {
   "cell_type": "code",
   "execution_count": 67,
   "metadata": {},
   "outputs": [],
   "source": [
    "eu_genre_all = df_actual.pivot_table(\n",
    "    index = 'genre',\n",
    "    values = 'eu_sales',\n",
    "    aggfunc = 'sum').sort_values('eu_sales', ascending= False)"
   ]
  },
  {
   "cell_type": "code",
   "execution_count": 68,
   "metadata": {},
   "outputs": [],
   "source": [
    "#создаем группу 'other' - по платформам, не вошедших в топ-5\n",
    "eu_genre.loc['other'] = eu_genre_all.iloc[5:].sum()[0]"
   ]
  },
  {
   "cell_type": "code",
   "execution_count": 69,
   "metadata": {
    "scrolled": false
   },
   "outputs": [],
   "source": [
    "# строим круговую диаграмму топ-5 платформ в EU\n",
    "#eu_genre.plot(kind='pie', y='eu_sales', legend=False, figsize=(12,5), autopct='%.0f%%')\n",
    "#plt.title('5 самых популярных жанров в Европе');"
   ]
  },
  {
   "cell_type": "code",
   "execution_count": 70,
   "metadata": {},
   "outputs": [],
   "source": [
    "# создаем сводную таблицу по рейтингу платформ с Японии\n",
    "jp_genre = df_actual.pivot_table(\n",
    "    index = 'genre',\n",
    "    values = 'jp_sales',\n",
    "    aggfunc = 'sum').sort_values('jp_sales', ascending= False).head()"
   ]
  },
  {
   "cell_type": "code",
   "execution_count": 71,
   "metadata": {},
   "outputs": [],
   "source": [
    "jp_genre_all = df_actual.pivot_table(\n",
    "    index = 'genre',\n",
    "    values = 'jp_sales',\n",
    "    aggfunc = 'sum').sort_values('jp_sales', ascending= False)"
   ]
  },
  {
   "cell_type": "code",
   "execution_count": 72,
   "metadata": {},
   "outputs": [],
   "source": [
    "#создаем группу 'other' - по платформам, не вошедших в топ-5\n",
    "jp_genre.loc['other'] = jp_genre_all.iloc[5:].sum()[0]"
   ]
  },
  {
   "cell_type": "code",
   "execution_count": 73,
   "metadata": {
    "scrolled": true
   },
   "outputs": [],
   "source": [
    "# строим круговую диаграмму топ-5 платформ в JP\n",
    "#jp_genre.plot(kind='pie', y='jp_sales', legend=False, figsize=(12,5), autopct='%.0f%%')\n",
    "#plt.title('5 самых популярных жанров в Японии');"
   ]
  },
  {
   "cell_type": "code",
   "execution_count": 74,
   "metadata": {},
   "outputs": [
    {
     "data": {
      "image/png": "[encoded data removed]",
      "text/plain": [
       "<Figure size 1080x360 with 3 Axes>"
      ]
     },
     "metadata": {},
     "output_type": "display_data"
    }
   ],
   "source": [
    "fig = plt.figure()\n",
    "ax1 = plt.subplot(131)\n",
    "ax2 = plt.subplot(132)\n",
    "ax3 = plt.subplot(133)\n",
    "\n",
    "ax1 = na_genre.plot(kind='pie',y='na_sales',figsize=(15,5), legend=False, autopct='%.0f%%', ax =ax1)\n",
    "ax1.set_title('Северная Америка')\n",
    "\n",
    "ax2 = eu_genre.plot(kind='pie',y='eu_sales',figsize=(15,5), legend=False, autopct='%.0f%%', ax=ax2)\n",
    "ax2.set_title('Европа')\n",
    "\n",
    "ax3 = jp_genre.plot(kind='pie',y='jp_sales',figsize=(15,5), legend=False, autopct='%.0f%%', ax=ax3)\n",
    "ax3.set_title('Япония')\n",
    "\n",
    "fig.suptitle('Топ 5 жанров по регионам');"
   ]
  },
  {
   "cell_type": "markdown",
   "metadata": {},
   "source": [
    "По построенным графикам по Топ-5 жанров по регионам, можно сделать вывод, что самые популярные жанры идентичны у Северной Америке и Европы. А вот у Японии они отличаются противоположно. Жанр Role-Playing, который стоит на 1 месте в Японии - в Северной Америке и Европе занимает только 4 место. А вот жанр  Action популярен везде и занимает лидирующие 1-2 места в странах."
   ]
  },
  {
   "cell_type": "markdown",
   "metadata": {},
   "source": [
    "### Сравнение рейтингов по регионам"
   ]
  },
  {
   "cell_type": "code",
   "execution_count": 75,
   "metadata": {
    "scrolled": true
   },
   "outputs": [
    {
     "data": {
      "image/png": "[encoded data removed]",
      "text/plain": [
       "<Figure size 1080x360 with 1 Axes>"
      ]
     },
     "metadata": {
      "needs_background": "light"
     },
     "output_type": "display_data"
    }
   ],
   "source": [
    "#построение графика рейтингов по региону Северная Америка\n",
    "na_rating = df_actual.pivot_table(index='rating', values='na_sales', aggfunc='sum').sort_values(by='na_sales',ascending=False)\n",
    "plt.figure(figsize=(15,5))\n",
    "sns.barplot(x=na_rating.index, y=na_rating['na_sales'])\n",
    "plt.title('Рейтинг ESRB в Северной Америке')\n",
    "plt.xlabel('Рейтинг ESRB')\n",
    "plt.ylabel('Продажи')\n",
    "plt.grid(True);"
   ]
  },
  {
   "cell_type": "code",
   "execution_count": 76,
   "metadata": {},
   "outputs": [
    {
     "data": {
      "image/png": "[encoded data removed]",
      "text/plain": [
       "<Figure size 1080x360 with 1 Axes>"
      ]
     },
     "metadata": {
      "needs_background": "light"
     },
     "output_type": "display_data"
    }
   ],
   "source": [
    "#построение графика рейтингов по региону Европа\n",
    "eu_rating = df_actual.pivot_table(index='rating', values='eu_sales', aggfunc='sum').sort_values(by='eu_sales',ascending=False)\n",
    "plt.figure(figsize=(15,5))\n",
    "sns.barplot(x=eu_rating.index, y=eu_rating['eu_sales'])\n",
    "plt.title('Рейтинг ESRB в Европе')\n",
    "plt.xlabel('Рейтинг ESRB')\n",
    "plt.ylabel('Продажи')\n",
    "plt.grid(True);"
   ]
  },
  {
   "cell_type": "code",
   "execution_count": 77,
   "metadata": {},
   "outputs": [
    {
     "data": {
      "image/png": "[encoded data removed]",
      "text/plain": [
       "<Figure size 1080x360 with 1 Axes>"
      ]
     },
     "metadata": {
      "needs_background": "light"
     },
     "output_type": "display_data"
    }
   ],
   "source": [
    "#построение графика рейтингов по региону Япония\n",
    "jp_rating = df_actual.pivot_table(index='rating', values='jp_sales', aggfunc='sum').sort_values(by='jp_sales',ascending=False)\n",
    "plt.figure(figsize=(15,5))\n",
    "sns.barplot(x=jp_rating.index, y=jp_rating['jp_sales'])\n",
    "plt.title('Рейтинг ESRB в Японии')\n",
    "plt.xlabel('Рейтинг ESRB')\n",
    "plt.ylabel('Продажи')\n",
    "plt.grid(True);"
   ]
  },
  {
   "cell_type": "markdown",
   "metadata": {},
   "source": [
    "В Северной Америкеи и Европе рейтинг влияет на продажи. Так, в указанных странах, самые большие продажи наблюдаются у игр с рейтингом - М  - для детей от 17 лет. Вторым по популярности следуют игры с рейтингом Е - для всех возрастов. а вот игры с детскими рейтингами - замыкают 5 лидеров.  \n",
    "В Японии ситуация совершенно другая и судя по графику - тут рейтинг не особо влияет на уровень продаж игр, о чем нам говорит лидирующая позиция с рейтингом - to be determined....  "
   ]
  },
  {
   "cell_type": "markdown",
   "metadata": {},
   "source": [
    "## Проверка гипотиз"
   ]
  },
  {
   "cell_type": "markdown",
   "metadata": {},
   "source": [
    "### Гипотиза №1. Средние пользовательские рейтинги платформ XOne и PC одинаковые."
   ]
  },
  {
   "cell_type": "markdown",
   "metadata": {},
   "source": [
    "H_0: Средние пользовательские рейтинги XOne и PC одинаковые.\n",
    "H_1: Средние пользовательские рейтинги XOne и PC отличаются.\n",
    "alpha = 0.01"
   ]
  },
  {
   "cell_type": "code",
   "execution_count": 78,
   "metadata": {},
   "outputs": [
    {
     "name": "stdout",
     "output_type": "stream",
     "text": [
      "p-значение: 0.14012658403611647\n",
      "platform XOne user score mean: 6.521428571428572\n",
      "platform PC user score mean: 6.2696774193548395\n",
      "Не получилось отвергнуть нулевую гипотизу\n"
     ]
    }
   ],
   "source": [
    "from scipy import stats as st\n",
    "import numpy as np\n",
    "sample_1 = df_actual[(df_actual['platform'] == 'XOne') & (~df_actual['user_score'].isna())]['user_score']\n",
    "sample_2 = df_actual[(df_actual['platform'] == 'PC') & (~df_actual['user_score'].isna())]['user_score']\n",
    "\n",
    "alpha = 0.01\n",
    "results = st.ttest_ind(sample_1, sample_2)\n",
    "print('p-значение:', results.pvalue)\n",
    "print('platform XOne user score mean:', sample_1.mean())\n",
    "print('platform PC user score mean:', sample_2.mean())\n",
    "\n",
    "if results.pvalue < alpha:\n",
    "    print('Отвергаем нулевую гипотизу')\n",
    "else:\n",
    "    print('Не получилось отвергнуть нулевую гипотизу')"
   ]
  },
  {
   "cell_type": "markdown",
   "metadata": {},
   "source": [
    "</font><font color='Black'><b> В ходе проведения тестирования, гипотиза H_0: Средние пользовательские рейтинги XOne и PC одинаковые - подтвердилась. Значит пользователи одинаково предпочитают игры этих двух платформ. </b></font><br>"
   ]
  },
  {
   "cell_type": "markdown",
   "metadata": {},
   "source": [
    "### Гипотиза №2. Средние пользовательские рейтинги жанров Action  и Sports  одинаковые."
   ]
  },
  {
   "cell_type": "markdown",
   "metadata": {},
   "source": [
    "H_0: Средние пользовательские рейтинги жанров Action и Sports одинаковые.\n",
    "H_1: Средние пользовательские рейтинги жанров Action и Sports отличаются.`\n",
    "alpha = 0.01"
   ]
  },
  {
   "cell_type": "code",
   "execution_count": 79,
   "metadata": {},
   "outputs": [
    {
     "name": "stdout",
     "output_type": "stream",
     "text": [
      "p-значение: 1.0517832389140023e-27\n",
      "genre Action mean: 6.837532133676092\n",
      "genre Sports mean: 5.238124999999999\n",
      "Отвергаем нулевую гипотизу\n"
     ]
    }
   ],
   "source": [
    "sample_1 = df_actual.loc[(df_actual['genre'] == 'Action') & (~df_actual['user_score'].isna())]['user_score']\n",
    "sample_2 = df_actual.loc[(df_actual['genre'] == 'Sports') & (~df_actual['user_score'].isna())]['user_score']\n",
    "\n",
    "alpha = 0.01\n",
    "results = st.ttest_ind(sample_1, sample_2)\n",
    "print('p-значение:', results.pvalue)\n",
    "print('genre Action mean:', sample_1.mean())\n",
    "print('genre Sports mean:', sample_2.mean())\n",
    "\n",
    "if results.pvalue < alpha:\n",
    "    print('Отвергаем нулевую гипотизу')\n",
    "else:\n",
    "    print('Не получилось отвергнуть нулевую гипотизу')"
   ]
  },
  {
   "cell_type": "markdown",
   "metadata": {},
   "source": [
    "</font><font color='Black'><b>В ходе проведения тестирования гипотиза H_0: Средние пользовательские рейтинги жанров Action и Sports одинаковые - не подтвердилась. И из круговых диаграмм выше, мы видели, что жанр Action более популярен, нежели Sports.\n",
    "</b></font><br>"
   ]
  },
  {
   "cell_type": "markdown",
   "metadata": {},
   "source": [
    "Нулевая гипотиза -  когда действия\\события\\выборки совпадают. Альтернативная - когда они отличаются. \n",
    "Выбор значения alpha зависит от обьема выборки.\n",
    "Стандартные значения Alpha: 0,1; 0,05; 0,01; 0,001.\n",
    "Чем она больше - тем меньше должен быть показатель alpha."
   ]
  },
  {
   "cell_type": "markdown",
   "metadata": {},
   "source": [
    "</font><font color='Black'><b>Для тестов проверки гипотиз был использован t-критерий стьюдента. Критерий Стьюдента предназначен для сравнения двух генеральных совокупностей. \n",
    "Мы использовали тест scipy.stats.ttest_ind для проверки гипотезы о равенстве среднего двух генеральных совокупностей.\n",
    "</b></font><br>"
   ]
  },
  {
   "cell_type": "markdown",
   "metadata": {},
   "source": [
    "## Общий вывод"
   ]
  },
  {
   "cell_type": "markdown",
   "metadata": {},
   "source": [
    "Мы получили, обработали и проанализировали данные по компьютерным играм в нескольких регионах (Северная Америка, Европа, Япония и другие страны).\n",
    "В процессе знакомства с данными, мы обнаружили проблемные места (пропуски в столбцах, некорректные названия столбцов) и на этапе предобработке данных - исправили все выявленные погрешности.\n",
    "Также, мы добавили столбец с общей суммой продаж по всем регионам, для удобства применения его в будущих наших расчетах.\n",
    "На этапе исследовательского анализа данных,  мы проанализировали следующие аспекты:\n",
    "    - количество выпускаемых игр по годам и выявление зависимости;\n",
    "    - топ-10 популярных платформ;\n",
    "    - взаимосвязи между оценками критиков и пользвателей и продажами;\n",
    "    - Анализ жанров игр\n",
    "Также, мы составили портрет пользователя игр по 3 регионам и выяснили, что в регионах: Северная Америка и Европа, предпочтения у потенциального пользователя практически идентичны, в то время как в Японии - предпочтения пользователя по жанру и платформе игр сильно отличются от предыдущих двух регионов\n",
    "Также, мы проанализировали зависимость от рейтинга ESRB и уровня продаж и выяснили, что этот рейтинг влияет только на продажи в Северной Америке и Европе, а вот на продажи в Японии он никакого влияния не оказывает.\n",
    "\n",
    "Кроме этого, мы проверили работу двух гипотиз: \n",
    "    - Средние пользовательские рейтинги платформ Xbox One и PC одинаковые - подтвердилось;\n",
    "    - Средние пользовательские рейтинги жанров Action и Sports одинаковые - не подтвердилось.\n",
    "    "
   ]
  },
  {
   "cell_type": "markdown",
   "metadata": {},
   "source": [
    "</font><font color='Black'><b>Подводя итог нашему исследованию, хотим акцентировать внимание на самых популярных платформах, на которые стоит обратить внимание для планирования бюджета на 2017 год: PC4 и XOne в жанре Action и Shooter с применением рейтингов ESRB для регионов Северная Америка и Европа (также продажи на этих платформах зависимы от оценки критиков), и платформу 3DS в жанре Role-Playing без взятия во внимение рейтингов ESRB - для Японии.</b></font><br>"
   ]
  }
 ],
 "metadata": {
  "ExecuteTimeLog": [
   {
    "duration": 399,
    "start_time": "2023-03-13T11:15:30.411Z"
   },
   {
    "duration": 102,
    "start_time": "2023-03-13T11:16:15.806Z"
   },
   {
    "duration": 210,
    "start_time": "2023-03-13T11:16:43.762Z"
   },
   {
    "duration": 554,
    "start_time": "2023-03-14T20:06:40.606Z"
   },
   {
    "duration": 15,
    "start_time": "2023-03-14T20:06:42.785Z"
   },
   {
    "duration": 1113,
    "start_time": "2023-03-14T20:07:51.341Z"
   },
   {
    "duration": 752,
    "start_time": "2023-03-14T20:07:56.834Z"
   },
   {
    "duration": 683,
    "start_time": "2023-03-14T20:08:32.549Z"
   },
   {
    "duration": 86,
    "start_time": "2023-03-14T20:39:46.890Z"
   },
   {
    "duration": 3,
    "start_time": "2023-03-14T20:39:52.580Z"
   },
   {
    "duration": 9,
    "start_time": "2023-03-14T20:47:43.696Z"
   },
   {
    "duration": 53,
    "start_time": "2023-03-14T20:48:29.756Z"
   },
   {
    "duration": 5,
    "start_time": "2023-03-14T21:18:02.692Z"
   },
   {
    "duration": 4,
    "start_time": "2023-03-14T21:18:09.590Z"
   },
   {
    "duration": 5,
    "start_time": "2023-03-14T21:18:51.932Z"
   },
   {
    "duration": 4,
    "start_time": "2023-03-14T21:18:58.210Z"
   },
   {
    "duration": 10,
    "start_time": "2023-03-14T21:22:15.805Z"
   },
   {
    "duration": 14,
    "start_time": "2023-03-14T21:22:58.943Z"
   },
   {
    "duration": 2,
    "start_time": "2023-03-14T21:24:26.893Z"
   },
   {
    "duration": 15,
    "start_time": "2023-03-14T21:26:30.340Z"
   },
   {
    "duration": 12,
    "start_time": "2023-03-14T21:26:37.729Z"
   },
   {
    "duration": 10,
    "start_time": "2023-03-14T21:26:51.117Z"
   },
   {
    "duration": 9,
    "start_time": "2023-03-14T21:35:26.655Z"
   },
   {
    "duration": 11,
    "start_time": "2023-03-14T21:35:45.928Z"
   },
   {
    "duration": 9,
    "start_time": "2023-03-14T21:39:43.527Z"
   },
   {
    "duration": 46,
    "start_time": "2023-03-14T21:40:23.758Z"
   },
   {
    "duration": 50,
    "start_time": "2023-03-14T21:40:36.864Z"
   },
   {
    "duration": 11,
    "start_time": "2023-03-14T21:41:52.890Z"
   },
   {
    "duration": 721,
    "start_time": "2023-03-14T21:42:30.858Z"
   },
   {
    "duration": 357,
    "start_time": "2023-03-14T21:42:54.491Z"
   },
   {
    "duration": 42,
    "start_time": "2023-03-14T21:44:45.691Z"
   },
   {
    "duration": 48,
    "start_time": "2023-03-14T21:46:27.690Z"
   },
   {
    "duration": 9,
    "start_time": "2023-03-14T21:46:34.034Z"
   },
   {
    "duration": 16,
    "start_time": "2023-03-14T21:46:44.035Z"
   },
   {
    "duration": 45,
    "start_time": "2023-03-15T12:51:31.951Z"
   },
   {
    "duration": 643,
    "start_time": "2023-03-15T12:51:37.297Z"
   },
   {
    "duration": 17,
    "start_time": "2023-03-15T12:51:37.945Z"
   },
   {
    "duration": 1314,
    "start_time": "2023-03-15T12:51:37.964Z"
   },
   {
    "duration": 7,
    "start_time": "2023-03-15T12:51:39.280Z"
   },
   {
    "duration": 7,
    "start_time": "2023-03-15T12:51:39.289Z"
   },
   {
    "duration": 38,
    "start_time": "2023-03-15T12:51:39.298Z"
   },
   {
    "duration": 15,
    "start_time": "2023-03-15T12:51:39.340Z"
   },
   {
    "duration": 129,
    "start_time": "2023-03-15T12:51:39.356Z"
   },
   {
    "duration": 15,
    "start_time": "2023-03-15T12:51:39.487Z"
   },
   {
    "duration": 33,
    "start_time": "2023-03-15T12:51:39.504Z"
   },
   {
    "duration": 17,
    "start_time": "2023-03-15T12:51:39.546Z"
   },
   {
    "duration": 3,
    "start_time": "2023-03-15T12:51:39.564Z"
   },
   {
    "duration": 7,
    "start_time": "2023-03-15T12:51:46.023Z"
   },
   {
    "duration": 50,
    "start_time": "2023-03-15T12:52:01.705Z"
   },
   {
    "duration": 36,
    "start_time": "2023-03-15T12:52:05.025Z"
   },
   {
    "duration": 17,
    "start_time": "2023-03-15T12:53:01.964Z"
   },
   {
    "duration": 6,
    "start_time": "2023-03-15T12:53:09.246Z"
   },
   {
    "duration": 15,
    "start_time": "2023-03-15T12:53:13.399Z"
   },
   {
    "duration": 9,
    "start_time": "2023-03-15T12:53:52.251Z"
   },
   {
    "duration": 20,
    "start_time": "2023-03-15T12:54:02.058Z"
   },
   {
    "duration": 10,
    "start_time": "2023-03-15T12:54:10.058Z"
   },
   {
    "duration": 17,
    "start_time": "2023-03-15T12:54:48.780Z"
   },
   {
    "duration": 25,
    "start_time": "2023-03-15T13:05:03.502Z"
   },
   {
    "duration": 7,
    "start_time": "2023-03-15T13:05:49.515Z"
   },
   {
    "duration": 1412,
    "start_time": "2023-03-15T13:13:32.499Z"
   },
   {
    "duration": 1365,
    "start_time": "2023-03-15T13:14:30.394Z"
   },
   {
    "duration": 1170,
    "start_time": "2023-03-15T13:15:28.055Z"
   },
   {
    "duration": 4,
    "start_time": "2023-03-15T13:15:53.696Z"
   },
   {
    "duration": 1110,
    "start_time": "2023-03-15T13:16:10.510Z"
   },
   {
    "duration": 47,
    "start_time": "2023-03-15T21:20:28.078Z"
   },
   {
    "duration": 626,
    "start_time": "2023-03-15T21:20:35.972Z"
   },
   {
    "duration": 6,
    "start_time": "2023-03-15T21:20:38.665Z"
   },
   {
    "duration": 1557,
    "start_time": "2023-03-15T21:24:25.099Z"
   },
   {
    "duration": 1520,
    "start_time": "2023-03-15T21:25:07.091Z"
   },
   {
    "duration": 84,
    "start_time": "2023-03-15T21:25:16.237Z"
   },
   {
    "duration": 17,
    "start_time": "2023-03-15T21:25:16.324Z"
   },
   {
    "duration": 1304,
    "start_time": "2023-03-15T21:25:16.343Z"
   },
   {
    "duration": 11,
    "start_time": "2023-03-15T21:25:17.652Z"
   },
   {
    "duration": 9,
    "start_time": "2023-03-15T21:25:17.665Z"
   },
   {
    "duration": 6,
    "start_time": "2023-03-15T21:25:17.675Z"
   },
   {
    "duration": 12,
    "start_time": "2023-03-15T21:25:17.684Z"
   },
   {
    "duration": 152,
    "start_time": "2023-03-15T21:25:17.698Z"
   },
   {
    "duration": 19,
    "start_time": "2023-03-15T21:25:17.853Z"
   },
   {
    "duration": 11,
    "start_time": "2023-03-15T21:25:17.876Z"
   },
   {
    "duration": 10,
    "start_time": "2023-03-15T21:25:17.889Z"
   },
   {
    "duration": 23,
    "start_time": "2023-03-15T21:25:17.901Z"
   },
   {
    "duration": 4,
    "start_time": "2023-03-15T21:25:24.896Z"
   },
   {
    "duration": 409,
    "start_time": "2023-03-15T21:25:30.249Z"
   },
   {
    "duration": 5,
    "start_time": "2023-03-15T21:26:06.394Z"
   },
   {
    "duration": 5,
    "start_time": "2023-03-15T21:26:23.639Z"
   },
   {
    "duration": 6,
    "start_time": "2023-03-15T21:26:45.112Z"
   },
   {
    "duration": 9,
    "start_time": "2023-03-15T21:26:49.183Z"
   },
   {
    "duration": 15,
    "start_time": "2023-03-15T21:26:56.527Z"
   },
   {
    "duration": 15,
    "start_time": "2023-03-15T21:27:20.090Z"
   },
   {
    "duration": 4,
    "start_time": "2023-03-15T21:27:50.693Z"
   },
   {
    "duration": 6,
    "start_time": "2023-03-15T21:28:24.718Z"
   },
   {
    "duration": 21,
    "start_time": "2023-03-15T21:28:33.928Z"
   },
   {
    "duration": 19,
    "start_time": "2023-03-15T21:40:47.521Z"
   },
   {
    "duration": 14,
    "start_time": "2023-03-15T21:46:12.416Z"
   },
   {
    "duration": 18,
    "start_time": "2023-03-15T22:00:18.593Z"
   },
   {
    "duration": 15,
    "start_time": "2023-03-15T22:00:57.210Z"
   },
   {
    "duration": 7,
    "start_time": "2023-03-15T22:01:21.320Z"
   },
   {
    "duration": 16,
    "start_time": "2023-03-15T22:01:31.601Z"
   },
   {
    "duration": 20,
    "start_time": "2023-03-15T22:05:01.559Z"
   },
   {
    "duration": 15,
    "start_time": "2023-03-15T22:05:07.794Z"
   },
   {
    "duration": 1429,
    "start_time": "2023-03-15T22:06:38.084Z"
   },
   {
    "duration": 102,
    "start_time": "2023-03-15T22:06:50.045Z"
   },
   {
    "duration": 1428,
    "start_time": "2023-03-15T22:06:56.600Z"
   },
   {
    "duration": 632,
    "start_time": "2023-03-16T12:18:39.622Z"
   },
   {
    "duration": 15,
    "start_time": "2023-03-16T12:18:40.256Z"
   },
   {
    "duration": 1127,
    "start_time": "2023-03-16T12:18:40.273Z"
   },
   {
    "duration": 4,
    "start_time": "2023-03-16T12:18:41.402Z"
   },
   {
    "duration": 16,
    "start_time": "2023-03-16T12:18:41.426Z"
   },
   {
    "duration": 5,
    "start_time": "2023-03-16T12:18:41.444Z"
   },
   {
    "duration": 11,
    "start_time": "2023-03-16T12:18:41.451Z"
   },
   {
    "duration": 126,
    "start_time": "2023-03-16T12:18:41.463Z"
   },
   {
    "duration": 13,
    "start_time": "2023-03-16T12:18:41.590Z"
   },
   {
    "duration": 22,
    "start_time": "2023-03-16T12:18:41.605Z"
   },
   {
    "duration": 10,
    "start_time": "2023-03-16T12:18:41.629Z"
   },
   {
    "duration": 19,
    "start_time": "2023-03-16T12:18:41.640Z"
   },
   {
    "duration": 5,
    "start_time": "2023-03-16T12:18:41.661Z"
   },
   {
    "duration": 24,
    "start_time": "2023-03-16T12:18:50.509Z"
   },
   {
    "duration": 1233,
    "start_time": "2023-03-16T12:19:21.908Z"
   },
   {
    "duration": 8,
    "start_time": "2023-03-16T12:20:14.317Z"
   },
   {
    "duration": 16,
    "start_time": "2023-03-16T12:20:23.901Z"
   },
   {
    "duration": 20,
    "start_time": "2023-03-16T12:20:45.552Z"
   },
   {
    "duration": 14,
    "start_time": "2023-03-16T12:27:21.609Z"
   },
   {
    "duration": 17,
    "start_time": "2023-03-16T12:27:29.407Z"
   },
   {
    "duration": 5,
    "start_time": "2023-03-16T12:28:21.832Z"
   },
   {
    "duration": 6,
    "start_time": "2023-03-16T12:28:45.515Z"
   },
   {
    "duration": 5,
    "start_time": "2023-03-16T12:29:04.397Z"
   },
   {
    "duration": 15,
    "start_time": "2023-03-16T12:36:49.773Z"
   },
   {
    "duration": 9,
    "start_time": "2023-03-16T12:37:03.093Z"
   },
   {
    "duration": 10,
    "start_time": "2023-03-16T12:37:04.526Z"
   },
   {
    "duration": 3,
    "start_time": "2023-03-16T12:40:54.888Z"
   },
   {
    "duration": 8,
    "start_time": "2023-03-16T12:48:20.710Z"
   },
   {
    "duration": 34,
    "start_time": "2023-03-16T12:48:26.949Z"
   },
   {
    "duration": 19,
    "start_time": "2023-03-16T12:48:35.448Z"
   },
   {
    "duration": 434,
    "start_time": "2023-03-16T12:58:20.871Z"
   },
   {
    "duration": 515,
    "start_time": "2023-03-16T12:58:26.215Z"
   },
   {
    "duration": 448,
    "start_time": "2023-03-16T12:58:29.571Z"
   },
   {
    "duration": 11,
    "start_time": "2023-03-16T13:04:55.847Z"
   },
   {
    "duration": 16,
    "start_time": "2023-03-16T13:05:05.473Z"
   },
   {
    "duration": 74,
    "start_time": "2023-03-16T13:10:19.109Z"
   },
   {
    "duration": 15,
    "start_time": "2023-03-16T13:10:33.124Z"
   },
   {
    "duration": 23,
    "start_time": "2023-03-16T13:10:39.193Z"
   },
   {
    "duration": 22,
    "start_time": "2023-03-16T13:11:49.925Z"
   },
   {
    "duration": 22,
    "start_time": "2023-03-16T13:11:57.326Z"
   },
   {
    "duration": 545,
    "start_time": "2023-03-16T22:11:43.002Z"
   },
   {
    "duration": 15,
    "start_time": "2023-03-16T22:11:43.549Z"
   },
   {
    "duration": 1235,
    "start_time": "2023-03-16T22:11:43.566Z"
   },
   {
    "duration": 4,
    "start_time": "2023-03-16T22:11:44.803Z"
   },
   {
    "duration": 8,
    "start_time": "2023-03-16T22:11:44.809Z"
   },
   {
    "duration": 4,
    "start_time": "2023-03-16T22:11:44.819Z"
   },
   {
    "duration": 11,
    "start_time": "2023-03-16T22:11:44.825Z"
   },
   {
    "duration": 151,
    "start_time": "2023-03-16T22:11:44.838Z"
   },
   {
    "duration": 14,
    "start_time": "2023-03-16T22:11:44.991Z"
   },
   {
    "duration": 8,
    "start_time": "2023-03-16T22:11:45.006Z"
   },
   {
    "duration": 30,
    "start_time": "2023-03-16T22:11:45.016Z"
   },
   {
    "duration": 8,
    "start_time": "2023-03-16T22:11:45.048Z"
   },
   {
    "duration": 27,
    "start_time": "2023-03-16T22:11:45.058Z"
   },
   {
    "duration": 25,
    "start_time": "2023-03-16T22:11:45.089Z"
   },
   {
    "duration": 3,
    "start_time": "2023-03-16T22:11:45.115Z"
   },
   {
    "duration": 18,
    "start_time": "2023-03-16T22:11:45.120Z"
   },
   {
    "duration": 17,
    "start_time": "2023-03-16T22:11:45.140Z"
   },
   {
    "duration": 10,
    "start_time": "2023-03-16T22:11:45.179Z"
   },
   {
    "duration": 7,
    "start_time": "2023-03-16T22:11:45.191Z"
   },
   {
    "duration": 11,
    "start_time": "2023-03-16T22:11:45.200Z"
   },
   {
    "duration": 519,
    "start_time": "2023-03-16T22:11:45.212Z"
   },
   {
    "duration": 384,
    "start_time": "2023-03-16T22:11:45.733Z"
   },
   {
    "duration": 17,
    "start_time": "2023-03-16T22:11:46.119Z"
   },
   {
    "duration": 5,
    "start_time": "2023-03-16T22:12:00.237Z"
   },
   {
    "duration": 8,
    "start_time": "2023-03-16T22:12:15.246Z"
   },
   {
    "duration": 4,
    "start_time": "2023-03-16T22:15:23.303Z"
   },
   {
    "duration": 12,
    "start_time": "2023-03-16T22:15:27.785Z"
   },
   {
    "duration": 11,
    "start_time": "2023-03-16T22:17:13.785Z"
   },
   {
    "duration": 4,
    "start_time": "2023-03-16T22:17:27.152Z"
   },
   {
    "duration": 8,
    "start_time": "2023-03-16T22:17:31.217Z"
   },
   {
    "duration": 9,
    "start_time": "2023-03-16T22:18:17.763Z"
   },
   {
    "duration": 4,
    "start_time": "2023-03-16T22:18:21.789Z"
   },
   {
    "duration": 8,
    "start_time": "2023-03-16T22:18:26.385Z"
   },
   {
    "duration": 876,
    "start_time": "2023-03-16T22:41:55.750Z"
   },
   {
    "duration": 6,
    "start_time": "2023-03-16T22:42:18.409Z"
   },
   {
    "duration": 15,
    "start_time": "2023-03-16T22:42:27.656Z"
   },
   {
    "duration": 5,
    "start_time": "2023-03-16T22:42:53.664Z"
   },
   {
    "duration": 8,
    "start_time": "2023-03-16T22:46:00.403Z"
   },
   {
    "duration": 21,
    "start_time": "2023-03-16T22:46:04.335Z"
   },
   {
    "duration": 5,
    "start_time": "2023-03-16T22:46:12.659Z"
   },
   {
    "duration": 21,
    "start_time": "2023-03-16T22:53:55.311Z"
   },
   {
    "duration": 75,
    "start_time": "2023-03-16T22:57:07.408Z"
   },
   {
    "duration": 15,
    "start_time": "2023-03-16T22:57:07.485Z"
   },
   {
    "duration": 860,
    "start_time": "2023-03-16T22:57:07.502Z"
   },
   {
    "duration": 10,
    "start_time": "2023-03-16T22:57:08.364Z"
   },
   {
    "duration": 7,
    "start_time": "2023-03-16T22:57:08.375Z"
   },
   {
    "duration": 9,
    "start_time": "2023-03-16T22:57:08.384Z"
   },
   {
    "duration": 21,
    "start_time": "2023-03-16T22:57:08.395Z"
   },
   {
    "duration": 30,
    "start_time": "2023-03-16T22:57:08.418Z"
   },
   {
    "duration": 15,
    "start_time": "2023-03-16T22:57:08.449Z"
   },
   {
    "duration": 9,
    "start_time": "2023-03-16T22:57:08.467Z"
   },
   {
    "duration": 11,
    "start_time": "2023-03-16T22:57:08.477Z"
   },
   {
    "duration": 8,
    "start_time": "2023-03-16T22:57:08.489Z"
   },
   {
    "duration": 12,
    "start_time": "2023-03-16T22:57:08.499Z"
   },
   {
    "duration": 17,
    "start_time": "2023-03-16T22:57:08.512Z"
   },
   {
    "duration": 3,
    "start_time": "2023-03-16T22:57:08.530Z"
   },
   {
    "duration": 45,
    "start_time": "2023-03-16T22:57:08.535Z"
   },
   {
    "duration": 17,
    "start_time": "2023-03-16T22:57:08.582Z"
   },
   {
    "duration": 5,
    "start_time": "2023-03-16T22:57:08.601Z"
   },
   {
    "duration": 19,
    "start_time": "2023-03-16T22:57:08.608Z"
   },
   {
    "duration": 11,
    "start_time": "2023-03-16T22:57:08.629Z"
   },
   {
    "duration": 4,
    "start_time": "2023-03-16T22:57:08.642Z"
   },
   {
    "duration": 414,
    "start_time": "2023-03-16T22:57:08.647Z"
   },
   {
    "duration": 23,
    "start_time": "2023-03-16T22:57:09.063Z"
   },
   {
    "duration": 6,
    "start_time": "2023-03-16T22:57:09.087Z"
   },
   {
    "duration": 18,
    "start_time": "2023-03-16T22:57:09.094Z"
   },
   {
    "duration": 7,
    "start_time": "2023-03-16T22:57:09.114Z"
   },
   {
    "duration": 52,
    "start_time": "2023-03-16T22:57:09.123Z"
   },
   {
    "duration": 19,
    "start_time": "2023-03-16T22:59:47.257Z"
   },
   {
    "duration": 16,
    "start_time": "2023-03-16T23:00:25.712Z"
   },
   {
    "duration": 17,
    "start_time": "2023-03-16T23:02:56.333Z"
   },
   {
    "duration": 698,
    "start_time": "2023-03-16T23:06:31.757Z"
   },
   {
    "duration": 332,
    "start_time": "2023-03-16T23:06:43.445Z"
   },
   {
    "duration": 693,
    "start_time": "2023-03-16T23:07:00.977Z"
   },
   {
    "duration": 15,
    "start_time": "2023-03-16T23:08:52.045Z"
   },
   {
    "duration": 10,
    "start_time": "2023-03-16T23:11:00.674Z"
   },
   {
    "duration": 16,
    "start_time": "2023-03-16T23:11:27.476Z"
   },
   {
    "duration": 775,
    "start_time": "2023-03-16T23:13:45.368Z"
   },
   {
    "duration": 4,
    "start_time": "2023-03-16T23:14:07.344Z"
   },
   {
    "duration": 12,
    "start_time": "2023-03-16T23:14:23.823Z"
   },
   {
    "duration": 15,
    "start_time": "2023-03-16T23:14:55.049Z"
   },
   {
    "duration": 15,
    "start_time": "2023-03-16T23:15:22.455Z"
   },
   {
    "duration": 14,
    "start_time": "2023-03-16T23:54:39.388Z"
   },
   {
    "duration": 49,
    "start_time": "2023-03-17T12:09:30.553Z"
   },
   {
    "duration": 598,
    "start_time": "2023-03-17T12:09:36.110Z"
   },
   {
    "duration": 23,
    "start_time": "2023-03-17T12:09:36.711Z"
   },
   {
    "duration": 1174,
    "start_time": "2023-03-17T12:09:36.736Z"
   },
   {
    "duration": 5,
    "start_time": "2023-03-17T12:09:37.912Z"
   },
   {
    "duration": 11,
    "start_time": "2023-03-17T12:09:37.930Z"
   },
   {
    "duration": 9,
    "start_time": "2023-03-17T12:09:37.943Z"
   },
   {
    "duration": 28,
    "start_time": "2023-03-17T12:09:37.953Z"
   },
   {
    "duration": 116,
    "start_time": "2023-03-17T12:09:37.983Z"
   },
   {
    "duration": 13,
    "start_time": "2023-03-17T12:09:38.101Z"
   },
   {
    "duration": 17,
    "start_time": "2023-03-17T12:09:38.117Z"
   },
   {
    "duration": 14,
    "start_time": "2023-03-17T12:09:38.135Z"
   },
   {
    "duration": 11,
    "start_time": "2023-03-17T12:09:38.150Z"
   },
   {
    "duration": 12,
    "start_time": "2023-03-17T12:09:38.162Z"
   },
   {
    "duration": 10,
    "start_time": "2023-03-17T12:11:13.042Z"
   },
   {
    "duration": 7,
    "start_time": "2023-03-17T12:11:42.592Z"
   },
   {
    "duration": 37,
    "start_time": "2023-03-17T12:13:11.469Z"
   },
   {
    "duration": 69,
    "start_time": "2023-03-17T12:13:18.548Z"
   },
   {
    "duration": 14,
    "start_time": "2023-03-17T12:13:18.619Z"
   },
   {
    "duration": 721,
    "start_time": "2023-03-17T12:13:18.635Z"
   },
   {
    "duration": 4,
    "start_time": "2023-03-17T12:13:19.357Z"
   },
   {
    "duration": 7,
    "start_time": "2023-03-17T12:13:19.364Z"
   },
   {
    "duration": 7,
    "start_time": "2023-03-17T12:13:19.372Z"
   },
   {
    "duration": 13,
    "start_time": "2023-03-17T12:13:19.380Z"
   },
   {
    "duration": 19,
    "start_time": "2023-03-17T12:13:19.395Z"
   },
   {
    "duration": 18,
    "start_time": "2023-03-17T12:13:19.431Z"
   },
   {
    "duration": 13,
    "start_time": "2023-03-17T12:13:19.451Z"
   },
   {
    "duration": 12,
    "start_time": "2023-03-17T12:13:19.465Z"
   },
   {
    "duration": 11,
    "start_time": "2023-03-17T12:13:19.479Z"
   },
   {
    "duration": 14,
    "start_time": "2023-03-17T12:13:19.491Z"
   },
   {
    "duration": 25,
    "start_time": "2023-03-17T12:13:19.508Z"
   },
   {
    "duration": 3,
    "start_time": "2023-03-17T12:13:19.534Z"
   },
   {
    "duration": 18,
    "start_time": "2023-03-17T12:13:19.538Z"
   },
   {
    "duration": 14,
    "start_time": "2023-03-17T12:13:19.557Z"
   },
   {
    "duration": 4,
    "start_time": "2023-03-17T12:13:19.572Z"
   },
   {
    "duration": 11,
    "start_time": "2023-03-17T12:13:19.578Z"
   },
   {
    "duration": 10,
    "start_time": "2023-03-17T12:13:19.590Z"
   },
   {
    "duration": 565,
    "start_time": "2023-03-17T12:13:19.602Z"
   },
   {
    "duration": 350,
    "start_time": "2023-03-17T12:13:20.168Z"
   },
   {
    "duration": 28,
    "start_time": "2023-03-17T12:13:20.521Z"
   },
   {
    "duration": 6,
    "start_time": "2023-03-17T12:13:20.551Z"
   },
   {
    "duration": 20,
    "start_time": "2023-03-17T12:13:20.559Z"
   },
   {
    "duration": 8,
    "start_time": "2023-03-17T12:13:20.581Z"
   },
   {
    "duration": 56,
    "start_time": "2023-03-17T12:13:20.591Z"
   },
   {
    "duration": 56,
    "start_time": "2023-03-17T12:13:27.507Z"
   },
   {
    "duration": 299,
    "start_time": "2023-03-17T12:13:44.847Z"
   },
   {
    "duration": 301,
    "start_time": "2023-03-17T12:13:48.525Z"
   },
   {
    "duration": 334,
    "start_time": "2023-03-17T12:13:58.178Z"
   },
   {
    "duration": 322,
    "start_time": "2023-03-17T12:14:14.003Z"
   },
   {
    "duration": 370,
    "start_time": "2023-03-17T12:14:26.586Z"
   },
   {
    "duration": 318,
    "start_time": "2023-03-17T12:15:54.929Z"
   },
   {
    "duration": 315,
    "start_time": "2023-03-17T12:16:00.251Z"
   },
   {
    "duration": 447,
    "start_time": "2023-03-17T12:18:01.552Z"
   },
   {
    "duration": 337,
    "start_time": "2023-03-17T12:18:13.937Z"
   },
   {
    "duration": 5,
    "start_time": "2023-03-17T12:19:05.910Z"
   },
   {
    "duration": 5,
    "start_time": "2023-03-17T12:39:17.427Z"
   },
   {
    "duration": 63,
    "start_time": "2023-03-17T12:44:47.770Z"
   },
   {
    "duration": 57,
    "start_time": "2023-03-17T12:45:10.174Z"
   },
   {
    "duration": 367,
    "start_time": "2023-03-17T12:45:22.714Z"
   },
   {
    "duration": 385,
    "start_time": "2023-03-17T12:45:34.646Z"
   },
   {
    "duration": 327,
    "start_time": "2023-03-17T12:46:20.096Z"
   },
   {
    "duration": 4,
    "start_time": "2023-03-17T12:48:23.716Z"
   },
   {
    "duration": 31216,
    "start_time": "2023-03-17T12:50:30.675Z"
   },
   {
    "duration": 1116,
    "start_time": "2023-03-17T12:51:25.312Z"
   },
   {
    "duration": 30162,
    "start_time": "2023-03-17T12:52:57.840Z"
   },
   {
    "duration": 18,
    "start_time": "2023-03-17T12:54:52.054Z"
   },
   {
    "duration": 923,
    "start_time": "2023-03-17T13:08:39.143Z"
   },
   {
    "duration": 989,
    "start_time": "2023-03-17T13:08:58.987Z"
   },
   {
    "duration": 89,
    "start_time": "2023-03-17T15:44:49.168Z"
   },
   {
    "duration": 1110,
    "start_time": "2023-03-17T15:44:53.718Z"
   },
   {
    "duration": 28,
    "start_time": "2023-03-17T15:44:54.830Z"
   },
   {
    "duration": 1673,
    "start_time": "2023-03-17T15:44:54.860Z"
   },
   {
    "duration": 22,
    "start_time": "2023-03-17T15:44:56.547Z"
   },
   {
    "duration": 13,
    "start_time": "2023-03-17T15:44:56.571Z"
   },
   {
    "duration": 24,
    "start_time": "2023-03-17T15:44:56.586Z"
   },
   {
    "duration": 20,
    "start_time": "2023-03-17T15:44:56.612Z"
   },
   {
    "duration": 185,
    "start_time": "2023-03-17T15:44:56.634Z"
   },
   {
    "duration": 32,
    "start_time": "2023-03-17T15:44:56.821Z"
   },
   {
    "duration": 11,
    "start_time": "2023-03-17T15:44:56.856Z"
   },
   {
    "duration": 22,
    "start_time": "2023-03-17T15:44:56.871Z"
   },
   {
    "duration": 13,
    "start_time": "2023-03-17T15:44:56.905Z"
   },
   {
    "duration": 11,
    "start_time": "2023-03-17T15:44:56.920Z"
   },
   {
    "duration": 26,
    "start_time": "2023-03-17T15:44:56.933Z"
   },
   {
    "duration": 4,
    "start_time": "2023-03-17T15:44:56.961Z"
   },
   {
    "duration": 26,
    "start_time": "2023-03-17T15:44:56.967Z"
   },
   {
    "duration": 35,
    "start_time": "2023-03-17T15:44:56.995Z"
   },
   {
    "duration": 7,
    "start_time": "2023-03-17T15:44:57.032Z"
   },
   {
    "duration": 11,
    "start_time": "2023-03-17T15:44:57.053Z"
   },
   {
    "duration": 13,
    "start_time": "2023-03-17T15:44:57.066Z"
   },
   {
    "duration": 521,
    "start_time": "2023-03-17T15:44:57.084Z"
   },
   {
    "duration": 417,
    "start_time": "2023-03-17T15:44:57.607Z"
   },
   {
    "duration": 32,
    "start_time": "2023-03-17T15:44:58.025Z"
   },
   {
    "duration": 18,
    "start_time": "2023-03-17T15:44:58.059Z"
   },
   {
    "duration": 27,
    "start_time": "2023-03-17T15:44:58.083Z"
   },
   {
    "duration": 5,
    "start_time": "2023-03-17T15:44:58.112Z"
   },
   {
    "duration": 40,
    "start_time": "2023-03-17T15:44:58.119Z"
   },
   {
    "duration": 521,
    "start_time": "2023-03-17T15:44:58.163Z"
   },
   {
    "duration": 18,
    "start_time": "2023-03-17T15:44:58.687Z"
   },
   {
    "duration": 6,
    "start_time": "2023-03-17T15:45:02.065Z"
   },
   {
    "duration": 1034,
    "start_time": "2023-03-17T15:45:08.766Z"
   },
   {
    "duration": 21942,
    "start_time": "2023-03-17T15:45:36.799Z"
   },
   {
    "duration": 51,
    "start_time": "2023-03-17T15:46:06.026Z"
   },
   {
    "duration": 88,
    "start_time": "2023-03-17T19:58:38.928Z"
   },
   {
    "duration": 13,
    "start_time": "2023-03-17T19:58:39.018Z"
   },
   {
    "duration": 763,
    "start_time": "2023-03-17T19:58:39.033Z"
   },
   {
    "duration": 4,
    "start_time": "2023-03-17T19:58:39.798Z"
   },
   {
    "duration": 4,
    "start_time": "2023-03-17T19:58:39.803Z"
   },
   {
    "duration": 4,
    "start_time": "2023-03-17T19:58:39.809Z"
   },
   {
    "duration": 29,
    "start_time": "2023-03-17T19:58:39.814Z"
   },
   {
    "duration": 26,
    "start_time": "2023-03-17T19:58:39.845Z"
   },
   {
    "duration": 19,
    "start_time": "2023-03-17T19:58:39.873Z"
   },
   {
    "duration": 7,
    "start_time": "2023-03-17T19:58:39.895Z"
   },
   {
    "duration": 11,
    "start_time": "2023-03-17T19:58:39.903Z"
   },
   {
    "duration": 32,
    "start_time": "2023-03-17T19:58:39.915Z"
   },
   {
    "duration": 9,
    "start_time": "2023-03-17T19:58:39.948Z"
   },
   {
    "duration": 17,
    "start_time": "2023-03-17T19:58:39.958Z"
   },
   {
    "duration": 2,
    "start_time": "2023-03-17T19:58:39.977Z"
   },
   {
    "duration": 15,
    "start_time": "2023-03-17T19:58:39.981Z"
   },
   {
    "duration": 47,
    "start_time": "2023-03-17T19:58:39.998Z"
   },
   {
    "duration": 6,
    "start_time": "2023-03-17T19:58:40.046Z"
   },
   {
    "duration": 7,
    "start_time": "2023-03-17T19:58:40.053Z"
   },
   {
    "duration": 12,
    "start_time": "2023-03-17T19:58:40.061Z"
   },
   {
    "duration": 6,
    "start_time": "2023-03-17T19:58:40.075Z"
   },
   {
    "duration": 346,
    "start_time": "2023-03-17T19:58:40.082Z"
   },
   {
    "duration": 30,
    "start_time": "2023-03-17T19:58:40.430Z"
   },
   {
    "duration": 7,
    "start_time": "2023-03-17T19:58:40.466Z"
   },
   {
    "duration": 24,
    "start_time": "2023-03-17T19:58:40.475Z"
   },
   {
    "duration": 6,
    "start_time": "2023-03-17T19:58:40.501Z"
   },
   {
    "duration": 34,
    "start_time": "2023-03-17T19:58:40.509Z"
   },
   {
    "duration": 343,
    "start_time": "2023-03-17T19:58:40.546Z"
   },
   {
    "duration": 4,
    "start_time": "2023-03-17T19:58:47.977Z"
   },
   {
    "duration": 1108,
    "start_time": "2023-03-17T19:58:53.169Z"
   },
   {
    "duration": 27345,
    "start_time": "2023-03-17T20:01:45.517Z"
   },
   {
    "duration": 2,
    "start_time": "2023-03-17T20:05:14.099Z"
   },
   {
    "duration": 108,
    "start_time": "2023-03-17T20:06:39.987Z"
   },
   {
    "duration": 18,
    "start_time": "2023-03-17T20:06:50.267Z"
   },
   {
    "duration": 31,
    "start_time": "2023-03-17T20:06:56.862Z"
   },
   {
    "duration": 26,
    "start_time": "2023-03-17T20:08:50.076Z"
   },
   {
    "duration": 29,
    "start_time": "2023-03-17T20:09:18.918Z"
   },
   {
    "duration": 23,
    "start_time": "2023-03-17T20:09:25.064Z"
   },
   {
    "duration": 34,
    "start_time": "2023-03-17T20:09:46.701Z"
   },
   {
    "duration": 18,
    "start_time": "2023-03-17T20:10:42.120Z"
   },
   {
    "duration": 37,
    "start_time": "2023-03-17T20:10:44.319Z"
   },
   {
    "duration": 27,
    "start_time": "2023-03-17T20:26:05.136Z"
   },
   {
    "duration": 364,
    "start_time": "2023-03-17T20:26:44.890Z"
   },
   {
    "duration": 3,
    "start_time": "2023-03-17T20:27:33.954Z"
   },
   {
    "duration": 1194,
    "start_time": "2023-03-17T20:28:13.020Z"
   },
   {
    "duration": 25547,
    "start_time": "2023-03-17T20:29:49.271Z"
   },
   {
    "duration": 24,
    "start_time": "2023-03-17T20:38:58.938Z"
   },
   {
    "duration": 12,
    "start_time": "2023-03-17T20:39:29.855Z"
   },
   {
    "duration": 185,
    "start_time": "2023-03-17T20:40:07.070Z"
   },
   {
    "duration": 170,
    "start_time": "2023-03-17T20:40:14.151Z"
   },
   {
    "duration": 11,
    "start_time": "2023-03-17T20:59:56.826Z"
   },
   {
    "duration": 118,
    "start_time": "2023-03-17T21:00:07.156Z"
   },
   {
    "duration": 157,
    "start_time": "2023-03-17T21:00:36.832Z"
   },
   {
    "duration": 105,
    "start_time": "2023-03-17T21:02:49.655Z"
   },
   {
    "duration": 288,
    "start_time": "2023-03-17T21:06:47.911Z"
   },
   {
    "duration": 288,
    "start_time": "2023-03-17T21:07:53.431Z"
   },
   {
    "duration": 317,
    "start_time": "2023-03-17T21:07:58.246Z"
   },
   {
    "duration": 34,
    "start_time": "2023-03-17T21:12:05.771Z"
   },
   {
    "duration": 8,
    "start_time": "2023-03-17T21:20:30.228Z"
   },
   {
    "duration": 15,
    "start_time": "2023-03-17T21:20:34.461Z"
   },
   {
    "duration": 11,
    "start_time": "2023-03-17T21:21:39.375Z"
   },
   {
    "duration": 17,
    "start_time": "2023-03-17T21:21:43.402Z"
   },
   {
    "duration": 94,
    "start_time": "2023-03-17T21:31:52.919Z"
   },
   {
    "duration": 449,
    "start_time": "2023-03-17T21:32:12.227Z"
   },
   {
    "duration": 22,
    "start_time": "2023-03-17T21:36:08.370Z"
   },
   {
    "duration": 46,
    "start_time": "2023-03-17T21:36:13.210Z"
   },
   {
    "duration": 18,
    "start_time": "2023-03-17T21:37:00.052Z"
   },
   {
    "duration": 26,
    "start_time": "2023-03-17T21:38:46.058Z"
   },
   {
    "duration": 18,
    "start_time": "2023-03-17T21:40:11.192Z"
   },
   {
    "duration": 593,
    "start_time": "2023-03-18T12:49:37.395Z"
   },
   {
    "duration": 14,
    "start_time": "2023-03-18T12:49:37.990Z"
   },
   {
    "duration": 1126,
    "start_time": "2023-03-18T12:49:38.006Z"
   },
   {
    "duration": 5,
    "start_time": "2023-03-18T12:49:39.134Z"
   },
   {
    "duration": 14,
    "start_time": "2023-03-18T12:49:39.141Z"
   },
   {
    "duration": 4,
    "start_time": "2023-03-18T12:49:39.157Z"
   },
   {
    "duration": 14,
    "start_time": "2023-03-18T12:49:39.174Z"
   },
   {
    "duration": 134,
    "start_time": "2023-03-18T12:49:39.190Z"
   },
   {
    "duration": 15,
    "start_time": "2023-03-18T12:49:39.326Z"
   },
   {
    "duration": 8,
    "start_time": "2023-03-18T12:49:39.344Z"
   },
   {
    "duration": 28,
    "start_time": "2023-03-18T12:49:39.354Z"
   },
   {
    "duration": 9,
    "start_time": "2023-03-18T12:49:39.384Z"
   },
   {
    "duration": 8,
    "start_time": "2023-03-18T12:49:39.395Z"
   },
   {
    "duration": 18,
    "start_time": "2023-03-18T12:49:39.404Z"
   },
   {
    "duration": 15,
    "start_time": "2023-03-18T12:49:39.424Z"
   },
   {
    "duration": 16,
    "start_time": "2023-03-18T12:49:39.476Z"
   },
   {
    "duration": 6,
    "start_time": "2023-03-18T12:49:39.494Z"
   },
   {
    "duration": 9,
    "start_time": "2023-03-18T12:49:39.501Z"
   },
   {
    "duration": 8,
    "start_time": "2023-03-18T12:49:39.511Z"
   },
   {
    "duration": 500,
    "start_time": "2023-03-18T12:49:39.521Z"
   },
   {
    "duration": 330,
    "start_time": "2023-03-18T12:49:40.022Z"
   },
   {
    "duration": 32,
    "start_time": "2023-03-18T12:49:40.354Z"
   },
   {
    "duration": 9,
    "start_time": "2023-03-18T12:49:40.387Z"
   },
   {
    "duration": 18,
    "start_time": "2023-03-18T12:49:40.398Z"
   },
   {
    "duration": 5,
    "start_time": "2023-03-18T12:49:40.418Z"
   },
   {
    "duration": 54,
    "start_time": "2023-03-18T12:49:40.426Z"
   },
   {
    "duration": 364,
    "start_time": "2023-03-18T12:49:40.481Z"
   },
   {
    "duration": 4,
    "start_time": "2023-03-18T12:49:40.848Z"
   },
   {
    "duration": 19,
    "start_time": "2023-03-18T12:49:40.854Z"
   },
   {
    "duration": 447,
    "start_time": "2023-03-18T12:49:40.876Z"
   },
   {
    "duration": 3,
    "start_time": "2023-03-18T12:49:41.325Z"
   },
   {
    "duration": 17,
    "start_time": "2023-03-18T12:49:41.330Z"
   },
   {
    "duration": 199,
    "start_time": "2023-03-18T12:49:41.349Z"
   },
   {
    "duration": 313,
    "start_time": "2023-03-18T12:49:44.221Z"
   },
   {
    "duration": 280,
    "start_time": "2023-03-18T12:49:50.937Z"
   },
   {
    "duration": 292,
    "start_time": "2023-03-18T12:50:10.848Z"
   },
   {
    "duration": 271,
    "start_time": "2023-03-18T12:50:21.932Z"
   },
   {
    "duration": 14,
    "start_time": "2023-03-18T12:51:13.863Z"
   },
   {
    "duration": 29,
    "start_time": "2023-03-18T12:52:47.632Z"
   },
   {
    "duration": 6,
    "start_time": "2023-03-18T12:56:16.060Z"
   },
   {
    "duration": 5,
    "start_time": "2023-03-18T12:56:23.548Z"
   },
   {
    "duration": 4,
    "start_time": "2023-03-18T12:56:32.202Z"
   },
   {
    "duration": 10,
    "start_time": "2023-03-18T12:56:37.761Z"
   },
   {
    "duration": 61,
    "start_time": "2023-03-18T12:56:51.372Z"
   },
   {
    "duration": 14,
    "start_time": "2023-03-18T12:56:51.435Z"
   },
   {
    "duration": 793,
    "start_time": "2023-03-18T12:56:51.450Z"
   },
   {
    "duration": 4,
    "start_time": "2023-03-18T12:56:52.246Z"
   },
   {
    "duration": 9,
    "start_time": "2023-03-18T12:56:52.251Z"
   },
   {
    "duration": 4,
    "start_time": "2023-03-18T12:56:52.274Z"
   },
   {
    "duration": 9,
    "start_time": "2023-03-18T12:56:52.280Z"
   },
   {
    "duration": 15,
    "start_time": "2023-03-18T12:56:52.291Z"
   },
   {
    "duration": 13,
    "start_time": "2023-03-18T12:56:52.308Z"
   },
   {
    "duration": 5,
    "start_time": "2023-03-18T12:56:52.324Z"
   },
   {
    "duration": 11,
    "start_time": "2023-03-18T12:56:57.591Z"
   },
   {
    "duration": 6,
    "start_time": "2023-03-18T12:57:10.379Z"
   },
   {
    "duration": 6,
    "start_time": "2023-03-18T12:57:19.375Z"
   },
   {
    "duration": 5,
    "start_time": "2023-03-18T12:57:27.196Z"
   },
   {
    "duration": 12,
    "start_time": "2023-03-18T13:00:34.146Z"
   },
   {
    "duration": 13,
    "start_time": "2023-03-18T13:00:39.761Z"
   },
   {
    "duration": 16,
    "start_time": "2023-03-18T13:00:55.672Z"
   },
   {
    "duration": 62,
    "start_time": "2023-03-18T13:01:28.861Z"
   },
   {
    "duration": 12,
    "start_time": "2023-03-18T13:01:28.925Z"
   },
   {
    "duration": 731,
    "start_time": "2023-03-18T13:01:28.939Z"
   },
   {
    "duration": 4,
    "start_time": "2023-03-18T13:01:29.676Z"
   },
   {
    "duration": 8,
    "start_time": "2023-03-18T13:01:29.682Z"
   },
   {
    "duration": 5,
    "start_time": "2023-03-18T13:01:29.692Z"
   },
   {
    "duration": 21,
    "start_time": "2023-03-18T13:01:29.698Z"
   },
   {
    "duration": 28,
    "start_time": "2023-03-18T13:01:29.721Z"
   },
   {
    "duration": 12,
    "start_time": "2023-03-18T13:01:29.751Z"
   },
   {
    "duration": 5,
    "start_time": "2023-03-18T13:01:29.774Z"
   },
   {
    "duration": 11,
    "start_time": "2023-03-18T13:01:29.781Z"
   },
   {
    "duration": 8,
    "start_time": "2023-03-18T13:01:29.794Z"
   },
   {
    "duration": 3,
    "start_time": "2023-03-18T13:01:29.804Z"
   },
   {
    "duration": 4,
    "start_time": "2023-03-18T13:01:29.809Z"
   },
   {
    "duration": 16,
    "start_time": "2023-03-18T13:01:29.815Z"
   },
   {
    "duration": 46,
    "start_time": "2023-03-18T13:01:29.832Z"
   },
   {
    "duration": 5,
    "start_time": "2023-03-18T13:01:29.880Z"
   },
   {
    "duration": 6,
    "start_time": "2023-03-18T13:01:29.887Z"
   },
   {
    "duration": 8,
    "start_time": "2023-03-18T13:01:29.895Z"
   },
   {
    "duration": 3,
    "start_time": "2023-03-18T13:01:29.905Z"
   },
   {
    "duration": 374,
    "start_time": "2023-03-18T13:01:29.909Z"
   },
   {
    "duration": 17,
    "start_time": "2023-03-18T13:01:30.285Z"
   },
   {
    "duration": 47,
    "start_time": "2023-03-18T13:01:30.304Z"
   },
   {
    "duration": 56,
    "start_time": "2023-03-18T13:01:30.353Z"
   },
   {
    "duration": 30,
    "start_time": "2023-03-18T13:01:30.411Z"
   },
   {
    "duration": 90,
    "start_time": "2023-03-18T13:01:30.443Z"
   },
   {
    "duration": 341,
    "start_time": "2023-03-18T13:01:30.534Z"
   },
   {
    "duration": 6,
    "start_time": "2023-03-18T13:01:30.878Z"
   },
   {
    "duration": 55,
    "start_time": "2023-03-18T13:01:30.885Z"
   },
   {
    "duration": 400,
    "start_time": "2023-03-18T13:01:30.942Z"
   },
   {
    "duration": 2,
    "start_time": "2023-03-18T13:01:31.344Z"
   },
   {
    "duration": 27,
    "start_time": "2023-03-18T13:01:31.348Z"
   },
   {
    "duration": 317,
    "start_time": "2023-03-18T13:01:31.376Z"
   },
   {
    "duration": 277,
    "start_time": "2023-03-18T13:01:31.695Z"
   },
   {
    "duration": 37,
    "start_time": "2023-03-18T13:01:31.974Z"
   },
   {
    "duration": 6,
    "start_time": "2023-03-18T13:01:34.726Z"
   },
   {
    "duration": 3,
    "start_time": "2023-03-18T13:09:46.509Z"
   },
   {
    "duration": 8,
    "start_time": "2023-03-18T13:09:53.843Z"
   },
   {
    "duration": 22,
    "start_time": "2023-03-18T13:10:16.084Z"
   },
   {
    "duration": 24,
    "start_time": "2023-03-18T13:10:46.604Z"
   },
   {
    "duration": 4,
    "start_time": "2023-03-18T13:11:07.759Z"
   },
   {
    "duration": 4,
    "start_time": "2023-03-18T13:12:33.002Z"
   },
   {
    "duration": 6,
    "start_time": "2023-03-18T13:13:01.158Z"
   },
   {
    "duration": 9,
    "start_time": "2023-03-18T13:25:30.077Z"
   },
   {
    "duration": 5,
    "start_time": "2023-03-18T13:25:55.604Z"
   },
   {
    "duration": 16,
    "start_time": "2023-03-18T13:35:43.216Z"
   },
   {
    "duration": 220,
    "start_time": "2023-03-18T13:46:10.512Z"
   },
   {
    "duration": 75,
    "start_time": "2023-03-18T13:46:58.832Z"
   },
   {
    "duration": 132,
    "start_time": "2023-03-18T13:47:01.594Z"
   },
   {
    "duration": 1149,
    "start_time": "2023-03-18T13:47:24.621Z"
   },
   {
    "duration": 138,
    "start_time": "2023-03-18T13:47:32.260Z"
   },
   {
    "duration": 133,
    "start_time": "2023-03-18T13:47:49.360Z"
   },
   {
    "duration": 139,
    "start_time": "2023-03-18T13:49:39.745Z"
   },
   {
    "duration": 138,
    "start_time": "2023-03-18T13:49:42.305Z"
   },
   {
    "duration": 14,
    "start_time": "2023-03-18T13:54:06.185Z"
   },
   {
    "duration": 1161,
    "start_time": "2023-03-18T13:55:06.334Z"
   },
   {
    "duration": 1092,
    "start_time": "2023-03-18T13:55:51.538Z"
   },
   {
    "duration": 1195,
    "start_time": "2023-03-18T13:56:28.624Z"
   },
   {
    "duration": 1137,
    "start_time": "2023-03-18T13:57:48.048Z"
   },
   {
    "duration": 180,
    "start_time": "2023-03-18T13:58:24.810Z"
   },
   {
    "duration": 173,
    "start_time": "2023-03-18T13:58:48.801Z"
   },
   {
    "duration": 2,
    "start_time": "2023-03-18T13:59:16.639Z"
   },
   {
    "duration": 9,
    "start_time": "2023-03-18T14:00:28.243Z"
   },
   {
    "duration": 11,
    "start_time": "2023-03-18T14:00:46.497Z"
   },
   {
    "duration": 7,
    "start_time": "2023-03-18T14:02:01.110Z"
   },
   {
    "duration": 7,
    "start_time": "2023-03-18T14:02:31.006Z"
   },
   {
    "duration": 8,
    "start_time": "2023-03-18T14:02:47.154Z"
   },
   {
    "duration": 277,
    "start_time": "2023-03-18T14:03:16.609Z"
   },
   {
    "duration": 24,
    "start_time": "2023-03-18T14:07:56.121Z"
   },
   {
    "duration": 16,
    "start_time": "2023-03-18T14:08:13.219Z"
   },
   {
    "duration": 15,
    "start_time": "2023-03-18T14:11:40.984Z"
   },
   {
    "duration": 18,
    "start_time": "2023-03-18T14:12:40.681Z"
   },
   {
    "duration": 18,
    "start_time": "2023-03-18T14:12:56.721Z"
   },
   {
    "duration": 15,
    "start_time": "2023-03-18T14:15:52.736Z"
   },
   {
    "duration": 18,
    "start_time": "2023-03-18T14:16:38.631Z"
   },
   {
    "duration": 24,
    "start_time": "2023-03-18T14:17:36.845Z"
   },
   {
    "duration": 23,
    "start_time": "2023-03-18T14:17:56.800Z"
   },
   {
    "duration": 44,
    "start_time": "2023-03-19T12:08:41.334Z"
   },
   {
    "duration": 7,
    "start_time": "2023-03-19T12:08:58.597Z"
   },
   {
    "duration": 504,
    "start_time": "2023-03-19T12:09:12.626Z"
   },
   {
    "duration": 13,
    "start_time": "2023-03-19T12:09:13.131Z"
   },
   {
    "duration": 975,
    "start_time": "2023-03-19T12:09:13.145Z"
   },
   {
    "duration": 4,
    "start_time": "2023-03-19T12:09:14.122Z"
   },
   {
    "duration": 6,
    "start_time": "2023-03-19T12:09:14.128Z"
   },
   {
    "duration": 4,
    "start_time": "2023-03-19T12:09:14.136Z"
   },
   {
    "duration": 9,
    "start_time": "2023-03-19T12:09:14.157Z"
   },
   {
    "duration": 115,
    "start_time": "2023-03-19T12:09:14.167Z"
   },
   {
    "duration": 14,
    "start_time": "2023-03-19T12:09:14.284Z"
   },
   {
    "duration": 4,
    "start_time": "2023-03-19T12:09:14.301Z"
   },
   {
    "duration": 11,
    "start_time": "2023-03-19T12:09:14.306Z"
   },
   {
    "duration": 8,
    "start_time": "2023-03-19T12:09:14.319Z"
   },
   {
    "duration": 5,
    "start_time": "2023-03-19T12:09:14.328Z"
   },
   {
    "duration": 23,
    "start_time": "2023-03-19T12:09:14.334Z"
   },
   {
    "duration": 18,
    "start_time": "2023-03-19T12:09:14.359Z"
   },
   {
    "duration": 12,
    "start_time": "2023-03-19T12:09:14.379Z"
   },
   {
    "duration": 4,
    "start_time": "2023-03-19T12:09:14.393Z"
   },
   {
    "duration": 6,
    "start_time": "2023-03-19T12:09:14.398Z"
   },
   {
    "duration": 15,
    "start_time": "2023-03-19T12:09:14.405Z"
   },
   {
    "duration": 475,
    "start_time": "2023-03-19T12:09:14.421Z"
   },
   {
    "duration": 307,
    "start_time": "2023-03-19T12:09:14.898Z"
   },
   {
    "duration": 14,
    "start_time": "2023-03-19T12:09:15.207Z"
   },
   {
    "duration": 5,
    "start_time": "2023-03-19T12:09:15.223Z"
   },
   {
    "duration": 29,
    "start_time": "2023-03-19T12:09:15.229Z"
   },
   {
    "duration": 24,
    "start_time": "2023-03-19T12:09:15.259Z"
   },
   {
    "duration": 24,
    "start_time": "2023-03-19T12:09:15.284Z"
   },
   {
    "duration": 402,
    "start_time": "2023-03-19T12:09:15.310Z"
   },
   {
    "duration": 5,
    "start_time": "2023-03-19T12:09:15.716Z"
   },
   {
    "duration": 28,
    "start_time": "2023-03-19T12:09:15.723Z"
   },
   {
    "duration": 409,
    "start_time": "2023-03-19T12:09:15.753Z"
   },
   {
    "duration": 2,
    "start_time": "2023-03-19T12:09:16.164Z"
   },
   {
    "duration": 18,
    "start_time": "2023-03-19T12:09:16.167Z"
   },
   {
    "duration": 166,
    "start_time": "2023-03-19T12:09:16.186Z"
   },
   {
    "duration": 254,
    "start_time": "2023-03-19T12:09:16.356Z"
   },
   {
    "duration": 34,
    "start_time": "2023-03-19T12:09:16.611Z"
   },
   {
    "duration": 12,
    "start_time": "2023-03-19T12:09:16.646Z"
   },
   {
    "duration": 11,
    "start_time": "2023-03-19T12:09:16.660Z"
   },
   {
    "duration": 11,
    "start_time": "2023-03-19T12:09:16.672Z"
   },
   {
    "duration": 135,
    "start_time": "2023-03-19T12:09:16.684Z"
   },
   {
    "duration": 123,
    "start_time": "2023-03-19T12:09:16.821Z"
   },
   {
    "duration": 180,
    "start_time": "2023-03-19T12:09:16.946Z"
   },
   {
    "duration": 2,
    "start_time": "2023-03-19T12:09:17.127Z"
   },
   {
    "duration": 10,
    "start_time": "2023-03-19T12:09:17.131Z"
   },
   {
    "duration": 21,
    "start_time": "2023-03-19T12:09:17.142Z"
   },
   {
    "duration": 16,
    "start_time": "2023-03-19T12:09:17.165Z"
   },
   {
    "duration": 16,
    "start_time": "2023-03-19T12:09:17.183Z"
   },
   {
    "duration": 72,
    "start_time": "2023-03-19T12:11:29.919Z"
   },
   {
    "duration": 17,
    "start_time": "2023-03-19T12:11:44.378Z"
   },
   {
    "duration": 13,
    "start_time": "2023-03-19T12:12:00.900Z"
   },
   {
    "duration": 108,
    "start_time": "2023-03-19T12:13:42.449Z"
   },
   {
    "duration": 103,
    "start_time": "2023-03-19T12:13:47.017Z"
   },
   {
    "duration": 106,
    "start_time": "2023-03-19T12:13:49.143Z"
   },
   {
    "duration": 12,
    "start_time": "2023-03-19T12:19:17.316Z"
   },
   {
    "duration": 110,
    "start_time": "2023-03-19T12:19:20.917Z"
   },
   {
    "duration": 9,
    "start_time": "2023-03-19T12:20:49.204Z"
   },
   {
    "duration": 11,
    "start_time": "2023-03-19T12:20:52.839Z"
   },
   {
    "duration": 173,
    "start_time": "2023-03-19T12:20:56.886Z"
   },
   {
    "duration": 3,
    "start_time": "2023-03-19T12:23:58.316Z"
   },
   {
    "duration": 116,
    "start_time": "2023-03-19T12:24:02.862Z"
   },
   {
    "duration": 9,
    "start_time": "2023-03-19T12:29:19.677Z"
   },
   {
    "duration": 5,
    "start_time": "2023-03-19T12:29:24.178Z"
   },
   {
    "duration": 101,
    "start_time": "2023-03-19T12:29:27.879Z"
   },
   {
    "duration": 5,
    "start_time": "2023-03-19T12:39:14.581Z"
   },
   {
    "duration": 830,
    "start_time": "2023-03-19T12:39:38.760Z"
   },
   {
    "duration": 5,
    "start_time": "2023-03-19T12:39:53.902Z"
   },
   {
    "duration": 6,
    "start_time": "2023-03-19T12:40:08.578Z"
   },
   {
    "duration": 14,
    "start_time": "2023-03-19T12:40:32.782Z"
   },
   {
    "duration": 15,
    "start_time": "2023-03-19T12:40:38.709Z"
   },
   {
    "duration": 10,
    "start_time": "2023-03-19T12:40:53.364Z"
   },
   {
    "duration": 6,
    "start_time": "2023-03-19T12:41:05.008Z"
   },
   {
    "duration": 7,
    "start_time": "2023-03-19T12:41:20.692Z"
   },
   {
    "duration": 12,
    "start_time": "2023-03-19T12:43:35.089Z"
   },
   {
    "duration": 136,
    "start_time": "2023-03-19T12:43:54.969Z"
   },
   {
    "duration": 6,
    "start_time": "2023-03-19T12:44:34.559Z"
   },
   {
    "duration": 165,
    "start_time": "2023-03-19T12:44:38.228Z"
   },
   {
    "duration": 12,
    "start_time": "2023-03-19T12:45:08.734Z"
   },
   {
    "duration": 9,
    "start_time": "2023-03-19T12:45:24.741Z"
   },
   {
    "duration": 5,
    "start_time": "2023-03-19T12:45:27.903Z"
   },
   {
    "duration": 101,
    "start_time": "2023-03-19T12:45:36.428Z"
   },
   {
    "duration": 9,
    "start_time": "2023-03-19T12:48:22.916Z"
   },
   {
    "duration": 7,
    "start_time": "2023-03-19T12:48:26.539Z"
   },
   {
    "duration": 98,
    "start_time": "2023-03-19T12:48:30.246Z"
   },
   {
    "duration": 5,
    "start_time": "2023-03-19T12:49:11.283Z"
   },
   {
    "duration": 9,
    "start_time": "2023-03-19T12:57:28.944Z"
   },
   {
    "duration": 7,
    "start_time": "2023-03-19T12:57:32.993Z"
   },
   {
    "duration": 123,
    "start_time": "2023-03-19T12:57:38.389Z"
   },
   {
    "duration": 10,
    "start_time": "2023-03-19T12:58:32.585Z"
   },
   {
    "duration": 6,
    "start_time": "2023-03-19T12:58:34.347Z"
   },
   {
    "duration": 112,
    "start_time": "2023-03-19T12:58:40.482Z"
   },
   {
    "duration": 10,
    "start_time": "2023-03-19T12:59:41.090Z"
   },
   {
    "duration": 6,
    "start_time": "2023-03-19T12:59:44.825Z"
   },
   {
    "duration": 101,
    "start_time": "2023-03-19T12:59:48.348Z"
   },
   {
    "duration": 98,
    "start_time": "2023-03-19T12:59:56.502Z"
   },
   {
    "duration": 121,
    "start_time": "2023-03-19T13:00:11.302Z"
   },
   {
    "duration": 10,
    "start_time": "2023-03-19T13:01:21.310Z"
   },
   {
    "duration": 6,
    "start_time": "2023-03-19T13:01:22.747Z"
   },
   {
    "duration": 189,
    "start_time": "2023-03-19T13:01:24.121Z"
   },
   {
    "duration": 679,
    "start_time": "2023-03-19T20:08:36.851Z"
   },
   {
    "duration": 21,
    "start_time": "2023-03-19T20:08:37.533Z"
   },
   {
    "duration": 1177,
    "start_time": "2023-03-19T20:08:37.556Z"
   },
   {
    "duration": 4,
    "start_time": "2023-03-19T20:08:38.737Z"
   },
   {
    "duration": 8,
    "start_time": "2023-03-19T20:08:38.743Z"
   },
   {
    "duration": 9,
    "start_time": "2023-03-19T20:08:38.752Z"
   },
   {
    "duration": 37,
    "start_time": "2023-03-19T20:08:38.764Z"
   },
   {
    "duration": 127,
    "start_time": "2023-03-19T20:08:38.803Z"
   },
   {
    "duration": 21,
    "start_time": "2023-03-19T20:08:38.933Z"
   },
   {
    "duration": 6,
    "start_time": "2023-03-19T20:08:38.959Z"
   },
   {
    "duration": 31,
    "start_time": "2023-03-19T20:08:38.967Z"
   },
   {
    "duration": 12,
    "start_time": "2023-03-19T20:08:39.000Z"
   },
   {
    "duration": 10,
    "start_time": "2023-03-19T20:08:39.015Z"
   },
   {
    "duration": 5,
    "start_time": "2023-03-19T20:08:39.027Z"
   },
   {
    "duration": 28,
    "start_time": "2023-03-19T20:08:39.034Z"
   },
   {
    "duration": 42,
    "start_time": "2023-03-19T20:08:39.064Z"
   },
   {
    "duration": 7,
    "start_time": "2023-03-19T20:08:39.108Z"
   },
   {
    "duration": 5,
    "start_time": "2023-03-19T20:08:39.117Z"
   },
   {
    "duration": 8,
    "start_time": "2023-03-19T20:08:39.124Z"
   },
   {
    "duration": 666,
    "start_time": "2023-03-19T20:08:39.134Z"
   },
   {
    "duration": 372,
    "start_time": "2023-03-19T20:08:39.801Z"
   },
   {
    "duration": 20,
    "start_time": "2023-03-19T20:08:40.176Z"
   },
   {
    "duration": 5,
    "start_time": "2023-03-19T20:08:40.198Z"
   },
   {
    "duration": 25,
    "start_time": "2023-03-19T20:08:40.206Z"
   },
   {
    "duration": 7,
    "start_time": "2023-03-19T20:08:40.233Z"
   },
   {
    "duration": 63,
    "start_time": "2023-03-19T20:08:40.242Z"
   },
   {
    "duration": 431,
    "start_time": "2023-03-19T20:08:40.307Z"
   },
   {
    "duration": 4,
    "start_time": "2023-03-19T20:08:40.743Z"
   },
   {
    "duration": 23,
    "start_time": "2023-03-19T20:08:40.749Z"
   },
   {
    "duration": 444,
    "start_time": "2023-03-19T20:08:40.774Z"
   },
   {
    "duration": 3,
    "start_time": "2023-03-19T20:08:41.219Z"
   },
   {
    "duration": 52,
    "start_time": "2023-03-19T20:08:41.225Z"
   },
   {
    "duration": 228,
    "start_time": "2023-03-19T20:08:41.280Z"
   },
   {
    "duration": 315,
    "start_time": "2023-03-19T20:08:41.510Z"
   },
   {
    "duration": 38,
    "start_time": "2023-03-19T20:08:41.827Z"
   },
   {
    "duration": 5,
    "start_time": "2023-03-19T20:08:41.867Z"
   },
   {
    "duration": 8,
    "start_time": "2023-03-19T20:08:41.889Z"
   },
   {
    "duration": 10,
    "start_time": "2023-03-19T20:08:41.899Z"
   },
   {
    "duration": 147,
    "start_time": "2023-03-19T20:08:41.911Z"
   },
   {
    "duration": 158,
    "start_time": "2023-03-19T20:08:42.060Z"
   },
   {
    "duration": 268,
    "start_time": "2023-03-19T20:08:42.220Z"
   },
   {
    "duration": 2,
    "start_time": "2023-03-19T20:08:42.490Z"
   },
   {
    "duration": 8,
    "start_time": "2023-03-19T20:08:42.494Z"
   },
   {
    "duration": 18,
    "start_time": "2023-03-19T20:08:42.504Z"
   },
   {
    "duration": 17,
    "start_time": "2023-03-19T20:08:42.523Z"
   },
   {
    "duration": 15,
    "start_time": "2023-03-19T20:08:49.235Z"
   },
   {
    "duration": 8,
    "start_time": "2023-03-19T20:08:54.288Z"
   },
   {
    "duration": 169,
    "start_time": "2023-03-19T20:09:00.025Z"
   },
   {
    "duration": 9,
    "start_time": "2023-03-19T20:09:13.809Z"
   },
   {
    "duration": 8,
    "start_time": "2023-03-19T20:10:28.520Z"
   },
   {
    "duration": 6,
    "start_time": "2023-03-19T20:11:18.923Z"
   },
   {
    "duration": 8,
    "start_time": "2023-03-19T20:11:24.419Z"
   },
   {
    "duration": 190,
    "start_time": "2023-03-19T20:11:34.405Z"
   },
   {
    "duration": 23,
    "start_time": "2023-03-19T20:11:34.598Z"
   },
   {
    "duration": 1152,
    "start_time": "2023-03-19T20:11:34.625Z"
   },
   {
    "duration": 11,
    "start_time": "2023-03-19T20:11:35.782Z"
   },
   {
    "duration": 14,
    "start_time": "2023-03-19T20:11:35.795Z"
   },
   {
    "duration": 11,
    "start_time": "2023-03-19T20:11:35.813Z"
   },
   {
    "duration": 38,
    "start_time": "2023-03-19T20:11:35.826Z"
   },
   {
    "duration": 29,
    "start_time": "2023-03-19T20:11:35.866Z"
   },
   {
    "duration": 22,
    "start_time": "2023-03-19T20:11:35.898Z"
   },
   {
    "duration": 20,
    "start_time": "2023-03-19T20:11:35.927Z"
   },
   {
    "duration": 27,
    "start_time": "2023-03-19T20:11:35.950Z"
   },
   {
    "duration": 26,
    "start_time": "2023-03-19T20:11:35.979Z"
   },
   {
    "duration": 28,
    "start_time": "2023-03-19T20:11:36.008Z"
   },
   {
    "duration": 20,
    "start_time": "2023-03-19T20:11:36.038Z"
   },
   {
    "duration": 36,
    "start_time": "2023-03-19T20:11:36.183Z"
   },
   {
    "duration": 22,
    "start_time": "2023-03-19T20:11:36.221Z"
   },
   {
    "duration": 9,
    "start_time": "2023-03-19T20:11:36.246Z"
   },
   {
    "duration": 33,
    "start_time": "2023-03-19T20:11:36.258Z"
   },
   {
    "duration": 7,
    "start_time": "2023-03-19T20:11:36.293Z"
   },
   {
    "duration": 8,
    "start_time": "2023-03-19T20:11:36.303Z"
   },
   {
    "duration": 377,
    "start_time": "2023-03-19T20:11:36.313Z"
   },
   {
    "duration": 21,
    "start_time": "2023-03-19T20:11:36.693Z"
   },
   {
    "duration": 20,
    "start_time": "2023-03-19T20:11:36.717Z"
   },
   {
    "duration": 26,
    "start_time": "2023-03-19T20:11:36.740Z"
   },
   {
    "duration": 24,
    "start_time": "2023-03-19T20:11:36.768Z"
   },
   {
    "duration": 30,
    "start_time": "2023-03-19T20:11:36.796Z"
   },
   {
    "duration": 371,
    "start_time": "2023-03-19T20:11:36.828Z"
   },
   {
    "duration": 4,
    "start_time": "2023-03-19T20:11:37.203Z"
   },
   {
    "duration": 50,
    "start_time": "2023-03-19T20:11:37.209Z"
   },
   {
    "duration": 446,
    "start_time": "2023-03-19T20:11:37.261Z"
   },
   {
    "duration": 3,
    "start_time": "2023-03-19T20:11:37.710Z"
   },
   {
    "duration": 33,
    "start_time": "2023-03-19T20:11:37.715Z"
   },
   {
    "duration": 206,
    "start_time": "2023-03-19T20:11:37.751Z"
   },
   {
    "duration": 371,
    "start_time": "2023-03-19T20:11:37.960Z"
   },
   {
    "duration": 39,
    "start_time": "2023-03-19T20:11:38.333Z"
   },
   {
    "duration": 5,
    "start_time": "2023-03-19T20:11:38.390Z"
   },
   {
    "duration": 8,
    "start_time": "2023-03-19T20:11:38.397Z"
   },
   {
    "duration": 15,
    "start_time": "2023-03-19T20:11:38.408Z"
   },
   {
    "duration": 170,
    "start_time": "2023-03-19T20:11:38.425Z"
   },
   {
    "duration": 154,
    "start_time": "2023-03-19T20:11:38.597Z"
   },
   {
    "duration": 212,
    "start_time": "2023-03-19T20:11:38.753Z"
   },
   {
    "duration": 3,
    "start_time": "2023-03-19T20:11:38.967Z"
   },
   {
    "duration": 17,
    "start_time": "2023-03-19T20:11:38.972Z"
   },
   {
    "duration": 20,
    "start_time": "2023-03-19T20:11:38.991Z"
   },
   {
    "duration": 25,
    "start_time": "2023-03-19T20:11:39.014Z"
   },
   {
    "duration": 13,
    "start_time": "2023-03-19T20:11:39.041Z"
   },
   {
    "duration": 310,
    "start_time": "2023-03-19T20:13:25.944Z"
   },
   {
    "duration": 309,
    "start_time": "2023-03-19T20:13:29.658Z"
   },
   {
    "duration": 161,
    "start_time": "2023-03-19T20:15:21.994Z"
   },
   {
    "duration": 94,
    "start_time": "2023-03-19T20:16:28.613Z"
   },
   {
    "duration": 10,
    "start_time": "2023-03-19T20:16:52.982Z"
   },
   {
    "duration": 64,
    "start_time": "2023-03-19T20:17:08.280Z"
   },
   {
    "duration": 18,
    "start_time": "2023-03-19T20:17:08.346Z"
   },
   {
    "duration": 751,
    "start_time": "2023-03-19T20:17:08.366Z"
   },
   {
    "duration": 5,
    "start_time": "2023-03-19T20:17:09.118Z"
   },
   {
    "duration": 6,
    "start_time": "2023-03-19T20:17:09.125Z"
   },
   {
    "duration": 4,
    "start_time": "2023-03-19T20:17:09.133Z"
   },
   {
    "duration": 9,
    "start_time": "2023-03-19T20:17:09.139Z"
   },
   {
    "duration": 40,
    "start_time": "2023-03-19T20:17:09.150Z"
   },
   {
    "duration": 13,
    "start_time": "2023-03-19T20:17:09.191Z"
   },
   {
    "duration": 4,
    "start_time": "2023-03-19T20:17:09.206Z"
   },
   {
    "duration": 11,
    "start_time": "2023-03-19T20:17:09.211Z"
   },
   {
    "duration": 7,
    "start_time": "2023-03-19T20:17:09.224Z"
   },
   {
    "duration": 4,
    "start_time": "2023-03-19T20:17:09.233Z"
   },
   {
    "duration": 2,
    "start_time": "2023-03-19T20:17:09.241Z"
   },
   {
    "duration": 55,
    "start_time": "2023-03-19T20:17:09.245Z"
   },
   {
    "duration": 16,
    "start_time": "2023-03-19T20:17:09.302Z"
   },
   {
    "duration": 5,
    "start_time": "2023-03-19T20:17:09.320Z"
   },
   {
    "duration": 5,
    "start_time": "2023-03-19T20:17:09.327Z"
   },
   {
    "duration": 5,
    "start_time": "2023-03-19T20:17:09.334Z"
   },
   {
    "duration": 3,
    "start_time": "2023-03-19T20:17:09.341Z"
   },
   {
    "duration": 437,
    "start_time": "2023-03-19T20:17:09.345Z"
   },
   {
    "duration": 21,
    "start_time": "2023-03-19T20:17:09.788Z"
   },
   {
    "duration": 8,
    "start_time": "2023-03-19T20:17:09.810Z"
   },
   {
    "duration": 23,
    "start_time": "2023-03-19T20:17:09.819Z"
   },
   {
    "duration": 7,
    "start_time": "2023-03-19T20:17:09.844Z"
   },
   {
    "duration": 49,
    "start_time": "2023-03-19T20:17:09.853Z"
   },
   {
    "duration": 429,
    "start_time": "2023-03-19T20:17:09.904Z"
   },
   {
    "duration": 6,
    "start_time": "2023-03-19T20:17:10.335Z"
   },
   {
    "duration": 19,
    "start_time": "2023-03-19T20:17:10.342Z"
   },
   {
    "duration": 402,
    "start_time": "2023-03-19T20:17:10.363Z"
   },
   {
    "duration": 2,
    "start_time": "2023-03-19T20:17:10.767Z"
   },
   {
    "duration": 28,
    "start_time": "2023-03-19T20:17:10.771Z"
   },
   {
    "duration": 198,
    "start_time": "2023-03-19T20:17:10.801Z"
   },
   {
    "duration": 305,
    "start_time": "2023-03-19T20:17:11.001Z"
   },
   {
    "duration": 46,
    "start_time": "2023-03-19T20:17:11.309Z"
   },
   {
    "duration": 4,
    "start_time": "2023-03-19T20:17:11.357Z"
   },
   {
    "duration": 30,
    "start_time": "2023-03-19T20:17:11.363Z"
   },
   {
    "duration": 10,
    "start_time": "2023-03-19T20:17:11.395Z"
   },
   {
    "duration": 149,
    "start_time": "2023-03-19T20:17:11.406Z"
   },
   {
    "duration": 134,
    "start_time": "2023-03-19T20:17:11.556Z"
   },
   {
    "duration": 199,
    "start_time": "2023-03-19T20:17:11.695Z"
   },
   {
    "duration": 3,
    "start_time": "2023-03-19T20:17:11.896Z"
   },
   {
    "duration": 15,
    "start_time": "2023-03-19T20:17:11.900Z"
   },
   {
    "duration": 19,
    "start_time": "2023-03-19T20:17:11.917Z"
   },
   {
    "duration": 50,
    "start_time": "2023-03-19T20:17:11.938Z"
   },
   {
    "duration": 13,
    "start_time": "2023-03-19T20:17:11.991Z"
   },
   {
    "duration": 13,
    "start_time": "2023-03-19T20:17:12.006Z"
   },
   {
    "duration": 12,
    "start_time": "2023-03-19T20:17:12.021Z"
   },
   {
    "duration": 189,
    "start_time": "2023-03-19T20:17:12.035Z"
   },
   {
    "duration": 13,
    "start_time": "2023-03-19T20:17:12.225Z"
   },
   {
    "duration": 17,
    "start_time": "2023-03-19T20:17:12.239Z"
   },
   {
    "duration": 121,
    "start_time": "2023-03-19T20:17:12.258Z"
   },
   {
    "duration": 14,
    "start_time": "2023-03-19T20:17:12.388Z"
   },
   {
    "duration": 7,
    "start_time": "2023-03-19T20:17:12.404Z"
   },
   {
    "duration": 158,
    "start_time": "2023-03-19T20:17:12.413Z"
   },
   {
    "duration": 20,
    "start_time": "2023-03-19T20:17:12.572Z"
   },
   {
    "duration": 7,
    "start_time": "2023-03-19T20:17:12.595Z"
   },
   {
    "duration": 248,
    "start_time": "2023-03-19T20:17:12.604Z"
   },
   {
    "duration": 14,
    "start_time": "2023-03-19T20:17:12.854Z"
   },
   {
    "duration": 30,
    "start_time": "2023-03-19T20:17:12.870Z"
   },
   {
    "duration": 143,
    "start_time": "2023-03-19T20:17:12.902Z"
   },
   {
    "duration": 10,
    "start_time": "2023-03-19T20:17:13.047Z"
   },
   {
    "duration": 8,
    "start_time": "2023-03-19T20:17:13.059Z"
   },
   {
    "duration": 158,
    "start_time": "2023-03-19T20:17:13.070Z"
   },
   {
    "duration": 511,
    "start_time": "2023-03-19T20:17:20.939Z"
   },
   {
    "duration": 193,
    "start_time": "2023-03-19T20:22:57.108Z"
   },
   {
    "duration": 1201,
    "start_time": "2023-03-19T20:25:55.486Z"
   },
   {
    "duration": 1193,
    "start_time": "2023-03-19T20:26:04.294Z"
   },
   {
    "duration": 174,
    "start_time": "2023-03-19T20:26:09.722Z"
   },
   {
    "duration": 155,
    "start_time": "2023-03-19T20:26:48.820Z"
   },
   {
    "duration": 7,
    "start_time": "2023-03-19T20:28:17.110Z"
   },
   {
    "duration": 8,
    "start_time": "2023-03-19T20:28:23.585Z"
   },
   {
    "duration": 7,
    "start_time": "2023-03-19T20:28:40.563Z"
   },
   {
    "duration": 17,
    "start_time": "2023-03-19T20:28:58.989Z"
   },
   {
    "duration": 4,
    "start_time": "2023-03-19T20:29:33.948Z"
   },
   {
    "duration": 12,
    "start_time": "2023-03-19T20:32:25.988Z"
   },
   {
    "duration": 5,
    "start_time": "2023-03-19T20:32:30.212Z"
   },
   {
    "duration": 174,
    "start_time": "2023-03-19T20:32:35.095Z"
   },
   {
    "duration": 3,
    "start_time": "2023-03-19T20:33:06.413Z"
   },
   {
    "duration": 223,
    "start_time": "2023-03-19T20:33:10.384Z"
   },
   {
    "duration": 10,
    "start_time": "2023-03-19T20:33:23.912Z"
   },
   {
    "duration": 104,
    "start_time": "2023-03-19T20:33:27.956Z"
   },
   {
    "duration": 10,
    "start_time": "2023-03-19T20:33:55.720Z"
   },
   {
    "duration": 161,
    "start_time": "2023-03-19T20:34:03.429Z"
   },
   {
    "duration": 3,
    "start_time": "2023-03-19T20:40:07.592Z"
   },
   {
    "duration": 3,
    "start_time": "2023-03-19T20:40:11.707Z"
   },
   {
    "duration": 9,
    "start_time": "2023-03-19T20:47:03.515Z"
   },
   {
    "duration": 3,
    "start_time": "2023-03-19T20:47:18.579Z"
   },
   {
    "duration": 10,
    "start_time": "2023-03-19T20:56:44.291Z"
   },
   {
    "duration": 5,
    "start_time": "2023-03-19T20:56:47.715Z"
   },
   {
    "duration": 111,
    "start_time": "2023-03-19T20:56:51.908Z"
   },
   {
    "duration": 11,
    "start_time": "2023-03-19T20:57:33.207Z"
   },
   {
    "duration": 6,
    "start_time": "2023-03-19T20:57:37.253Z"
   },
   {
    "duration": 160,
    "start_time": "2023-03-19T20:57:41.654Z"
   },
   {
    "duration": 4,
    "start_time": "2023-03-19T20:57:52.313Z"
   },
   {
    "duration": 155,
    "start_time": "2023-03-19T20:57:58.750Z"
   },
   {
    "duration": 9,
    "start_time": "2023-03-19T20:59:08.551Z"
   },
   {
    "duration": 4,
    "start_time": "2023-03-19T20:59:12.213Z"
   },
   {
    "duration": 118,
    "start_time": "2023-03-19T20:59:16.129Z"
   },
   {
    "duration": 11,
    "start_time": "2023-03-19T21:00:04.258Z"
   },
   {
    "duration": 10,
    "start_time": "2023-03-19T21:00:05.931Z"
   },
   {
    "duration": 6,
    "start_time": "2023-03-19T21:00:11.852Z"
   },
   {
    "duration": 127,
    "start_time": "2023-03-19T21:00:20.226Z"
   },
   {
    "duration": 11,
    "start_time": "2023-03-19T21:14:04.660Z"
   },
   {
    "duration": 9,
    "start_time": "2023-03-19T21:14:09.846Z"
   },
   {
    "duration": 9,
    "start_time": "2023-03-19T21:14:27.893Z"
   },
   {
    "duration": 6,
    "start_time": "2023-03-19T21:14:31.847Z"
   },
   {
    "duration": 130,
    "start_time": "2023-03-19T21:14:35.508Z"
   },
   {
    "duration": 14,
    "start_time": "2023-03-19T21:14:51.213Z"
   },
   {
    "duration": 11,
    "start_time": "2023-03-19T21:15:02.237Z"
   },
   {
    "duration": 10,
    "start_time": "2023-03-19T21:15:17.810Z"
   },
   {
    "duration": 6,
    "start_time": "2023-03-19T21:15:21.833Z"
   },
   {
    "duration": 125,
    "start_time": "2023-03-19T21:15:27.652Z"
   },
   {
    "duration": 9,
    "start_time": "2023-03-19T21:16:19.230Z"
   },
   {
    "duration": 10,
    "start_time": "2023-03-19T21:16:27.689Z"
   },
   {
    "duration": 10,
    "start_time": "2023-03-19T21:16:38.493Z"
   },
   {
    "duration": 6,
    "start_time": "2023-03-19T21:16:59.297Z"
   },
   {
    "duration": 1200,
    "start_time": "2023-03-19T21:17:22.473Z"
   },
   {
    "duration": 140,
    "start_time": "2023-03-19T21:17:49.313Z"
   },
   {
    "duration": 15,
    "start_time": "2023-03-19T21:32:12.993Z"
   },
   {
    "duration": 11,
    "start_time": "2023-03-19T21:45:25.687Z"
   },
   {
    "duration": 11,
    "start_time": "2023-03-19T21:46:35.604Z"
   },
   {
    "duration": 22,
    "start_time": "2023-03-19T22:51:06.130Z"
   },
   {
    "duration": 10,
    "start_time": "2023-03-19T22:52:25.703Z"
   },
   {
    "duration": 12,
    "start_time": "2023-03-19T22:52:41.555Z"
   },
   {
    "duration": 12,
    "start_time": "2023-03-19T22:54:51.563Z"
   },
   {
    "duration": 658,
    "start_time": "2023-03-20T11:18:28.191Z"
   },
   {
    "duration": 452,
    "start_time": "2023-03-20T11:18:36.130Z"
   },
   {
    "duration": 16,
    "start_time": "2023-03-20T11:18:36.584Z"
   },
   {
    "duration": 1168,
    "start_time": "2023-03-20T11:18:36.602Z"
   },
   {
    "duration": 4,
    "start_time": "2023-03-20T11:18:37.773Z"
   },
   {
    "duration": 10,
    "start_time": "2023-03-20T11:18:37.779Z"
   },
   {
    "duration": 5,
    "start_time": "2023-03-20T11:18:37.791Z"
   },
   {
    "duration": 13,
    "start_time": "2023-03-20T11:18:37.798Z"
   },
   {
    "duration": 78,
    "start_time": "2023-03-20T11:18:37.812Z"
   },
   {
    "duration": 14,
    "start_time": "2023-03-20T11:18:37.892Z"
   },
   {
    "duration": 4,
    "start_time": "2023-03-20T11:18:37.909Z"
   },
   {
    "duration": 10,
    "start_time": "2023-03-20T11:18:37.915Z"
   },
   {
    "duration": 34,
    "start_time": "2023-03-20T11:18:37.927Z"
   },
   {
    "duration": 2,
    "start_time": "2023-03-20T11:18:37.963Z"
   },
   {
    "duration": 10,
    "start_time": "2023-03-20T11:18:37.966Z"
   },
   {
    "duration": 24,
    "start_time": "2023-03-20T11:18:37.977Z"
   },
   {
    "duration": 14,
    "start_time": "2023-03-20T11:18:38.003Z"
   },
   {
    "duration": 8,
    "start_time": "2023-03-20T11:18:38.019Z"
   },
   {
    "duration": 13,
    "start_time": "2023-03-20T11:18:38.029Z"
   },
   {
    "duration": 17,
    "start_time": "2023-03-20T11:18:38.044Z"
   },
   {
    "duration": 65,
    "start_time": "2023-03-20T11:18:38.063Z"
   },
   {
    "duration": 372,
    "start_time": "2023-03-20T11:18:38.130Z"
   },
   {
    "duration": 17,
    "start_time": "2023-03-20T11:18:38.503Z"
   },
   {
    "duration": 9,
    "start_time": "2023-03-20T11:18:38.521Z"
   },
   {
    "duration": 75,
    "start_time": "2023-03-20T11:18:38.532Z"
   },
   {
    "duration": 40,
    "start_time": "2023-03-20T11:18:38.609Z"
   },
   {
    "duration": 410,
    "start_time": "2023-03-20T11:18:38.650Z"
   },
   {
    "duration": 4,
    "start_time": "2023-03-20T11:18:39.062Z"
   },
   {
    "duration": 115,
    "start_time": "2023-03-20T11:18:39.070Z"
   },
   {
    "duration": 403,
    "start_time": "2023-03-20T11:18:39.187Z"
   },
   {
    "duration": 2,
    "start_time": "2023-03-20T11:18:39.592Z"
   },
   {
    "duration": 13,
    "start_time": "2023-03-20T11:18:39.596Z"
   },
   {
    "duration": 210,
    "start_time": "2023-03-20T11:18:39.611Z"
   },
   {
    "duration": 292,
    "start_time": "2023-03-20T11:18:39.822Z"
   },
   {
    "duration": 46,
    "start_time": "2023-03-20T11:18:40.116Z"
   },
   {
    "duration": 4,
    "start_time": "2023-03-20T11:18:40.164Z"
   },
   {
    "duration": 6,
    "start_time": "2023-03-20T11:18:40.169Z"
   },
   {
    "duration": 10,
    "start_time": "2023-03-20T11:18:40.177Z"
   },
   {
    "duration": 155,
    "start_time": "2023-03-20T11:18:40.188Z"
   },
   {
    "duration": 149,
    "start_time": "2023-03-20T11:18:40.344Z"
   },
   {
    "duration": 208,
    "start_time": "2023-03-20T11:18:40.495Z"
   },
   {
    "duration": 2,
    "start_time": "2023-03-20T11:18:40.705Z"
   },
   {
    "duration": 9,
    "start_time": "2023-03-20T11:18:40.708Z"
   },
   {
    "duration": 19,
    "start_time": "2023-03-20T11:18:40.719Z"
   },
   {
    "duration": 37,
    "start_time": "2023-03-20T11:18:40.740Z"
   },
   {
    "duration": 14,
    "start_time": "2023-03-20T11:18:40.778Z"
   },
   {
    "duration": 12,
    "start_time": "2023-03-20T11:18:40.794Z"
   },
   {
    "duration": 7,
    "start_time": "2023-03-20T11:18:40.808Z"
   },
   {
    "duration": 139,
    "start_time": "2023-03-20T11:18:40.817Z"
   },
   {
    "duration": 13,
    "start_time": "2023-03-20T11:18:40.957Z"
   },
   {
    "duration": 11,
    "start_time": "2023-03-20T11:18:40.972Z"
   },
   {
    "duration": 5,
    "start_time": "2023-03-20T11:18:40.985Z"
   },
   {
    "duration": 156,
    "start_time": "2023-03-20T11:18:40.992Z"
   },
   {
    "duration": 16,
    "start_time": "2023-03-20T11:18:41.151Z"
   },
   {
    "duration": 17,
    "start_time": "2023-03-20T11:18:41.169Z"
   },
   {
    "duration": 9,
    "start_time": "2023-03-20T11:18:41.189Z"
   },
   {
    "duration": 128,
    "start_time": "2023-03-20T11:18:41.200Z"
   },
   {
    "duration": 11,
    "start_time": "2023-03-20T11:18:41.330Z"
   },
   {
    "duration": 24,
    "start_time": "2023-03-20T11:18:41.343Z"
   },
   {
    "duration": 7,
    "start_time": "2023-03-20T11:18:41.369Z"
   },
   {
    "duration": 227,
    "start_time": "2023-03-20T11:18:41.378Z"
   },
   {
    "duration": 11,
    "start_time": "2023-03-20T11:18:41.607Z"
   },
   {
    "duration": 16,
    "start_time": "2023-03-20T11:18:41.620Z"
   },
   {
    "duration": 11,
    "start_time": "2023-03-20T11:18:41.638Z"
   },
   {
    "duration": 129,
    "start_time": "2023-03-20T11:18:41.663Z"
   },
   {
    "duration": 10,
    "start_time": "2023-03-20T11:18:41.794Z"
   },
   {
    "duration": 22,
    "start_time": "2023-03-20T11:18:41.806Z"
   },
   {
    "duration": 9,
    "start_time": "2023-03-20T11:18:41.830Z"
   },
   {
    "duration": 135,
    "start_time": "2023-03-20T11:18:41.840Z"
   },
   {
    "duration": 166,
    "start_time": "2023-03-20T11:18:41.976Z"
   },
   {
    "duration": 164,
    "start_time": "2023-03-20T11:18:42.144Z"
   },
   {
    "duration": 173,
    "start_time": "2023-03-20T11:18:42.309Z"
   },
   {
    "duration": 37,
    "start_time": "2023-03-20T11:18:42.483Z"
   },
   {
    "duration": 13,
    "start_time": "2023-03-20T11:18:57.034Z"
   },
   {
    "duration": 4,
    "start_time": "2023-03-20T11:19:52.725Z"
   },
   {
    "duration": 69,
    "start_time": "2023-03-20T11:20:11.450Z"
   },
   {
    "duration": 16,
    "start_time": "2023-03-20T11:20:11.521Z"
   },
   {
    "duration": 772,
    "start_time": "2023-03-20T11:20:11.539Z"
   },
   {
    "duration": 5,
    "start_time": "2023-03-20T11:20:12.314Z"
   },
   {
    "duration": 8,
    "start_time": "2023-03-20T11:20:12.321Z"
   },
   {
    "duration": 36,
    "start_time": "2023-03-20T11:20:12.331Z"
   },
   {
    "duration": 18,
    "start_time": "2023-03-20T11:20:12.368Z"
   },
   {
    "duration": 25,
    "start_time": "2023-03-20T11:20:12.387Z"
   },
   {
    "duration": 13,
    "start_time": "2023-03-20T11:20:12.414Z"
   },
   {
    "duration": 4,
    "start_time": "2023-03-20T11:20:12.429Z"
   },
   {
    "duration": 24,
    "start_time": "2023-03-20T11:20:12.435Z"
   },
   {
    "duration": 32,
    "start_time": "2023-03-20T11:20:12.461Z"
   },
   {
    "duration": 6,
    "start_time": "2023-03-20T11:20:12.495Z"
   },
   {
    "duration": 5,
    "start_time": "2023-03-20T11:20:12.503Z"
   },
   {
    "duration": 21,
    "start_time": "2023-03-20T11:20:12.510Z"
   },
   {
    "duration": 16,
    "start_time": "2023-03-20T11:20:12.533Z"
   },
   {
    "duration": 6,
    "start_time": "2023-03-20T11:20:12.551Z"
   },
   {
    "duration": 7,
    "start_time": "2023-03-20T11:20:12.558Z"
   },
   {
    "duration": 12,
    "start_time": "2023-03-20T11:20:12.567Z"
   },
   {
    "duration": 3,
    "start_time": "2023-03-20T11:20:12.581Z"
   },
   {
    "duration": 454,
    "start_time": "2023-03-20T11:20:12.586Z"
   },
   {
    "duration": 23,
    "start_time": "2023-03-20T11:20:13.043Z"
   },
   {
    "duration": 6,
    "start_time": "2023-03-20T11:20:13.068Z"
   },
   {
    "duration": 15,
    "start_time": "2023-03-20T11:20:13.075Z"
   },
   {
    "duration": 37,
    "start_time": "2023-03-20T11:20:13.092Z"
   },
   {
    "duration": 327,
    "start_time": "2023-03-20T11:20:13.130Z"
   },
   {
    "duration": 5,
    "start_time": "2023-03-20T11:20:13.460Z"
   },
   {
    "duration": 19,
    "start_time": "2023-03-20T11:20:13.470Z"
   },
   {
    "duration": 409,
    "start_time": "2023-03-20T11:20:13.491Z"
   },
   {
    "duration": 3,
    "start_time": "2023-03-20T11:20:13.903Z"
   },
   {
    "duration": 16,
    "start_time": "2023-03-20T11:20:13.908Z"
   },
   {
    "duration": 255,
    "start_time": "2023-03-20T11:20:13.927Z"
   },
   {
    "duration": 312,
    "start_time": "2023-03-20T11:20:14.184Z"
   },
   {
    "duration": 39,
    "start_time": "2023-03-20T11:20:14.498Z"
   },
   {
    "duration": 4,
    "start_time": "2023-03-20T11:20:14.539Z"
   },
   {
    "duration": 5,
    "start_time": "2023-03-20T11:20:14.561Z"
   },
   {
    "duration": 13,
    "start_time": "2023-03-20T11:20:14.568Z"
   },
   {
    "duration": 152,
    "start_time": "2023-03-20T11:20:14.583Z"
   },
   {
    "duration": 156,
    "start_time": "2023-03-20T11:20:14.737Z"
   },
   {
    "duration": 226,
    "start_time": "2023-03-20T11:20:14.895Z"
   },
   {
    "duration": 3,
    "start_time": "2023-03-20T11:20:15.123Z"
   },
   {
    "duration": 13,
    "start_time": "2023-03-20T11:20:15.128Z"
   },
   {
    "duration": 32,
    "start_time": "2023-03-20T11:20:15.143Z"
   },
   {
    "duration": 17,
    "start_time": "2023-03-20T11:20:15.177Z"
   },
   {
    "duration": 9,
    "start_time": "2023-03-20T11:20:15.196Z"
   },
   {
    "duration": 27,
    "start_time": "2023-03-20T11:20:15.207Z"
   },
   {
    "duration": 10,
    "start_time": "2023-03-20T11:20:15.236Z"
   },
   {
    "duration": 128,
    "start_time": "2023-03-20T11:20:15.248Z"
   },
   {
    "duration": 10,
    "start_time": "2023-03-20T11:20:15.377Z"
   },
   {
    "duration": 10,
    "start_time": "2023-03-20T11:20:15.388Z"
   },
   {
    "duration": 6,
    "start_time": "2023-03-20T11:20:15.399Z"
   },
   {
    "duration": 222,
    "start_time": "2023-03-20T11:20:15.407Z"
   },
   {
    "duration": 10,
    "start_time": "2023-03-20T11:20:15.631Z"
   },
   {
    "duration": 23,
    "start_time": "2023-03-20T11:20:15.643Z"
   },
   {
    "duration": 11,
    "start_time": "2023-03-20T11:20:15.667Z"
   },
   {
    "duration": 127,
    "start_time": "2023-03-20T11:20:15.679Z"
   },
   {
    "duration": 10,
    "start_time": "2023-03-20T11:20:15.808Z"
   },
   {
    "duration": 12,
    "start_time": "2023-03-20T11:20:15.820Z"
   },
   {
    "duration": 9,
    "start_time": "2023-03-20T11:20:15.833Z"
   },
   {
    "duration": 141,
    "start_time": "2023-03-20T11:20:15.843Z"
   },
   {
    "duration": 10,
    "start_time": "2023-03-20T11:20:15.986Z"
   },
   {
    "duration": 16,
    "start_time": "2023-03-20T11:20:15.997Z"
   },
   {
    "duration": 6,
    "start_time": "2023-03-20T11:20:16.015Z"
   },
   {
    "duration": 134,
    "start_time": "2023-03-20T11:20:16.022Z"
   },
   {
    "duration": 10,
    "start_time": "2023-03-20T11:20:16.161Z"
   },
   {
    "duration": 10,
    "start_time": "2023-03-20T11:20:16.173Z"
   },
   {
    "duration": 6,
    "start_time": "2023-03-20T11:20:16.185Z"
   },
   {
    "duration": 151,
    "start_time": "2023-03-20T11:20:16.193Z"
   },
   {
    "duration": 173,
    "start_time": "2023-03-20T11:20:16.347Z"
   },
   {
    "duration": 169,
    "start_time": "2023-03-20T11:20:16.522Z"
   },
   {
    "duration": 170,
    "start_time": "2023-03-20T11:20:16.693Z"
   },
   {
    "duration": 13,
    "start_time": "2023-03-20T11:20:21.023Z"
   },
   {
    "duration": 5,
    "start_time": "2023-03-20T11:28:40.889Z"
   },
   {
    "duration": 16,
    "start_time": "2023-03-20T11:31:14.643Z"
   },
   {
    "duration": 4,
    "start_time": "2023-03-20T11:34:33.741Z"
   },
   {
    "duration": 295,
    "start_time": "2023-03-20T11:41:45.738Z"
   },
   {
    "duration": 352,
    "start_time": "2023-03-20T11:41:52.943Z"
   },
   {
    "duration": 273,
    "start_time": "2023-03-20T11:52:12.652Z"
   },
   {
    "duration": 274,
    "start_time": "2023-03-20T11:52:14.802Z"
   },
   {
    "duration": 268,
    "start_time": "2023-03-20T11:52:24.676Z"
   },
   {
    "duration": 6,
    "start_time": "2023-03-20T12:01:53.593Z"
   },
   {
    "duration": 9,
    "start_time": "2023-03-20T12:02:13.251Z"
   },
   {
    "duration": 16,
    "start_time": "2023-03-20T12:31:37.466Z"
   },
   {
    "duration": 10,
    "start_time": "2023-03-20T12:32:13.529Z"
   },
   {
    "duration": 9,
    "start_time": "2023-03-20T12:32:43.322Z"
   },
   {
    "duration": 10,
    "start_time": "2023-03-20T12:39:59.439Z"
   },
   {
    "duration": 9,
    "start_time": "2023-03-20T12:40:26.099Z"
   },
   {
    "duration": 11,
    "start_time": "2023-03-20T12:44:21.198Z"
   },
   {
    "duration": 13,
    "start_time": "2023-03-20T12:44:51.222Z"
   },
   {
    "duration": 61,
    "start_time": "2023-03-20T12:50:30.666Z"
   },
   {
    "duration": 13,
    "start_time": "2023-03-20T12:50:30.729Z"
   },
   {
    "duration": 816,
    "start_time": "2023-03-20T12:50:30.743Z"
   },
   {
    "duration": 5,
    "start_time": "2023-03-20T12:50:31.561Z"
   },
   {
    "duration": 30,
    "start_time": "2023-03-20T12:50:31.568Z"
   },
   {
    "duration": 30,
    "start_time": "2023-03-20T12:50:31.600Z"
   },
   {
    "duration": 26,
    "start_time": "2023-03-20T12:50:31.632Z"
   },
   {
    "duration": 38,
    "start_time": "2023-03-20T12:50:31.659Z"
   },
   {
    "duration": 25,
    "start_time": "2023-03-20T12:50:31.699Z"
   },
   {
    "duration": 15,
    "start_time": "2023-03-20T12:50:31.727Z"
   },
   {
    "duration": 29,
    "start_time": "2023-03-20T12:50:31.743Z"
   },
   {
    "duration": 21,
    "start_time": "2023-03-20T12:50:31.774Z"
   },
   {
    "duration": 23,
    "start_time": "2023-03-20T12:50:31.796Z"
   },
   {
    "duration": 16,
    "start_time": "2023-03-20T12:50:31.820Z"
   },
   {
    "duration": 5,
    "start_time": "2023-03-20T12:50:31.838Z"
   },
   {
    "duration": 22,
    "start_time": "2023-03-20T12:50:31.845Z"
   },
   {
    "duration": 16,
    "start_time": "2023-03-20T12:50:31.868Z"
   },
   {
    "duration": 3,
    "start_time": "2023-03-20T12:50:31.886Z"
   },
   {
    "duration": 374,
    "start_time": "2023-03-20T12:50:31.891Z"
   },
   {
    "duration": 17,
    "start_time": "2023-03-20T12:50:32.268Z"
   },
   {
    "duration": 6,
    "start_time": "2023-03-20T12:50:32.287Z"
   },
   {
    "duration": 7,
    "start_time": "2023-03-20T12:50:32.295Z"
   },
   {
    "duration": 23,
    "start_time": "2023-03-20T12:50:32.304Z"
   },
   {
    "duration": 368,
    "start_time": "2023-03-20T12:50:32.329Z"
   },
   {
    "duration": 5,
    "start_time": "2023-03-20T12:50:32.699Z"
   },
   {
    "duration": 28,
    "start_time": "2023-03-20T12:50:32.705Z"
   },
   {
    "duration": 382,
    "start_time": "2023-03-20T12:50:32.734Z"
   },
   {
    "duration": 2,
    "start_time": "2023-03-20T12:50:33.120Z"
   },
   {
    "duration": 18,
    "start_time": "2023-03-20T12:50:33.123Z"
   },
   {
    "duration": 189,
    "start_time": "2023-03-20T12:50:33.143Z"
   },
   {
    "duration": 278,
    "start_time": "2023-03-20T12:50:33.334Z"
   },
   {
    "duration": 470,
    "start_time": "2023-03-20T12:50:33.614Z"
   },
   {
    "duration": 45,
    "start_time": "2023-03-20T12:50:34.086Z"
   },
   {
    "duration": 4,
    "start_time": "2023-03-20T12:50:34.133Z"
   },
   {
    "duration": 26,
    "start_time": "2023-03-20T12:50:34.139Z"
   },
   {
    "duration": 18,
    "start_time": "2023-03-20T12:50:34.166Z"
   },
   {
    "duration": 162,
    "start_time": "2023-03-20T12:50:34.186Z"
   },
   {
    "duration": 154,
    "start_time": "2023-03-20T12:50:34.349Z"
   },
   {
    "duration": 217,
    "start_time": "2023-03-20T12:50:34.505Z"
   },
   {
    "duration": 7,
    "start_time": "2023-03-20T12:50:34.723Z"
   },
   {
    "duration": 30,
    "start_time": "2023-03-20T12:50:34.732Z"
   },
   {
    "duration": 19,
    "start_time": "2023-03-20T12:50:34.764Z"
   },
   {
    "duration": 10,
    "start_time": "2023-03-20T12:50:34.784Z"
   },
   {
    "duration": 11,
    "start_time": "2023-03-20T12:50:34.796Z"
   },
   {
    "duration": 6,
    "start_time": "2023-03-20T12:50:34.809Z"
   },
   {
    "duration": 147,
    "start_time": "2023-03-20T12:50:34.817Z"
   },
   {
    "duration": 11,
    "start_time": "2023-03-20T12:50:34.966Z"
   },
   {
    "duration": 12,
    "start_time": "2023-03-20T12:50:34.979Z"
   },
   {
    "duration": 9,
    "start_time": "2023-03-20T12:50:34.993Z"
   },
   {
    "duration": 153,
    "start_time": "2023-03-20T12:50:35.004Z"
   },
   {
    "duration": 11,
    "start_time": "2023-03-20T12:50:35.161Z"
   },
   {
    "duration": 12,
    "start_time": "2023-03-20T12:50:35.174Z"
   },
   {
    "duration": 10,
    "start_time": "2023-03-20T12:50:35.188Z"
   },
   {
    "duration": 126,
    "start_time": "2023-03-20T12:50:35.203Z"
   },
   {
    "duration": 10,
    "start_time": "2023-03-20T12:50:35.330Z"
   },
   {
    "duration": 22,
    "start_time": "2023-03-20T12:50:35.342Z"
   },
   {
    "duration": 6,
    "start_time": "2023-03-20T12:50:35.366Z"
   },
   {
    "duration": 133,
    "start_time": "2023-03-20T12:50:35.373Z"
   },
   {
    "duration": 10,
    "start_time": "2023-03-20T12:50:35.508Z"
   },
   {
    "duration": 12,
    "start_time": "2023-03-20T12:50:35.519Z"
   },
   {
    "duration": 11,
    "start_time": "2023-03-20T12:50:35.533Z"
   },
   {
    "duration": 132,
    "start_time": "2023-03-20T12:50:35.545Z"
   },
   {
    "duration": 11,
    "start_time": "2023-03-20T12:50:35.678Z"
   },
   {
    "duration": 14,
    "start_time": "2023-03-20T12:50:35.690Z"
   },
   {
    "duration": 34,
    "start_time": "2023-03-20T12:50:35.706Z"
   },
   {
    "duration": 117,
    "start_time": "2023-03-20T12:50:35.741Z"
   },
   {
    "duration": 182,
    "start_time": "2023-03-20T12:50:35.860Z"
   },
   {
    "duration": 190,
    "start_time": "2023-03-20T12:50:36.044Z"
   },
   {
    "duration": 175,
    "start_time": "2023-03-20T12:50:36.236Z"
   },
   {
    "duration": 10,
    "start_time": "2023-03-20T12:50:36.413Z"
   },
   {
    "duration": 10,
    "start_time": "2023-03-20T12:50:36.424Z"
   },
   {
    "duration": 78,
    "start_time": "2023-03-20T12:50:36.435Z"
   },
   {
    "duration": 456,
    "start_time": "2023-03-20T13:11:29.926Z"
   },
   {
    "duration": 12,
    "start_time": "2023-03-20T13:11:30.384Z"
   },
   {
    "duration": 848,
    "start_time": "2023-03-20T13:11:30.397Z"
   },
   {
    "duration": 3,
    "start_time": "2023-03-20T13:11:31.246Z"
   },
   {
    "duration": 27,
    "start_time": "2023-03-20T13:11:31.251Z"
   },
   {
    "duration": 20,
    "start_time": "2023-03-20T13:11:31.280Z"
   },
   {
    "duration": 28,
    "start_time": "2023-03-20T13:11:31.301Z"
   },
   {
    "duration": 57,
    "start_time": "2023-03-20T13:11:31.331Z"
   },
   {
    "duration": 11,
    "start_time": "2023-03-20T13:11:31.390Z"
   },
   {
    "duration": 24,
    "start_time": "2023-03-20T13:11:31.402Z"
   },
   {
    "duration": 61,
    "start_time": "2023-03-20T13:11:31.428Z"
   },
   {
    "duration": 28,
    "start_time": "2023-03-20T13:11:31.491Z"
   },
   {
    "duration": 43,
    "start_time": "2023-03-20T13:11:31.520Z"
   },
   {
    "duration": 13,
    "start_time": "2023-03-20T13:11:31.566Z"
   },
   {
    "duration": 12,
    "start_time": "2023-03-20T13:11:31.581Z"
   },
   {
    "duration": 12,
    "start_time": "2023-03-20T13:11:31.594Z"
   },
   {
    "duration": 13,
    "start_time": "2023-03-20T13:11:31.607Z"
   },
   {
    "duration": 501,
    "start_time": "2023-03-20T13:11:31.621Z"
   },
   {
    "duration": 292,
    "start_time": "2023-03-20T13:11:32.123Z"
   },
   {
    "duration": 26,
    "start_time": "2023-03-20T13:11:32.416Z"
   },
   {
    "duration": 5,
    "start_time": "2023-03-20T13:11:32.443Z"
   },
   {
    "duration": 9,
    "start_time": "2023-03-20T13:11:32.450Z"
   },
   {
    "duration": 45,
    "start_time": "2023-03-20T13:11:32.460Z"
   },
   {
    "duration": 300,
    "start_time": "2023-03-20T13:11:32.506Z"
   },
   {
    "duration": 4,
    "start_time": "2023-03-20T13:11:32.807Z"
   },
   {
    "duration": 23,
    "start_time": "2023-03-20T13:11:32.812Z"
   },
   {
    "duration": 381,
    "start_time": "2023-03-20T13:11:32.837Z"
   },
   {
    "duration": 2,
    "start_time": "2023-03-20T13:11:33.220Z"
   },
   {
    "duration": 13,
    "start_time": "2023-03-20T13:11:33.224Z"
   },
   {
    "duration": 176,
    "start_time": "2023-03-20T13:11:33.238Z"
   },
   {
    "duration": 225,
    "start_time": "2023-03-20T13:11:33.415Z"
   },
   {
    "duration": 226,
    "start_time": "2023-03-20T13:11:33.641Z"
   },
   {
    "duration": 33,
    "start_time": "2023-03-20T13:11:33.868Z"
   },
   {
    "duration": 4,
    "start_time": "2023-03-20T13:11:33.902Z"
   },
   {
    "duration": 20,
    "start_time": "2023-03-20T13:11:33.907Z"
   },
   {
    "duration": 16,
    "start_time": "2023-03-20T13:11:33.929Z"
   },
   {
    "duration": 119,
    "start_time": "2023-03-20T13:11:33.946Z"
   },
   {
    "duration": 109,
    "start_time": "2023-03-20T13:11:34.067Z"
   },
   {
    "duration": 175,
    "start_time": "2023-03-20T13:11:34.177Z"
   },
   {
    "duration": 6,
    "start_time": "2023-03-20T13:11:34.354Z"
   },
   {
    "duration": 15,
    "start_time": "2023-03-20T13:11:34.365Z"
   },
   {
    "duration": 15,
    "start_time": "2023-03-20T13:11:34.381Z"
   },
   {
    "duration": 32,
    "start_time": "2023-03-20T13:11:34.398Z"
   },
   {
    "duration": 11,
    "start_time": "2023-03-20T13:11:34.431Z"
   },
   {
    "duration": 8,
    "start_time": "2023-03-20T13:11:34.444Z"
   },
   {
    "duration": 114,
    "start_time": "2023-03-20T13:11:34.453Z"
   },
   {
    "duration": 8,
    "start_time": "2023-03-20T13:11:34.568Z"
   },
   {
    "duration": 10,
    "start_time": "2023-03-20T13:11:34.578Z"
   },
   {
    "duration": 7,
    "start_time": "2023-03-20T13:11:34.589Z"
   },
   {
    "duration": 104,
    "start_time": "2023-03-20T13:11:34.597Z"
   },
   {
    "duration": 9,
    "start_time": "2023-03-20T13:11:34.703Z"
   },
   {
    "duration": 9,
    "start_time": "2023-03-20T13:11:34.723Z"
   },
   {
    "duration": 8,
    "start_time": "2023-03-20T13:11:34.734Z"
   },
   {
    "duration": 190,
    "start_time": "2023-03-20T13:11:34.743Z"
   },
   {
    "duration": 8,
    "start_time": "2023-03-20T13:11:34.935Z"
   },
   {
    "duration": 11,
    "start_time": "2023-03-20T13:11:34.944Z"
   },
   {
    "duration": 7,
    "start_time": "2023-03-20T13:11:34.956Z"
   },
   {
    "duration": 118,
    "start_time": "2023-03-20T13:11:34.964Z"
   },
   {
    "duration": 9,
    "start_time": "2023-03-20T13:11:35.084Z"
   },
   {
    "duration": 16,
    "start_time": "2023-03-20T13:11:35.094Z"
   },
   {
    "duration": 13,
    "start_time": "2023-03-20T13:11:35.112Z"
   },
   {
    "duration": 110,
    "start_time": "2023-03-20T13:11:35.126Z"
   },
   {
    "duration": 9,
    "start_time": "2023-03-20T13:11:35.237Z"
   },
   {
    "duration": 16,
    "start_time": "2023-03-20T13:11:35.247Z"
   },
   {
    "duration": 8,
    "start_time": "2023-03-20T13:11:35.264Z"
   },
   {
    "duration": 104,
    "start_time": "2023-03-20T13:11:35.273Z"
   },
   {
    "duration": 149,
    "start_time": "2023-03-20T13:11:35.378Z"
   },
   {
    "duration": 138,
    "start_time": "2023-03-20T13:11:35.529Z"
   },
   {
    "duration": 148,
    "start_time": "2023-03-20T13:11:35.669Z"
   },
   {
    "duration": 11,
    "start_time": "2023-03-20T13:11:35.818Z"
   },
   {
    "duration": 10,
    "start_time": "2023-03-20T13:11:35.831Z"
   },
   {
    "duration": 96,
    "start_time": "2023-03-20T19:50:19.378Z"
   },
   {
    "duration": 413,
    "start_time": "2023-03-21T10:00:05.327Z"
   },
   {
    "duration": 127,
    "start_time": "2023-03-21T10:00:11.590Z"
   },
   {
    "duration": 2,
    "start_time": "2023-03-21T10:03:30.532Z"
   },
   {
    "duration": 112,
    "start_time": "2023-03-21T10:03:30.537Z"
   },
   {
    "duration": 15,
    "start_time": "2023-03-21T10:03:30.651Z"
   },
   {
    "duration": 1301,
    "start_time": "2023-03-21T10:03:30.667Z"
   },
   {
    "duration": 5,
    "start_time": "2023-03-21T10:03:31.971Z"
   },
   {
    "duration": 32,
    "start_time": "2023-03-21T10:03:31.977Z"
   },
   {
    "duration": 11,
    "start_time": "2023-03-21T10:03:32.011Z"
   },
   {
    "duration": 41,
    "start_time": "2023-03-21T10:03:32.024Z"
   },
   {
    "duration": 139,
    "start_time": "2023-03-21T10:03:32.067Z"
   },
   {
    "duration": 14,
    "start_time": "2023-03-21T10:03:32.208Z"
   },
   {
    "duration": 13,
    "start_time": "2023-03-21T10:03:32.224Z"
   },
   {
    "duration": 13,
    "start_time": "2023-03-21T10:03:32.239Z"
   },
   {
    "duration": 9,
    "start_time": "2023-03-21T10:03:32.254Z"
   },
   {
    "duration": 28,
    "start_time": "2023-03-21T10:03:32.267Z"
   },
   {
    "duration": 17,
    "start_time": "2023-03-21T10:03:32.297Z"
   },
   {
    "duration": 10,
    "start_time": "2023-03-21T10:03:32.317Z"
   },
   {
    "duration": 37,
    "start_time": "2023-03-21T10:03:32.329Z"
   },
   {
    "duration": 13,
    "start_time": "2023-03-21T10:03:32.368Z"
   },
   {
    "duration": 88,
    "start_time": "2023-03-21T10:03:32.383Z"
   },
   {
    "duration": 535,
    "start_time": "2023-03-21T10:03:32.473Z"
   },
   {
    "duration": 370,
    "start_time": "2023-03-21T10:03:33.010Z"
   },
   {
    "duration": 238,
    "start_time": "2023-03-21T10:05:56.503Z"
   },
   {
    "duration": 211,
    "start_time": "2023-03-21T10:06:11.076Z"
   },
   {
    "duration": 319,
    "start_time": "2023-03-21T10:06:32.962Z"
   },
   {
    "duration": 16,
    "start_time": "2023-03-21T10:22:59.669Z"
   },
   {
    "duration": 3,
    "start_time": "2023-03-21T10:23:07.053Z"
   },
   {
    "duration": 84,
    "start_time": "2023-03-21T10:23:07.060Z"
   },
   {
    "duration": 16,
    "start_time": "2023-03-21T10:23:07.147Z"
   },
   {
    "duration": 810,
    "start_time": "2023-03-21T10:23:07.165Z"
   },
   {
    "duration": 5,
    "start_time": "2023-03-21T10:23:07.977Z"
   },
   {
    "duration": 16,
    "start_time": "2023-03-21T10:23:07.984Z"
   },
   {
    "duration": 20,
    "start_time": "2023-03-21T10:23:08.002Z"
   },
   {
    "duration": 16,
    "start_time": "2023-03-21T10:23:08.024Z"
   },
   {
    "duration": 24,
    "start_time": "2023-03-21T10:23:08.042Z"
   },
   {
    "duration": 15,
    "start_time": "2023-03-21T10:23:08.068Z"
   },
   {
    "duration": 4,
    "start_time": "2023-03-21T10:23:08.086Z"
   },
   {
    "duration": 10,
    "start_time": "2023-03-21T10:23:08.098Z"
   },
   {
    "duration": 8,
    "start_time": "2023-03-21T10:23:08.110Z"
   },
   {
    "duration": 20,
    "start_time": "2023-03-21T10:23:08.120Z"
   },
   {
    "duration": 14,
    "start_time": "2023-03-21T10:23:08.141Z"
   },
   {
    "duration": 5,
    "start_time": "2023-03-21T10:23:08.157Z"
   },
   {
    "duration": 37,
    "start_time": "2023-03-21T10:23:08.164Z"
   },
   {
    "duration": 10,
    "start_time": "2023-03-21T10:23:08.203Z"
   },
   {
    "duration": 100,
    "start_time": "2023-03-21T10:23:08.215Z"
   },
   {
    "duration": 3,
    "start_time": "2023-03-21T10:23:08.317Z"
   },
   {
    "duration": 371,
    "start_time": "2023-03-21T10:23:08.321Z"
   },
   {
    "duration": 324,
    "start_time": "2023-03-21T10:23:08.694Z"
   },
   {
    "duration": 6,
    "start_time": "2023-03-21T10:23:09.020Z"
   },
   {
    "duration": 14,
    "start_time": "2023-03-21T10:23:09.028Z"
   },
   {
    "duration": 24,
    "start_time": "2023-03-21T10:23:09.045Z"
   },
   {
    "duration": 502,
    "start_time": "2023-03-21T10:23:09.071Z"
   },
   {
    "duration": 4,
    "start_time": "2023-03-21T10:23:09.576Z"
   },
   {
    "duration": 25,
    "start_time": "2023-03-21T10:23:09.583Z"
   },
   {
    "duration": 406,
    "start_time": "2023-03-21T10:23:09.619Z"
   },
   {
    "duration": 2,
    "start_time": "2023-03-21T10:23:10.027Z"
   },
   {
    "duration": 16,
    "start_time": "2023-03-21T10:23:10.031Z"
   },
   {
    "duration": 196,
    "start_time": "2023-03-21T10:23:10.049Z"
   },
   {
    "duration": 295,
    "start_time": "2023-03-21T10:23:10.247Z"
   },
   {
    "duration": 368,
    "start_time": "2023-03-21T10:23:10.544Z"
   },
   {
    "duration": 39,
    "start_time": "2023-03-21T10:23:10.913Z"
   },
   {
    "duration": 4,
    "start_time": "2023-03-21T10:23:10.953Z"
   },
   {
    "duration": 10,
    "start_time": "2023-03-21T10:23:10.958Z"
   },
   {
    "duration": 34,
    "start_time": "2023-03-21T10:23:10.970Z"
   },
   {
    "duration": 139,
    "start_time": "2023-03-21T10:23:11.006Z"
   },
   {
    "duration": 143,
    "start_time": "2023-03-21T10:23:11.147Z"
   },
   {
    "duration": 210,
    "start_time": "2023-03-21T10:23:11.297Z"
   },
   {
    "duration": 7,
    "start_time": "2023-03-21T10:23:11.509Z"
   },
   {
    "duration": 13,
    "start_time": "2023-03-21T10:23:46.121Z"
   },
   {
    "duration": 381,
    "start_time": "2023-03-21T10:25:25.959Z"
   },
   {
    "duration": 9,
    "start_time": "2023-03-21T10:26:54.757Z"
   },
   {
    "duration": 13,
    "start_time": "2023-03-21T10:27:19.989Z"
   },
   {
    "duration": 284,
    "start_time": "2023-03-21T10:27:30.872Z"
   },
   {
    "duration": 284,
    "start_time": "2023-03-21T10:27:35.351Z"
   },
   {
    "duration": 353,
    "start_time": "2023-03-21T10:27:50.490Z"
   },
   {
    "duration": 312,
    "start_time": "2023-03-21T10:27:56.177Z"
   },
   {
    "duration": 287,
    "start_time": "2023-03-21T10:28:00.636Z"
   },
   {
    "duration": 388,
    "start_time": "2023-03-21T10:28:09.891Z"
   },
   {
    "duration": 125,
    "start_time": "2023-03-21T10:51:08.403Z"
   },
   {
    "duration": 3,
    "start_time": "2023-03-21T10:51:14.933Z"
   },
   {
    "duration": 76,
    "start_time": "2023-03-21T10:51:14.938Z"
   },
   {
    "duration": 22,
    "start_time": "2023-03-21T10:51:15.016Z"
   },
   {
    "duration": 852,
    "start_time": "2023-03-21T10:51:15.040Z"
   },
   {
    "duration": 5,
    "start_time": "2023-03-21T10:51:15.894Z"
   },
   {
    "duration": 28,
    "start_time": "2023-03-21T10:51:15.901Z"
   },
   {
    "duration": 8,
    "start_time": "2023-03-21T10:51:15.931Z"
   },
   {
    "duration": 14,
    "start_time": "2023-03-21T10:51:15.940Z"
   },
   {
    "duration": 26,
    "start_time": "2023-03-21T10:51:15.955Z"
   },
   {
    "duration": 20,
    "start_time": "2023-03-21T10:51:15.983Z"
   },
   {
    "duration": 5,
    "start_time": "2023-03-21T10:51:16.006Z"
   },
   {
    "duration": 26,
    "start_time": "2023-03-21T10:51:16.013Z"
   },
   {
    "duration": 11,
    "start_time": "2023-03-21T10:51:16.044Z"
   },
   {
    "duration": 21,
    "start_time": "2023-03-21T10:51:16.057Z"
   },
   {
    "duration": 21,
    "start_time": "2023-03-21T10:51:16.080Z"
   },
   {
    "duration": 9,
    "start_time": "2023-03-21T10:51:16.103Z"
   },
   {
    "duration": 15,
    "start_time": "2023-03-21T10:51:16.116Z"
   },
   {
    "duration": 7,
    "start_time": "2023-03-21T10:51:16.133Z"
   },
   {
    "duration": 111,
    "start_time": "2023-03-21T10:51:16.142Z"
   },
   {
    "duration": 3,
    "start_time": "2023-03-21T10:51:16.255Z"
   },
   {
    "duration": 395,
    "start_time": "2023-03-21T10:51:16.260Z"
   },
   {
    "duration": 340,
    "start_time": "2023-03-21T10:51:16.658Z"
   },
   {
    "duration": 8,
    "start_time": "2023-03-21T10:51:17.001Z"
   },
   {
    "duration": 12,
    "start_time": "2023-03-21T10:51:17.012Z"
   },
   {
    "duration": 27,
    "start_time": "2023-03-21T10:51:17.026Z"
   },
   {
    "duration": 516,
    "start_time": "2023-03-21T10:51:17.056Z"
   },
   {
    "duration": 6,
    "start_time": "2023-03-21T10:51:17.574Z"
   },
   {
    "duration": 37,
    "start_time": "2023-03-21T10:51:17.582Z"
   },
   {
    "duration": 418,
    "start_time": "2023-03-21T10:51:17.624Z"
   },
   {
    "duration": 3,
    "start_time": "2023-03-21T10:51:18.043Z"
   },
   {
    "duration": 19,
    "start_time": "2023-03-21T10:51:18.048Z"
   },
   {
    "duration": 236,
    "start_time": "2023-03-21T10:51:18.068Z"
   },
   {
    "duration": 316,
    "start_time": "2023-03-21T10:51:18.306Z"
   },
   {
    "duration": 327,
    "start_time": "2023-03-21T10:51:18.625Z"
   },
   {
    "duration": 50,
    "start_time": "2023-03-21T10:51:18.954Z"
   },
   {
    "duration": 7,
    "start_time": "2023-03-21T10:51:19.006Z"
   },
   {
    "duration": 11,
    "start_time": "2023-03-21T10:51:19.020Z"
   },
   {
    "duration": 12,
    "start_time": "2023-03-21T10:51:19.033Z"
   },
   {
    "duration": 180,
    "start_time": "2023-03-21T10:51:19.046Z"
   },
   {
    "duration": 158,
    "start_time": "2023-03-21T10:51:19.228Z"
   },
   {
    "duration": 255,
    "start_time": "2023-03-21T10:51:19.388Z"
   },
   {
    "duration": 9,
    "start_time": "2023-03-21T10:51:19.645Z"
   },
   {
    "duration": 438,
    "start_time": "2023-03-21T10:51:19.656Z"
   },
   {
    "duration": 329,
    "start_time": "2023-03-21T10:51:20.098Z"
   },
   {
    "duration": 26,
    "start_time": "2023-03-21T10:51:20.430Z"
   },
   {
    "duration": 44,
    "start_time": "2023-03-21T10:51:20.458Z"
   },
   {
    "duration": 16,
    "start_time": "2023-03-21T10:51:20.506Z"
   },
   {
    "duration": 19,
    "start_time": "2023-03-21T10:51:20.524Z"
   },
   {
    "duration": 14,
    "start_time": "2023-03-21T10:51:20.545Z"
   },
   {
    "duration": 156,
    "start_time": "2023-03-21T10:51:20.561Z"
   },
   {
    "duration": 11,
    "start_time": "2023-03-21T10:51:20.719Z"
   },
   {
    "duration": 16,
    "start_time": "2023-03-21T10:51:20.732Z"
   },
   {
    "duration": 9,
    "start_time": "2023-03-21T10:51:20.749Z"
   },
   {
    "duration": 141,
    "start_time": "2023-03-21T10:51:20.759Z"
   },
   {
    "duration": 11,
    "start_time": "2023-03-21T10:51:20.902Z"
   },
   {
    "duration": 23,
    "start_time": "2023-03-21T10:51:20.916Z"
   },
   {
    "duration": 5,
    "start_time": "2023-03-21T10:51:20.941Z"
   },
   {
    "duration": 135,
    "start_time": "2023-03-21T10:51:20.948Z"
   },
   {
    "duration": 106,
    "start_time": "2023-03-21T10:51:24.207Z"
   },
   {
    "duration": 582,
    "start_time": "2023-03-21T10:51:40.919Z"
   },
   {
    "duration": 833,
    "start_time": "2023-03-21T10:51:50.254Z"
   },
   {
    "duration": 592,
    "start_time": "2023-03-21T10:53:31.030Z"
   },
   {
    "duration": 542,
    "start_time": "2023-03-21T10:54:05.320Z"
   },
   {
    "duration": 22,
    "start_time": "2023-03-21T10:54:47.151Z"
   },
   {
    "duration": 559,
    "start_time": "2023-03-21T10:55:09.049Z"
   },
   {
    "duration": 58,
    "start_time": "2023-03-21T11:06:11.406Z"
   },
   {
    "duration": 66,
    "start_time": "2023-03-21T11:06:14.416Z"
   },
   {
    "duration": 10,
    "start_time": "2023-03-21T11:15:44.760Z"
   },
   {
    "duration": 4,
    "start_time": "2023-03-21T11:15:50.581Z"
   },
   {
    "duration": 118,
    "start_time": "2023-03-21T11:15:50.587Z"
   },
   {
    "duration": 18,
    "start_time": "2023-03-21T11:15:50.707Z"
   },
   {
    "duration": 1025,
    "start_time": "2023-03-21T11:15:50.727Z"
   },
   {
    "duration": 5,
    "start_time": "2023-03-21T11:15:51.754Z"
   },
   {
    "duration": 9,
    "start_time": "2023-03-21T11:15:51.761Z"
   },
   {
    "duration": 7,
    "start_time": "2023-03-21T11:15:51.772Z"
   },
   {
    "duration": 22,
    "start_time": "2023-03-21T11:15:51.780Z"
   },
   {
    "duration": 23,
    "start_time": "2023-03-21T11:15:51.803Z"
   },
   {
    "duration": 18,
    "start_time": "2023-03-21T11:15:51.828Z"
   },
   {
    "duration": 12,
    "start_time": "2023-03-21T11:15:51.849Z"
   },
   {
    "duration": 43,
    "start_time": "2023-03-21T11:15:51.863Z"
   },
   {
    "duration": 20,
    "start_time": "2023-03-21T11:15:51.908Z"
   },
   {
    "duration": 31,
    "start_time": "2023-03-21T11:15:51.930Z"
   },
   {
    "duration": 24,
    "start_time": "2023-03-21T11:15:51.963Z"
   },
   {
    "duration": 15,
    "start_time": "2023-03-21T11:15:51.989Z"
   },
   {
    "duration": 13,
    "start_time": "2023-03-21T11:15:52.006Z"
   },
   {
    "duration": 22,
    "start_time": "2023-03-21T11:15:52.021Z"
   },
   {
    "duration": 91,
    "start_time": "2023-03-21T11:15:52.045Z"
   },
   {
    "duration": 3,
    "start_time": "2023-03-21T11:15:52.138Z"
   },
   {
    "duration": 389,
    "start_time": "2023-03-21T11:15:52.142Z"
   },
   {
    "duration": 327,
    "start_time": "2023-03-21T11:15:52.533Z"
   },
   {
    "duration": 7,
    "start_time": "2023-03-21T11:15:52.861Z"
   },
   {
    "duration": 25,
    "start_time": "2023-03-21T11:15:52.870Z"
   },
   {
    "duration": 33,
    "start_time": "2023-03-21T11:15:52.897Z"
   },
   {
    "duration": 360,
    "start_time": "2023-03-21T11:15:52.932Z"
   },
   {
    "duration": 6,
    "start_time": "2023-03-21T11:15:53.294Z"
   },
   {
    "duration": 38,
    "start_time": "2023-03-21T11:15:53.302Z"
   },
   {
    "duration": 422,
    "start_time": "2023-03-21T11:15:53.345Z"
   },
   {
    "duration": 3,
    "start_time": "2023-03-21T11:15:53.768Z"
   },
   {
    "duration": 16,
    "start_time": "2023-03-21T11:15:53.772Z"
   },
   {
    "duration": 215,
    "start_time": "2023-03-21T11:15:53.790Z"
   },
   {
    "duration": 398,
    "start_time": "2023-03-21T11:15:54.007Z"
   },
   {
    "duration": 342,
    "start_time": "2023-03-21T11:15:54.407Z"
   },
   {
    "duration": 38,
    "start_time": "2023-03-21T11:15:54.750Z"
   },
   {
    "duration": 8,
    "start_time": "2023-03-21T11:15:54.796Z"
   },
   {
    "duration": 20,
    "start_time": "2023-03-21T11:15:54.806Z"
   },
   {
    "duration": 16,
    "start_time": "2023-03-21T11:15:54.828Z"
   },
   {
    "duration": 153,
    "start_time": "2023-03-21T11:15:54.846Z"
   },
   {
    "duration": 164,
    "start_time": "2023-03-21T11:15:55.001Z"
   },
   {
    "duration": 240,
    "start_time": "2023-03-21T11:15:55.167Z"
   },
   {
    "duration": 9,
    "start_time": "2023-03-21T11:15:55.410Z"
   },
   {
    "duration": 318,
    "start_time": "2023-03-21T11:15:55.421Z"
   },
   {
    "duration": 308,
    "start_time": "2023-03-21T11:15:55.741Z"
   },
   {
    "duration": 19,
    "start_time": "2023-03-21T11:15:56.051Z"
   },
   {
    "duration": 39,
    "start_time": "2023-03-21T11:15:56.072Z"
   },
   {
    "duration": 26,
    "start_time": "2023-03-21T11:15:56.114Z"
   },
   {
    "duration": 10,
    "start_time": "2023-03-21T11:15:56.142Z"
   },
   {
    "duration": 10,
    "start_time": "2023-03-21T11:15:56.154Z"
   },
   {
    "duration": 264,
    "start_time": "2023-03-21T11:15:56.166Z"
   },
   {
    "duration": 10,
    "start_time": "2023-03-21T11:15:56.433Z"
   },
   {
    "duration": 23,
    "start_time": "2023-03-21T11:15:56.445Z"
   },
   {
    "duration": 24,
    "start_time": "2023-03-21T11:15:56.470Z"
   },
   {
    "duration": 152,
    "start_time": "2023-03-21T11:15:56.496Z"
   },
   {
    "duration": 12,
    "start_time": "2023-03-21T11:15:56.650Z"
   },
   {
    "duration": 11,
    "start_time": "2023-03-21T11:15:56.664Z"
   },
   {
    "duration": 6,
    "start_time": "2023-03-21T11:15:56.677Z"
   },
   {
    "duration": 147,
    "start_time": "2023-03-21T11:15:56.697Z"
   },
   {
    "duration": 618,
    "start_time": "2023-03-21T11:15:56.846Z"
   },
   {
    "duration": 11,
    "start_time": "2023-03-21T11:15:57.466Z"
   },
   {
    "duration": 22,
    "start_time": "2023-03-21T11:15:57.478Z"
   },
   {
    "duration": 12,
    "start_time": "2023-03-21T11:15:57.502Z"
   },
   {
    "duration": 132,
    "start_time": "2023-03-21T11:16:06.518Z"
   },
   {
    "duration": 10,
    "start_time": "2023-03-21T11:16:23.550Z"
   },
   {
    "duration": 4,
    "start_time": "2023-03-21T11:16:38.929Z"
   },
   {
    "duration": 85,
    "start_time": "2023-03-21T11:16:38.937Z"
   },
   {
    "duration": 17,
    "start_time": "2023-03-21T11:16:39.024Z"
   },
   {
    "duration": 908,
    "start_time": "2023-03-21T11:16:39.043Z"
   },
   {
    "duration": 5,
    "start_time": "2023-03-21T11:16:39.953Z"
   },
   {
    "duration": 13,
    "start_time": "2023-03-21T11:16:39.960Z"
   },
   {
    "duration": 6,
    "start_time": "2023-03-21T11:16:39.975Z"
   },
   {
    "duration": 15,
    "start_time": "2023-03-21T11:16:39.998Z"
   },
   {
    "duration": 48,
    "start_time": "2023-03-21T11:16:40.015Z"
   },
   {
    "duration": 154,
    "start_time": "2023-03-21T11:16:40.065Z"
   },
   {
    "duration": 5,
    "start_time": "2023-03-21T11:16:40.223Z"
   },
   {
    "duration": 15,
    "start_time": "2023-03-21T11:16:40.230Z"
   },
   {
    "duration": 9,
    "start_time": "2023-03-21T11:16:40.248Z"
   },
   {
    "duration": 139,
    "start_time": "2023-03-21T11:16:40.259Z"
   },
   {
    "duration": 21,
    "start_time": "2023-03-21T11:16:40.400Z"
   },
   {
    "duration": 27,
    "start_time": "2023-03-21T11:16:40.423Z"
   },
   {
    "duration": 24,
    "start_time": "2023-03-21T11:16:40.452Z"
   },
   {
    "duration": 65,
    "start_time": "2023-03-21T11:16:40.479Z"
   },
   {
    "duration": 133,
    "start_time": "2023-03-21T11:16:40.547Z"
   },
   {
    "duration": 3,
    "start_time": "2023-03-21T11:16:40.683Z"
   },
   {
    "duration": 442,
    "start_time": "2023-03-21T11:16:40.701Z"
   },
   {
    "duration": 341,
    "start_time": "2023-03-21T11:16:41.146Z"
   },
   {
    "duration": 13,
    "start_time": "2023-03-21T11:16:41.489Z"
   },
   {
    "duration": 14,
    "start_time": "2023-03-21T11:16:41.504Z"
   },
   {
    "duration": 31,
    "start_time": "2023-03-21T11:16:41.520Z"
   },
   {
    "duration": 431,
    "start_time": "2023-03-21T11:16:41.553Z"
   },
   {
    "duration": 5,
    "start_time": "2023-03-21T11:16:41.986Z"
   },
   {
    "duration": 23,
    "start_time": "2023-03-21T11:16:41.998Z"
   },
   {
    "duration": 588,
    "start_time": "2023-03-21T11:16:42.027Z"
   },
   {
    "duration": 4,
    "start_time": "2023-03-21T11:16:42.617Z"
   },
   {
    "duration": 15,
    "start_time": "2023-03-21T11:16:42.623Z"
   },
   {
    "duration": 231,
    "start_time": "2023-03-21T11:16:42.639Z"
   },
   {
    "duration": 294,
    "start_time": "2023-03-21T11:16:42.871Z"
   },
   {
    "duration": 411,
    "start_time": "2023-03-21T11:16:43.168Z"
   },
   {
    "duration": 58,
    "start_time": "2023-03-21T11:16:43.581Z"
   },
   {
    "duration": 4,
    "start_time": "2023-03-21T11:16:43.641Z"
   },
   {
    "duration": 9,
    "start_time": "2023-03-21T11:16:43.647Z"
   },
   {
    "duration": 12,
    "start_time": "2023-03-21T11:16:43.658Z"
   },
   {
    "duration": 170,
    "start_time": "2023-03-21T11:16:43.672Z"
   },
   {
    "duration": 154,
    "start_time": "2023-03-21T11:16:43.844Z"
   },
   {
    "duration": 235,
    "start_time": "2023-03-21T11:16:44.000Z"
   },
   {
    "duration": 8,
    "start_time": "2023-03-21T11:16:44.237Z"
   },
   {
    "duration": 308,
    "start_time": "2023-03-21T11:16:44.247Z"
   },
   {
    "duration": 297,
    "start_time": "2023-03-21T11:16:44.557Z"
   },
   {
    "duration": 18,
    "start_time": "2023-03-21T11:16:44.856Z"
   },
   {
    "duration": 37,
    "start_time": "2023-03-21T11:16:44.877Z"
   },
   {
    "duration": 19,
    "start_time": "2023-03-21T11:16:44.916Z"
   },
   {
    "duration": 24,
    "start_time": "2023-03-21T11:16:44.937Z"
   },
   {
    "duration": 11,
    "start_time": "2023-03-21T11:16:44.963Z"
   },
   {
    "duration": 141,
    "start_time": "2023-03-21T11:16:44.976Z"
   },
   {
    "duration": 10,
    "start_time": "2023-03-21T11:16:45.120Z"
   },
   {
    "duration": 14,
    "start_time": "2023-03-21T11:16:45.132Z"
   },
   {
    "duration": 6,
    "start_time": "2023-03-21T11:16:45.148Z"
   },
   {
    "duration": 155,
    "start_time": "2023-03-21T11:16:45.156Z"
   },
   {
    "duration": 12,
    "start_time": "2023-03-21T11:16:45.313Z"
   },
   {
    "duration": 23,
    "start_time": "2023-03-21T11:16:45.328Z"
   },
   {
    "duration": 11,
    "start_time": "2023-03-21T11:16:45.353Z"
   },
   {
    "duration": 128,
    "start_time": "2023-03-21T11:16:45.366Z"
   },
   {
    "duration": 707,
    "start_time": "2023-03-21T11:16:45.496Z"
   },
   {
    "duration": 12,
    "start_time": "2023-03-21T11:16:46.205Z"
   },
   {
    "duration": 18,
    "start_time": "2023-03-21T11:16:46.220Z"
   },
   {
    "duration": 9,
    "start_time": "2023-03-21T11:16:46.240Z"
   },
   {
    "duration": 179,
    "start_time": "2023-03-21T11:16:46.251Z"
   },
   {
    "duration": 12,
    "start_time": "2023-03-21T11:16:46.432Z"
   },
   {
    "duration": 14,
    "start_time": "2023-03-21T11:16:46.446Z"
   },
   {
    "duration": 9,
    "start_time": "2023-03-21T11:16:46.462Z"
   },
   {
    "duration": 165,
    "start_time": "2023-03-21T11:16:46.473Z"
   },
   {
    "duration": 11,
    "start_time": "2023-03-21T11:16:46.640Z"
   },
   {
    "duration": 25,
    "start_time": "2023-03-21T11:16:46.653Z"
   },
   {
    "duration": 17,
    "start_time": "2023-03-21T11:16:46.681Z"
   },
   {
    "duration": 9,
    "start_time": "2023-03-21T12:09:33.338Z"
   },
   {
    "duration": 3,
    "start_time": "2023-03-21T12:09:38.930Z"
   },
   {
    "duration": 73,
    "start_time": "2023-03-21T12:09:38.936Z"
   },
   {
    "duration": 16,
    "start_time": "2023-03-21T12:09:39.010Z"
   },
   {
    "duration": 828,
    "start_time": "2023-03-21T12:09:39.028Z"
   },
   {
    "duration": 5,
    "start_time": "2023-03-21T12:09:39.858Z"
   },
   {
    "duration": 9,
    "start_time": "2023-03-21T12:09:39.864Z"
   },
   {
    "duration": 4,
    "start_time": "2023-03-21T12:09:39.875Z"
   },
   {
    "duration": 11,
    "start_time": "2023-03-21T12:09:39.897Z"
   },
   {
    "duration": 20,
    "start_time": "2023-03-21T12:09:39.910Z"
   },
   {
    "duration": 17,
    "start_time": "2023-03-21T12:09:39.932Z"
   },
   {
    "duration": 4,
    "start_time": "2023-03-21T12:09:39.951Z"
   },
   {
    "duration": 14,
    "start_time": "2023-03-21T12:09:39.957Z"
   },
   {
    "duration": 14,
    "start_time": "2023-03-21T12:09:39.998Z"
   },
   {
    "duration": 24,
    "start_time": "2023-03-21T12:09:40.016Z"
   },
   {
    "duration": 17,
    "start_time": "2023-03-21T12:09:40.042Z"
   },
   {
    "duration": 5,
    "start_time": "2023-03-21T12:09:40.061Z"
   },
   {
    "duration": 31,
    "start_time": "2023-03-21T12:09:40.068Z"
   },
   {
    "duration": 7,
    "start_time": "2023-03-21T12:09:40.101Z"
   },
   {
    "duration": 114,
    "start_time": "2023-03-21T12:09:40.110Z"
   },
   {
    "duration": 3,
    "start_time": "2023-03-21T12:09:40.226Z"
   },
   {
    "duration": 429,
    "start_time": "2023-03-21T12:09:40.230Z"
   },
   {
    "duration": 427,
    "start_time": "2023-03-21T12:09:40.662Z"
   },
   {
    "duration": 9,
    "start_time": "2023-03-21T12:09:41.091Z"
   },
   {
    "duration": 7,
    "start_time": "2023-03-21T12:09:41.102Z"
   },
   {
    "duration": 23,
    "start_time": "2023-03-21T12:09:41.111Z"
   },
   {
    "duration": 367,
    "start_time": "2023-03-21T12:09:41.136Z"
   },
   {
    "duration": 4,
    "start_time": "2023-03-21T12:09:41.505Z"
   },
   {
    "duration": 31,
    "start_time": "2023-03-21T12:09:41.511Z"
   },
   {
    "duration": 398,
    "start_time": "2023-03-21T12:09:41.543Z"
   },
   {
    "duration": 2,
    "start_time": "2023-03-21T12:09:41.943Z"
   },
   {
    "duration": 16,
    "start_time": "2023-03-21T12:09:41.947Z"
   },
   {
    "duration": 204,
    "start_time": "2023-03-21T12:09:41.965Z"
   },
   {
    "duration": 285,
    "start_time": "2023-03-21T12:09:42.171Z"
   },
   {
    "duration": 286,
    "start_time": "2023-03-21T12:09:42.458Z"
   },
   {
    "duration": 40,
    "start_time": "2023-03-21T12:09:42.746Z"
   },
   {
    "duration": 12,
    "start_time": "2023-03-21T12:09:42.787Z"
   },
   {
    "duration": 9,
    "start_time": "2023-03-21T12:09:42.801Z"
   },
   {
    "duration": 18,
    "start_time": "2023-03-21T12:09:42.812Z"
   },
   {
    "duration": 157,
    "start_time": "2023-03-21T12:09:42.832Z"
   },
   {
    "duration": 138,
    "start_time": "2023-03-21T12:09:42.997Z"
   },
   {
    "duration": 315,
    "start_time": "2023-03-21T12:09:43.139Z"
   },
   {
    "duration": 8,
    "start_time": "2023-03-21T12:09:43.457Z"
   },
   {
    "duration": 304,
    "start_time": "2023-03-21T12:09:43.467Z"
   },
   {
    "duration": 296,
    "start_time": "2023-03-21T12:09:43.774Z"
   },
   {
    "duration": 27,
    "start_time": "2023-03-21T12:09:44.072Z"
   },
   {
    "duration": 17,
    "start_time": "2023-03-21T12:09:44.100Z"
   },
   {
    "duration": 10,
    "start_time": "2023-03-21T12:09:44.119Z"
   },
   {
    "duration": 15,
    "start_time": "2023-03-21T12:09:44.130Z"
   },
   {
    "duration": 8,
    "start_time": "2023-03-21T12:09:44.147Z"
   },
   {
    "duration": 137,
    "start_time": "2023-03-21T12:09:44.157Z"
   },
   {
    "duration": 11,
    "start_time": "2023-03-21T12:09:44.298Z"
   },
   {
    "duration": 17,
    "start_time": "2023-03-21T12:09:44.311Z"
   },
   {
    "duration": 7,
    "start_time": "2023-03-21T12:09:44.329Z"
   },
   {
    "duration": 131,
    "start_time": "2023-03-21T12:09:44.338Z"
   },
   {
    "duration": 10,
    "start_time": "2023-03-21T12:09:44.470Z"
   },
   {
    "duration": 16,
    "start_time": "2023-03-21T12:09:44.482Z"
   },
   {
    "duration": 6,
    "start_time": "2023-03-21T12:09:44.500Z"
   },
   {
    "duration": 136,
    "start_time": "2023-03-21T12:09:44.508Z"
   },
   {
    "duration": 533,
    "start_time": "2023-03-21T12:09:44.646Z"
   },
   {
    "duration": 21,
    "start_time": "2023-03-21T12:09:45.181Z"
   },
   {
    "duration": 13,
    "start_time": "2023-03-21T12:09:45.204Z"
   },
   {
    "duration": 5,
    "start_time": "2023-03-21T12:09:45.220Z"
   },
   {
    "duration": 250,
    "start_time": "2023-03-21T12:09:45.226Z"
   },
   {
    "duration": 10,
    "start_time": "2023-03-21T12:09:45.477Z"
   },
   {
    "duration": 26,
    "start_time": "2023-03-21T12:09:45.498Z"
   },
   {
    "duration": 13,
    "start_time": "2023-03-21T12:09:45.526Z"
   },
   {
    "duration": 146,
    "start_time": "2023-03-21T12:09:45.541Z"
   },
   {
    "duration": 12,
    "start_time": "2023-03-21T12:09:45.690Z"
   },
   {
    "duration": 13,
    "start_time": "2023-03-21T12:09:45.704Z"
   },
   {
    "duration": 7,
    "start_time": "2023-03-21T12:09:45.719Z"
   },
   {
    "duration": 136,
    "start_time": "2023-03-21T12:09:45.727Z"
   },
   {
    "duration": 189,
    "start_time": "2023-03-21T12:09:45.865Z"
   },
   {
    "duration": 197,
    "start_time": "2023-03-21T12:09:46.055Z"
   },
   {
    "duration": 188,
    "start_time": "2023-03-21T12:09:46.254Z"
   },
   {
    "duration": 9,
    "start_time": "2023-03-21T12:09:46.444Z"
   },
   {
    "duration": 24,
    "start_time": "2023-03-21T12:09:46.455Z"
   },
   {
    "duration": 7,
    "start_time": "2023-03-21T12:09:50.534Z"
   },
   {
    "duration": 5,
    "start_time": "2023-03-21T12:09:56.823Z"
   },
   {
    "duration": 11,
    "start_time": "2023-03-21T12:11:23.623Z"
   },
   {
    "duration": 10,
    "start_time": "2023-03-21T12:12:37.359Z"
   },
   {
    "duration": 429,
    "start_time": "2023-03-22T06:36:55.371Z"
   },
   {
    "duration": 218,
    "start_time": "2023-03-22T06:36:55.802Z"
   },
   {
    "duration": 14,
    "start_time": "2023-03-22T06:36:56.021Z"
   },
   {
    "duration": 1277,
    "start_time": "2023-03-22T06:36:56.037Z"
   },
   {
    "duration": 5,
    "start_time": "2023-03-22T06:36:57.316Z"
   },
   {
    "duration": 26,
    "start_time": "2023-03-22T06:36:57.323Z"
   },
   {
    "duration": 6,
    "start_time": "2023-03-22T06:36:57.352Z"
   },
   {
    "duration": 15,
    "start_time": "2023-03-22T06:36:57.360Z"
   },
   {
    "duration": 163,
    "start_time": "2023-03-22T06:36:57.377Z"
   },
   {
    "duration": 26,
    "start_time": "2023-03-22T06:36:57.544Z"
   },
   {
    "duration": 6,
    "start_time": "2023-03-22T06:36:57.572Z"
   },
   {
    "duration": 11,
    "start_time": "2023-03-22T06:36:57.580Z"
   },
   {
    "duration": 9,
    "start_time": "2023-03-22T06:36:57.593Z"
   },
   {
    "duration": 62,
    "start_time": "2023-03-22T06:36:57.604Z"
   },
   {
    "duration": 15,
    "start_time": "2023-03-22T06:36:57.667Z"
   },
   {
    "duration": 4,
    "start_time": "2023-03-22T06:36:57.684Z"
   },
   {
    "duration": 11,
    "start_time": "2023-03-22T06:36:57.690Z"
   },
   {
    "duration": 10,
    "start_time": "2023-03-22T06:36:57.702Z"
   },
   {
    "duration": 106,
    "start_time": "2023-03-22T06:36:57.714Z"
   },
   {
    "duration": 519,
    "start_time": "2023-03-22T06:36:57.822Z"
   },
   {
    "duration": 422,
    "start_time": "2023-03-22T06:36:58.344Z"
   },
   {
    "duration": 426,
    "start_time": "2023-03-22T06:36:58.767Z"
   },
   {
    "duration": 7,
    "start_time": "2023-03-22T06:36:59.196Z"
   },
   {
    "duration": 9,
    "start_time": "2023-03-22T06:36:59.205Z"
   },
   {
    "duration": 161,
    "start_time": "2023-03-22T06:36:59.216Z"
   },
   {
    "duration": 441,
    "start_time": "2023-03-22T06:36:59.381Z"
   },
   {
    "duration": 5,
    "start_time": "2023-03-22T06:36:59.824Z"
   },
   {
    "duration": 32,
    "start_time": "2023-03-22T06:36:59.835Z"
   },
   {
    "duration": 422,
    "start_time": "2023-03-22T06:36:59.869Z"
   },
   {
    "duration": 4,
    "start_time": "2023-03-22T06:37:00.293Z"
   },
   {
    "duration": 40,
    "start_time": "2023-03-22T06:37:00.299Z"
   },
   {
    "duration": 274,
    "start_time": "2023-03-22T06:37:00.341Z"
   },
   {
    "duration": 313,
    "start_time": "2023-03-22T06:37:00.617Z"
   },
   {
    "duration": 328,
    "start_time": "2023-03-22T06:37:00.931Z"
   },
   {
    "duration": 43,
    "start_time": "2023-03-22T06:37:01.261Z"
   },
   {
    "duration": 24,
    "start_time": "2023-03-22T06:37:01.306Z"
   },
   {
    "duration": 32,
    "start_time": "2023-03-22T06:37:01.332Z"
   },
   {
    "duration": 46,
    "start_time": "2023-03-22T06:37:01.365Z"
   },
   {
    "duration": 178,
    "start_time": "2023-03-22T06:37:01.413Z"
   },
   {
    "duration": 148,
    "start_time": "2023-03-22T06:37:01.593Z"
   },
   {
    "duration": 238,
    "start_time": "2023-03-22T06:37:01.743Z"
   },
   {
    "duration": 7,
    "start_time": "2023-03-22T06:37:01.983Z"
   },
   {
    "duration": 406,
    "start_time": "2023-03-22T06:37:01.992Z"
   },
   {
    "duration": 312,
    "start_time": "2023-03-22T06:37:02.399Z"
   },
   {
    "duration": 17,
    "start_time": "2023-03-22T06:37:02.713Z"
   },
   {
    "duration": 24,
    "start_time": "2023-03-22T06:37:02.743Z"
   },
   {
    "duration": 45,
    "start_time": "2023-03-22T06:37:02.769Z"
   },
   {
    "duration": 47,
    "start_time": "2023-03-22T06:37:02.815Z"
   },
   {
    "duration": 50,
    "start_time": "2023-03-22T06:37:02.863Z"
   },
   {
    "duration": 157,
    "start_time": "2023-03-22T06:37:02.914Z"
   },
   {
    "duration": 10,
    "start_time": "2023-03-22T06:37:03.073Z"
   },
   {
    "duration": 24,
    "start_time": "2023-03-22T06:37:03.085Z"
   },
   {
    "duration": 46,
    "start_time": "2023-03-22T06:37:03.110Z"
   },
   {
    "duration": 172,
    "start_time": "2023-03-22T06:37:03.157Z"
   },
   {
    "duration": 22,
    "start_time": "2023-03-22T06:37:03.330Z"
   },
   {
    "duration": 46,
    "start_time": "2023-03-22T06:37:03.354Z"
   },
   {
    "duration": 22,
    "start_time": "2023-03-22T06:37:03.402Z"
   },
   {
    "duration": 156,
    "start_time": "2023-03-22T06:37:03.426Z"
   },
   {
    "duration": 591,
    "start_time": "2023-03-22T06:37:03.583Z"
   },
   {
    "duration": 11,
    "start_time": "2023-03-22T06:37:04.176Z"
   },
   {
    "duration": 18,
    "start_time": "2023-03-22T06:37:04.189Z"
   },
   {
    "duration": 6,
    "start_time": "2023-03-22T06:37:04.209Z"
   },
   {
    "duration": 137,
    "start_time": "2023-03-22T06:37:04.217Z"
   },
   {
    "duration": 12,
    "start_time": "2023-03-22T06:37:04.356Z"
   },
   {
    "duration": 10,
    "start_time": "2023-03-22T06:37:04.369Z"
   },
   {
    "duration": 10,
    "start_time": "2023-03-22T06:37:04.381Z"
   },
   {
    "duration": 227,
    "start_time": "2023-03-22T06:37:04.392Z"
   },
   {
    "duration": 19,
    "start_time": "2023-03-22T06:37:04.622Z"
   },
   {
    "duration": 13,
    "start_time": "2023-03-22T06:37:04.644Z"
   },
   {
    "duration": 8,
    "start_time": "2023-03-22T06:37:04.659Z"
   },
   {
    "duration": 144,
    "start_time": "2023-03-22T06:37:04.669Z"
   },
   {
    "duration": 198,
    "start_time": "2023-03-22T06:37:04.815Z"
   },
   {
    "duration": 239,
    "start_time": "2023-03-22T06:37:05.015Z"
   },
   {
    "duration": 279,
    "start_time": "2023-03-22T06:37:05.256Z"
   },
   {
    "duration": 17,
    "start_time": "2023-03-22T06:37:05.540Z"
   },
   {
    "duration": 17,
    "start_time": "2023-03-22T06:37:05.560Z"
   },
   {
    "duration": 212,
    "start_time": "2023-03-22T07:00:31.021Z"
   },
   {
    "duration": 128,
    "start_time": "2023-03-22T07:00:38.992Z"
   },
   {
    "duration": 541,
    "start_time": "2023-03-22T07:04:56.034Z"
   },
   {
    "duration": 541,
    "start_time": "2023-03-22T07:15:54.140Z"
   },
   {
    "duration": 714,
    "start_time": "2023-03-22T07:16:18.496Z"
   },
   {
    "duration": 508,
    "start_time": "2023-03-22T07:16:35.971Z"
   },
   {
    "duration": 533,
    "start_time": "2023-03-22T07:16:41.993Z"
   },
   {
    "duration": 612,
    "start_time": "2023-03-22T07:18:11.455Z"
   },
   {
    "duration": 544,
    "start_time": "2023-03-22T07:18:24.502Z"
   },
   {
    "duration": 634,
    "start_time": "2023-03-22T07:18:27.668Z"
   },
   {
    "duration": 565,
    "start_time": "2023-03-22T07:19:30.406Z"
   },
   {
    "duration": 590,
    "start_time": "2023-03-22T07:19:51.128Z"
   },
   {
    "duration": 642,
    "start_time": "2023-03-22T07:20:08.545Z"
   },
   {
    "duration": 12,
    "start_time": "2023-03-22T07:24:21.143Z"
   },
   {
    "duration": 18,
    "start_time": "2023-03-22T07:24:31.618Z"
   },
   {
    "duration": 3,
    "start_time": "2023-03-22T07:24:53.051Z"
   },
   {
    "duration": 3,
    "start_time": "2023-03-22T07:25:05.024Z"
   },
   {
    "duration": 2,
    "start_time": "2023-03-22T07:25:26.188Z"
   },
   {
    "duration": 756,
    "start_time": "2023-03-22T07:27:45.755Z"
   },
   {
    "duration": 2,
    "start_time": "2023-03-22T07:28:03.871Z"
   },
   {
    "duration": 2,
    "start_time": "2023-03-22T07:28:11.833Z"
   },
   {
    "duration": 2,
    "start_time": "2023-03-22T07:28:21.294Z"
   },
   {
    "duration": 328,
    "start_time": "2023-03-22T07:32:00.873Z"
   },
   {
    "duration": 393,
    "start_time": "2023-03-22T07:32:34.528Z"
   },
   {
    "duration": 9,
    "start_time": "2023-03-22T07:35:26.783Z"
   },
   {
    "duration": 38,
    "start_time": "2023-03-22T07:35:48.022Z"
   },
   {
    "duration": 9,
    "start_time": "2023-03-22T07:37:52.833Z"
   },
   {
    "duration": 49,
    "start_time": "2023-03-22T07:38:24.038Z"
   },
   {
    "duration": 30,
    "start_time": "2023-03-22T09:01:26.339Z"
   },
   {
    "duration": 4,
    "start_time": "2023-03-22T09:01:33.403Z"
   },
   {
    "duration": 80,
    "start_time": "2023-03-22T09:01:33.410Z"
   },
   {
    "duration": 16,
    "start_time": "2023-03-22T09:01:33.492Z"
   },
   {
    "duration": 825,
    "start_time": "2023-03-22T09:01:33.511Z"
   },
   {
    "duration": 12,
    "start_time": "2023-03-22T09:01:34.338Z"
   },
   {
    "duration": 13,
    "start_time": "2023-03-22T09:01:34.352Z"
   },
   {
    "duration": 5,
    "start_time": "2023-03-22T09:01:34.367Z"
   },
   {
    "duration": 13,
    "start_time": "2023-03-22T09:01:34.374Z"
   },
   {
    "duration": 16,
    "start_time": "2023-03-22T09:01:34.389Z"
   },
   {
    "duration": 58,
    "start_time": "2023-03-22T09:01:34.406Z"
   },
   {
    "duration": 6,
    "start_time": "2023-03-22T09:01:34.469Z"
   },
   {
    "duration": 19,
    "start_time": "2023-03-22T09:01:34.477Z"
   },
   {
    "duration": 19,
    "start_time": "2023-03-22T09:01:34.498Z"
   },
   {
    "duration": 18,
    "start_time": "2023-03-22T09:01:34.519Z"
   },
   {
    "duration": 31,
    "start_time": "2023-03-22T09:01:34.539Z"
   },
   {
    "duration": 6,
    "start_time": "2023-03-22T09:01:34.573Z"
   },
   {
    "duration": 17,
    "start_time": "2023-03-22T09:01:34.580Z"
   },
   {
    "duration": 7,
    "start_time": "2023-03-22T09:01:34.599Z"
   },
   {
    "duration": 103,
    "start_time": "2023-03-22T09:01:34.607Z"
   },
   {
    "duration": 2,
    "start_time": "2023-03-22T09:01:34.712Z"
   },
   {
    "duration": 417,
    "start_time": "2023-03-22T09:01:34.716Z"
   },
   {
    "duration": 389,
    "start_time": "2023-03-22T09:01:35.135Z"
   },
   {
    "duration": 7,
    "start_time": "2023-03-22T09:01:35.525Z"
   },
   {
    "duration": 22,
    "start_time": "2023-03-22T09:01:35.533Z"
   },
   {
    "duration": 27,
    "start_time": "2023-03-22T09:01:35.556Z"
   },
   {
    "duration": 367,
    "start_time": "2023-03-22T09:01:35.585Z"
   },
   {
    "duration": 7,
    "start_time": "2023-03-22T09:01:35.953Z"
   },
   {
    "duration": 29,
    "start_time": "2023-03-22T09:01:35.962Z"
   },
   {
    "duration": 531,
    "start_time": "2023-03-22T09:01:35.995Z"
   },
   {
    "duration": 2,
    "start_time": "2023-03-22T09:01:36.528Z"
   },
   {
    "duration": 18,
    "start_time": "2023-03-22T09:01:36.543Z"
   },
   {
    "duration": 196,
    "start_time": "2023-03-22T09:01:36.566Z"
   },
   {
    "duration": 292,
    "start_time": "2023-03-22T09:01:36.765Z"
   },
   {
    "duration": 323,
    "start_time": "2023-03-22T09:01:37.059Z"
   },
   {
    "duration": 42,
    "start_time": "2023-03-22T09:01:37.384Z"
   },
   {
    "duration": 8,
    "start_time": "2023-03-22T09:01:37.444Z"
   },
   {
    "duration": 13,
    "start_time": "2023-03-22T09:01:37.454Z"
   },
   {
    "duration": 10,
    "start_time": "2023-03-22T09:01:37.470Z"
   },
   {
    "duration": 144,
    "start_time": "2023-03-22T09:01:37.482Z"
   },
   {
    "duration": 147,
    "start_time": "2023-03-22T09:01:37.627Z"
   },
   {
    "duration": 16,
    "start_time": "2023-03-22T09:02:26.806Z"
   },
   {
    "duration": 15,
    "start_time": "2023-03-22T09:02:42.369Z"
   },
   {
    "duration": 15,
    "start_time": "2023-03-22T09:02:47.874Z"
   },
   {
    "duration": 14,
    "start_time": "2023-03-22T09:02:56.407Z"
   },
   {
    "duration": 14,
    "start_time": "2023-03-22T09:03:07.768Z"
   },
   {
    "duration": 12,
    "start_time": "2023-03-22T09:03:13.019Z"
   },
   {
    "duration": 83,
    "start_time": "2023-03-22T11:44:51.072Z"
   },
   {
    "duration": 79,
    "start_time": "2023-03-22T11:45:29.504Z"
   },
   {
    "duration": 69,
    "start_time": "2023-03-22T11:48:08.062Z"
   },
   {
    "duration": 80,
    "start_time": "2023-03-22T11:48:20.863Z"
   },
   {
    "duration": 132,
    "start_time": "2023-03-22T11:48:54.990Z"
   },
   {
    "duration": 415,
    "start_time": "2023-03-22T11:49:15.321Z"
   },
   {
    "duration": 107,
    "start_time": "2023-03-22T12:22:12.953Z"
   },
   {
    "duration": 60,
    "start_time": "2023-03-22T12:23:38.892Z"
   },
   {
    "duration": 399,
    "start_time": "2023-03-22T12:23:46.749Z"
   },
   {
    "duration": 572,
    "start_time": "2023-03-22T12:23:47.150Z"
   },
   {
    "duration": 23,
    "start_time": "2023-03-22T12:23:47.724Z"
   },
   {
    "duration": 1402,
    "start_time": "2023-03-22T12:23:47.750Z"
   },
   {
    "duration": 5,
    "start_time": "2023-03-22T12:23:49.154Z"
   },
   {
    "duration": 15,
    "start_time": "2023-03-22T12:23:49.160Z"
   },
   {
    "duration": 30,
    "start_time": "2023-03-22T12:23:49.177Z"
   },
   {
    "duration": 20,
    "start_time": "2023-03-22T12:23:49.210Z"
   },
   {
    "duration": 135,
    "start_time": "2023-03-22T12:23:49.232Z"
   },
   {
    "duration": 23,
    "start_time": "2023-03-22T12:23:49.369Z"
   },
   {
    "duration": 13,
    "start_time": "2023-03-22T12:23:49.403Z"
   },
   {
    "duration": 11,
    "start_time": "2023-03-22T12:23:49.418Z"
   },
   {
    "duration": 7,
    "start_time": "2023-03-22T12:23:49.431Z"
   },
   {
    "duration": 15,
    "start_time": "2023-03-22T12:23:49.441Z"
   },
   {
    "duration": 13,
    "start_time": "2023-03-22T12:23:49.458Z"
   },
   {
    "duration": 31,
    "start_time": "2023-03-22T12:23:49.473Z"
   },
   {
    "duration": 6,
    "start_time": "2023-03-22T12:23:49.507Z"
   },
   {
    "duration": 10,
    "start_time": "2023-03-22T12:23:49.515Z"
   },
   {
    "duration": 108,
    "start_time": "2023-03-22T12:23:49.526Z"
   },
   {
    "duration": 535,
    "start_time": "2023-03-22T12:23:49.635Z"
   },
   {
    "duration": 391,
    "start_time": "2023-03-22T12:23:50.172Z"
   },
   {
    "duration": 347,
    "start_time": "2023-03-22T12:23:50.565Z"
   },
   {
    "duration": 7,
    "start_time": "2023-03-22T12:23:50.918Z"
   },
   {
    "duration": 9,
    "start_time": "2023-03-22T12:23:50.926Z"
   },
   {
    "duration": 30,
    "start_time": "2023-03-22T12:23:50.936Z"
   },
   {
    "duration": 503,
    "start_time": "2023-03-22T12:23:50.967Z"
   },
   {
    "duration": 4,
    "start_time": "2023-03-22T12:23:51.472Z"
   },
   {
    "duration": 41,
    "start_time": "2023-03-22T12:23:51.477Z"
   },
   {
    "duration": 426,
    "start_time": "2023-03-22T12:23:51.520Z"
   },
   {
    "duration": 3,
    "start_time": "2023-03-22T12:23:51.948Z"
   },
   {
    "duration": 16,
    "start_time": "2023-03-22T12:23:51.952Z"
   },
   {
    "duration": 253,
    "start_time": "2023-03-22T12:23:51.970Z"
   },
   {
    "duration": 318,
    "start_time": "2023-03-22T12:23:52.225Z"
   },
   {
    "duration": 332,
    "start_time": "2023-03-22T12:23:52.545Z"
   },
   {
    "duration": 43,
    "start_time": "2023-03-22T12:23:52.879Z"
   },
   {
    "duration": 8,
    "start_time": "2023-03-22T12:23:52.924Z"
   },
   {
    "duration": 7,
    "start_time": "2023-03-22T12:23:52.934Z"
   },
   {
    "duration": 19,
    "start_time": "2023-03-22T12:23:52.943Z"
   },
   {
    "duration": 161,
    "start_time": "2023-03-22T12:23:52.996Z"
   },
   {
    "duration": 166,
    "start_time": "2023-03-22T12:23:53.159Z"
   },
   {
    "duration": 1460,
    "start_time": "2023-03-22T12:25:32.661Z"
   },
   {
    "duration": 1587,
    "start_time": "2023-03-22T12:49:47.556Z"
   },
   {
    "duration": 1381,
    "start_time": "2023-03-22T12:50:48.713Z"
   },
   {
    "duration": 78,
    "start_time": "2023-03-22T12:51:20.215Z"
   },
   {
    "duration": 79,
    "start_time": "2023-03-22T12:52:11.712Z"
   },
   {
    "duration": 1346,
    "start_time": "2023-03-22T12:52:57.813Z"
   },
   {
    "duration": 1269,
    "start_time": "2023-03-22T12:54:26.940Z"
   },
   {
    "duration": 26,
    "start_time": "2023-03-22T12:59:57.581Z"
   },
   {
    "duration": 9,
    "start_time": "2023-03-22T13:00:09.235Z"
   },
   {
    "duration": 13,
    "start_time": "2023-03-22T13:00:18.439Z"
   },
   {
    "duration": 25,
    "start_time": "2023-03-22T13:01:24.694Z"
   },
   {
    "duration": 26,
    "start_time": "2023-03-22T13:01:50.882Z"
   },
   {
    "duration": 86,
    "start_time": "2023-03-22T13:02:37.672Z"
   },
   {
    "duration": 28,
    "start_time": "2023-03-22T13:03:02.935Z"
   },
   {
    "duration": 11,
    "start_time": "2023-03-22T13:03:09.167Z"
   },
   {
    "duration": 80,
    "start_time": "2023-03-22T13:03:35.547Z"
   },
   {
    "duration": 12,
    "start_time": "2023-03-22T13:03:40.455Z"
   },
   {
    "duration": 10,
    "start_time": "2023-03-22T13:03:49.279Z"
   },
   {
    "duration": 11,
    "start_time": "2023-03-22T13:04:04.635Z"
   },
   {
    "duration": 1285,
    "start_time": "2023-03-22T13:04:46.639Z"
   },
   {
    "duration": 1204,
    "start_time": "2023-03-22T13:06:35.535Z"
   },
   {
    "duration": 1299,
    "start_time": "2023-03-22T13:07:37.344Z"
   },
   {
    "duration": 1302,
    "start_time": "2023-03-22T13:07:59.039Z"
   },
   {
    "duration": 0,
    "start_time": "2023-03-22T13:08:52.386Z"
   },
   {
    "duration": 90,
    "start_time": "2023-03-22T13:09:07.835Z"
   },
   {
    "duration": 1209,
    "start_time": "2023-03-22T13:09:36.663Z"
   },
   {
    "duration": 1166,
    "start_time": "2023-03-22T13:10:03.972Z"
   },
   {
    "duration": 1263,
    "start_time": "2023-03-22T13:14:55.097Z"
   },
   {
    "duration": 1279,
    "start_time": "2023-03-22T13:16:47.657Z"
   },
   {
    "duration": 1108,
    "start_time": "2023-03-22T13:19:11.264Z"
   },
   {
    "duration": 1227,
    "start_time": "2023-03-22T13:21:23.512Z"
   },
   {
    "duration": 272,
    "start_time": "2023-03-22T13:23:27.840Z"
   },
   {
    "duration": 1146,
    "start_time": "2023-03-22T13:25:20.759Z"
   },
   {
    "duration": 1324,
    "start_time": "2023-03-22T13:25:59.636Z"
   },
   {
    "duration": 853,
    "start_time": "2023-03-22T13:26:55.040Z"
   },
   {
    "duration": 11,
    "start_time": "2023-03-22T13:27:36.196Z"
   },
   {
    "duration": 6,
    "start_time": "2023-03-22T13:28:15.028Z"
   },
   {
    "duration": 832,
    "start_time": "2023-03-22T13:36:41.618Z"
   },
   {
    "duration": 445,
    "start_time": "2023-03-23T12:52:44.410Z"
   },
   {
    "duration": 83,
    "start_time": "2023-03-23T12:52:44.859Z"
   },
   {
    "duration": 16,
    "start_time": "2023-03-23T12:52:44.947Z"
   },
   {
    "duration": 1108,
    "start_time": "2023-03-23T12:52:44.965Z"
   },
   {
    "duration": 4,
    "start_time": "2023-03-23T12:52:46.075Z"
   },
   {
    "duration": 10,
    "start_time": "2023-03-23T12:52:46.080Z"
   },
   {
    "duration": 5,
    "start_time": "2023-03-23T12:52:46.092Z"
   },
   {
    "duration": 9,
    "start_time": "2023-03-23T12:52:46.098Z"
   },
   {
    "duration": 77,
    "start_time": "2023-03-23T12:52:46.109Z"
   },
   {
    "duration": 13,
    "start_time": "2023-03-23T12:52:46.188Z"
   },
   {
    "duration": 3,
    "start_time": "2023-03-23T12:52:46.203Z"
   },
   {
    "duration": 39,
    "start_time": "2023-03-23T12:52:46.208Z"
   },
   {
    "duration": 7,
    "start_time": "2023-03-23T12:52:46.249Z"
   },
   {
    "duration": 19,
    "start_time": "2023-03-23T12:52:46.258Z"
   },
   {
    "duration": 13,
    "start_time": "2023-03-23T12:52:46.279Z"
   },
   {
    "duration": 5,
    "start_time": "2023-03-23T12:52:46.293Z"
   },
   {
    "duration": 6,
    "start_time": "2023-03-23T12:52:46.299Z"
   },
   {
    "duration": 40,
    "start_time": "2023-03-23T12:52:46.306Z"
   },
   {
    "duration": 70,
    "start_time": "2023-03-23T12:52:46.349Z"
   },
   {
    "duration": 578,
    "start_time": "2023-03-23T12:52:46.421Z"
   },
   {
    "duration": 398,
    "start_time": "2023-03-23T12:52:47.001Z"
   },
   {
    "duration": 319,
    "start_time": "2023-03-23T12:52:47.400Z"
   },
   {
    "duration": 10,
    "start_time": "2023-03-23T12:52:47.721Z"
   },
   {
    "duration": 5,
    "start_time": "2023-03-23T12:52:47.732Z"
   },
   {
    "duration": 103,
    "start_time": "2023-03-23T12:52:47.742Z"
   },
   {
    "duration": 415,
    "start_time": "2023-03-23T12:52:47.849Z"
   },
   {
    "duration": 5,
    "start_time": "2023-03-23T12:52:48.265Z"
   },
   {
    "duration": 19,
    "start_time": "2023-03-23T12:52:48.274Z"
   },
   {
    "duration": 413,
    "start_time": "2023-03-23T12:52:48.294Z"
   },
   {
    "duration": 3,
    "start_time": "2023-03-23T12:52:48.708Z"
   },
   {
    "duration": 24,
    "start_time": "2023-03-23T12:52:48.712Z"
   },
   {
    "duration": 205,
    "start_time": "2023-03-23T12:52:48.739Z"
   },
   {
    "duration": 292,
    "start_time": "2023-03-23T12:52:48.946Z"
   },
   {
    "duration": 315,
    "start_time": "2023-03-23T12:52:49.240Z"
   },
   {
    "duration": 35,
    "start_time": "2023-03-23T12:52:49.557Z"
   },
   {
    "duration": 4,
    "start_time": "2023-03-23T12:52:49.593Z"
   },
   {
    "duration": 10,
    "start_time": "2023-03-23T12:52:49.598Z"
   },
   {
    "duration": 38,
    "start_time": "2023-03-23T12:52:49.609Z"
   },
   {
    "duration": 140,
    "start_time": "2023-03-23T12:52:49.649Z"
   },
   {
    "duration": 130,
    "start_time": "2023-03-23T12:52:49.791Z"
   },
   {
    "duration": 1069,
    "start_time": "2023-03-23T12:52:49.922Z"
   },
   {
    "duration": 207,
    "start_time": "2023-03-23T12:52:50.992Z"
   },
   {
    "duration": 7,
    "start_time": "2023-03-23T12:52:51.201Z"
   },
   {
    "duration": 308,
    "start_time": "2023-03-23T12:52:51.210Z"
   },
   {
    "duration": 329,
    "start_time": "2023-03-23T12:52:51.520Z"
   },
   {
    "duration": 37,
    "start_time": "2023-03-23T12:52:51.856Z"
   },
   {
    "duration": 18,
    "start_time": "2023-03-23T12:52:51.894Z"
   },
   {
    "duration": 38,
    "start_time": "2023-03-23T12:52:51.913Z"
   },
   {
    "duration": 10,
    "start_time": "2023-03-23T12:52:51.952Z"
   },
   {
    "duration": 30,
    "start_time": "2023-03-23T12:52:51.963Z"
   },
   {
    "duration": 7,
    "start_time": "2023-03-23T12:52:51.995Z"
   },
   {
    "duration": 15,
    "start_time": "2023-03-23T12:52:52.004Z"
   },
   {
    "duration": 26,
    "start_time": "2023-03-23T12:52:52.021Z"
   },
   {
    "duration": 34,
    "start_time": "2023-03-23T12:52:52.052Z"
   },
   {
    "duration": 38,
    "start_time": "2023-03-23T12:52:52.088Z"
   },
   {
    "duration": 16,
    "start_time": "2023-03-23T12:52:52.136Z"
   },
   {
    "duration": 44,
    "start_time": "2023-03-23T12:52:52.154Z"
   },
   {
    "duration": 22,
    "start_time": "2023-03-23T12:52:52.199Z"
   },
   {
    "duration": 19,
    "start_time": "2023-03-23T12:52:52.227Z"
   },
   {
    "duration": 10,
    "start_time": "2023-03-23T12:52:52.248Z"
   },
   {
    "duration": 317,
    "start_time": "2023-03-23T12:52:52.260Z"
   },
   {
    "duration": 10,
    "start_time": "2023-03-23T12:52:52.578Z"
   },
   {
    "duration": 19,
    "start_time": "2023-03-23T12:52:52.589Z"
   },
   {
    "duration": 21,
    "start_time": "2023-03-23T12:52:52.610Z"
   },
   {
    "duration": 6,
    "start_time": "2023-03-23T12:52:52.634Z"
   },
   {
    "duration": 26,
    "start_time": "2023-03-23T12:52:52.643Z"
   },
   {
    "duration": 12,
    "start_time": "2023-03-23T12:52:52.672Z"
   },
   {
    "duration": 7,
    "start_time": "2023-03-23T12:52:52.685Z"
   },
   {
    "duration": 15,
    "start_time": "2023-03-23T12:52:52.695Z"
   },
   {
    "duration": 30,
    "start_time": "2023-03-23T12:52:52.712Z"
   },
   {
    "duration": 15,
    "start_time": "2023-03-23T12:52:52.745Z"
   },
   {
    "duration": 7,
    "start_time": "2023-03-23T12:52:52.762Z"
   },
   {
    "duration": 4,
    "start_time": "2023-03-23T12:52:52.771Z"
   },
   {
    "duration": 369,
    "start_time": "2023-03-23T12:52:52.777Z"
   },
   {
    "duration": 300,
    "start_time": "2023-03-23T12:52:53.147Z"
   },
   {
    "duration": 171,
    "start_time": "2023-03-23T12:52:53.450Z"
   },
   {
    "duration": 186,
    "start_time": "2023-03-23T12:52:53.622Z"
   },
   {
    "duration": 9,
    "start_time": "2023-03-23T12:52:53.810Z"
   },
   {
    "duration": 28,
    "start_time": "2023-03-23T12:52:53.821Z"
   },
   {
    "duration": 24,
    "start_time": "2023-03-23T12:59:04.061Z"
   },
   {
    "duration": 3,
    "start_time": "2023-03-23T12:59:28.014Z"
   },
   {
    "duration": 24,
    "start_time": "2023-03-23T13:00:12.657Z"
   },
   {
    "duration": 8,
    "start_time": "2023-03-23T13:00:31.749Z"
   },
   {
    "duration": 6,
    "start_time": "2023-03-23T13:00:51.515Z"
   },
   {
    "duration": 14,
    "start_time": "2023-03-23T13:02:35.133Z"
   },
   {
    "duration": 7,
    "start_time": "2023-03-23T13:02:48.487Z"
   },
   {
    "duration": 2639,
    "start_time": "2023-03-23T13:06:18.587Z"
   },
   {
    "duration": 2489,
    "start_time": "2023-03-23T13:08:08.463Z"
   },
   {
    "duration": 2645,
    "start_time": "2023-03-23T13:10:03.678Z"
   },
   {
    "duration": 2885,
    "start_time": "2023-03-23T13:10:48.253Z"
   },
   {
    "duration": 2689,
    "start_time": "2023-03-23T13:11:31.698Z"
   }
  ],
  "kernelspec": {
   "display_name": "Python 3",
   "language": "python",
   "name": "python3"
  },
  "language_info": {
   "codemirror_mode": {
    "name": "ipython",
    "version": 3
   },
   "file_extension": ".py",
   "mimetype": "text/x-python",
   "name": "python",
   "nbconvert_exporter": "python",
   "pygments_lexer": "ipython3",
   "version": "3.7.0"
  },
  "toc": {
   "base_numbering": 1,
   "nav_menu": {},
   "number_sections": true,
   "sideBar": true,
   "skip_h1_title": true,
   "title_cell": "Table of Contents",
   "title_sidebar": "Contents",
   "toc_cell": false,
   "toc_position": {
    "height": "381.323px",
    "left": "230px",
    "top": "180.01px",
    "width": "194.516px"
   },
   "toc_section_display": true,
   "toc_window_display": true
  }
 },
 "nbformat": 4,
 "nbformat_minor": 2
}
